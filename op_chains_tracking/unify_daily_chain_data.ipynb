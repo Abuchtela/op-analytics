{
 "cells": [
  {
   "cell_type": "markdown",
   "metadata": {},
   "source": [
    "### Unify CSVs"
   ]
  },
  {
   "cell_type": "code",
   "execution_count": 1,
   "metadata": {},
   "outputs": [],
   "source": [
    "import pandas as pd\n",
    "import os"
   ]
  },
  {
   "cell_type": "code",
   "execution_count": 2,
   "metadata": {},
   "outputs": [
    {
     "name": "stdout",
     "output_type": "stream",
     "text": [
      "All CSVs have been combined and saved.\n"
     ]
    }
   ],
   "source": [
    "# Directory containing your CSV files\n",
    "directory = 'outputs'\n",
    "output_file = 'outputs/all_chain_activity_by_day_gs.csv'\n",
    "\n",
    "# Create an empty DataFrame to store combined data\n",
    "combined_df = pd.DataFrame()\n",
    "\n",
    "# Loop through the directory and append each matching CSV to the DataFrame\n",
    "for filename in os.listdir(directory):\n",
    "    if 'chain_activity_by_day_gs' in filename and filename.endswith('.csv'):\n",
    "        filepath = os.path.join(directory, filename)\n",
    "        temp_df = pd.read_csv(filepath)\n",
    "        combined_df = pd.concat([combined_df, temp_df], ignore_index=True)\n",
    "\n",
    "# Save the combined DataFrame to a single CSV file\n",
    "combined_df.to_csv(output_file, index=False)\n",
    "print('All CSVs have been combined and saved.')"
   ]
  },
  {
   "cell_type": "markdown",
   "metadata": {},
   "source": [
    "### Import to GSheets"
   ]
  },
  {
   "cell_type": "code",
   "execution_count": null,
   "metadata": {},
   "outputs": [],
   "source": [
    "# import gspread\n",
    "# from oauth2client.service_account import ServiceAccountCredentials"
   ]
  },
  {
   "cell_type": "code",
   "execution_count": null,
   "metadata": {},
   "outputs": [],
   "source": [
    "\n",
    "# # Google Sheets credentials and scope\n",
    "# scope = ['https://www.googleapis.com/auth/spreadsheets']\n",
    "# credentials = ServiceAccountCredentials.from_json_keyfile_name('path_to_your_credentials.json', scope)\n",
    "# client = gspread.authorize(credentials)\n",
    "\n",
    "# # Open the Google Sheet and select the tab\n",
    "# sheet = client.open('Name_of_Your_Sheet').worksheet('Transaction Data')\n",
    "\n",
    "# # Clear existing data in the sheet\n",
    "# sheet.clear()\n",
    "\n",
    "# # Read the combined CSV file\n",
    "# data_df = pd.read_csv(output_file)\n",
    "\n",
    "# # Convert DataFrame to a list of lists, where each sublist is a row in the DataFrame\n",
    "# data_list = data_df.values.tolist()\n",
    "\n",
    "# # Insert column headers as the first row\n",
    "# data_list.insert(0, data_df.columns.tolist())\n",
    "\n",
    "# # Update the sheet with the new data\n",
    "# sheet.update('A1', data_list)\n",
    "\n",
    "# print('Google Sheet has been updated with new data.')\n"
   ]
  }
 ],
 "metadata": {
  "kernelspec": {
   "display_name": "new-env",
   "language": "python",
   "name": "python3"
  },
  "language_info": {
   "codemirror_mode": {
    "name": "ipython",
    "version": 3
   },
   "file_extension": ".py",
   "mimetype": "text/x-python",
   "name": "python",
   "nbconvert_exporter": "python",
   "pygments_lexer": "ipython3",
   "version": "3.10.11"
  }
 },
 "nbformat": 4,
 "nbformat_minor": 2
}
