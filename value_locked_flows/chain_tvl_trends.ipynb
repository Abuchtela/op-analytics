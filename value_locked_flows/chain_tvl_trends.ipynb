{
 "cells": [
  {
   "cell_type": "code",
   "execution_count": 1,
   "metadata": {},
   "outputs": [
    {
     "data": {
      "text/plain": [
       "'../helper_functions'"
      ]
     },
     "execution_count": 1,
     "metadata": {},
     "output_type": "execute_result"
    }
   ],
   "source": [
    "import pandas as pd\n",
    "import sys\n",
    "import numpy as np\n",
    "sys.path.append(\"../helper_functions\")\n",
    "import defillama_utils as dfl\n",
    "import duneapi_utils as du\n",
    "sys.path.pop()"
   ]
  },
  {
   "cell_type": "code",
   "execution_count": 2,
   "metadata": {},
   "outputs": [],
   "source": [
    "chains = [\n",
    "    #L2s\n",
    "    'Optimism'\n",
    "    ,'Base'\n",
    "    ,'Arbitrum'\n",
    "    #L1\n",
    "    ,'Ethereum'\n",
    "    #Others\n",
    "    ,'Fantom'\n",
    "    ,'Avalanche'\n",
    "    ,'Gnosis' \n",
    "    ,'Celo' \n",
    "    ,'Polygon'\n",
    "    ,'BSC'\n",
    "]"
   ]
  },
  {
   "cell_type": "code",
   "execution_count": null,
   "metadata": {},
   "outputs": [],
   "source": []
  },
  {
   "cell_type": "code",
   "execution_count": 3,
   "metadata": {},
   "outputs": [
    {
     "data": {
      "text/html": [
       "<div>\n",
       "<style scoped>\n",
       "    .dataframe tbody tr th:only-of-type {\n",
       "        vertical-align: middle;\n",
       "    }\n",
       "\n",
       "    .dataframe tbody tr th {\n",
       "        vertical-align: top;\n",
       "    }\n",
       "\n",
       "    .dataframe thead th {\n",
       "        text-align: right;\n",
       "    }\n",
       "</style>\n",
       "<table border=\"1\" class=\"dataframe\">\n",
       "  <thead>\n",
       "    <tr style=\"text-align: right;\">\n",
       "      <th></th>\n",
       "      <th>date</th>\n",
       "      <th>tvl</th>\n",
       "      <th>chain</th>\n",
       "    </tr>\n",
       "  </thead>\n",
       "  <tbody>\n",
       "    <tr>\n",
       "      <th>0</th>\n",
       "      <td>2021-07-14</td>\n",
       "      <td>6.835396e+07</td>\n",
       "      <td>OP Mainnet</td>\n",
       "    </tr>\n",
       "    <tr>\n",
       "      <th>1</th>\n",
       "      <td>2021-07-15</td>\n",
       "      <td>6.282955e+07</td>\n",
       "      <td>OP Mainnet</td>\n",
       "    </tr>\n",
       "    <tr>\n",
       "      <th>2</th>\n",
       "      <td>2021-07-16</td>\n",
       "      <td>5.872631e+07</td>\n",
       "      <td>OP Mainnet</td>\n",
       "    </tr>\n",
       "    <tr>\n",
       "      <th>3</th>\n",
       "      <td>2021-07-17</td>\n",
       "      <td>5.783978e+07</td>\n",
       "      <td>OP Mainnet</td>\n",
       "    </tr>\n",
       "    <tr>\n",
       "      <th>4</th>\n",
       "      <td>2021-07-18</td>\n",
       "      <td>5.816903e+07</td>\n",
       "      <td>OP Mainnet</td>\n",
       "    </tr>\n",
       "    <tr>\n",
       "      <th>...</th>\n",
       "      <td>...</td>\n",
       "      <td>...</td>\n",
       "      <td>...</td>\n",
       "    </tr>\n",
       "    <tr>\n",
       "      <th>1014</th>\n",
       "      <td>2023-08-11</td>\n",
       "      <td>3.169090e+09</td>\n",
       "      <td>BNB</td>\n",
       "    </tr>\n",
       "    <tr>\n",
       "      <th>1015</th>\n",
       "      <td>2023-08-12</td>\n",
       "      <td>3.155169e+09</td>\n",
       "      <td>BNB</td>\n",
       "    </tr>\n",
       "    <tr>\n",
       "      <th>1016</th>\n",
       "      <td>2023-08-13</td>\n",
       "      <td>3.155750e+09</td>\n",
       "      <td>BNB</td>\n",
       "    </tr>\n",
       "    <tr>\n",
       "      <th>1017</th>\n",
       "      <td>2023-08-14</td>\n",
       "      <td>3.154783e+09</td>\n",
       "      <td>BNB</td>\n",
       "    </tr>\n",
       "    <tr>\n",
       "      <th>1018</th>\n",
       "      <td>2023-08-15</td>\n",
       "      <td>3.157259e+09</td>\n",
       "      <td>BNB</td>\n",
       "    </tr>\n",
       "  </tbody>\n",
       "</table>\n",
       "<p>9356 rows × 3 columns</p>\n",
       "</div>"
      ],
      "text/plain": [
       "           date           tvl       chain\n",
       "0    2021-07-14  6.835396e+07  OP Mainnet\n",
       "1    2021-07-15  6.282955e+07  OP Mainnet\n",
       "2    2021-07-16  5.872631e+07  OP Mainnet\n",
       "3    2021-07-17  5.783978e+07  OP Mainnet\n",
       "4    2021-07-18  5.816903e+07  OP Mainnet\n",
       "...         ...           ...         ...\n",
       "1014 2023-08-11  3.169090e+09         BNB\n",
       "1015 2023-08-12  3.155169e+09         BNB\n",
       "1016 2023-08-13  3.155750e+09         BNB\n",
       "1017 2023-08-14  3.154783e+09         BNB\n",
       "1018 2023-08-15  3.157259e+09         BNB\n",
       "\n",
       "[9356 rows x 3 columns]"
      ]
     },
     "metadata": {},
     "output_type": "display_data"
    }
   ],
   "source": [
    "c_agg = []\n",
    "for c in chains:\n",
    "        d = dfl.get_historical_chain_tvl(c)\n",
    "        d['chain'] = c\n",
    "        c_agg.append(d)\n",
    "\n",
    "df = pd.concat(c_agg)\n",
    "# Rename\n",
    "df.loc[df['chain'] == 'Optimism', 'chain'] = 'OP Mainnet'\n",
    "df.loc[df['chain'] == 'BSC', 'chain'] = 'BNB'\n",
    "\n",
    "# display(df)"
   ]
  },
  {
   "cell_type": "code",
   "execution_count": 4,
   "metadata": {},
   "outputs": [
    {
     "name": "stdout",
     "output_type": "stream",
     "text": [
      "table at: dune_upload.dfl_chain_tvl\n",
      "Response status code: 200\n",
      "Response content: b'{\"success\":true}'\n"
     ]
    }
   ],
   "source": [
    "# Write to Dune\n",
    "du.write_dune_api_from_pandas(df, 'dfl_chain_tvl',\\\n",
    "                             'TVL for select chains from DefiLlama')"
   ]
  }
 ],
 "metadata": {
  "kernelspec": {
   "display_name": "new-env",
   "language": "python",
   "name": "python3"
  },
  "language_info": {
   "codemirror_mode": {
    "name": "ipython",
    "version": 3
   },
   "file_extension": ".py",
   "mimetype": "text/x-python",
   "name": "python",
   "nbconvert_exporter": "python",
   "pygments_lexer": "ipython3",
   "version": "3.10.11"
  },
  "orig_nbformat": 4
 },
 "nbformat": 4,
 "nbformat_minor": 2
}
