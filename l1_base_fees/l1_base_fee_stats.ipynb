{
 "cells": [
  {
   "cell_type": "code",
   "execution_count": null,
   "metadata": {},
   "outputs": [],
   "source": [
    "import pandas as pd\n",
    "\n",
    "\n",
    "input_folder = 'csv_inputs'\n",
    "csvs = [\n",
    "         '2022h1'\n",
    "        ,'2022h2'\n",
    "        ]"
   ]
  },
  {
   "cell_type": "code",
   "execution_count": null,
   "metadata": {},
   "outputs": [],
   "source": [
    "# Combine csvs\n",
    "\n",
    "dfs = []\n",
    "for i in csvs:\n",
    "    tmp = pd.read_csv(input_folder + i + '.csv')\n",
    "    dfs.append(tmp)\n",
    "\n",
    "df_data = pd.concat(dfs)\n",
    "\n",
    "display(df_data.head(10))"
   ]
  }
 ],
 "metadata": {
  "language_info": {
   "name": "python"
  },
  "orig_nbformat": 4
 },
 "nbformat": 4,
 "nbformat_minor": 2
}
