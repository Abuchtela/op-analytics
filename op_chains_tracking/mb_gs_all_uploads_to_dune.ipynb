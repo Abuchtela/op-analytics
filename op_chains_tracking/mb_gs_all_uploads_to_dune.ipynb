{
 "cells": [
  {
   "cell_type": "code",
   "execution_count": 1,
   "metadata": {},
   "outputs": [],
   "source": [
    "import requests as r\n",
    "import pandas as pd\n",
    "\n",
    "import sys\n",
    "sys.path.append(\"../helper_functions\")\n",
    "import duneapi_utils as d\n",
    "import metabaseapi_utils as mb\n",
    "sys.path.pop()\n",
    "\n",
    "import os\n",
    "import dotenv\n",
    "\n",
    "dotenv.load_dotenv()\n",
    "mb_name = os.environ[\"MS_METABASE_NAME\"]\n",
    "mb_pw = os.environ[\"MS_METABASE_PW\"]\n",
    "\n",
    "mb_url_base = \"https://dash.goldsky.com\"\n",
    "\n",
    "# https://goldsky.notion.site/SHARED-Lightweight-API-Documentation-for-Goldsky-Dashboarding-5cde15ba222844f485c31a4426f6ed53"
   ]
  },
  {
   "cell_type": "code",
   "execution_count": 2,
   "metadata": {},
   "outputs": [
    {
     "name": "stdout",
     "output_type": "stream",
     "text": [
      "<Response [401]>\n",
      "An error occurred: 401 Client Error: Unauthorized for url: https://dash.goldsky.com/api/card/42/query/json\n",
      "Maximum number of retries (1) reached due to exception. Giving up.\n",
      "creating new session\n",
      "5b2b1bd1-6ecd-440b-ad17-70db6d2402ff\n"
     ]
    }
   ],
   "source": [
    "session_id = mb.get_session_id(mb_url_base, mb_name, mb_pw)"
   ]
  },
  {
   "cell_type": "code",
   "execution_count": null,
   "metadata": {},
   "outputs": [],
   "source": []
  },
  {
   "cell_type": "code",
   "execution_count": 3,
   "metadata": {},
   "outputs": [],
   "source": [
    "# Run Query\n",
    "\n",
    "query_nums = [\n",
    "         [86,'opchain_pgn_alltime_contracts_created'\n",
    "                ,'PGN All-Time Contracts Created(from Goldsky)']     #https://dash.goldsky.com/question/86-pgn-num-alltime-contracts-created\n",
    "        ,[21,'opchain_activity_by_day_gs'\n",
    "                ,'Basic Daily Activity for OP Chains - Zora & PGN (from Goldsky)']     #https://dash.goldsky.com/question/21-op-chains-activity-by-day\n",
    "        ,[107,'pgn_usage_by_contract_by_month'\n",
    "                ,'Monthly Contract Usage Data for PGN (from Goldsky)']     #https://dash.goldsky.com/question/107-pgn-usage-by-contract-by-month\n",
    "        ,[106,'pgn_usage_by_contract_7_vs_30'\n",
    "                ,'Contract Usage Data for PGN - Last 7 days vs prior 30 (from Goldsky)']     #https://dash.goldsky.com/question/106-pgn-usage-by-contract-7-vs-30\n",
    "        ,[118,'pgn_usage_by_contract_by_day_gt_1_tx'\n",
    "                ,'Daily Contract Usage Data for PGN - > 1 Tx per Day (from Goldsky)']     #https://dash.goldsky.com/question/118-pgn-usage-by-contract-by-day-t365d-gt-1-tx\n",
    "        ,[20,'opchain_active_dev_creators_gs'\n",
    "                ,'Basic Active Developer Methodology for Zora & PGN (from Goldsky)']     #https://dash.goldsky.com/question/20-get-kr1-active-developers\n",
    "        ,[78,'opchain_fee_gen_contracts_dev_creators_t365d_gs'\n",
    "                ,'Basic Fee Generating Contracts & Developer Methodology (T365D) for PGN (from Goldsky)']     #https://dash.goldsky.com/question/78-daily-used-contracts-with-traces-logs\n",
    "        # ,[35,'opchain_used_contracts_creators_gs'\n",
    "        #         ,'Basic Used Contracts Methodology for Zora & PGN (from Goldsky)']     #https://dash.goldsky.com/question/35-kr2-intermediate-get-daily-is-used-contracts\n",
    "        \n",
    "]\n"
   ]
  },
  {
   "cell_type": "code",
   "execution_count": 4,
   "metadata": {},
   "outputs": [
    {
     "name": "stdout",
     "output_type": "stream",
     "text": [
      "query number: 118\n",
      "<Response [200]>\n",
      "[{\"fees_eth_l1_contrib\": 0.00015273533940211, \"l2_gas_used\": 86159, \"num_txs\": 3, \"contract_address\": \"0xfd92930ca50ab900171643a8a47bc57d760a5d95\", \"creator_address\": \"0x3d6a34d8ece4640adff2f38a5bd801e51b07e49c\", \"fees_eth\": 0.00023889434371006, \"l2_\n",
      "{'fees_eth_l1_contrib': 0.00015273533940211, 'l2_gas_used': 86159, 'num_txs': 3, 'contract_address': '0xfd92930ca50ab900171643a8a47bc57d760a5d95', 'creator_address': '0x3d6a34d8ece4640adff2f38a5bd801e51b07e49c', 'fees_eth': 0.00023889434371006, 'l2_gas_used_per_block': 1.9944212962962964, 'num_txs_per_day': 3.0, 'fees_eth_l2_contrib': 8.615900430795e-05, 'dt_day': '2023-11-11', 'trace_creator_address': '0x3d6a34d8ece4640adff2f38a5bd801e51b07e49c', 'chain': 'Public Goods Network', 'num_addr': 1}\n",
      "Type of response: <class 'list'>\n",
      "First element of the list: {'fees_eth_l1_contrib': 0.00015273533940211, 'l2_gas_used': 86159, 'num_txs': 3, 'contract_address': '0xfd92930ca50ab900171643a8a47bc57d760a5d95', 'creator_address': '0x3d6a34d8ece4640adff2f38a5bd801e51b07e49c', 'fees_eth': 0.00023889434371006, 'l2_gas_used_per_block': 1.9944212962962964, 'num_txs_per_day': 3.0, 'fees_eth_l2_contrib': 8.615900430795e-05, 'dt_day': '2023-11-11', 'trace_creator_address': '0x3d6a34d8ece4640adff2f38a5bd801e51b07e49c', 'chain': 'Public Goods Network', 'num_addr': 1}\n",
      "All dictionaries have the same set of keys.\n",
      "Index(['fees_eth_l1_contrib', 'l2_gas_used', 'num_txs', 'contract_address',\n",
      "       'creator_address', 'fees_eth', 'l2_gas_used_per_block',\n",
      "       'num_txs_per_day', 'fees_eth_l2_contrib', 'dt_day',\n",
      "       'trace_creator_address', 'chain', 'num_addr'],\n",
      "      dtype='object')\n",
      "table at: dune.oplabspbc.dataset_pgn_usage_by_contract_by_day_gt_1_tx\n",
      "Response status code: 200\n",
      "Response content: b'{\"success\":true,\"table_name\":\"pgn_usage_by_contract_by_day_gt_1_tx\"}'\n"
     ]
    }
   ],
   "source": [
    "for q in query_nums:\n",
    "        # try: #don't break if one query fails\n",
    "        query_num = q[0]\n",
    "        dune_table_name = q[1]\n",
    "        dune_table_description = q[2]\n",
    "        mb.query_response_to_dune(session_id, mb_url_base, query_num, dune_table_name, dune_table_description)\n",
    "        # except:\n",
    "        #         continue"
   ]
  }
 ],
 "metadata": {
  "kernelspec": {
   "display_name": "new-env",
   "language": "python",
   "name": "python3"
  },
  "language_info": {
   "codemirror_mode": {
    "name": "ipython",
    "version": 3
   },
   "file_extension": ".py",
   "mimetype": "text/x-python",
   "name": "python",
   "nbconvert_exporter": "python",
   "pygments_lexer": "ipython3",
   "version": "3.10.11"
  },
  "orig_nbformat": 4
 },
 "nbformat": 4,
 "nbformat_minor": 2
}
