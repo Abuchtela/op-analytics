{
 "cells": [
  {
   "cell_type": "code",
   "execution_count": null,
   "metadata": {},
   "outputs": [],
   "source": [
    "import pandas as pd\n",
    "import random\n",
    "import string\n",
    "from datetime import datetime, timedelta\n",
    "\n",
    "import numpy as np"
   ]
  },
  {
   "cell_type": "code",
   "execution_count": null,
   "metadata": {},
   "outputs": [],
   "source": [
    "def generate_random_address():\n",
    "    \"\"\"Generate a random address-like string.\"\"\"\n",
    "    return \"\".join(random.choices(string.ascii_letters + string.digits, k=10))\n",
    "\n",
    "\n",
    "def generate_random_datetime(start, end):\n",
    "    \"\"\"Generate a random datetime between 'start' and 'end'.\"\"\"\n",
    "    return start + timedelta(\n",
    "        seconds=random.randint(0, int((end - start).total_seconds()))\n",
    "    )\n",
    "\n",
    "\n",
    "def generate_votes(max_projects, max_votes):\n",
    "    \"\"\"Generate a random votes array.\"\"\"\n",
    "    num_votes = random.randint(1, max_votes)\n",
    "    projects = random.sample(range(max_projects), num_votes)\n",
    "    return [\n",
    "        {\"amount\": str(random.randint(1000, 1000000)), \"projectId\": f\"proj{proj_id}\"}\n",
    "        for proj_id in projects\n",
    "    ]"
   ]
  },
  {
   "cell_type": "code",
   "execution_count": null,
   "metadata": {},
   "outputs": [],
   "source": [
    "# Set parameters\n",
    "num_rows = 1000\n",
    "max_projects_in_ballot = 500\n",
    "max_votes = 20\n",
    "start_date = datetime(2023, 9, 1)\n",
    "end_date = datetime(2023, 12, 1)\n",
    "\n",
    "# set seed\n",
    "random.seed(42)\n",
    "\n",
    "# Generate data\n",
    "data = []\n",
    "for _ in range(num_rows):\n",
    "    has_published = random.choice([True, False])\n",
    "    has_voted = True if has_published else random.choice([True, False])\n",
    "    created_at = generate_random_datetime(start_date, end_date)\n",
    "    updated_at = generate_random_datetime(created_at, end_date)\n",
    "    published_at = (\n",
    "        generate_random_datetime(updated_at, end_date) if has_published else None\n",
    "    )\n",
    "\n",
    "    votes = generate_votes(max_projects_in_ballot, max_votes) if has_published else []\n",
    "\n",
    "    projects_in_ballot = (\n",
    "        len(votes)\n",
    "        # random.randint(1, max_projects_in_ballot) if has_published else None\n",
    "    )\n",
    "\n",
    "    row = {\n",
    "        \"Address\": generate_random_address(),\n",
    "        \"Has voted\": has_voted,\n",
    "        \"Has published\": has_published,\n",
    "        \"Published at\": published_at,\n",
    "        \"Created at\": created_at,\n",
    "        \"Updated at\": updated_at,\n",
    "        \"Projects in ballot\": projects_in_ballot,\n",
    "        \"Votes\": votes,\n",
    "    }\n",
    "    data.append(row)"
   ]
  },
  {
   "cell_type": "code",
   "execution_count": null,
   "metadata": {},
   "outputs": [],
   "source": [
    "# Create DataFrame\n",
    "df = pd.DataFrame(data)\n",
    "df.head()  # Display the first few rows of the DataFrame"
   ]
  },
  {
   "cell_type": "code",
   "execution_count": null,
   "metadata": {},
   "outputs": [],
   "source": [
    "df.to_csv(\"data/dummy_data_rpgf3.csv\", index=False)  # Save the DataFrame to a CSV file"
   ]
  }
 ],
 "metadata": {
  "kernelspec": {
   "display_name": "Python 3",
   "language": "python",
   "name": "python3"
  },
  "language_info": {
   "codemirror_mode": {
    "name": "ipython",
    "version": 3
   },
   "file_extension": ".py",
   "mimetype": "text/x-python",
   "name": "python",
   "nbconvert_exporter": "python",
   "pygments_lexer": "ipython3",
   "version": "3.10.4"
  }
 },
 "nbformat": 4,
 "nbformat_minor": 2
}
