{
 "cells": [
  {
   "cell_type": "markdown",
   "metadata": {},
   "source": [
    "## Prepare data reader for a given chain and date"
   ]
  },
  {
   "cell_type": "code",
   "execution_count": 1,
   "metadata": {},
   "outputs": [
    {
     "name": "stdout",
     "output_type": "stream",
     "text": [
      "\u001b[2m2024-11-21 17:52:19\u001b[0m [\u001b[32m\u001b[1mdebug    \u001b[0m] \u001b[1mconnecting to OPLABS Clickhouse client...\u001b[0m \u001b[36mfilename\u001b[0m=\u001b[35mclient.py\u001b[0m \u001b[36mlineno\u001b[0m=\u001b[35m26\u001b[0m\n",
      "\u001b[2m2024-11-21 17:52:19\u001b[0m [\u001b[32m\u001b[1mdebug    \u001b[0m] \u001b[1mloaded vault: 17 items        \u001b[0m \u001b[36mfilename\u001b[0m=\u001b[35mvault.py\u001b[0m \u001b[36mlineno\u001b[0m=\u001b[35m74\u001b[0m\n",
      "\u001b[2m2024-11-21 17:52:19\u001b[0m [\u001b[32m\u001b[1mdebug    \u001b[0m] \u001b[1minitialized OPLABS Clickhouse client.\u001b[0m \u001b[36mfilename\u001b[0m=\u001b[35mclient.py\u001b[0m \u001b[36mlineno\u001b[0m=\u001b[35m38\u001b[0m\n",
      "\u001b[2m2024-11-21 17:52:19\u001b[0m [\u001b[32m\u001b[1minfo     \u001b[0m] \u001b[1mprepared 1 input batches.     \u001b[0m \u001b[36mfilename\u001b[0m=\u001b[35mreader.py\u001b[0m \u001b[36mlineno\u001b[0m=\u001b[35m147\u001b[0m\n"
     ]
    }
   ],
   "source": [
    "from op_analytics.coreutils.duckdb_inmem import init_client\n",
    "from op_analytics.coreutils.partitioned import DataReader, DataLocation\n",
    "from op_analytics.datapipeline.etl.intermediate.construct import construct_data_readers\n",
    "\n",
    "from op_analytics.datapipeline.etl.intermediate.udfs import create_duckdb_macros\n",
    "\n",
    "\n",
    "# Define the input data range.\n",
    "read_batches: list[DataReader] = construct_data_readers(\n",
    "    chains=[\"op\"],\n",
    "    range_spec=\"@20241118:+1\",\n",
    "    read_from=DataLocation.GCS\n",
    ")\n",
    "\n",
    "\n",
    "# Select input for one date and build the intermediate model inputs.\n",
    "batch = read_batches[0]\n",
    "\n",
    "\n",
    "duckdb_client = init_client()\n",
    "create_duckdb_macros(duckdb_client)\n"
   ]
  },
  {
   "cell_type": "markdown",
   "metadata": {},
   "source": [
    "## Run the model\n",
    "\n",
    "This automatically registers the model outputs as duckdb tables."
   ]
  },
  {
   "cell_type": "code",
   "execution_count": 2,
   "metadata": {},
   "outputs": [
    {
     "name": "stdout",
     "output_type": "stream",
     "text": [
      "\u001b[2m2024-11-21 17:52:19\u001b[0m [\u001b[32m\u001b[1minfo     \u001b[0m] \u001b[1mRendering query               \u001b[0m \u001b[36mfilename\u001b[0m=\u001b[35mquerybuilder.py\u001b[0m \u001b[36mlineno\u001b[0m=\u001b[35m51\u001b[0m \u001b[36mmodel\u001b[0m=\u001b[35mdaily_address_summary\u001b[0m \u001b[36mtemplate\u001b[0m=\u001b[35mtransaction_fees\u001b[0m\n",
      "\u001b[2m2024-11-21 17:52:19\u001b[0m [\u001b[33m\u001b[1mwarning  \u001b[0m] \u001b[1mRendered SQL template does not match expectation. Please update: /Users/pedro/github/ethereum-optimism/op-analytics-alt/src/op_analytics/datapipeline/etl/intermediate/rendered/transaction_fees.rendered.sql\u001b[0m \u001b[36mfilename\u001b[0m=\u001b[35mquerybuilder.py\u001b[0m \u001b[36mlineno\u001b[0m=\u001b[35m65\u001b[0m \u001b[36mmodel\u001b[0m=\u001b[35mdaily_address_summary\u001b[0m\n"
     ]
    },
    {
     "name": "stdout",
     "output_type": "stream",
     "text": [
      "\u001b[2m2024-11-21 17:52:19\u001b[0m [\u001b[32m\u001b[1minfo     \u001b[0m] \u001b[1mRendering query               \u001b[0m \u001b[36mfilename\u001b[0m=\u001b[35mquerybuilder.py\u001b[0m \u001b[36mlineno\u001b[0m=\u001b[35m51\u001b[0m \u001b[36mmodel\u001b[0m=\u001b[35mdaily_address_summary\u001b[0m \u001b[36mtemplate\u001b[0m=\u001b[35mdaily_address_summary\u001b[0m\n",
      "\u001b[2m2024-11-21 17:52:19\u001b[0m [\u001b[32m\u001b[1minfo     \u001b[0m] \u001b[1mRendering query               \u001b[0m \u001b[36mfilename\u001b[0m=\u001b[35mquerybuilder.py\u001b[0m \u001b[36mlineno\u001b[0m=\u001b[35m51\u001b[0m \u001b[36mmodel\u001b[0m=\u001b[35mcreation_traces\u001b[0m \u001b[36mtemplate\u001b[0m=\u001b[35mcreation_traces\u001b[0m\n",
      "\u001b[2m2024-11-21 17:52:19\u001b[0m [\u001b[33m\u001b[1mwarning  \u001b[0m] \u001b[1mRendered SQL template does not match expectation. Please update: /Users/pedro/github/ethereum-optimism/op-analytics-alt/src/op_analytics/datapipeline/etl/intermediate/rendered/creation_traces.rendered.sql\u001b[0m \u001b[36mfilename\u001b[0m=\u001b[35mquerybuilder.py\u001b[0m \u001b[36mlineno\u001b[0m=\u001b[35m65\u001b[0m \u001b[36mmodel\u001b[0m=\u001b[35mcreation_traces\u001b[0m\n",
      "\u001b[2m2024-11-21 17:52:19\u001b[0m [\u001b[32m\u001b[1minfo     \u001b[0m] \u001b[1mLoaded 2 python modules with intermediate model definitions.\u001b[0m \u001b[36mfilename\u001b[0m=\u001b[35mregistry.py\u001b[0m \u001b[36mlineno\u001b[0m=\u001b[35m138\u001b[0m\n",
      "\u001b[2m2024-11-21 17:52:19\u001b[0m [\u001b[32m\u001b[1minfo     \u001b[0m] \u001b[1mExecuting model...            \u001b[0m \u001b[36mfilename\u001b[0m=\u001b[35mtestutils.py\u001b[0m \u001b[36mlineno\u001b[0m=\u001b[35m202\u001b[0m\n",
      "\n",
      "DATASET = traces\n",
      "['gs://oplabs-tools-data-sink/ingestion/traces_v1/chain=op/dt=2024-11-18/000128144000.parquet', 'gs://oplabs-tools-data-sink/ingestion/traces_v1/chain=op/dt=2024-11-18/000128146000.parquet', 'gs://oplabs-tools-data-sink/ingestion/traces_v1/chain=op/dt=2024-11-18/000128148000.parquet', 'gs://oplabs-tools-data-sink/ingestion/traces_v1/chain=op/dt=2024-11-18/000128150000.parquet', 'gs://oplabs-tools-data-sink/ingestion/traces_v1/chain=op/dt=2024-11-18/000128152000.parquet', 'gs://oplabs-tools-data-sink/ingestion/traces_v1/chain=op/dt=2024-11-18/000128154000.parquet', 'gs://oplabs-tools-data-sink/ingestion/traces_v1/chain=op/dt=2024-11-18/000128156000.parquet', 'gs://oplabs-tools-data-sink/ingestion/traces_v1/chain=op/dt=2024-11-18/000128158000.parquet', 'gs://oplabs-tools-data-sink/ingestion/traces_v1/chain=op/dt=2024-11-18/000128160000.parquet', 'gs://oplabs-tools-data-sink/ingestion/traces_v1/chain=op/dt=2024-11-18/000128162000.parquet', 'gs://oplabs-tools-data-sink/ingestion/traces_v1/chain=op/dt=2024-11-18/000128164000.parquet', 'gs://oplabs-tools-data-sink/ingestion/traces_v1/chain=op/dt=2024-11-18/000128166000.parquet', 'gs://oplabs-tools-data-sink/ingestion/traces_v1/chain=op/dt=2024-11-18/000128168000.parquet', 'gs://oplabs-tools-data-sink/ingestion/traces_v1/chain=op/dt=2024-11-18/000128170000.parquet', 'gs://oplabs-tools-data-sink/ingestion/traces_v1/chain=op/dt=2024-11-18/000128172000.parquet', 'gs://oplabs-tools-data-sink/ingestion/traces_v1/chain=op/dt=2024-11-18/000128174000.parquet', 'gs://oplabs-tools-data-sink/ingestion/traces_v1/chain=op/dt=2024-11-18/000128176000.parquet', 'gs://oplabs-tools-data-sink/ingestion/traces_v1/chain=op/dt=2024-11-18/000128178000.parquet', 'gs://oplabs-tools-data-sink/ingestion/traces_v1/chain=op/dt=2024-11-18/000128180000.parquet', 'gs://oplabs-tools-data-sink/ingestion/traces_v1/chain=op/dt=2024-11-18/000128182000.parquet', 'gs://oplabs-tools-data-sink/ingestion/traces_v1/chain=op/dt=2024-11-18/000128184000.parquet', 'gs://oplabs-tools-data-sink/ingestion/traces_v1/chain=op/dt=2024-11-18/000128186000.parquet']\n",
      "\n",
      "DATASET = transactions\n",
      "['gs://oplabs-tools-data-sink/ingestion/transactions_v1/chain=op/dt=2024-11-18/000128144000.parquet', 'gs://oplabs-tools-data-sink/ingestion/transactions_v1/chain=op/dt=2024-11-18/000128146000.parquet', 'gs://oplabs-tools-data-sink/ingestion/transactions_v1/chain=op/dt=2024-11-18/000128148000.parquet', 'gs://oplabs-tools-data-sink/ingestion/transactions_v1/chain=op/dt=2024-11-18/000128150000.parquet', 'gs://oplabs-tools-data-sink/ingestion/transactions_v1/chain=op/dt=2024-11-18/000128152000.parquet', 'gs://oplabs-tools-data-sink/ingestion/transactions_v1/chain=op/dt=2024-11-18/000128154000.parquet', 'gs://oplabs-tools-data-sink/ingestion/transactions_v1/chain=op/dt=2024-11-18/000128156000.parquet', 'gs://oplabs-tools-data-sink/ingestion/transactions_v1/chain=op/dt=2024-11-18/000128158000.parquet', 'gs://oplabs-tools-data-sink/ingestion/transactions_v1/chain=op/dt=2024-11-18/000128160000.parquet', 'gs://oplabs-tools-data-sink/ingestion/transactions_v1/chain=op/dt=2024-11-18/000128162000.parquet', 'gs://oplabs-tools-data-sink/ingestion/transactions_v1/chain=op/dt=2024-11-18/000128164000.parquet', 'gs://oplabs-tools-data-sink/ingestion/transactions_v1/chain=op/dt=2024-11-18/000128166000.parquet', 'gs://oplabs-tools-data-sink/ingestion/transactions_v1/chain=op/dt=2024-11-18/000128168000.parquet', 'gs://oplabs-tools-data-sink/ingestion/transactions_v1/chain=op/dt=2024-11-18/000128170000.parquet', 'gs://oplabs-tools-data-sink/ingestion/transactions_v1/chain=op/dt=2024-11-18/000128172000.parquet', 'gs://oplabs-tools-data-sink/ingestion/transactions_v1/chain=op/dt=2024-11-18/000128174000.parquet', 'gs://oplabs-tools-data-sink/ingestion/transactions_v1/chain=op/dt=2024-11-18/000128176000.parquet', 'gs://oplabs-tools-data-sink/ingestion/transactions_v1/chain=op/dt=2024-11-18/000128178000.parquet', 'gs://oplabs-tools-data-sink/ingestion/transactions_v1/chain=op/dt=2024-11-18/000128180000.parquet', 'gs://oplabs-tools-data-sink/ingestion/transactions_v1/chain=op/dt=2024-11-18/000128182000.parquet', 'gs://oplabs-tools-data-sink/ingestion/transactions_v1/chain=op/dt=2024-11-18/000128184000.parquet', 'gs://oplabs-tools-data-sink/ingestion/transactions_v1/chain=op/dt=2024-11-18/000128186000.parquet']\n",
      "dict_keys(['creation_traces_v1'])\n"
     ]
    },
    {
     "data": {
      "text/plain": [
       "┌────────────────────┐\n",
       "│        name        │\n",
       "│      varchar       │\n",
       "├────────────────────┤\n",
       "│ creation_traces    │\n",
       "│ creation_traces_v1 │\n",
       "│ traces             │\n",
       "│ transactions       │\n",
       "└────────────────────┘"
      ]
     },
     "execution_count": 2,
     "metadata": {},
     "output_type": "execute_result"
    }
   ],
   "source": [
    "from op_analytics.datapipeline.etl.intermediate.registry import REGISTERED_INTERMEDIATE_MODELS, load_model_definitions\n",
    "from op_analytics.datapipeline.etl.intermediate.testutils import execute_model_in_memory\n",
    "\n",
    "load_model_definitions()\n",
    "execute_model_in_memory(\n",
    "    duckdb_client=duckdb_client,\n",
    "    model=REGISTERED_INTERMEDIATE_MODELS[\"creation_traces\"],\n",
    "    data_reader=batch\n",
    ")\n",
    "\n",
    "# The duckdb database will have the following:\n",
    "#   - input tables\n",
    "#   - views used by the model\n",
    "#   - model outputs\n",
    "# \n",
    "# You can use duckdb to inspect any of the above results.\n",
    "duckdb_client.sql(\"SHOW TABLES\")"
   ]
  },
  {
   "cell_type": "markdown",
   "metadata": {},
   "source": [
    "## Verify model results"
   ]
  },
  {
   "cell_type": "code",
   "execution_count": null,
   "metadata": {},
   "outputs": [
    {
     "data": {
      "text/plain": [
       "┌─────────┬──────────┬─────────┬────────────┬───────────────────┬──────────────────────┬────────────────────────────────────────────────────────────────────┬────────────────────────────────────────────────────────────────────┬──────────────────┬────────────────────────────────────────────┬────────────────────────────────────────────┬────────────────────────────────────────────┬────────────────────────────────────────────┬──────────────────────┬──────────┬────────────────┬──────────────────────────────────────────────────────────────────────────────────────────────────────────────────┬─────────────────┬──────────────────────────────────────────────────────────────────────────────────────────────┬────────────┬───────────┬─────────────┬──────────┬──────────┬───────────┬───────────────┬─────────┬────────┐\n",
       "│ network │ chain_id │  chain  │     dt     │ created_timestamp │ created_block_number │                         created_block_hash                         │                          created_tx_hash                           │ created_tx_index │           trace_creator_address            │              created_tx_from               │              contract_address              │               created_tx_to                │ created_tx_method_id │ value_64 │ value_lossless │                                                       code                                                       │ code_bytelength │                                            output                                            │ trace_type │ call_type │ reward_type │   gas    │ gas_used │ subtraces │ trace_address │  error  │ status │\n",
       "│ varchar │  int32   │ varchar │  varchar   │      uint32       │        int64         │                              varchar                               │                              varchar                               │      int64       │                  varchar                   │                  varchar                   │                  varchar                   │                  varchar                   │       varchar        │  int64   │    varchar     │                                                     varchar                                                      │      int64      │                                           varchar                                            │  varchar   │  varchar  │   varchar   │  int64   │  int64   │   int64   │    varchar    │ varchar │ int64  │\n",
       "├─────────┼──────────┼─────────┼────────────┼───────────────────┼──────────────────────┼────────────────────────────────────────────────────────────────────┼────────────────────────────────────────────────────────────────────┼──────────────────┼────────────────────────────────────────────┼────────────────────────────────────────────┼────────────────────────────────────────────┼────────────────────────────────────────────┼──────────────────────┼──────────┼────────────────┼──────────────────────────────────────────────────────────────────────────────────────────────────────────────────┼─────────────────┼──────────────────────────────────────────────────────────────────────────────────────────────┼────────────┼───────────┼─────────────┼──────────┼──────────┼───────────┼───────────────┼─────────┼────────┤\n",
       "│ mainnet │       10 │ op      │ 2024-11-18 │        1731889139 │            128145181 │ 0xfdf5a4af8123cb5816b29a8abd81a0273c0d10283ca37262fa1c674fff3c63ce │ 0xfefd2ba20ebe02e761629a0dc690cc6acd6e1798aae5d7886d58ddfcfade4cd8 │               21 │ 0x9ec1c3dcf667f2035fb4cd2eb42a1566fd54d2b7 │ 0xc3d73a65130662cd7034d6733f63fd5f5a8c6e61 │ 0x62fa2e9bab9fc51508b506590065a27c2b06176a │ 0x9ec1c3dcf667f2035fb4cd2eb42a1566fd54d2b7 │ 0xb1ae2ed1           │        0 │ 0              │ 0x3d602d80600a3d3981f3363d3d373d3d3d363d739ec1c3dcf667f2035fb4cd2eb42a1566fd54d2b75af43d82803e903d91602b57fd5bf3 │             112 │ 0x363d3d373d3d3d363d739ec1c3dcf667f2035fb4cd2eb42a1566fd54d2b75af43d82803e903d91602b57fd5bf3 │ create2    │           │             │ 19629380 │     9031 │         0 │ 0             │         │      1 │\n",
       "│ mainnet │       10 │ op      │ 2024-11-18 │        1731889139 │            128145181 │ 0xfdf5a4af8123cb5816b29a8abd81a0273c0d10283ca37262fa1c674fff3c63ce │ 0xfefd2ba20ebe02e761629a0dc690cc6acd6e1798aae5d7886d58ddfcfade4cd8 │               21 │ 0x9ec1c3dcf667f2035fb4cd2eb42a1566fd54d2b7 │ 0xc3d73a65130662cd7034d6733f63fd5f5a8c6e61 │ 0xd0ececa4c7c235d63bdade2f447b10e3bb5a875c │ 0x9ec1c3dcf667f2035fb4cd2eb42a1566fd54d2b7 │ 0xb1ae2ed1           │        0 │ 0              │ 0x3d602d80600a3d3981f3363d3d373d3d3d363d739ec1c3dcf667f2035fb4cd2eb42a1566fd54d2b75af43d82803e903d91602b57fd5bf3 │             112 │ 0x363d3d373d3d3d363d739ec1c3dcf667f2035fb4cd2eb42a1566fd54d2b75af43d82803e903d91602b57fd5bf3 │ create2    │           │             │ 19449076 │     9031 │         0 │ 2             │         │      1 │\n",
       "│ mainnet │       10 │ op      │ 2024-11-18 │        1731889139 │            128145181 │ 0xfdf5a4af8123cb5816b29a8abd81a0273c0d10283ca37262fa1c674fff3c63ce │ 0xfefd2ba20ebe02e761629a0dc690cc6acd6e1798aae5d7886d58ddfcfade4cd8 │               21 │ 0x9ec1c3dcf667f2035fb4cd2eb42a1566fd54d2b7 │ 0xc3d73a65130662cd7034d6733f63fd5f5a8c6e61 │ 0xb934c64ce54f8490c8370efdc23084c3f29d5693 │ 0x9ec1c3dcf667f2035fb4cd2eb42a1566fd54d2b7 │ 0xb1ae2ed1           │        0 │ 0              │ 0x3d602d80600a3d3981f3363d3d373d3d3d363d739ec1c3dcf667f2035fb4cd2eb42a1566fd54d2b75af43d82803e903d91602b57fd5bf3 │             112 │ 0x363d3d373d3d3d363d739ec1c3dcf667f2035fb4cd2eb42a1566fd54d2b75af43d82803e903d91602b57fd5bf3 │ create2    │           │             │ 19283143 │     9031 │         0 │ 4             │         │      1 │\n",
       "│ mainnet │       10 │ op      │ 2024-11-18 │        1731889139 │            128145181 │ 0xfdf5a4af8123cb5816b29a8abd81a0273c0d10283ca37262fa1c674fff3c63ce │ 0xfefd2ba20ebe02e761629a0dc690cc6acd6e1798aae5d7886d58ddfcfade4cd8 │               21 │ 0x9ec1c3dcf667f2035fb4cd2eb42a1566fd54d2b7 │ 0xc3d73a65130662cd7034d6733f63fd5f5a8c6e61 │ 0xada7b1fa007a0472264991cc115b13f3d31c4d49 │ 0x9ec1c3dcf667f2035fb4cd2eb42a1566fd54d2b7 │ 0xb1ae2ed1           │        0 │ 0              │ 0x3d602d80600a3d3981f3363d3d373d3d3d363d739ec1c3dcf667f2035fb4cd2eb42a1566fd54d2b75af43d82803e903d91602b57fd5bf3 │             112 │ 0x363d3d373d3d3d363d739ec1c3dcf667f2035fb4cd2eb42a1566fd54d2b75af43d82803e903d91602b57fd5bf3 │ create2    │           │             │ 19117214 │     9031 │         0 │ 6             │         │      1 │\n",
       "│ mainnet │       10 │ op      │ 2024-11-18 │        1731889139 │            128145181 │ 0xfdf5a4af8123cb5816b29a8abd81a0273c0d10283ca37262fa1c674fff3c63ce │ 0xfefd2ba20ebe02e761629a0dc690cc6acd6e1798aae5d7886d58ddfcfade4cd8 │               21 │ 0x9ec1c3dcf667f2035fb4cd2eb42a1566fd54d2b7 │ 0xc3d73a65130662cd7034d6733f63fd5f5a8c6e61 │ 0x5228307f77a3b92f92a733b2723c81d99a2b051f │ 0x9ec1c3dcf667f2035fb4cd2eb42a1566fd54d2b7 │ 0xb1ae2ed1           │        0 │ 0              │ 0x3d602d80600a3d3981f3363d3d373d3d3d363d739ec1c3dcf667f2035fb4cd2eb42a1566fd54d2b75af43d82803e903d91602b57fd5bf3 │             112 │ 0x363d3d373d3d3d363d739ec1c3dcf667f2035fb4cd2eb42a1566fd54d2b75af43d82803e903d91602b57fd5bf3 │ create2    │           │             │ 18951282 │     9031 │         0 │ 8             │         │      1 │\n",
       "│ mainnet │       10 │ op      │ 2024-11-18 │        1731889139 │            128145181 │ 0xfdf5a4af8123cb5816b29a8abd81a0273c0d10283ca37262fa1c674fff3c63ce │ 0xfefd2ba20ebe02e761629a0dc690cc6acd6e1798aae5d7886d58ddfcfade4cd8 │               21 │ 0x9ec1c3dcf667f2035fb4cd2eb42a1566fd54d2b7 │ 0xc3d73a65130662cd7034d6733f63fd5f5a8c6e61 │ 0x90ecaecdbf8b597ecbb7927138d86f7c0bba7ac0 │ 0x9ec1c3dcf667f2035fb4cd2eb42a1566fd54d2b7 │ 0xb1ae2ed1           │        0 │ 0              │ 0x3d602d80600a3d3981f3363d3d373d3d3d363d739ec1c3dcf667f2035fb4cd2eb42a1566fd54d2b75af43d82803e903d91602b57fd5bf3 │             112 │ 0x363d3d373d3d3d363d739ec1c3dcf667f2035fb4cd2eb42a1566fd54d2b75af43d82803e903d91602b57fd5bf3 │ create2    │           │             │ 18785349 │     9031 │         0 │ 10            │         │      1 │\n",
       "│ mainnet │       10 │ op      │ 2024-11-18 │        1731889139 │            128145181 │ 0xfdf5a4af8123cb5816b29a8abd81a0273c0d10283ca37262fa1c674fff3c63ce │ 0xfefd2ba20ebe02e761629a0dc690cc6acd6e1798aae5d7886d58ddfcfade4cd8 │               21 │ 0x9ec1c3dcf667f2035fb4cd2eb42a1566fd54d2b7 │ 0xc3d73a65130662cd7034d6733f63fd5f5a8c6e61 │ 0xa551525df272c1b6b57e5004a8218313a578b95e │ 0x9ec1c3dcf667f2035fb4cd2eb42a1566fd54d2b7 │ 0xb1ae2ed1           │        0 │ 0              │ 0x3d602d80600a3d3981f3363d3d373d3d3d363d739ec1c3dcf667f2035fb4cd2eb42a1566fd54d2b75af43d82803e903d91602b57fd5bf3 │             112 │ 0x363d3d373d3d3d363d739ec1c3dcf667f2035fb4cd2eb42a1566fd54d2b75af43d82803e903d91602b57fd5bf3 │ create2    │           │             │ 18619419 │     9031 │         0 │ 12            │         │      1 │\n",
       "│ mainnet │       10 │ op      │ 2024-11-18 │        1731889139 │            128145181 │ 0xfdf5a4af8123cb5816b29a8abd81a0273c0d10283ca37262fa1c674fff3c63ce │ 0xfefd2ba20ebe02e761629a0dc690cc6acd6e1798aae5d7886d58ddfcfade4cd8 │               21 │ 0x9ec1c3dcf667f2035fb4cd2eb42a1566fd54d2b7 │ 0xc3d73a65130662cd7034d6733f63fd5f5a8c6e61 │ 0x7fb986b1a5b0c52097cb34b44164553f8210ffca │ 0x9ec1c3dcf667f2035fb4cd2eb42a1566fd54d2b7 │ 0xb1ae2ed1           │        0 │ 0              │ 0x3d602d80600a3d3981f3363d3d373d3d3d363d739ec1c3dcf667f2035fb4cd2eb42a1566fd54d2b75af43d82803e903d91602b57fd5bf3 │             112 │ 0x363d3d373d3d3d363d739ec1c3dcf667f2035fb4cd2eb42a1566fd54d2b75af43d82803e903d91602b57fd5bf3 │ create2    │           │             │ 18453487 │     9031 │         0 │ 14            │         │      1 │\n",
       "│ mainnet │       10 │ op      │ 2024-11-18 │        1731889139 │            128145181 │ 0xfdf5a4af8123cb5816b29a8abd81a0273c0d10283ca37262fa1c674fff3c63ce │ 0xfefd2ba20ebe02e761629a0dc690cc6acd6e1798aae5d7886d58ddfcfade4cd8 │               21 │ 0x9ec1c3dcf667f2035fb4cd2eb42a1566fd54d2b7 │ 0xc3d73a65130662cd7034d6733f63fd5f5a8c6e61 │ 0xe82810fe945d7effdde62c1f14ce7eb2983772ea │ 0x9ec1c3dcf667f2035fb4cd2eb42a1566fd54d2b7 │ 0xb1ae2ed1           │        0 │ 0              │ 0x3d602d80600a3d3981f3363d3d373d3d3d363d739ec1c3dcf667f2035fb4cd2eb42a1566fd54d2b75af43d82803e903d91602b57fd5bf3 │             112 │ 0x363d3d373d3d3d363d739ec1c3dcf667f2035fb4cd2eb42a1566fd54d2b75af43d82803e903d91602b57fd5bf3 │ create2    │           │             │ 18287558 │     9031 │         0 │ 16            │         │      1 │\n",
       "│ mainnet │       10 │ op      │ 2024-11-18 │        1731889139 │            128145181 │ 0xfdf5a4af8123cb5816b29a8abd81a0273c0d10283ca37262fa1c674fff3c63ce │ 0xfefd2ba20ebe02e761629a0dc690cc6acd6e1798aae5d7886d58ddfcfade4cd8 │               21 │ 0x9ec1c3dcf667f2035fb4cd2eb42a1566fd54d2b7 │ 0xc3d73a65130662cd7034d6733f63fd5f5a8c6e61 │ 0x048ec9f8ec8c4f78465ef5be634837118293511f │ 0x9ec1c3dcf667f2035fb4cd2eb42a1566fd54d2b7 │ 0xb1ae2ed1           │        0 │ 0              │ 0x3d602d80600a3d3981f3363d3d373d3d3d363d739ec1c3dcf667f2035fb4cd2eb42a1566fd54d2b75af43d82803e903d91602b57fd5bf3 │             112 │ 0x363d3d373d3d3d363d739ec1c3dcf667f2035fb4cd2eb42a1566fd54d2b75af43d82803e903d91602b57fd5bf3 │ create2    │           │             │ 18121625 │     9031 │         0 │ 18            │         │      1 │\n",
       "├─────────┴──────────┴─────────┴────────────┴───────────────────┴──────────────────────┴────────────────────────────────────────────────────────────────────┴────────────────────────────────────────────────────────────────────┴──────────────────┴────────────────────────────────────────────┴────────────────────────────────────────────┴────────────────────────────────────────────┴────────────────────────────────────────────┴──────────────────────┴──────────┴────────────────┴──────────────────────────────────────────────────────────────────────────────────────────────────────────────────┴─────────────────┴──────────────────────────────────────────────────────────────────────────────────────────────┴────────────┴───────────┴─────────────┴──────────┴──────────┴───────────┴───────────────┴─────────┴────────┤\n",
       "│ 10 rows                                                                                                                                                                                                                                                                                                                                                                                                                                                                                                                                                                                                                                                                                                                                                                                                                       28 columns │\n",
       "└──────────────────────────────────────────────────────────────────────────────────────────────────────────────────────────────────────────────────────────────────────────────────────────────────────────────────────────────────────────────────────────────────────────────────────────────────────────────────────────────────────────────────────────────────────────────────────────────────────────────────────────────────────────────────────────────────────────────────────────────────────────────────────────────────────────────────────────────────────────────────────────────────────────────────────────────────────────────────────────────────────────────────────────────────────────────────────────────────────────────────────────────────────────────────────────────────────────────────────────────────────────┘"
      ]
     },
     "execution_count": 5,
     "metadata": {},
     "output_type": "execute_result"
    }
   ],
   "source": [
    "duckdb_client.sql(\"SELECT * FROM creation_traces_v1 LIMIT 10\")"
   ]
  },
  {
   "cell_type": "code",
   "execution_count": null,
   "metadata": {},
   "outputs": [
    {
     "data": {
      "text/plain": [
       "┌────────────────────────────────────────────────────────────────────────────────────────────────────────────────────────────────────────────────────────────────────────────────────────────────────────────────────────────────────────────────────────────────────────────────────────────────────────────────────────────────────────────────────────────────────────────────────────────────────────────────────────────────────────────────────────────────────────────────────────────────────────────────────────────────────────────────────────────────────────────────────────────────────────────────────────────────────────────────────────────────────────────────────────────────────────────────────────────────────────────┐\n",
       "│                                                                                                                                                                                                                                                                                                                                                                   input                                                                                                                                                                                                                                                                                                                                                                    │\n",
       "│                                                                                                                                                                                                                                                                                                                                                                  varchar                                                                                                                                                                                                                                                                                                                                                                   │\n",
       "├────────────────────────────────────────────────────────────────────────────────────────────────────────────────────────────────────────────────────────────────────────────────────────────────────────────────────────────────────────────────────────────────────────────────────────────────────────────────────────────────────────────────────────────────────────────────────────────────────────────────────────────────────────────────────────────────────────────────────────────────────────────────────────────────────────────────────────────────────────────────────────────────────────────────────────────────────────────────────────────────────────────────────────────────────────────────────────────────────────────┤\n",
       "│ 0x00000002000000000000000de01ce47f317b800000fc1f3296458f9b2a27a0b91dd7681c4020e09d0542000000000000000000000000000000000000424200000000000000000000000000000000000006000000000000000000000000000000000000002ad6c1be015b9be1913bbecfeb000000000000000000000000000000000000002ad53b792a6149d72479c1b49d00000000673a8429                                                                                                                                                                                                                                                                                                                                                                                                                       │\n",
       "│ 0x128acb0800000000000000000000000006a8087693b98e068b79f362687c718de6e5b5ae000000000000000000000000000000000000000000000000000000000000000000000000000000000000000000000000000000000000000de01ce47f317b8000000000000000000000000000000000000000002ad53b792a6149d72479c1b49d00000000000000000000000000000000000000000000000000000000000000a000000000000000000000000000000000000000000000000000000000000000a0000000000000000000000000000000000000000000000000000000000000000000000000000000000000000000000000000000000000000000000000000000010000000000000000000000004200000000000000000000000000000000000042000000000000000000000000fc1f3296458f9b2a27a0b91dd7681c4020e09d05000000000000000000000000000000000000002ad6c1be015b9be1913bbecfeb │\n",
       "│ 0x70a082310000000000000000000000008406d59f3638d7dac9cccf469cac16bdd9629c27                                                                                                                                                                                                                                                                                                                                                                                                                                                                                                                                                                                                                                                                 │\n",
       "│ 0xa6f19c84                                                                                                                                                                                                                                                                                                                                                                                                                                                                                                                                                                                                                                                                                                                                 │\n",
       "│ 0xa6f19c84                                                                                                                                                                                                                                                                                                                                                                                                                                                                                                                                                                                                                                                                                                                                 │\n",
       "│ 0xa34123a7000000000000000000000000000000000000000000000000000000000002fda0000000000000000000000000000000000000000000000000000000000002fe0400000000000000000000000000000000000000000000000003a1933c042068ea                                                                                                                                                                                                                                                                                                                                                                                                                                                                                                                                 │\n",
       "│ 0xa34123a7000000000000000000000000000000000000000000000000000000000002fda0000000000000000000000000000000000000000000000000000000000002fe0400000000000000000000000000000000000000000000000003a1933c042068ea                                                                                                                                                                                                                                                                                                                                                                                                                                                                                                                                 │\n",
       "│ 0x514ea4bfef89aa5a2f71c3937cb1903217b003dbfbfe7c21df1f7af0c6d49b40f0aef2d5                                                                                                                                                                                                                                                                                                                                                                                                                                                                                                                                                                                                                                                                 │\n",
       "│ 0x514ea4bfef89aa5a2f71c3937cb1903217b003dbfbfe7c21df1f7af0c6d49b40f0aef2d5                                                                                                                                                                                                                                                                                                                                                                                                                                                                                                                                                                                                                                                                 │\n",
       "│ 0xfc6f786500000000000000000000000000000000000000000000000000000000000872ae000000000000000000000000000000000000000000000000000000000000000000000000000000000000000000000000ffffffffffffffffffffffffffffffff00000000000000000000000000000000ffffffffffffffffffffffffffffffff                                                                                                                                                                                                                                                                                                                                                                                                                                                                 │\n",
       "├────────────────────────────────────────────────────────────────────────────────────────────────────────────────────────────────────────────────────────────────────────────────────────────────────────────────────────────────────────────────────────────────────────────────────────────────────────────────────────────────────────────────────────────────────────────────────────────────────────────────────────────────────────────────────────────────────────────────────────────────────────────────────────────────────────────────────────────────────────────────────────────────────────────────────────────────────────────────────────────────────────────────────────────────────────────────────────────────────────────┤\n",
       "│                                                                                                                                                                                                                                                                                                                                                                  10 rows                                                                                                                                                                                                                                                                                                                                                                   │\n",
       "└────────────────────────────────────────────────────────────────────────────────────────────────────────────────────────────────────────────────────────────────────────────────────────────────────────────────────────────────────────────────────────────────────────────────────────────────────────────────────────────────────────────────────────────────────────────────────────────────────────────────────────────────────────────────────────────────────────────────────────────────────────────────────────────────────────────────────────────────────────────────────────────────────────────────────────────────────────────────────────────────────────────────────────────────────────────────────────────────────────────┘"
      ]
     },
     "execution_count": 8,
     "metadata": {},
     "output_type": "execute_result"
    }
   ],
   "source": [
    "duckdb_client.sql(\"SELECT input FROM traces LIMIT 10\")\n"
   ]
  },
  {
   "cell_type": "markdown",
   "metadata": {},
   "source": [
    "### You can also convert the results to dataframes to inspect them in more familiar ways"
   ]
  },
  {
   "cell_type": "code",
   "execution_count": null,
   "metadata": {},
   "outputs": [
    {
     "data": {
      "text/html": [
       "<div><style>\n",
       ".dataframe > thead > tr,\n",
       ".dataframe > tbody > tr {\n",
       "  text-align: right;\n",
       "  white-space: pre-wrap;\n",
       "}\n",
       "</style>\n",
       "<small>shape: (5, 39)</small><table border=\"1\" class=\"dataframe\"><thead><tr><th>dt</th><th>chain</th><th>chain_id</th><th>address</th><th>tx_cnt</th><th>success_tx_cnt</th><th>block_cnt</th><th>success_block_cnt</th><th>block_number_min</th><th>block_number_max</th><th>active_block_range</th><th>nonce_min</th><th>nonce_max</th><th>active_nonce_range</th><th>block_timestamp_min</th><th>block_timestamp_max</th><th>active_time_range</th><th>active_hours_ucnt</th><th>to_address_ucnt</th><th>success_to_address_ucnt</th><th>method_id_ucnt</th><th>l2_gas_used_sum</th><th>success_l2_gas_used_sum</th><th>l1_gas_used_sum</th><th>success_l1_gas_used_sum</th><th>tx_fee_sum_eth</th><th>success_tx_fee_sum_eth</th><th>l2_fee_sum_eth</th><th>l2_base_fee_sum_eth</th><th>l2_priority_fee_sum_eth</th><th>l2_base_legacy_fee_sum_eth</th><th>l1_fee_sum_eth</th><th>l1_base_fee_sum_eth</th><th>l1_blob_fee_sum_eth</th><th>l2_gas_price_avg_gwei</th><th>l2_base_price_avg_gwei</th><th>l2_priority_price_avg_gwei</th><th>l1_base_price_avg_gwei</th><th>l1_blob_fee_avg_gwei</th></tr><tr><td>str</td><td>str</td><td>i32</td><td>str</td><td>i64</td><td>i64</td><td>i64</td><td>i64</td><td>i64</td><td>i64</td><td>i64</td><td>i64</td><td>i64</td><td>i64</td><td>u32</td><td>u32</td><td>u32</td><td>i64</td><td>i64</td><td>i64</td><td>i64</td><td>decimal[38,0]</td><td>decimal[38,0]</td><td>decimal[38,0]</td><td>decimal[38,0]</td><td>decimal[38,19]</td><td>decimal[38,19]</td><td>decimal[38,19]</td><td>decimal[38,19]</td><td>decimal[38,19]</td><td>decimal[38,19]</td><td>decimal[38,19]</td><td>decimal[38,19]</td><td>decimal[38,19]</td><td>decimal[38,10]</td><td>decimal[38,10]</td><td>decimal[38,10]</td><td>decimal[38,10]</td><td>decimal[38,10]</td></tr></thead><tbody><tr><td>&quot;2024-10-30&quot;</td><td>&quot;op&quot;</td><td>10</td><td>&quot;0xc96faba4ff9941a55754d7a4b02a…</td><td>32838</td><td>32838</td><td>32206</td><td>32206</td><td>127323812</td><td>127367011</td><td>43200</td><td>1376386</td><td>1409223</td><td>32838</td><td>1730246401</td><td>1730332799</td><td>86398</td><td>24</td><td>2</td><td>2</td><td>2</td><td>14534607387</td><td>14534607387</td><td>52540800</td><td>52540800</td><td>0.0066643696969443920</td><td>0.0066643696969443920</td><td>0.0005774185478563580</td><td>0.0000070996380281920</td><td>0.0005702894569369060</td><td>0.0000000988002535930</td><td>0.0060869511490880340</td><td>0.0033354166620712290</td><td>0.0027515344870333490</td><td>0.0000397270</td><td>0.0000004880</td><td>0.0000392370</td><td>12.1450949000</td><td>0.8261693690</td></tr><tr><td>&quot;2024-10-30&quot;</td><td>&quot;op&quot;</td><td>10</td><td>&quot;0xbfec073d98defc97d1e66a141b35…</td><td>7256</td><td>7256</td><td>7129</td><td>7129</td><td>127323814</td><td>127367010</td><td>43197</td><td>479774</td><td>487029</td><td>7256</td><td>1730246405</td><td>1730332797</td><td>86392</td><td>24</td><td>6</td><td>6</td><td>4</td><td>4303252798</td><td>4303252798</td><td>11613388</td><td>11613388</td><td>0.0016303929773812910</td><td>0.0016303929773812910</td><td>0.0000140958518230760</td><td>0.0000020090494646810</td><td>0.0000120868023583950</td><td>0.0000000000000000000</td><td>0.0016162971255582150</td><td>0.0007437920124578070</td><td>0.0008725049283754900</td><td>0.0000032760</td><td>0.0000004670</td><td>0.0000028090</td><td>12.2529334340</td><td>1.1852221590</td></tr><tr><td>&quot;2024-10-30&quot;</td><td>&quot;op&quot;</td><td>10</td><td>&quot;0x3d005d08da1e75f0175fc8e1d654…</td><td>2</td><td>2</td><td>2</td><td>2</td><td>127334003</td><td>127334146</td><td>144</td><td>245</td><td>246</td><td>2</td><td>1730266783</td><td>1730267069</td><td>286</td><td>1</td><td>1</td><td>1</td><td>1</td><td>211640</td><td>211640</td><td>3200</td><td>3200</td><td>0.0000002213605725760</td><td>0.0000002213605725760</td><td>0.0000000212501943280</td><td>0.0000000000861943280</td><td>0.0000000211640000000</td><td>0.0000000000000000000</td><td>0.0000002001103782480</td><td>0.0000001926751116490</td><td>0.0000000074352665990</td><td>0.0001004070</td><td>0.0000004070</td><td>0.0001000000</td><td>11.5192218080</td><td>0.0366553500</td></tr><tr><td>&quot;2024-10-30&quot;</td><td>&quot;op&quot;</td><td>10</td><td>&quot;0x32828a5d49af803cdeebeca2c3bd…</td><td>6</td><td>6</td><td>6</td><td>6</td><td>127328590</td><td>127358821</td><td>30232</td><td>29484</td><td>29489</td><td>6</td><td>1730255957</td><td>1730316419</td><td>60462</td><td>6</td><td>1</td><td>1</td><td>1</td><td>648507</td><td>648507</td><td>18137</td><td>18137</td><td>0.0000027169155954940</td><td>0.0000027169155954940</td><td>0.0000006488076231390</td><td>0.0000000003005862700</td><td>0.0000000000000000000</td><td>0.0000027166150092240</td><td>0.0000020681079723550</td><td>0.0000010792459148110</td><td>0.0000009882017486690</td><td>0.0010004640</td><td>0.0000004640</td><td>0.0000000000</td><td>11.3841985170</td><td>0.8595496640</td></tr><tr><td>&quot;2024-10-30&quot;</td><td>&quot;op&quot;</td><td>10</td><td>&quot;0xf72e10ba10c78b845e63328f83ae…</td><td>28</td><td>28</td><td>27</td><td>27</td><td>127333983</td><td>127366606</td><td>32624</td><td>35</td><td>62</td><td>28</td><td>1730266743</td><td>1730331989</td><td>65246</td><td>5</td><td>10</td><td>10</td><td>9</td><td>6544189</td><td>6544189</td><td>148529</td><td>148529</td><td>0.0000212599598362850</td><td>0.0000212599598362850</td><td>0.0000061559022846970</td><td>0.0000000030152846970</td><td>0.0000061528870000000</td><td>0.0000000000000000000</td><td>0.0000151040575515880</td><td>0.0000086545590175720</td><td>0.0000064482654892970</td><td>0.0009406670</td><td>0.0000004610</td><td>0.0009402060</td><td>11.1475951170</td><td>0.6848925820</td></tr></tbody></table></div>"
      ],
      "text/plain": [
       "shape: (5, 39)\n",
       "┌────────────┬───────┬──────────┬────────────┬───┬────────────┬────────────┬───────────┬───────────┐\n",
       "│ dt         ┆ chain ┆ chain_id ┆ address    ┆ … ┆ l2_base_pr ┆ l2_priorit ┆ l1_base_p ┆ l1_blob_f │\n",
       "│ ---        ┆ ---   ┆ ---      ┆ ---        ┆   ┆ ice_avg_gw ┆ y_price_av ┆ rice_avg_ ┆ ee_avg_gw │\n",
       "│ str        ┆ str   ┆ i32      ┆ str        ┆   ┆ ei         ┆ g_gwei     ┆ gwei      ┆ ei        │\n",
       "│            ┆       ┆          ┆            ┆   ┆ ---        ┆ ---        ┆ ---       ┆ ---       │\n",
       "│            ┆       ┆          ┆            ┆   ┆ decimal[38 ┆ decimal[38 ┆ decimal[3 ┆ decimal[3 │\n",
       "│            ┆       ┆          ┆            ┆   ┆ ,10]       ┆ ,10]       ┆ 8,10]     ┆ 8,10]     │\n",
       "╞════════════╪═══════╪══════════╪════════════╪═══╪════════════╪════════════╪═══════════╪═══════════╡\n",
       "│ 2024-10-30 ┆ op    ┆ 10       ┆ 0xc96faba4 ┆ … ┆ 0.00000048 ┆ 0.00003923 ┆ 12.145094 ┆ 0.8261693 │\n",
       "│            ┆       ┆          ┆ ff9941a557 ┆   ┆ 80         ┆ 70         ┆ 9000      ┆ 690       │\n",
       "│            ┆       ┆          ┆ 54d7a4b02a ┆   ┆            ┆            ┆           ┆           │\n",
       "│            ┆       ┆          ┆ …          ┆   ┆            ┆            ┆           ┆           │\n",
       "│ 2024-10-30 ┆ op    ┆ 10       ┆ 0xbfec073d ┆ … ┆ 0.00000046 ┆ 0.00000280 ┆ 12.252933 ┆ 1.1852221 │\n",
       "│            ┆       ┆          ┆ 98defc97d1 ┆   ┆ 70         ┆ 90         ┆ 4340      ┆ 590       │\n",
       "│            ┆       ┆          ┆ e66a141b35 ┆   ┆            ┆            ┆           ┆           │\n",
       "│            ┆       ┆          ┆ …          ┆   ┆            ┆            ┆           ┆           │\n",
       "│ 2024-10-30 ┆ op    ┆ 10       ┆ 0x3d005d08 ┆ … ┆ 0.00000040 ┆ 0.00010000 ┆ 11.519221 ┆ 0.0366553 │\n",
       "│            ┆       ┆          ┆ da1e75f017 ┆   ┆ 70         ┆ 00         ┆ 8080      ┆ 500       │\n",
       "│            ┆       ┆          ┆ 5fc8e1d654 ┆   ┆            ┆            ┆           ┆           │\n",
       "│            ┆       ┆          ┆ …          ┆   ┆            ┆            ┆           ┆           │\n",
       "│ 2024-10-30 ┆ op    ┆ 10       ┆ 0x32828a5d ┆ … ┆ 0.00000046 ┆ 0.00000000 ┆ 11.384198 ┆ 0.8595496 │\n",
       "│            ┆       ┆          ┆ 49af803cde ┆   ┆ 40         ┆ 00         ┆ 5170      ┆ 640       │\n",
       "│            ┆       ┆          ┆ ebeca2c3bd ┆   ┆            ┆            ┆           ┆           │\n",
       "│            ┆       ┆          ┆ …          ┆   ┆            ┆            ┆           ┆           │\n",
       "│ 2024-10-30 ┆ op    ┆ 10       ┆ 0xf72e10ba ┆ … ┆ 0.00000046 ┆ 0.00094020 ┆ 11.147595 ┆ 0.6848925 │\n",
       "│            ┆       ┆          ┆ 10c78b845e ┆   ┆ 10         ┆ 60         ┆ 1170      ┆ 820       │\n",
       "│            ┆       ┆          ┆ 63328f83ae ┆   ┆            ┆            ┆           ┆           │\n",
       "│            ┆       ┆          ┆ …          ┆   ┆            ┆            ┆           ┆           │\n",
       "└────────────┴───────┴──────────┴────────────┴───┴────────────┴────────────┴───────────┴───────────┘"
      ]
     },
     "execution_count": 7,
     "metadata": {},
     "output_type": "execute_result"
    }
   ],
   "source": [
    "duckdb_client.sql(\"SELECT * FROM summary_v1 LIMIT 10\").pl().head()"
   ]
  },
  {
   "cell_type": "code",
   "execution_count": null,
   "metadata": {},
   "outputs": [],
   "source": []
  }
 ],
 "metadata": {
  "kernelspec": {
   "display_name": ".venv",
   "language": "python",
   "name": "python3"
  },
  "language_info": {
   "codemirror_mode": {
    "name": "ipython",
    "version": 3
   },
   "file_extension": ".py",
   "mimetype": "text/x-python",
   "name": "python",
   "nbconvert_exporter": "python",
   "pygments_lexer": "ipython3",
   "version": "3.12.6"
  }
 },
 "nbformat": 4,
 "nbformat_minor": 2
}
