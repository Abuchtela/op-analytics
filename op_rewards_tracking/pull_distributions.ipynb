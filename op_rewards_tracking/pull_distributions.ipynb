{
 "cells": [
  {
   "cell_type": "code",
   "execution_count": null,
   "metadata": {},
   "outputs": [],
   "source": [
    "# Based off of Cow Protocol's Dune Client: https://github.com/cowprotocol/dune-client\n",
    "import pandas as pd\n",
    "import os\n",
    "import sys\n",
    "\n",
    "sys.path.append('../helper_functions')\n",
    "import duneapi_utils as d"
   ]
  },
  {
   "cell_type": "code",
   "execution_count": null,
   "metadata": {},
   "outputs": [],
   "source": [
    "# https://dune.com/queries/1900056/3127874\n",
    "df = d.df_run_duneapi_query(1900056, \"Latest OP Distributions by Project\")"
   ]
  },
  {
   "cell_type": "code",
   "execution_count": null,
   "metadata": {},
   "outputs": [],
   "source": [
    "if not os.path.exists('csv_outputs'):\n",
    "    os.makedirs('csv_outputs')\n",
    "df.to_csv('csv_outputs/dune_op_distribution.csv')\n",
    "display(df)"
   ]
  }
 ],
 "metadata": {
  "kernelspec": {
   "display_name": "py10",
   "language": "python",
   "name": "python3"
  },
  "language_info": {
   "codemirror_mode": {
    "name": "ipython",
    "version": 3
   },
   "file_extension": ".py",
   "mimetype": "text/x-python",
   "name": "python",
   "nbconvert_exporter": "python",
   "pygments_lexer": "ipython3",
   "version": "3.10.8"
  },
  "orig_nbformat": 4,
  "vscode": {
   "interpreter": {
    "hash": "568c45baba86190bf65a5d0b3302bdb9b067c88c2eaacc48373a8c9b6714aa9a"
   }
  }
 },
 "nbformat": 4,
 "nbformat_minor": 2
}
