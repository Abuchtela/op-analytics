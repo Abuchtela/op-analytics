{
 "cells": [
  {
   "cell_type": "code",
   "execution_count": 2,
   "metadata": {},
   "outputs": [],
   "source": [
    "import requests as r\n",
    "import pandas as pd\n",
    "from decimal import Decimal\n",
    "import pandas_gbq\n",
    "\n",
    "import sys\n",
    "sys.path.append(\"../helper_functions\")\n",
    "import duneapi_utils as d\n",
    "import pandas_utils as p\n",
    "sys.path.pop()\n",
    "\n",
    "import time\n",
    "import os\n",
    "import dotenv\n",
    "from google.cloud import bigquery\n",
    "from google.oauth2 import service_account\n",
    "\n",
    "dotenv.load_dotenv()\n",
    "\n",
    "# Set the environment variable to the path of your service account key file\n",
    "# if os.environ[\"IS_RUNNING_LOCAL\"]:\n",
    "#         os.environ[\"GOOGLE_APPLICATION_CREDENTIALS\"] = os.getenv(\"PATH_TO_BQ_CREDS\")\n",
    "# else:\n",
    "#         os.environ[\"GOOGLE_APPLICATION_CREDENTIALS\"] = os.getenv(\"BQ_APPLICATION_CREDENTIALS\")\n",
    "\n",
    "# os.environ[\"GOOGLE_APPLICATION_CREDENTIALS\"] = os.getenv(\"BQ_APPLICATION_CREDENTIALS\")\n",
    "\n",
    "pandas_gbq.context.credentials = service_account.Credentials.from_service_account_file()\n",
    "pandas_gbq.context.project = \"oplabs-tools-data\"\n",
    "# Initialize a BigQuery client\n",
    "client = bigquery.Client()"
   ]
  },
  {
   "cell_type": "code",
   "execution_count": 3,
   "metadata": {},
   "outputs": [],
   "source": [
    "chain_mappings = {\n",
    "        'zora': 'Zora',\n",
    "        'pgn': 'Public Goods Network',\n",
    "        'base': 'Base',\n",
    "        'mode': 'Mode',\n",
    "        'metal': 'Metal',\n",
    "        'frax': 'Fraxtal'\n",
    "        # Add more mappings as needed\n",
    "    }"
   ]
  },
  {
   "cell_type": "code",
   "execution_count": 4,
   "metadata": {},
   "outputs": [],
   "source": [
    "sql_directory = \"inputs/sql/\"\n",
    "\n",
    "query_names = [\n",
    "        # Must match the file name in inputs/sql\n",
    "        \"frax_allltime_chain_activity\"\n",
    "]"
   ]
  },
  {
   "cell_type": "code",
   "execution_count": 5,
   "metadata": {},
   "outputs": [],
   "source": [
    "def convert_decimal_to_decimal_object(x):\n",
    "    if isinstance(x, Decimal):\n",
    "        return x\n",
    "    else:\n",
    "        return None\n",
    "\n",
    "# Function to format values in the DataFrame\n",
    "def format_value(x):\n",
    "    if isinstance(x, Decimal):\n",
    "        return str(x)\n",
    "    else:\n",
    "        return x"
   ]
  },
  {
   "cell_type": "code",
   "execution_count": 6,
   "metadata": {},
   "outputs": [
    {
     "name": "stdout",
     "output_type": "stream",
     "text": [
      "frax_allltime_chain_activity\n"
     ]
    },
    {
     "name": "stderr",
     "output_type": "stream",
     "text": [
      "/Users/michaelsilberling/opt/anaconda3/envs/gcp-env/lib/python3.12/site-packages/google/cloud/bigquery/table.py:2383: UserWarning: A progress bar was requested, but there was an error loading the tqdm library. Please install tqdm to use the progress bar functionality.\n",
      "  record_batch = self.to_arrow(\n"
     ]
    },
    {
     "name": "stdout",
     "output_type": "stream",
     "text": [
      "table at: dune.oplabspbc.dataset_frax_allltime_chain_activity\n",
      "Response status code: 200\n",
      "Response content: b'{\"success\":true,\"table_name\":\"frax_allltime_chain_activity\"}'\n"
     ]
    }
   ],
   "source": [
    "for qn in query_names:\n",
    "        # If we can do it programmatically from UI saved queries\n",
    "        # query = client.get_job(query_name)\n",
    "        # Read the SQL query from file\n",
    "        with open(os.path.join(sql_directory, f\"{qn}.sql\"), \"r\") as file:\n",
    "                query = file.read()\n",
    "        print(qn)\n",
    "        table_name = qn\n",
    "        \n",
    "        # Execute the query\n",
    "        # query_job = client.query(query)\n",
    "        df = pandas_gbq.read_gbq(query, credentials = os.environ[\"GOOGLE_APPLICATION_CREDENTIALS\"])\n",
    "        \n",
    "        # Write to csv\n",
    "        df.to_csv('outputs/chain_data/' + qn + '.csv', index=False)\n",
    "        # print(df.sample(5))\n",
    "        time.sleep(1)\n",
    "        \n",
    "        # Write to Dune\n",
    "        df['chain_raw'] = df['chain']\n",
    "        df['chain'] = df['chain'].replace(chain_mappings)\n",
    "        d.write_dune_api_from_pandas(df, table_name,table_description = table_name)\n",
    "        # Print the results"
   ]
  }
 ],
 "metadata": {
  "kernelspec": {
   "display_name": "new-env",
   "language": "python",
   "name": "python3"
  },
  "language_info": {
   "codemirror_mode": {
    "name": "ipython",
    "version": 3
   },
   "file_extension": ".py",
   "mimetype": "text/x-python",
   "name": "python",
   "nbconvert_exporter": "python",
   "pygments_lexer": "ipython3",
   "version": "3.12.3"
  },
  "orig_nbformat": 4
 },
 "nbformat": 4,
 "nbformat_minor": 2
}
