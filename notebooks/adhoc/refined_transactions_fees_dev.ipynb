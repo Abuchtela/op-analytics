{
 "cells": [
  {
   "cell_type": "markdown",
   "metadata": {},
   "source": [
    "## Prepare data reader for a given chain and date"
   ]
  },
  {
   "cell_type": "code",
   "execution_count": 1,
   "metadata": {},
   "outputs": [
    {
     "name": "stdout",
     "output_type": "stream",
     "text": [
      "\u001b[2m2024-12-13 10:24:38\u001b[0m [\u001b[32m\u001b[1mdebug    \u001b[0m] \u001b[1mconnecting to OPLABS Clickhouse client...\u001b[0m \u001b[36mfilename\u001b[0m=\u001b[35mclient.py\u001b[0m \u001b[36mlineno\u001b[0m=\u001b[35m25\u001b[0m \u001b[36mprocess\u001b[0m=\u001b[35m28905\u001b[0m\n",
      "\u001b[2m2024-12-13 10:24:38\u001b[0m [\u001b[32m\u001b[1minfo     \u001b[0m] \u001b[1mloaded vault from .env file   \u001b[0m \u001b[36mfilename\u001b[0m=\u001b[35mvault.py\u001b[0m \u001b[36mlineno\u001b[0m=\u001b[35m32\u001b[0m \u001b[36mprocess\u001b[0m=\u001b[35m28905\u001b[0m\n",
      "\u001b[2m2024-12-13 10:24:38\u001b[0m [\u001b[32m\u001b[1mdebug    \u001b[0m] \u001b[1mloaded vault: 17 items        \u001b[0m \u001b[36mfilename\u001b[0m=\u001b[35mvault.py\u001b[0m \u001b[36mlineno\u001b[0m=\u001b[35m76\u001b[0m \u001b[36mprocess\u001b[0m=\u001b[35m28905\u001b[0m\n",
      "\u001b[2m2024-12-13 10:24:39\u001b[0m [\u001b[32m\u001b[1mdebug    \u001b[0m] \u001b[1minitialized OPLABS Clickhouse client.\u001b[0m \u001b[36mfilename\u001b[0m=\u001b[35mclient.py\u001b[0m \u001b[36mlineno\u001b[0m=\u001b[35m37\u001b[0m \u001b[36mprocess\u001b[0m=\u001b[35m28905\u001b[0m\n",
      "\u001b[2m2024-12-13 10:24:39\u001b[0m [\u001b[32m\u001b[1minfo     \u001b[0m] \u001b[1mprepared 1 input batches.     \u001b[0m \u001b[36mfilename\u001b[0m=\u001b[35mreader_bydate.py\u001b[0m \u001b[36mlineno\u001b[0m=\u001b[35m97\u001b[0m \u001b[36mprocess\u001b[0m=\u001b[35m28905\u001b[0m\n"
     ]
    }
   ],
   "source": [
    "from op_analytics.coreutils.duckdb_inmem import init_client\n",
    "from op_analytics.coreutils.partitioned.reader import DataReader\n",
    "from op_analytics.coreutils.partitioned.location import DataLocation\n",
    "from op_analytics.datapipeline.etl.intermediate.construct import construct_data_readers\n",
    "\n",
    "from op_analytics.datapipeline.models.compute.udfs import create_duckdb_macros\n",
    "\n",
    "\n",
    "# Define the input data range.\n",
    "read_batches: list[DataReader] = construct_data_readers(\n",
    "    chains=[\"op\"],\n",
    "    models=[\"refined_transactions_fees\"],\n",
    "    range_spec=\"@20241118:+1\",\n",
    "    read_from=DataLocation.GCS\n",
    ")\n",
    "\n",
    "\n",
    "# Select input for one date and build the intermediate model inputs.\n",
    "batch = read_batches[0]\n",
    "\n",
    "\n",
    "duckdb_client = init_client()\n",
    "create_duckdb_macros(duckdb_client)\n"
   ]
  },
  {
   "cell_type": "markdown",
   "metadata": {},
   "source": [
    "## Run the model\n",
    "\n",
    "This automatically registers the model outputs as duckdb tables."
   ]
  },
  {
   "cell_type": "code",
   "execution_count": 2,
   "metadata": {},
   "outputs": [
    {
     "name": "stdout",
     "output_type": "stream",
     "text": [
      "\u001b[2m2024-12-13 10:24:39\u001b[0m [\u001b[32m\u001b[1minfo     \u001b[0m] \u001b[1mExecuting model...            \u001b[0m \u001b[36mfilename\u001b[0m=\u001b[35mtestutils.py\u001b[0m \u001b[36mlineno\u001b[0m=\u001b[35m220\u001b[0m \u001b[36mprocess\u001b[0m=\u001b[35m28905\u001b[0m\n",
      "\u001b[2m2024-12-13 10:24:39\u001b[0m [\u001b[32m\u001b[1minfo     \u001b[0m] \u001b[1mduckdb dataset='ingestion/transactions_v1' using 1/22 parquet paths, first path is gs://oplabs-tools-data-sink/ingestion/transactions_v1/chain=op/dt=2024-11-18/000128144000.parquet\u001b[0m \u001b[36mfilename\u001b[0m=\u001b[35mreader.py\u001b[0m \u001b[36mlineno\u001b[0m=\u001b[35m68\u001b[0m \u001b[36mprocess\u001b[0m=\u001b[35m28905\u001b[0m\n",
      "\u001b[2m2024-12-13 10:24:40\u001b[0m [\u001b[32m\u001b[1minfo     \u001b[0m] \u001b[1mregistered view: 'ingestion_transactions_v1' using 1 parquet paths\u001b[0m \u001b[36mfilename\u001b[0m=\u001b[35mclient.py\u001b[0m \u001b[36mlineno\u001b[0m=\u001b[35m53\u001b[0m \u001b[36mprocess\u001b[0m=\u001b[35m28905\u001b[0m\n",
      "\u001b[2m2024-12-13 10:24:40\u001b[0m [\u001b[32m\u001b[1minfo     \u001b[0m] \u001b[1mduckdb dataset='ingestion/blocks_v1' using 1/22 parquet paths, first path is gs://oplabs-tools-data-sink/ingestion/blocks_v1/chain=op/dt=2024-11-18/000128144000.parquet\u001b[0m \u001b[36mfilename\u001b[0m=\u001b[35mreader.py\u001b[0m \u001b[36mlineno\u001b[0m=\u001b[35m68\u001b[0m \u001b[36mprocess\u001b[0m=\u001b[35m28905\u001b[0m\n",
      "\u001b[2m2024-12-13 10:24:41\u001b[0m [\u001b[32m\u001b[1minfo     \u001b[0m] \u001b[1mregistered view: 'ingestion_blocks_v1' using 1 parquet paths\u001b[0m \u001b[36mfilename\u001b[0m=\u001b[35mclient.py\u001b[0m \u001b[36mlineno\u001b[0m=\u001b[35m53\u001b[0m \u001b[36mprocess\u001b[0m=\u001b[35m28905\u001b[0m\n",
      "\u001b[2m2024-12-13 10:24:41\u001b[0m [\u001b[32m\u001b[1minfo     \u001b[0m] \u001b[1mduckdb dataset='ingestion/logs_v1' using 1/22 parquet paths, first path is gs://oplabs-tools-data-sink/ingestion/logs_v1/chain=op/dt=2024-11-18/000128144000.parquet\u001b[0m \u001b[36mfilename\u001b[0m=\u001b[35mreader.py\u001b[0m \u001b[36mlineno\u001b[0m=\u001b[35m68\u001b[0m \u001b[36mprocess\u001b[0m=\u001b[35m28905\u001b[0m\n",
      "\u001b[2m2024-12-13 10:24:43\u001b[0m [\u001b[32m\u001b[1minfo     \u001b[0m] \u001b[1mregistered view: 'ingestion_logs_v1' using 1 parquet paths\u001b[0m \u001b[36mfilename\u001b[0m=\u001b[35mclient.py\u001b[0m \u001b[36mlineno\u001b[0m=\u001b[35m53\u001b[0m \u001b[36mprocess\u001b[0m=\u001b[35m28905\u001b[0m\n",
      "\u001b[2m2024-12-13 10:24:43\u001b[0m [\u001b[32m\u001b[1minfo     \u001b[0m] \u001b[1mRendering query               \u001b[0m \u001b[36mfilename\u001b[0m=\u001b[35mquerybuilder.py\u001b[0m \u001b[36mlineno\u001b[0m=\u001b[35m40\u001b[0m \u001b[36mprocess\u001b[0m=\u001b[35m28905\u001b[0m \u001b[36mtemplate\u001b[0m=\u001b[35mbase_transactions_fees\u001b[0m\n",
      "\u001b[2m2024-12-13 10:24:43\u001b[0m [\u001b[32m\u001b[1minfo     \u001b[0m] \u001b[1mRendering query               \u001b[0m \u001b[36mfilename\u001b[0m=\u001b[35mquerybuilder.py\u001b[0m \u001b[36mlineno\u001b[0m=\u001b[35m40\u001b[0m \u001b[36mprocess\u001b[0m=\u001b[35m28905\u001b[0m \u001b[36mtemplate\u001b[0m=\u001b[35mevent_emitting_transactions_list\u001b[0m\n",
      "\u001b[2m2024-12-13 10:24:43\u001b[0m [\u001b[32m\u001b[1minfo     \u001b[0m] \u001b[1mRendering query               \u001b[0m \u001b[36mfilename\u001b[0m=\u001b[35mquerybuilder.py\u001b[0m \u001b[36mlineno\u001b[0m=\u001b[35m40\u001b[0m \u001b[36mprocess\u001b[0m=\u001b[35m28905\u001b[0m \u001b[36mtemplate\u001b[0m=\u001b[35mrefined_transactions_fees\u001b[0m\n",
      "dict_keys(['refined_transactions_fees_v1'])\n"
     ]
    },
    {
     "data": {
      "text/plain": [
       "┌──────────────────────────────────┐\n",
       "│               name               │\n",
       "│             varchar              │\n",
       "├──────────────────────────────────┤\n",
       "│ base_transactions_fees           │\n",
       "│ event_emitting_transactions_list │\n",
       "│ ingestion_blocks_v1              │\n",
       "│ ingestion_logs_v1                │\n",
       "│ ingestion_transactions_v1        │\n",
       "│ refined_transactions_fees        │\n",
       "│ refined_transactions_fees_v1     │\n",
       "└──────────────────────────────────┘"
      ]
     },
     "execution_count": 2,
     "metadata": {},
     "output_type": "execute_result"
    }
   ],
   "source": [
    "from op_analytics.datapipeline.models.compute.testutils import execute_model_in_memory\n",
    "\n",
    "execute_model_in_memory(\n",
    "    duckdb_client=duckdb_client,\n",
    "    model=\"refined_transactions_fees\",\n",
    "    data_reader=batch,\n",
    "    limit_input_parquet_files=1\n",
    ")\n",
    "\n",
    "# The duckdb database will have the following:\n",
    "#   - input tables\n",
    "#   - views used by the model\n",
    "#   - model outputs\n",
    "# \n",
    "# You can use duckdb to inspect any of the above results.\n",
    "duckdb_client.sql(\"SHOW TABLES\")"
   ]
  },
  {
   "cell_type": "markdown",
   "metadata": {},
   "source": [
    "## Verify model results"
   ]
  },
  {
   "cell_type": "code",
   "execution_count": 3,
   "metadata": {},
   "outputs": [
    {
     "data": {
      "text/plain": [
       "┌────────────┬─────────┬──────────┬─────────┬─────────┬───────────────────┬────────────────────────────────────────────┬────────────────────────────────────────────┬──────────────┬─────────────────┬────────────────────────────────────────────────────────────────────┬───────────┬───────────┬──────────────────┬─────────────────────┬───────────────┬──────────────────────┬──────────────────────────┬──────────────────┬──────────────────────────┬─────────────────────────┬──────────────┬─────────────────┬─────────────┬─────────────────────┬────────────┬─────────┬────────────────────┬─────────────────────────┬──────────────────┬───────────────────┬────────────────────┬───────────────────────┬─────────────────────────────────────┬─────────────┬───────────────┬────────────────────┬───────────────────────────┬─────────────────────┬────────────────────────────┬─────────────────────┬───────────────────────┬───────────────────────┬───────────────────────┬───────────────────────┬───────────────────────┬───────────────────────┬────────────────────────┬───────────────────────────┬───────────────────┬────────────────────────┬────────────────────────────┬───────────────────────────────┬────────────────────────┬─────────────────────────────┬────────────────────────┬───────────────────────────┬───────────────────────────┬───────────────────────────┬────────────────────────────────────────────────┬───────────────────────────────────────┐\n",
       "│     dt     │  chain  │ chain_id │ network │  nonce  │ transaction_index │                from_address                │                 to_address                 │ block_number │ block_timestamp │                                hash                                │ gas_price │ gas_limit │ receipt_gas_used │ receipt_l1_gas_used │    l1_fee     │ receipt_l1_gas_price │ receipt_l1_blob_base_fee │ base_fee_per_gas │ max_priority_fee_per_gas │ base_legacy_fee_per_gas │    l2_fee    │ l2_priority_fee │ l2_base_fee │     block_hour      │ method_id  │ success │ l1_base_fee_scalar │ l1_blob_base_fee_scalar │ transaction_type │ input_byte_length │ input_calldata_gas │ is_system_transaction │ is_attributes_deposited_transaction │ l1_gas_used │    tx_fee     │ l2_base_legacy_fee │        l1_base_fee        │ l1_base_scaled_size │        l1_blob_fee         │ l1_blob_scaled_size │     tx_fee_native     │     l1_fee_native     │     l2_fee_native     │  l1_base_fee_native   │  l1_blob_fee_native   │  l2_base_fee_native   │ l2_priority_fee_native │ l2_base_legacy_fee_native │ l2_gas_price_gwei │ l2_base_gas_price_gwei │ l2_priority_gas_price_gwei │ l2_base_legacy_gas_price_gwei │ l1_base_gas_price_gwei │ l1_blob_base_gas_price_gwei │ log_count_total_events │ log_count_approval_events │ log_count_wrapping_events │ log_count_transfer_events │ is_qualified_tx_not_approval_wrapping_transfer │ is_qualified_tx_not_approval_wrapping │\n",
       "│    date    │ varchar │  int32   │ varchar │  int64  │       int64       │                  varchar                   │                  varchar                   │    int64     │     uint32      │                              varchar                               │   int64   │   int64   │      int64       │        int64        │     int64     │        int64         │          int64           │      int64       │          int64           │          int64          │    int64     │      int64      │    int64    │      timestamp      │  varchar   │ boolean │   decimal(36,7)    │      decimal(26,7)      │      int32       │      double       │       double       │        boolean        │               boolean               │    int64    │     int64     │       int64        │      decimal(38,12)       │   decimal(38,12)    │       decimal(38,12)       │   decimal(38,12)    │    decimal(38,19)     │    decimal(38,19)     │    decimal(38,19)     │    decimal(38,19)     │    decimal(38,19)     │    decimal(38,19)     │     decimal(38,19)     │      decimal(38,19)       │  decimal(38,10)   │     decimal(38,10)     │       decimal(38,10)       │        decimal(38,10)         │     decimal(38,10)     │       decimal(38,10)        │         int64          │       decimal(38,0)       │       decimal(38,0)       │       decimal(38,0)       │                    boolean                     │                boolean                │\n",
       "├────────────┼─────────┼──────────┼─────────┼─────────┼───────────────────┼────────────────────────────────────────────┼────────────────────────────────────────────┼──────────────┼─────────────────┼────────────────────────────────────────────────────────────────────┼───────────┼───────────┼──────────────────┼─────────────────────┼───────────────┼──────────────────────┼──────────────────────────┼──────────────────┼──────────────────────────┼─────────────────────────┼──────────────┼─────────────────┼─────────────┼─────────────────────┼────────────┼─────────┼────────────────────┼─────────────────────────┼──────────────────┼───────────────────┼────────────────────┼───────────────────────┼─────────────────────────────────────┼─────────────┼───────────────┼────────────────────┼───────────────────────────┼─────────────────────┼────────────────────────────┼─────────────────────┼───────────────────────┼───────────────────────┼───────────────────────┼───────────────────────┼───────────────────────┼───────────────────────┼────────────────────────┼───────────────────────────┼───────────────────┼────────────────────────┼────────────────────────────┼───────────────────────────────┼────────────────────────┼─────────────────────────────┼────────────────────────┼───────────────────────────┼───────────────────────────┼───────────────────────────┼────────────────────────────────────────────────┼───────────────────────────────────────┤\n",
       "│ 2024-11-18 │ op      │       10 │ mainnet │    1236 │                 1 │ 0xcecfc5e576c71e913e900df7e96fc11be2222222 │ 0x0000000000007c4cb8129fc2ae24463c32e5d0da │    128145646 │      1731890069 │ 0x740c2dbfffed2f807d7502840596cd4bee063cdc6899e19f6a57b50d63945b00 │   1509609 │    363036 │           303721 │                1968 │  464705291307 │           8514105039 │               3021819819 │             1394 │                        0 │                 1509609 │ 458499955089 │               0 │   423387074 │ 2024-11-18 00:00:00 │ 0x03806a3a │ true    │          0.0836320 │               1.0142130 │                0 │              90.0 │             1392.0 │ false                 │ false                               │        1968 │  923205246396 │       922781859322 │  87582350812.462704000000 │     10.286736000000 │  376966580122.755981000000 │    124.748199000000 │ 0.0000009232052463960 │ 0.0000004647052913070 │ 0.0000004584999550890 │ 0.0000000875823508120 │ 0.0000003769665801230 │ 0.0000000004233870740 │  0.0000000000000000000 │     0.0000009227818593220 │      0.0015096090 │           0.0000013940 │               0.0000000000 │                  0.0015096090 │           8.5141050390 │                3.0218198190 │                     13 │                         0 │                         0 │                         6 │ true                                           │ true                                  │\n",
       "│ 2024-11-18 │ op      │       10 │ mainnet │     558 │                10 │ 0x72099133f9310c47b3543d6a9c3fef25dd7c71e3 │ 0xe50fa9b3c56ffb159cb0fca61f5c9d750e8128c8 │    128145646 │      1731890069 │ 0x069e5d9f4850092b767b41fb883557c50db14a3f7ab5046e873a39afaf5d1575 │    452771 │     67533 │            51556 │                1600 │  377682057670 │           8514105039 │               3021819819 │             1394 │                   451377 │                       0 │  23343061676 │     23271192612 │    71869064 │ 2024-11-18 00:00:00 │ 0x095ea7b3 │ true    │          0.0836320 │               1.0142130 │                2 │              68.0 │              944.0 │ false                 │ false                               │        1600 │  401025119346 │                  0 │  71205163262.164800000000 │      8.363200000000 │  306476894408.744700000000 │    101.421300000000 │ 0.0000004010251193460 │ 0.0000003776820576700 │ 0.0000000233430616760 │ 0.0000000712051632620 │ 0.0000003064768944090 │ 0.0000000000718690640 │  0.0000000232711926120 │     0.0000000000000000000 │      0.0004527710 │           0.0000013940 │               0.0004513770 │                  0.0000000000 │           8.5141050390 │                3.0218198190 │                      1 │                         1 │                         0 │                         0 │ false                                          │ false                                 │\n",
       "│ 2024-11-18 │ op      │       10 │ mainnet │     858 │                15 │ 0x21bdb91661a4472ff0d3871c300d4120a886ad9b │ 0x1195cf65f83b3a5768f3c496d3a05ad6412c64b7 │    128145646 │      1731890069 │ 0xf8c3fa8ece22e50b86ef016e991863191b62f20f376b16dbcca436fc80f8e28c │    101394 │    197308 │           189126 │                4953 │ 1169231513276 │           8514105039 │               3021819819 │             1394 │                   100000 │                       0 │  19176241644 │     18912600000 │   263641644 │ 2024-11-18 00:00:00 │ 0xd123b4d8 │ true    │          0.0836320 │               1.0142130 │                2 │             964.0 │             6388.0 │ false                 │ false                               │        4953 │ 1188407754920 │                  0 │ 220424483523.438909000000 │     25.889331000000 │  948737536254.070311937500 │    313.962311812500 │ 0.0000011884077549200 │ 0.0000011692315132760 │ 0.0000000191762416440 │ 0.0000002204244835230 │ 0.0000009487375362540 │ 0.0000000002636416440 │  0.0000000189126000000 │     0.0000000000000000000 │      0.0001013940 │           0.0000013940 │               0.0001000000 │                  0.0000000000 │           8.5141050390 │                3.0218198190 │                      2 │                         0 │                         0 │                         1 │ true                                           │ true                                  │\n",
       "│ 2024-11-18 │ op      │       10 │ mainnet │     873 │                16 │ 0xac50debe83f7dbf2144239bcb946a2506b2782da │ 0x1195cf65f83b3a5768f3c496d3a05ad6412c64b7 │    128145646 │      1731890069 │ 0x8b70ce403d88feb808e4f44d60b95b49fc9299aaf324890ebf9593a5dbc29fd5 │    101394 │    197296 │           189114 │                4966 │ 1172390823688 │           8514105039 │               3021819819 │             1394 │                   100000 │                       0 │  19175024916 │     18911400000 │   263624916 │ 2024-11-18 00:00:00 │ 0xd123b4d8 │ true    │          0.0836320 │               1.0142130 │                2 │             964.0 │             6400.0 │ false                 │ false                               │        4966 │ 1191565848604 │                  0 │ 221003025474.943998000000 │     25.957282000000 │  951227661021.141362625000 │    314.786359875000 │ 0.0000011915658486040 │ 0.0000011723908236880 │ 0.0000000191750249160 │ 0.0000002210030254750 │ 0.0000009512276610210 │ 0.0000000002636249160 │  0.0000000189114000000 │     0.0000000000000000000 │      0.0001013940 │           0.0000013940 │               0.0001000000 │                  0.0000000000 │           8.5141050390 │                3.0218198190 │                      2 │                         0 │                         0 │                         1 │ true                                           │ true                                  │\n",
       "│ 2024-11-18 │ op      │       10 │ mainnet │ 1446656 │                 3 │ 0x0771483e9ad0d8c452efbca3451e4e56249b64bd │ 0x1b52af3d107491c2036d745478176eb3c7863eb5 │    128145646 │      1731890069 │ 0x94291d07579ee7b6227cd7a2904392d45a39a9ab962892dc6c08a2d08d32bb31 │   1201665 │   3000000 │           522698 │                3199 │  755361849249 │           8514105039 │               3021819819 │             1394 │                        0 │                 1201665 │ 628107892170 │               0 │   728641012 │ 2024-11-18 00:00:00 │ 0xe129b4b8 │ true    │          0.0836320 │               1.0142130 │                0 │             214.0 │             2860.0 │ false                 │ false                               │        3199 │ 1383469741419 │      1382741100407 │ 142365823297.290747000000 │     16.721173000000 │  612762240758.483934562500 │    202.779211687500 │ 0.0000013834697414190 │ 0.0000007553618492490 │ 0.0000006281078921700 │ 0.0000001423658232970 │ 0.0000006127622407580 │ 0.0000000007286410120 │  0.0000000000000000000 │     0.0000013827411004070 │      0.0012016650 │           0.0000013940 │               0.0000000000 │                  0.0012016650 │           8.5141050390 │                3.0218198190 │                     12 │                         0 │                         0 │                         8 │ true                                           │ true                                  │\n",
       "│ 2024-11-18 │ op      │       10 │ mainnet │      59 │                 4 │ 0x1893d8121f083ebf12227226c94b17871a4d42b7 │ 0x8a2725a6f04816a5274ddd9feadd3bd0c253c1a6 │    128145646 │      1731890069 │ 0x1ce1b0856a4d9463cfe6a5718197eef25a976e9934bbc05ab3ef3a38053dfc0f │   1001394 │    166761 │           106027 │                6746 │ 1592579108540 │           8514105039 │               3021819819 │             1394 │                  1000000 │                       0 │ 106174801638 │    106027000000 │   147801638 │ 2024-11-18 00:00:00 │ 0x891f4e42 │ true    │          0.0836320 │               1.0142130 │                2 │             516.0 │             6972.0 │ false                 │ false                               │        6746 │ 1698753910178 │                  0 │ 300218769604.102338000000 │     35.261342000000 │ 1292183206050.869841375000 │    427.617556125000 │ 0.0000016987539101780 │ 0.0000015925791085400 │ 0.0000001061748016380 │ 0.0000003002187696040 │ 0.0000012921832060510 │ 0.0000000001478016380 │  0.0000001060270000000 │     0.0000000000000000000 │      0.0010013940 │           0.0000013940 │               0.0010000000 │                  0.0000000000 │           8.5141050390 │                3.0218198190 │                      2 │                         0 │                         0 │                         1 │ true                                           │ true                                  │\n",
       "│ 2024-11-18 │ op      │       10 │ mainnet │      42 │                 5 │ 0x6b08f3ab29cdf708f7059a3acecaf9e905f921bc │ 0x68b3465833fb72a70ecdf485e0e4c7bd8665fc45 │    128145646 │      1731890069 │ 0xb98479825e34d6d9c94cce974b47024415972c6aecfce3a2584ce6867ddef584 │   1001394 │    115761 │           112669 │                2383 │  562643914092 │           8514105039 │               3021819819 │             1394 │                  1000000 │                       0 │ 112826060586 │    112669000000 │   157060586 │ 2024-11-18 00:00:00 │ 0x04e45aaf │ true    │          0.0836320 │               1.0142130 │                2 │             228.0 │             1776.0 │ false                 │ false                               │        2383 │  675469974678 │                  0 │ 106051190033.586699000000 │     12.455941000000 │  456459024610.024137562500 │    151.054348687500 │ 0.0000006754699746780 │ 0.0000005626439140920 │ 0.0000001128260605860 │ 0.0000001060511900340 │ 0.0000004564590246100 │ 0.0000000001570605860 │  0.0000001126690000000 │     0.0000000000000000000 │      0.0010013940 │           0.0000013940 │               0.0010000000 │                  0.0000000000 │           8.5141050390 │                3.0218198190 │                      4 │                         1 │                         0 │                         2 │ true                                           │ true                                  │\n",
       "│ 2024-11-18 │ op      │       10 │ mainnet │   10500 │                 6 │ 0x43370402cbeba6ab53fbc8a52894537024a39269 │ 0x0000000071727de22e5e9d8baf0edac6f37da032 │    128145646 │      1731890069 │ 0xf4e15cd270206216937eddf9a3ac72396ba89a4cebf1eee49af873206eed164f │   1001394 │    326206 │           190204 │                7054 │ 1665243248025 │           8514105039 │               3021819819 │             1394 │                  1000000 │                       0 │ 190469144376 │    190204000000 │   265144376 │ 2024-11-18 00:00:00 │ 0x765e827f │ true    │          0.0836320 │               1.0142130 │                2 │            1252.0 │             8404.0 │ false                 │ false                               │        7054 │ 1855712392401 │                  0 │ 313925763532.069062000000 │     36.871258000000 │ 1351180008224.553196125000 │    447.141156375000 │ 0.0000018557123924010 │ 0.0000016652432480250 │ 0.0000001904691443760 │ 0.0000003139257635320 │ 0.0000013511800082250 │ 0.0000000002651443760 │  0.0000001902040000000 │     0.0000000000000000000 │      0.0010013940 │           0.0000013940 │               0.0010000000 │                  0.0000000000 │           8.5141050390 │                3.0218198190 │                      4 │                         0 │                         0 │                         1 │ true                                           │ true                                  │\n",
       "│ 2024-11-18 │ op      │       10 │ mainnet │       1 │                 7 │ 0x8eb24562a06fc42689a66e6b203fc43ed0cb45ab │ 0x94b008aa00579c1307b0ef2c499ad98a8ce58e58 │    128145646 │      1731890069 │ 0x72dd6aca2cd8ae01537ce1105987ea8b2ee81a87031d9497138839571c57fe52 │   1001325 │    200000 │            29950 │                1600 │  377682057670 │           8514105039 │               3021819819 │             1394 │                        0 │                 1001325 │  29989683750 │               0 │    41750300 │ 2024-11-18 00:00:00 │ 0xa9059cbb │ true    │          0.0836320 │               1.0142130 │                0 │              68.0 │              608.0 │ false                 │ false                               │        1600 │  407671741420 │       407629991120 │  71205163262.164800000000 │      8.363200000000 │  306476894408.744700000000 │    101.421300000000 │ 0.0000004076717414200 │ 0.0000003776820576700 │ 0.0000000299896837500 │ 0.0000000712051632620 │ 0.0000003064768944090 │ 0.0000000000417503000 │  0.0000000000000000000 │     0.0000004076299911200 │      0.0010013250 │           0.0000013940 │               0.0000000000 │                  0.0010013250 │           8.5141050390 │                3.0218198190 │                      1 │                         0 │                         0 │                         1 │ false                                          │ true                                  │\n",
       "│ 2024-11-18 │ op      │       10 │ mainnet │  724110 │                10 │ 0xa750a354528b56a62ee6f8538ca340f1d986c878 │ 0xca11bde05977b3631167028862be2a173976ca11 │    128145647 │      1731890071 │ 0xf775507c1d678f5a650b05bee624db6e6e4b15f1ff6fb7de04801dd9b26ad214 │    386693 │    200000 │           151117 │                4846 │ 1143957029976 │           8514105039 │               3021819819 │             1392 │                   385301 │                       0 │  58435886081 │     58225531217 │   210354864 │ 2024-11-18 00:00:00 │ 0x82ad56cb │ true    │          0.0836320 │               1.0142130 │                2 │            1124.0 │             7520.0 │ false                 │ false                               │        4846 │ 1202392916057 │                  0 │ 215662638230.281638000000 │     25.330042000000 │  928241893940.485510125000 │    307.179762375000 │ 0.0000012023929160570 │ 0.0000011439570299760 │ 0.0000000584358860810 │ 0.0000002156626382300 │ 0.0000009282418939400 │ 0.0000000002103548640 │  0.0000000582255312170 │     0.0000000000000000000 │      0.0003866930 │           0.0000013920 │               0.0003853010 │                  0.0000000000 │           8.5141050390 │                3.0218198190 │                      9 │                         1 │                         0 │                         1 │ true                                           │ true                                  │\n",
       "├────────────┴─────────┴──────────┴─────────┴─────────┴───────────────────┴────────────────────────────────────────────┴────────────────────────────────────────────┴──────────────┴─────────────────┴────────────────────────────────────────────────────────────────────┴───────────┴───────────┴──────────────────┴─────────────────────┴───────────────┴──────────────────────┴──────────────────────────┴──────────────────┴──────────────────────────┴─────────────────────────┴──────────────┴─────────────────┴─────────────┴─────────────────────┴────────────┴─────────┴────────────────────┴─────────────────────────┴──────────────────┴───────────────────┴────────────────────┴───────────────────────┴─────────────────────────────────────┴─────────────┴───────────────┴────────────────────┴───────────────────────────┴─────────────────────┴────────────────────────────┴─────────────────────┴───────────────────────┴───────────────────────┴───────────────────────┴───────────────────────┴───────────────────────┴───────────────────────┴────────────────────────┴───────────────────────────┴───────────────────┴────────────────────────┴────────────────────────────┴───────────────────────────────┴────────────────────────┴─────────────────────────────┴────────────────────────┴───────────────────────────┴───────────────────────────┴───────────────────────────┴────────────────────────────────────────────────┴───────────────────────────────────────┤\n",
       "│ 10 rows                                                                                                                                                                                                                                                                                                                                                                                                                                                                                                                                                                                                                                                                                                                                                                                                                                                                                                                                                                                                                                                                                                                                                                                                                                                                                                                                                                                                                                                                          61 columns │\n",
       "└─────────────────────────────────────────────────────────────────────────────────────────────────────────────────────────────────────────────────────────────────────────────────────────────────────────────────────────────────────────────────────────────────────────────────────────────────────────────────────────────────────────────────────────────────────────────────────────────────────────────────────────────────────────────────────────────────────────────────────────────────────────────────────────────────────────────────────────────────────────────────────────────────────────────────────────────────────────────────────────────────────────────────────────────────────────────────────────────────────────────────────────────────────────────────────────────────────────────────────────────────────────────────────────────────────────────────────────────────────────────────────────────────────────────────────────────────────────────────────────────────────────────────────────────────────────────────────────────────────────────────────────────────────────────────────────────────────────────────────────────────────────────────────────────────────────────────────────────────────────────────────────────────────────────────────────────────────────────────────────────────────────────────────────────────────────────────────────────────────────────────────────────────────────────────────────────────────────────────────────────┘"
      ]
     },
     "execution_count": 3,
     "metadata": {},
     "output_type": "execute_result"
    }
   ],
   "source": [
    "duckdb_client.sql(\"SELECT * FROM refined_transactions_fees_v1 LIMIT 10\")"
   ]
  },
  {
   "cell_type": "markdown",
   "metadata": {},
   "source": [
    "### Check the data output size"
   ]
  },
  {
   "cell_type": "code",
   "execution_count": 4,
   "metadata": {},
   "outputs": [
    {
     "data": {
      "text/plain": [
       "┌──────────────┐\n",
       "│ count_star() │\n",
       "│    int64     │\n",
       "├──────────────┤\n",
       "│        33168 │\n",
       "└──────────────┘"
      ]
     },
     "execution_count": 4,
     "metadata": {},
     "output_type": "execute_result"
    }
   ],
   "source": [
    "duckdb_client.sql(\"SELECT COUNT(*) FROM refined_transactions_fees_v1\")"
   ]
  },
  {
   "cell_type": "code",
   "execution_count": 5,
   "metadata": {},
   "outputs": [
    {
     "data": {
      "text/plain": [
       "┌──────────────┐\n",
       "│ count_star() │\n",
       "│    int64     │\n",
       "├──────────────┤\n",
       "│        33168 │\n",
       "└──────────────┘"
      ]
     },
     "execution_count": 5,
     "metadata": {},
     "output_type": "execute_result"
    }
   ],
   "source": [
    "duckdb_client.sql(\"SELECT COUNT(*) FROM ingestion_transactions_v1\")"
   ]
  },
  {
   "cell_type": "code",
   "execution_count": 6,
   "metadata": {},
   "outputs": [],
   "source": [
    "# duckdb_client.sql(\"SELECT input FROM ingestion_transactions_v1 LIMIT 10\")\n"
   ]
  },
  {
   "cell_type": "markdown",
   "metadata": {},
   "source": [
    "### You can also convert the results to dataframes to inspect them in more familiar ways"
   ]
  },
  {
   "cell_type": "code",
   "execution_count": 7,
   "metadata": {},
   "outputs": [
    {
     "data": {
      "text/html": [
       "<div><style>\n",
       ".dataframe > thead > tr,\n",
       ".dataframe > tbody > tr {\n",
       "  text-align: right;\n",
       "  white-space: pre-wrap;\n",
       "}\n",
       "</style>\n",
       "<small>shape: (5, 61)</small><table border=\"1\" class=\"dataframe\"><thead><tr><th>dt</th><th>chain</th><th>chain_id</th><th>network</th><th>nonce</th><th>transaction_index</th><th>from_address</th><th>to_address</th><th>block_number</th><th>block_timestamp</th><th>hash</th><th>gas_price</th><th>gas_limit</th><th>receipt_gas_used</th><th>receipt_l1_gas_used</th><th>l1_fee</th><th>receipt_l1_gas_price</th><th>receipt_l1_blob_base_fee</th><th>base_fee_per_gas</th><th>max_priority_fee_per_gas</th><th>base_legacy_fee_per_gas</th><th>l2_fee</th><th>l2_priority_fee</th><th>l2_base_fee</th><th>block_hour</th><th>method_id</th><th>success</th><th>l1_base_fee_scalar</th><th>l1_blob_base_fee_scalar</th><th>transaction_type</th><th>input_byte_length</th><th>input_calldata_gas</th><th>is_system_transaction</th><th>is_attributes_deposited_transaction</th><th>l1_gas_used</th><th>tx_fee</th><th>l2_base_legacy_fee</th><th>l1_base_fee</th><th>l1_base_scaled_size</th><th>l1_blob_fee</th><th>l1_blob_scaled_size</th><th>tx_fee_native</th><th>l1_fee_native</th><th>l2_fee_native</th><th>l1_base_fee_native</th><th>l1_blob_fee_native</th><th>l2_base_fee_native</th><th>l2_priority_fee_native</th><th>l2_base_legacy_fee_native</th><th>l2_gas_price_gwei</th><th>l2_base_gas_price_gwei</th><th>l2_priority_gas_price_gwei</th><th>l2_base_legacy_gas_price_gwei</th><th>l1_base_gas_price_gwei</th><th>l1_blob_base_gas_price_gwei</th><th>log_count_total_events</th><th>log_count_approval_events</th><th>log_count_wrapping_events</th><th>log_count_transfer_events</th><th>is_qualified_tx_not_approval_wrapping_transfer</th><th>is_qualified_tx_not_approval_wrapping</th></tr><tr><td>date</td><td>str</td><td>i32</td><td>str</td><td>i64</td><td>i64</td><td>str</td><td>str</td><td>i64</td><td>u32</td><td>str</td><td>i64</td><td>i64</td><td>i64</td><td>i64</td><td>i64</td><td>i64</td><td>i64</td><td>i64</td><td>i64</td><td>i64</td><td>i64</td><td>i64</td><td>i64</td><td>datetime[μs]</td><td>str</td><td>bool</td><td>decimal[36,7]</td><td>decimal[26,7]</td><td>i32</td><td>f64</td><td>f64</td><td>bool</td><td>bool</td><td>i64</td><td>i64</td><td>i64</td><td>decimal[38,12]</td><td>decimal[38,12]</td><td>decimal[38,12]</td><td>decimal[38,12]</td><td>decimal[38,19]</td><td>decimal[38,19]</td><td>decimal[38,19]</td><td>decimal[38,19]</td><td>decimal[38,19]</td><td>decimal[38,19]</td><td>decimal[38,19]</td><td>decimal[38,19]</td><td>decimal[38,10]</td><td>decimal[38,10]</td><td>decimal[38,10]</td><td>decimal[38,10]</td><td>decimal[38,10]</td><td>decimal[38,10]</td><td>i64</td><td>decimal[38,0]</td><td>decimal[38,0]</td><td>decimal[38,0]</td><td>bool</td><td>bool</td></tr></thead><tbody><tr><td>2024-11-18</td><td>&quot;op&quot;</td><td>10</td><td>&quot;mainnet&quot;</td><td>161383</td><td>1</td><td>&quot;0xf0161ba9e648dee61d803bbdb896…</td><td>&quot;0x6f1fe5b048de0417c4e838b1fc42…</td><td>128145723</td><td>1731890223</td><td>&quot;0x8d4b95d012045188a679fb118180…</td><td>24106181875</td><td>321281</td><td>178421</td><td>1600</td><td>413100442666</td><td>8168396263</td><td>3399547344</td><td>1533</td><td>24106181875</td><td>0</td><td>4301049076319375</td><td>4301049076319375</td><td>273519393</td><td>2024-11-18&nbsp;00:00:00</td><td>&quot;0xb2460c48&quot;</td><td>true</td><td>0.0836320</td><td>1.0142130</td><td>2</td><td>36.0</td><td>444.0</td><td>false</td><td>false</td><td>1600</td><td>4301462176762041</td><td>0</td><td>68313931626.721600000000</td><td>8.363200000000</td><td>344786511040.027200000000</td><td>101.421300000000</td><td>0.0043014621767620410</td><td>0.0000004131004426660</td><td>0.0043010490763193750</td><td>0.0000000683139316270</td><td>0.0000003447865110400</td><td>0.0000000002735193930</td><td>0.0043010490763193750</td><td>0.0000000000000000000</td><td>24.1061818750</td><td>0.0000015330</td><td>24.1061818750</td><td>0.0000000000</td><td>8.1683962630</td><td>3.3995473440</td><td>3</td><td>0</td><td>0</td><td>2</td><td>true</td><td>true</td></tr><tr><td>2024-11-18</td><td>&quot;op&quot;</td><td>10</td><td>&quot;mainnet&quot;</td><td>32703</td><td>2</td><td>&quot;0x870c4b80f61065aa4df267cbac02…</td><td>&quot;0x6f1fe5b048de0417c4e838b1fc42…</td><td>128145723</td><td>1731890223</td><td>&quot;0xaa5703576bc911f19748dcb5f8d3…</td><td>22805151129</td><td>319950</td><td>169719</td><td>1600</td><td>413100442666</td><td>8168396263</td><td>3399547344</td><td>1533</td><td>22805151129</td><td>0</td><td>3870467444462751</td><td>3870467444462751</td><td>260179227</td><td>2024-11-18&nbsp;00:00:00</td><td>&quot;0xb2460c48&quot;</td><td>true</td><td>0.0836320</td><td>1.0142130</td><td>2</td><td>36.0</td><td>444.0</td><td>false</td><td>false</td><td>1600</td><td>3870880544905417</td><td>0</td><td>68313931626.721600000000</td><td>8.363200000000</td><td>344786511040.027200000000</td><td>101.421300000000</td><td>0.0038708805449054170</td><td>0.0000004131004426660</td><td>0.0038704674444627510</td><td>0.0000000683139316270</td><td>0.0000003447865110400</td><td>0.0000000002601792270</td><td>0.0038704674444627510</td><td>0.0000000000000000000</td><td>22.8051511290</td><td>0.0000015330</td><td>22.8051511290</td><td>0.0000000000</td><td>8.1683962630</td><td>3.3995473440</td><td>3</td><td>0</td><td>0</td><td>2</td><td>true</td><td>true</td></tr><tr><td>2024-11-18</td><td>&quot;op&quot;</td><td>10</td><td>&quot;mainnet&quot;</td><td>32653</td><td>1</td><td>&quot;0x46619117bfccce427350754988b8…</td><td>&quot;0x6f1fe5b048de0417c4e838b1fc42…</td><td>128145391</td><td>1731889559</td><td>&quot;0x00ad68344e805a7b6a86a0b2e933…</td><td>17763065777</td><td>294506</td><td>178388</td><td>1600</td><td>271010594468</td><td>7658457854</td><td>2040610599</td><td>956</td><td>17763065777</td><td>0</td><td>3168717777827476</td><td>3168717777827476</td><td>170538928</td><td>2024-11-18&nbsp;00:00:00</td><td>&quot;0xb2460c48&quot;</td><td>true</td><td>0.0836320</td><td>1.0142130</td><td>2</td><td>36.0</td><td>444.0</td><td>false</td><td>false</td><td>1600</td><td>3168988788421944</td><td>0</td><td>64049214724.572800000000</td><td>8.363200000000</td><td>206961379744.358700000000</td><td>101.421300000000</td><td>0.0031689887884219440</td><td>0.0000002710105944680</td><td>0.0031687177778274760</td><td>0.0000000640492147250</td><td>0.0000002069613797440</td><td>0.0000000001705389280</td><td>0.0031687177778274760</td><td>0.0000000000000000000</td><td>17.7630657770</td><td>0.0000009560</td><td>17.7630657770</td><td>0.0000000000</td><td>7.6584578540</td><td>2.0406105990</td><td>3</td><td>0</td><td>0</td><td>2</td><td>true</td><td>true</td></tr><tr><td>2024-11-18</td><td>&quot;op&quot;</td><td>10</td><td>&quot;mainnet&quot;</td><td>32623</td><td>3</td><td>&quot;0x574214d3cd9fdb353e17a4768436…</td><td>&quot;0x6f1fe5b048de0417c4e838b1fc42…</td><td>128145723</td><td>1731890223</td><td>&quot;0x88901c244073013c5a8e47162f54…</td><td>14972171875</td><td>216953</td><td>161408</td><td>1600</td><td>413100442666</td><td>8168396263</td><td>3399547344</td><td>1533</td><td>14972171875</td><td>0</td><td>2416628318000000</td><td>2416628318000000</td><td>247438464</td><td>2024-11-18&nbsp;00:00:00</td><td>&quot;0xb2460c48&quot;</td><td>true</td><td>0.0836320</td><td>1.0142130</td><td>2</td><td>36.0</td><td>432.0</td><td>false</td><td>false</td><td>1600</td><td>2417041418442666</td><td>0</td><td>68313931626.721600000000</td><td>8.363200000000</td><td>344786511040.027200000000</td><td>101.421300000000</td><td>0.0024170414184426660</td><td>0.0000004131004426660</td><td>0.0024166283180000000</td><td>0.0000000683139316270</td><td>0.0000003447865110400</td><td>0.0000000002474384640</td><td>0.0024166283180000000</td><td>0.0000000000000000000</td><td>14.9721718750</td><td>0.0000015330</td><td>14.9721718750</td><td>0.0000000000</td><td>8.1683962630</td><td>3.3995473440</td><td>3</td><td>0</td><td>0</td><td>2</td><td>true</td><td>true</td></tr><tr><td>2024-11-18</td><td>&quot;op&quot;</td><td>10</td><td>&quot;mainnet&quot;</td><td>161414</td><td>1</td><td>&quot;0xcbc390b984a0578d563ad214a2f6…</td><td>&quot;0x6f1fe5b048de0417c4e838b1fc42…</td><td>128145259</td><td>1731889295</td><td>&quot;0xf2875774e3fd5c6e99a46a52863b…</td><td>12116292491</td><td>294104</td><td>172062</td><td>1600</td><td>196474826433</td><td>7424938854</td><td>1324954204</td><td>802</td><td>12116292491</td><td>0</td><td>2084753518586442</td><td>2084753518586442</td><td>137993724</td><td>2024-11-18&nbsp;00:00:00</td><td>&quot;0xb2460c48&quot;</td><td>true</td><td>0.0836320</td><td>1.0142130</td><td>2</td><td>36.0</td><td>456.0</td><td>false</td><td>false</td><td>1600</td><td>2084949993412875</td><td>0</td><td>62096248623.772800000000</td><td>8.363200000000</td><td>134378577810.145200000000</td><td>101.421300000000</td><td>0.0020849499934128750</td><td>0.0000001964748264330</td><td>0.0020847535185864420</td><td>0.0000000620962486240</td><td>0.0000001343785778100</td><td>0.0000000001379937240</td><td>0.0020847535185864420</td><td>0.0000000000000000000</td><td>12.1162924910</td><td>0.0000008020</td><td>12.1162924910</td><td>0.0000000000</td><td>7.4249388540</td><td>1.3249542040</td><td>3</td><td>0</td><td>0</td><td>2</td><td>true</td><td>true</td></tr></tbody></table></div>"
      ],
      "text/plain": [
       "shape: (5, 61)\n",
       "┌────────────┬───────┬──────────┬─────────┬───┬─────────────┬────────────┬────────────┬────────────┐\n",
       "│ dt         ┆ chain ┆ chain_id ┆ network ┆ … ┆ log_count_w ┆ log_count_ ┆ is_qualifi ┆ is_qualifi │\n",
       "│ ---        ┆ ---   ┆ ---      ┆ ---     ┆   ┆ rapping_eve ┆ transfer_e ┆ ed_tx_not_ ┆ ed_tx_not_ │\n",
       "│ date       ┆ str   ┆ i32      ┆ str     ┆   ┆ nts         ┆ vents      ┆ approval_w ┆ approval_w │\n",
       "│            ┆       ┆          ┆         ┆   ┆ ---         ┆ ---        ┆ …          ┆ …          │\n",
       "│            ┆       ┆          ┆         ┆   ┆ decimal[38, ┆ decimal[38 ┆ ---        ┆ ---        │\n",
       "│            ┆       ┆          ┆         ┆   ┆ 0]          ┆ ,0]        ┆ bool       ┆ bool       │\n",
       "╞════════════╪═══════╪══════════╪═════════╪═══╪═════════════╪════════════╪════════════╪════════════╡\n",
       "│ 2024-11-18 ┆ op    ┆ 10       ┆ mainnet ┆ … ┆ 0           ┆ 2          ┆ true       ┆ true       │\n",
       "│ 2024-11-18 ┆ op    ┆ 10       ┆ mainnet ┆ … ┆ 0           ┆ 2          ┆ true       ┆ true       │\n",
       "│ 2024-11-18 ┆ op    ┆ 10       ┆ mainnet ┆ … ┆ 0           ┆ 2          ┆ true       ┆ true       │\n",
       "│ 2024-11-18 ┆ op    ┆ 10       ┆ mainnet ┆ … ┆ 0           ┆ 2          ┆ true       ┆ true       │\n",
       "│ 2024-11-18 ┆ op    ┆ 10       ┆ mainnet ┆ … ┆ 0           ┆ 2          ┆ true       ┆ true       │\n",
       "└────────────┴───────┴──────────┴─────────┴───┴─────────────┴────────────┴────────────┴────────────┘"
      ]
     },
     "execution_count": 7,
     "metadata": {},
     "output_type": "execute_result"
    }
   ],
   "source": [
    "duckdb_client.sql(\"SELECT * FROM refined_transactions_fees_v1 ORDER BY tx_fee_native DESC LIMIT 10\").pl().head()"
   ]
  },
  {
   "cell_type": "markdown",
   "metadata": {},
   "source": [
    "### Get table schema"
   ]
  },
  {
   "cell_type": "code",
   "execution_count": 8,
   "metadata": {},
   "outputs": [
    {
     "data": {
      "text/plain": [
       "┌────────────────────────────────────────────────┬────────────────┬─────────┬─────────┬─────────┬─────────┐\n",
       "│                  column_name                   │  column_type   │  null   │   key   │ default │  extra  │\n",
       "│                    varchar                     │    varchar     │ varchar │ varchar │ varchar │ varchar │\n",
       "├────────────────────────────────────────────────┼────────────────┼─────────┼─────────┼─────────┼─────────┤\n",
       "│ dt                                             │ DATE           │ YES     │ NULL    │ NULL    │ NULL    │\n",
       "│ chain                                          │ VARCHAR        │ YES     │ NULL    │ NULL    │ NULL    │\n",
       "│ chain_id                                       │ INTEGER        │ YES     │ NULL    │ NULL    │ NULL    │\n",
       "│ network                                        │ VARCHAR        │ YES     │ NULL    │ NULL    │ NULL    │\n",
       "│ nonce                                          │ BIGINT         │ YES     │ NULL    │ NULL    │ NULL    │\n",
       "│ transaction_index                              │ BIGINT         │ YES     │ NULL    │ NULL    │ NULL    │\n",
       "│ from_address                                   │ VARCHAR        │ YES     │ NULL    │ NULL    │ NULL    │\n",
       "│ to_address                                     │ VARCHAR        │ YES     │ NULL    │ NULL    │ NULL    │\n",
       "│ block_number                                   │ BIGINT         │ YES     │ NULL    │ NULL    │ NULL    │\n",
       "│ block_timestamp                                │ UINTEGER       │ YES     │ NULL    │ NULL    │ NULL    │\n",
       "│        ·                                       │    ·           │  ·      │  ·      │  ·      │  ·      │\n",
       "│        ·                                       │    ·           │  ·      │  ·      │  ·      │  ·      │\n",
       "│        ·                                       │    ·           │  ·      │  ·      │  ·      │  ·      │\n",
       "│ l2_priority_gas_price_gwei                     │ DECIMAL(38,10) │ YES     │ NULL    │ NULL    │ NULL    │\n",
       "│ l2_base_legacy_gas_price_gwei                  │ DECIMAL(38,10) │ YES     │ NULL    │ NULL    │ NULL    │\n",
       "│ l1_base_gas_price_gwei                         │ DECIMAL(38,10) │ YES     │ NULL    │ NULL    │ NULL    │\n",
       "│ l1_blob_base_gas_price_gwei                    │ DECIMAL(38,10) │ YES     │ NULL    │ NULL    │ NULL    │\n",
       "│ log_count_total_events                         │ BIGINT         │ YES     │ NULL    │ NULL    │ NULL    │\n",
       "│ log_count_approval_events                      │ DECIMAL(38,0)  │ YES     │ NULL    │ NULL    │ NULL    │\n",
       "│ log_count_wrapping_events                      │ DECIMAL(38,0)  │ YES     │ NULL    │ NULL    │ NULL    │\n",
       "│ log_count_transfer_events                      │ DECIMAL(38,0)  │ YES     │ NULL    │ NULL    │ NULL    │\n",
       "│ is_qualified_tx_not_approval_wrapping_transfer │ BOOLEAN        │ YES     │ NULL    │ NULL    │ NULL    │\n",
       "│ is_qualified_tx_not_approval_wrapping          │ BOOLEAN        │ YES     │ NULL    │ NULL    │ NULL    │\n",
       "├────────────────────────────────────────────────┴────────────────┴─────────┴─────────┴─────────┴─────────┤\n",
       "│ 61 rows (20 shown)                                                                            6 columns │\n",
       "└─────────────────────────────────────────────────────────────────────────────────────────────────────────┘"
      ]
     },
     "execution_count": 8,
     "metadata": {},
     "output_type": "execute_result"
    }
   ],
   "source": [
    "duckdb_client.sql(\"DESCRIBE refined_transactions_fees_v1\")\n"
   ]
  }
 ],
 "metadata": {
  "kernelspec": {
   "display_name": ".venv",
   "language": "python",
   "name": "python3"
  },
  "language_info": {
   "codemirror_mode": {
    "name": "ipython",
    "version": 3
   },
   "file_extension": ".py",
   "mimetype": "text/x-python",
   "name": "python",
   "nbconvert_exporter": "python",
   "pygments_lexer": "ipython3",
   "version": "3.12.4"
  }
 },
 "nbformat": 4,
 "nbformat_minor": 2
}
