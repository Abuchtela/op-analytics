{
 "cells": [
  {
   "cell_type": "code",
   "execution_count": 43,
   "metadata": {},
   "outputs": [],
   "source": [
    "import pandas as pd\n",
    "from airtable import airtable\n",
    "\n",
    "import dotenv\n",
    "import os\n",
    "dotenv.load_dotenv()\n",
    "at_api = os.environ[\"AIRTABLE_API_TOKEN\"]\n",
    "at_base = os.environ[\"AIRTABLE_DEVREL_BASE_ID\"]\n",
    "\n",
    "columns = ['Name','Status','Alignment','Type','Block Explorer','Announcement Date', 'Mainnet Launch Date'\n",
    "           ,'L1 Standard Bridge Contract', 'L1 NFT Bridge Contract', 'L1 BatchInbox \"to address\"', 'L1 BatchInbox \"from address\"']"
   ]
  },
  {
   "cell_type": "code",
   "execution_count": 44,
   "metadata": {},
   "outputs": [],
   "source": [
    "at = airtable.Airtable(at_base, at_api)\n",
    "data = at.get('OP Products')\n",
    "df = pd.json_normalize(data, record_path='records')\n",
    "# Rename all columns that start with 'fields.'\n",
    "df.rename(columns=lambda x: x.replace('fields.', ''), inplace=True)\n",
    "df = df[columns]"
   ]
  },
  {
   "cell_type": "code",
   "execution_count": 45,
   "metadata": {},
   "outputs": [
    {
     "data": {
      "text/html": [
       "<div>\n",
       "<style scoped>\n",
       "    .dataframe tbody tr th:only-of-type {\n",
       "        vertical-align: middle;\n",
       "    }\n",
       "\n",
       "    .dataframe tbody tr th {\n",
       "        vertical-align: top;\n",
       "    }\n",
       "\n",
       "    .dataframe thead th {\n",
       "        text-align: right;\n",
       "    }\n",
       "</style>\n",
       "<table border=\"1\" class=\"dataframe\">\n",
       "  <thead>\n",
       "    <tr style=\"text-align: right;\">\n",
       "      <th></th>\n",
       "      <th>id</th>\n",
       "      <th>createdTime</th>\n",
       "      <th>Name</th>\n",
       "      <th>Teams</th>\n",
       "      <th>Status</th>\n",
       "      <th>Alignment</th>\n",
       "      <th>Type</th>\n",
       "      <th>Contact</th>\n",
       "      <th>Block Explorer</th>\n",
       "      <th>Meeting Notes</th>\n",
       "      <th>Announcement Link</th>\n",
       "      <th>Announcement Date</th>\n",
       "      <th>L1 BatchInbox \"to address\"</th>\n",
       "      <th>L1 BatchInbox \"from address\"</th>\n",
       "      <th>Mainnet Launch Date</th>\n",
       "      <th>Mainnet Launch Link</th>\n",
       "      <th>L1 Standard Bridge Contract</th>\n",
       "      <th>L1 NFT Bridge Contract</th>\n",
       "    </tr>\n",
       "  </thead>\n",
       "  <tbody>\n",
       "    <tr>\n",
       "      <th>0</th>\n",
       "      <td>recHDXk18u3MLD8mM</td>\n",
       "      <td>2023-04-17T21:17:01.000Z</td>\n",
       "      <td>Aevo</td>\n",
       "      <td>[recJhFKrOxzaj6XEx, rec2xswR9yP32Iw37]</td>\n",
       "      <td>[Launched]</td>\n",
       "      <td>[RAAS]</td>\n",
       "      <td>[AppChain]</td>\n",
       "      <td>[#oplabs-conduit]</td>\n",
       "      <td>https://explorer.aevo.xyz/</td>\n",
       "      <td>NaN</td>\n",
       "      <td>https://aevo.mirror.xyz/XtueK0oiRozH7mNVwBdpHL...</td>\n",
       "      <td>2022-09-28</td>\n",
       "      <td>0x253887577420Cb7e7418cD4d50147743c8041b28</td>\n",
       "      <td>0x889e21d7BA3d6dD62e75d4980A4Ad1349c61599d</td>\n",
       "      <td>2023-04-07</td>\n",
       "      <td>https://aevo.mirror.xyz/klKSjpY0UV-GmdWVrW-9x6...</td>\n",
       "      <td>0x4082C9647c098a6493fb499EaE63b5ce3259c574</td>\n",
       "      <td>0x2e7d7B188D663F38c2E4fF9C59328458A2D676F0</td>\n",
       "    </tr>\n",
       "  </tbody>\n",
       "</table>\n",
       "</div>"
      ],
      "text/plain": [
       "                  id               createdTime  Name  \\\n",
       "0  recHDXk18u3MLD8mM  2023-04-17T21:17:01.000Z  Aevo   \n",
       "\n",
       "                                    Teams      Status Alignment        Type  \\\n",
       "0  [recJhFKrOxzaj6XEx, rec2xswR9yP32Iw37]  [Launched]    [RAAS]  [AppChain]   \n",
       "\n",
       "             Contact              Block Explorer Meeting Notes  \\\n",
       "0  [#oplabs-conduit]  https://explorer.aevo.xyz/           NaN   \n",
       "\n",
       "                                   Announcement Link Announcement Date  \\\n",
       "0  https://aevo.mirror.xyz/XtueK0oiRozH7mNVwBdpHL...        2022-09-28   \n",
       "\n",
       "                   L1 BatchInbox \"to address\"  \\\n",
       "0  0x253887577420Cb7e7418cD4d50147743c8041b28   \n",
       "\n",
       "                 L1 BatchInbox \"from address\" Mainnet Launch Date  \\\n",
       "0  0x889e21d7BA3d6dD62e75d4980A4Ad1349c61599d          2023-04-07   \n",
       "\n",
       "                                 Mainnet Launch Link  \\\n",
       "0  https://aevo.mirror.xyz/klKSjpY0UV-GmdWVrW-9x6...   \n",
       "\n",
       "                  L1 Standard Bridge Contract  \\\n",
       "0  0x4082C9647c098a6493fb499EaE63b5ce3259c574   \n",
       "\n",
       "                       L1 NFT Bridge Contract  \n",
       "0  0x2e7d7B188D663F38c2E4fF9C59328458A2D676F0  "
      ]
     },
     "metadata": {},
     "output_type": "display_data"
    }
   ],
   "source": [
    "# Filter the DataFrame\n",
    "filtered_df = df[df['L1 Standard Bridge Contract'].notnull() & df['L1 Standard Bridge Contract'].str.startswith('0x')]\n",
    "filtered_df.reset_index(inplace=True, drop=True)\n",
    "display(filtered_df)"
   ]
  }
 ],
 "metadata": {
  "kernelspec": {
   "display_name": "new-env",
   "language": "python",
   "name": "python3"
  },
  "language_info": {
   "codemirror_mode": {
    "name": "ipython",
    "version": 3
   },
   "file_extension": ".py",
   "mimetype": "text/x-python",
   "name": "python",
   "nbconvert_exporter": "python",
   "pygments_lexer": "ipython3",
   "version": "3.10.9"
  },
  "orig_nbformat": 4
 },
 "nbformat": 4,
 "nbformat_minor": 2
}
