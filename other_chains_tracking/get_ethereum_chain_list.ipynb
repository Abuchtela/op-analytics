{
 "cells": [
  {
   "cell_type": "code",
   "execution_count": 1,
   "metadata": {},
   "outputs": [],
   "source": [
    "# github: https://github.com/ethereum-lists/chains\n",
    "api_url = 'https://chainid.network/chains_mini.json'"
   ]
  },
  {
   "cell_type": "code",
   "execution_count": null,
   "metadata": {},
   "outputs": [],
   "source": [
    "import pandas as pd\n",
    "import requests as r\n",
    "import sys\n",
    "\n",
    "sys.path.append(\"../helper_functions\")\n",
    "import pandas_utils as pu\n",
    "import google_bq_utils as bqu\n",
    "sys.path.pop()"
   ]
  },
  {
   "cell_type": "code",
   "execution_count": 3,
   "metadata": {},
   "outputs": [],
   "source": [
    "# Send a GET request to the API\n",
    "response = r.get(api_url)\n",
    "\n",
    "# Check if the request was successful\n",
    "if response.status_code == 200:\n",
    "    # Parse the JSON data\n",
    "    data = response.json()\n",
    "\n",
    "    # Create a DataFrame from the data\n",
    "    df = pd.DataFrame(data)\n",
    "\n",
    "    # Print the DataFrame\n",
    "    # print(df.sample(5))\n",
    "else:\n",
    "    print(f\"Error: {response.status_code}\")"
   ]
  },
  {
   "cell_type": "code",
   "execution_count": 4,
   "metadata": {},
   "outputs": [],
   "source": [
    "df = pu.flatten_nested_data(df, 'nativeCurrency')"
   ]
  },
  {
   "cell_type": "code",
   "execution_count": 5,
   "metadata": {},
   "outputs": [],
   "source": [
    "def remove_words(name, words_to_remove):\n",
    "    \"\"\"\n",
    "    Remove specified words from the name string and trim remaining spaces,\n",
    "    while preserving the original capitalization.\n",
    "    \"\"\"\n",
    "    # Split the name into words\n",
    "    name_words = name.split()\n",
    "    \n",
    "    # Remove the specified words from the list of words\n",
    "    cleaned_words = [word for word in name_words if word.lower() not in [w.lower() for w in words_to_remove]]\n",
    "    \n",
    "    # Join the remaining words back into a string\n",
    "    cleaned_name = ' '.join(cleaned_words)\n",
    "    \n",
    "    return cleaned_name"
   ]
  },
  {
   "cell_type": "code",
   "execution_count": 6,
   "metadata": {},
   "outputs": [],
   "source": [
    "# Generate Clean Name\n",
    "words_to_remove = [\n",
    "        'Mainnet','Network'\n",
    "]\n",
    "\n",
    "df['clean_chain_name'] = df.apply(lambda row: remove_words(row['name'], words_to_remove), axis=1)\n",
    "\n",
    "# Convert columns to strings\n",
    "df['rpc'] = df['rpc'].apply(lambda x: str(x))\n",
    "df['faucets'] = df['faucets'].apply(lambda x: str(x))\n",
    "df['infoURL'] = df['infoURL'].apply(lambda x: str(x))\n"
   ]
  },
  {
   "cell_type": "code",
   "execution_count": 7,
   "metadata": {},
   "outputs": [],
   "source": [
    "# Filter out non-EVM chains like Bitcoin or Solana\n",
    "evm_chains = ['Ethereum', 'Binance Smart Chain', 'Polygon', 'Avalanche', 'Fantom', 'Arbitrum', 'Optimism', 'Harmony', 'Moonbeam', 'Moonriver', 'Celo', 'Cronos', 'Klaytn', 'Aurora', 'Metis', 'Boba', 'Fuse', 'Telos', 'Syscoin', 'Gnosis', 'OKExChain', 'HECO', 'xDai', 'RSK', 'TomoChain', 'ThunderCore', 'Wanchain', 'IoTeX', 'GateChain', 'Callisto', 'Elastos', 'EnergyWebChain', 'GoChain', 'Meter', 'Theta', 'Velas', 'Waves', 'Zilliqa', 'ZKSwap', 'zkSync', 'zkTube', 'zkRollup', 'zkLink', 'zkSync Era', 'zkSync 2.0', 'zkSync 1.0', 'zkSync 1.x', 'zkSync 2.x', 'zkSync 3.0', 'zkSync 3.x', 'zkSync 4.0', 'zkSync 4.x', 'zkSync 5.0', 'zkSync 5.x', 'zkSync 6.0', 'zkSync 6.x', 'zkSync 7.0', 'zkSync 7.x', 'zkSync 8.0', 'zkSync 8.x', 'zkSync 9.0', 'zkSync 9.x', 'zkSync 10.0', 'zkSync 10.x', 'zkSync 11.0', 'zkSync 11.x', 'zkSync 12.0', 'zkSync 12.x', 'zkSync 13.0', 'zkSync 13.x', 'zkSync 14.0', 'zkSync 14.x', 'zkSync 15.0', 'zkSync 15.x', 'zkSync 16.0', 'zkSync 16.x', 'zkSync 17.0', 'zkSync 17.x', 'zkSync 18.0', 'zkSync 18.x', 'zkSync 19.0', 'zkSync 19.x', 'zkSync 20.0', 'zkSync 20.x', 'zkSync 21.0', 'zkSync 21.x', 'zkSync 22.0', 'zkSync 22.x', 'zkSync 23.0', 'zkSync 23.x', 'zkSync 24.0', 'zkSync 24.x', 'zkSync 25.0', 'zkSync 25.x', 'zkSync 26.0', 'zkSync 26.x', 'zkSync 27.0', 'zkSync 27.x', 'zkSync 28.0', 'zkSync 28.x', 'zkSync 29.0', 'zkSync 29.x', 'zkSync 30.0', 'zkSync 30.x', 'zkSync 31.0', 'zkSync 31.x', 'zkSync 32.0', 'zkSync 32.x', 'zkSync 33.0', 'zkSync 33.x', 'zkSync 34.0', 'zkSync 34.x', 'zkSync 35.0', 'zkSync 35.x', 'zkSync 36.0', 'zkSync 36.x', 'zkSync 37.0', 'zkSync 37.x', 'zkSync 38.0', 'zkSync 38.x', 'zkSync 39.0', 'zkSync 39.x', 'zkSync 40.0', 'zkSync 40.x', 'zkSync 41.0', 'zkSync 41.x', 'zkSync 42.0', 'zkSync 42.x', 'zkSync 43.0', 'zkSync 43.x', 'zkSync 44.0', 'zkSync 44.x', 'zkSync 45.0', 'zkSync 45.x', 'zkSync 46.0', 'zkSync 46.x', 'zkSync 47.0', 'zkSync 47.x', 'zkSync 48.0', 'zkSync 48.x', 'zkSync 49.0', 'zkSync 49.x', 'zkSync 50.0', 'zkSync 50.x', 'zkSync 51.0', 'zkSync 51.x', 'zkSync 52.0', 'zkSync 52.x', 'zkSync 53.0', 'zkSync 53.x', 'zkSync 54.0', 'zkSync 54.x', 'zkSync 55.0', 'zkSync 55.x', 'zkSync 56.0', 'zkSync 56.x', 'zkSync 57.0', 'zkSync 57.x', 'zkSync 58.0', 'zkSync 58.x', 'zkSync 59.0', 'zkSync 59.x', 'zkSync 60.0', 'zkSync 60.x', 'zkSync 61.0', 'zkSync 61.x', 'zkSync 62.0', 'zkSync 62.x', 'zkSync 63.0', 'zkSync 63.x', 'zkSync 64.0', 'zkSync 64.x', 'zkSync 65.0', 'zkSync 65.x', 'zkSync 66.0', 'zkSync 66.x', 'zkSync 67.0', 'zkSync 67.x', 'zkSync 68.0', 'zkSync 68.x', 'zkSync 69.0', 'zkSync 69.x', 'zkSync 70.0', 'zkSync 70.x', 'zkSync 71.0', 'zkSync 71.x', 'zkSync 72.0', 'zkSync 72.x', 'zkSync 73.0', 'zkSync 73.x', 'zkSync 74.0', 'zkSync 74.x', 'zkSync 75.0', 'zkSync 75.x', 'zkSync 76.0', 'zkSync 76.x', 'zkSync 77.0', 'zkSync 77.x', 'zkSync 78.0', 'zkSync 78.x', 'zkSync 79.0', 'zkSync 79.x', 'zkSync 80.0', 'zkSync 80.x', 'zkSync 81.0', 'zkSync 81.x', 'zkSync 82.0', 'zkSync 82.x', 'zkSync 83.0', 'zkSync 83.x', 'zkSync 84.0', 'zkSync 84.x', 'zkSync 85.0', 'zkSync 85.x', 'zkSync 86.0', 'zkSync 86.x', 'zkSync 87.0', 'zkSync 87.x', 'zkSync 88.0', 'zkSync 88.x', 'zkSync 89.0', 'zkSync 89.x', 'zkSync 90.0', 'zkSync 90.x', 'zkSync 91.0', 'zkSync 91.x', 'zkSync 92.0', 'zkSync 92.x', 'zkSync 93.0', 'zkSync 93.x', 'zkSync 94.0', 'zkSync 94.x', 'zkSync 95.0', 'zkSync 95.x', 'zkSync 96.0', 'zkSync 96.x', 'zkSync 97.0', 'zkSync 97.x', 'zkSync 98.0', 'zkSync 98.x', 'zkSync 99.0', 'zkSync 99.x', 'zkSync 100.0', 'zkSync 100.x', 'zkSync 101.0', 'zkSync 101.x', 'zkSync 102.0', 'zkSync 102.x', 'zkSync 103.0', 'zkSync 103.x', 'zkSync 104.0', 'zkSync 104.x', 'zkSync 105.0', 'zkSync 105.x', 'zkSync 106.0', 'zkSync 106.x', 'zkSync 107.0', 'zkSync 107.x', 'zkSync 108.0', 'zkSync 108.x', 'zkSync 109.0', 'zkSync 109.x', 'zkSync 110.0', 'zkSync 110.x', 'zkSync 111.0', 'zkSync 111.x', 'zkSync 112.0', 'zkSync 112.x', 'zkSync 113.0', 'zkSync 113.x', 'zkSync 114.0', 'zkSync 114.x', 'zkSync 115.0', 'zkSync 115.x', 'zkSync 116.0', 'zkSync 116.x', 'zkSync 117.0', 'zkSync 117.x', 'zkSync 118.0', 'zkSync 118.x', 'zkSync 119.0', 'zkSync 119.x', 'zkSync 120.0', 'zkSync 120.x', 'zkSync 121.0', 'zkSync 121.x', 'zkSync 122.0', 'zkSync 122.x', 'zkSync 123.0', 'zkSync 123.x', 'zkSync 124.0', 'zkSync 124.x', 'zkSync 125.0', 'zkSync 125.x', 'zkSync 126.0', 'zkSync 126.x', 'zkSync 127.0', 'zkSync 127.x', 'zkSync 128.0', 'zkSync 128.x', 'zkSync 129.0', 'zkSync 129.x', 'zkSync 130.0', 'zkSync 130.x', 'zkSync 131.0', 'zkSync 131.x', 'zkSync 132.0', 'zkSync 132.x', 'zkSync 133.0', 'zkSync 133.x', 'zkSync 134.0', 'zkSync 134.x', 'zkSync 135.0', 'zkSync 135.x', 'zkSync 136.0', 'zkSync 136.x', 'zkSync 137.0', 'zkSync 137.x', 'zkSync 138.0', 'zkSync 138.x', 'zkSync 139.0', 'zkSync 139.x', 'zkSync 140.0', 'zkSync 140.x', 'zkSync 141.0', 'zkSync 141.x', 'zkSync 142.0', 'zkSync 142.x', 'zkSync 143.0', 'zkSync 143.x', 'zkSync 144.0', 'zkSync 144.x', 'zkSync 145.0', 'zkSync 145.x', 'zkSync 146.0', 'zkSync 146.x', 'zkSync 147.0', 'zkSync 147.x', 'zkSync 148.0', 'zkSync 148.x', 'zkSync 149.0', 'zkSync 149.x', 'zkSync 150.0', 'zkSync 150.x', 'zkSync 151.0', 'zkSync 151.x', 'zkSync 152.0', 'zkSync 152.x', 'zkSync 153.0', 'zkSync 153.x', 'zkSync 154.0', 'zkSync 154.x', 'zkSync 155.0', 'zkSync 155.x', 'zkSync 156.0', 'zkSync 156.x', 'zkSync 157.0', 'zkSync 157.x', 'zkSync 158.0', 'zkSync 158.x', 'zkSync 159.0', 'zkSync 159.x', 'zkSync 160.0', 'zkSync 160.x', 'zkSync 161.0', 'zkSync 161.x', 'zkSync 162.0', 'zkSync 162.x', 'zkSync 163.0', 'zkSync 163.x', 'zkSync 164.0', 'zkSync 164.x', 'zkSync 165.0', 'zkSync 165.x', 'zkSync 166.0', 'zkSync 166.x', 'zkSync 167.0', 'zkSync 167.x', 'zkSync 168.0', 'zkSync 168.x', 'zkSync 169.0', 'zkSync 169.x', 'zkSync 170.0', 'zkSync 170.x', 'zkSync 171.0', 'zkSync 171.x', 'zkSync 172.0', 'zkSync 172.x', 'zkSync 173.0', 'zkSync 173.x', 'zkSync 174.0', 'zkSync 174.x', 'zkSync 175.0', 'zkSync 175.x', 'zkSync 176.0', 'zkSync 176.x', 'zkSync 177.0', 'zkSync 177.x', 'zkSync 178.0', 'zkSync 178.x', 'zkSync 179.0', 'zkSync 179.x', 'zkSync 180.0', 'zkSync 180.x', 'zkSync 181.0', 'zkSync 181.x', 'zkSync 182.0', 'zkSync 182.x', 'zkSync 183.0', 'zkSync 183.x', 'zkSync 184.0', 'zkSync 184.x', 'zkSync 185.0', 'zkSync 185.x', 'zkSync 186.0', 'zkSync 186.x', 'zkSync 187.0', 'zkSync 187.x', 'zkSync 188.0', 'zkSync 188.x', 'zkSync 189.0', 'zkSync 189.x', 'zkSync 190.0', 'zkSync 190.x', 'zkSync 191.0', 'zkSync 191.x', 'zkSync 192.0', 'zkSync 192.x', 'zkSync 193.0', 'zkSync 193.x', 'zkSync 194.0', 'zkSync 194.x', 'zkSync 195.0', 'zkSync 195.x', 'zkSync 196.0', 'zkSync 196.x', 'zkSync 197.0', 'zkSync 197.x', 'zkSync 198.0', 'zkSync 198.x', 'zkSync 199.0', 'zkSync 199.x', 'zkSync 200.0', 'zkSync 200.x', 'zkSync 201.0', 'zkSync 201.x', 'zkSync 202.0', 'zkSync 202.x', 'zkSync 203.0', 'zkSync 203.x', 'zkSync 204.0', 'zkSync 204.x', 'zkSync 205.0', 'zkSync 205.x', 'zkSync 206.0', 'zkSync 206.x', 'zkSync 207.0', 'zkSync 207.x', 'zkSync 208.0', 'zkSync 208.x', 'zkSync 209.0', 'zkSync 209.x', 'zkSync 210.0', 'zkSync 210.x', 'zkSync 211.0', 'zkSync 211.x', 'zkSync 212.0', 'zkSync 212.x', 'zkSync 213.0', 'zkSync 213.x', 'zkSync 214.0', 'zkSync 214.x', 'zkSync 215.0', 'zkSync 215.x', 'zkSync 216.0', 'zkSync 216.x', 'zkSync 217.0', 'zkSync 217.x', 'zkSync 218.0', 'zkSync 218.x', 'zkSync 219.0', 'zkSync 219.x', 'zkSync 220.0', 'zkSync 220.x', 'zkSync 221.0', 'zkSync 221.x', 'zkSync 222.0', 'zkSync 222.x', 'zkSync 223.0', 'zkSync 223.x', 'zkSync 224.0', 'zkSync 224.x', 'zkSync 225.0', 'zkSync 225.x', 'zkSync 226.0', 'zkSync 226.x', 'zkSync 227.0', 'zkSync 227.x', 'zkSync 228.0', 'zkSync 228.x', 'zkSync 229.0', 'zkSync 229.x', 'zkSync 230.0', 'zkSync 230.x', 'zkSync 231.0', 'zkSync 231.x', 'zkSync 232.0', 'zkSync 232.x', 'zkSync 233.0', 'zkSync 233.x', 'zkSync 234.0', 'zkSync 234.x', 'zkSync 235.0', 'zkSync 235.x', 'zkSync 236.0', 'zkSync 236.x', 'zkSync 237.0', 'zkSync 237.x', 'zkSync 238.0', 'zkSync 238.x', 'zkSync 239.0', 'zkSync 239.x', 'zkSync 240.0', 'zkSync 240.x', 'zkSync 241.0', 'zkSync 241.x', 'zkSync 242.0', 'zkSync 242.x', 'zkSync 243.0', 'zkSync 243.x', 'zkSync 244.0', 'zkSync 244.x', 'zkSync 245.0', 'zkSync 245.x', 'zkSync 246.0', 'zkSync 246.x', 'zkSync 247.0', 'zkSync 247.x', 'zkSync 248.0', 'zkSync 248.x', 'zkSync 249.0', 'zkSync 249.x', 'zkSync 250.0', 'zkSync 250.x', 'zkSync 251.0', 'zkSync 251.x', 'zkSync 252.0', 'zkSync 252.x', 'zkSync 253.0', 'zkSync 253.x', 'zkSync 254.0', 'zkSync 254.x', 'zkSync 255.0', 'zkSync 255.x', 'zkSync 256.0', 'zkSync 256.x', 'zkSync 257.0', 'zkSync 257.x', 'zkSync 258.0', 'zkSync 258.x', 'zkSync 259.0', 'zkSync 259.x', 'zkSync 260.0', 'zkSync 260.x', 'zkSync 261.0', 'zkSync 261.x', 'zkSync 262.0', 'zkSync 262.x', 'zkSync 263.0', 'zkSync 263.x', 'zkSync 264.0', 'zkSync 264.x', 'zkSync 265.0', 'zkSync 265.x', 'zkSync 266.0', 'zkSync 266.x', 'zkSync 267.0', 'zkSync 267.x', 'zkSync 268.0', 'zkSync 268.x', 'zkSync 269.0', 'zkSync 269.x', 'zkSync 270.0', 'zkSync 270.x', 'zkSync 271.0', 'zkSync 271.x', 'zkSync 272.0', 'zkSync 272.x', 'zkSync 273.0', 'zkSync 273.x', 'zkSync 274.0', 'zkSync 274.x', 'zkSync 275.0', 'zkSync 275.x', 'zkSync 276.0', 'zkSync 276.x', 'zkSync 277.0', 'zkSync 277.x', 'zkSync 278.0', 'zkSync 278.x', 'zkSync 279.0', 'zkSync 279.x', 'zkSync 280.0', 'zkSync 280.x', 'zkSync 281.0', 'zkSync 281.x', 'zkSync 282.0', 'zkSync 282.x', 'zkSync 283.0', 'zkSync 283.x', 'zkSync 284.0', 'zkSync 284.x', 'zkSync 285.0', 'zkSync 285.x', 'zkSync 286.0', 'zkSync 286.x', 'zkSync 287.0', 'zkSync 287.x', 'zkSync 288.0', 'zkSync 288.x', 'zkSync 289.0', 'zkSync 289.x', 'zkSync 290.0', 'zkSync 290.x', 'zkSync 291.0', 'zkSync 291.x', 'zkSync 292.0', 'zkSync 292.x', 'zkSync 293.0', 'zkSync 293.x', 'zkSync 294.0', 'zkSync 294.x', 'zkSync 295.0', 'zkSync 295.x', 'zkSync 296.0', 'zkSync 296.x', 'zkSync 297.0', 'zkSync 297.x', 'zkSync 298.0', 'zkSync 298.x', 'zkSync 299.0', 'zkSync 299.x', 'zkSync 300.0', 'zkSync 300.x', 'zkSync 301.0', 'zkSync 301.x', 'zkSync 302.0', 'zkSync 302.x', 'zkSync 303.0', 'zkSync 303.x', 'zkSync 304.0', 'zkSync 304.x', 'zkSync 305.0', 'zkSync 305.x', 'zkSync 306.0', 'zkSync 306.x', 'zkSync 307.0', 'zkSync 307.x', 'zkSync 308.0', 'zkSync 308.x', 'zkSync 309.0', 'zkSync 309.x', 'zkSync 310.0', 'zkSync 310.x', 'zkSync 311.0', 'zkSync 311.x', 'zkSync 312.0', 'zkSync 312.x', 'zkSync 313.0', 'zkSync 313.x', 'zkSync 314.0', 'zkSync 314.x', 'zkSync 315.0', 'zkSync 315.x', 'zkSync 316.0', 'zkSync 316.x', 'zkSync 317.0', 'zkSync 317.x', 'zkSync 318.0', 'zkSync 318.x', 'zkSync 319.0', 'zkSync 319.x', 'zkSync 320.0', 'zkSync 320.x', 'zkSync 321.0', 'zkSync 321.x', 'zkSync 322.0', 'zkSync 322.x', 'zkSync 323.0', 'zkSync 323.x', 'zkSync 324.0', 'zkSync 324.x', 'zkSync 325.0', 'zkSync 325.x', 'zkSync 326.0', 'zkSync 326.x', 'zkSync 327.0', 'zkSync 327.x', 'zkSync 328.0', 'zkSync 328.x', 'zkSync 329.0', 'zkSync 329.x', 'zkSync 330.0', 'zkSync 330.x', 'zkSync 331.0', 'zkSync 331.x', 'zkSync 332.0', 'zkSync 332.x', 'zkSync 333.0', 'zkSync 333.x', 'zkSync 334.0', 'zkSync 334.x', 'zkSync 335.0', 'zkSync 335.x', 'zkSync 336.0', 'zkSync 336.x', 'zkSync 337.0', 'zkSync 337.x', 'zkSync 338.0', 'zkSync 338.x', 'zkSync 339.0', 'zkSync 339.x', 'zkSync 340.0', 'zkSync 340.x', 'zkSync 341.0', 'zkSync 341.x', 'zkSync 342.0', 'zkSync 342.x', 'zkSync 343.0', 'zkSync 343.x', 'zkSync 344.0', 'zkSync 344.x', 'zkSync 345.0', 'zkSync 345.x', 'zkSync 346.0', 'zkSync 346.x', 'zkSync 347.0', 'zkSync 347.x', 'zkSync 348.0', 'zkSync 348.x', 'zkSync 349.0', 'zkSync 349.x', 'zkSync 350.0', 'zkSync 350.x', 'zkSync 351.0', 'zkSync 351.x', 'zkSync 352.0', 'zkSync 352.x', 'zkSync 353.0', 'zkSync 353.x', 'zkSync 354.0', 'zkSync 354.x', 'zkSync 355.0', 'zkSync 355.x', 'zkSync 356.0', 'zkSync 356.x', 'zkSync 357.0', 'zkSync 357.x', 'zkSync 358.0', 'zkSync 358.x', 'zkSync 359.0', 'zkSync 359.x', 'zkSync 360.0', 'zkSync 360.x', 'zkSync 361.0', 'zkSync 361.x', 'zkSync 362.0', 'zkSync 362.x', 'zkSync 363.0', 'zkSync 363.x', 'zkSync 364.0', 'zkSync 364.x', 'zkSync 365.0', 'zkSync 365.x', 'zkSync 366.0', 'zkSync 366.x', 'zkSync 367.0', 'zkSync 367.x', 'zkSync 368.0', 'zkSync 368.x', 'zkSync 369.0', 'zkSync 369.x', 'zkSync 370.0', 'zkSync 370.x', 'zkSync 371.0', 'zkSync 371.x', 'zkSync 372.0', 'zkSync 372.x', 'zkSync 373.0', 'zkSync 373.x', 'zkSync 374.0', 'zkSync 374.x', 'zkSync 375.0', 'zkSync 375.x', 'zkSync 376.0', 'zkSync 376.x', 'zkSync 377.0', 'zkSync 377.x', 'zkSync 378.0', 'zkSync 378.x', 'zkSync 379.0', 'zkSync 379.x', 'zkSync 380.0', 'zkSync 380.x', 'zkSync 381.0', 'zkSync 381.x', 'zkSync 382.0', 'zkSync 382.x', 'zkSync 383.0', 'zkSync 383.x', 'zkSync 384.0', 'zkSync 384.x', 'zkSync 385.0', 'zkSync 385.x', 'zkSync 386.0', 'zkSync 386.x', 'zkSync 387.0', 'zkSync 387.x', 'zkSync 388.0', 'zkSync 388.x', 'zkSync 389.0', 'zkSync 389.x', 'zkSync 390.0', 'zkSync 390.x', 'zkSync 391.0', 'zkSync 391.x', 'zkSync 392.0', 'zkSync 392.x', 'zkSync 393.0', 'zkSync 393.x', 'zkSync 394.0', 'zkSync 394.x', 'zkSync 395.0', 'zkSync 395.x', 'zkSync 396.0', 'zkSync 396.x', 'zkSync 397.0', 'zkSync 397.x', 'zkSync 398.0', 'zkSync 398.x', 'zkSync 399.0', 'zkSync 399.x', 'zkSync 400.0', 'zkSync 400.x', 'zkSync 401.0', 'zkSync 401.x', 'zkSync 402.0', 'zkSync 402.x', 'zkSync 403.0', 'zkSync 403.x', 'zkSync 404.0', 'zkSync 404.x', 'zkSync 405.0', 'zkSync 405.x', 'zkSync 406.0', 'zkSync 406.x', 'zkSync 407.0', 'zkSync 407.x', 'zkSync 408.0', 'zkSync 408.x', 'zkSync 409.0', 'zkSync 409.x', 'zkSync 410.0', 'zkSync 410.x', 'zkSync 411.0', 'zkSync 411.x', 'zkSync 412.0', 'zkSync 412.x', 'zkSync 413.0', 'zkSync 413.x', 'zkSync 414.0', 'zkSync 414.x', 'zkSync 415.0', 'zkSync 415.x', 'zkSync 416.0', 'zkSync 416.x', 'zkSync 417.0', 'zkSync 417.x', 'zkSync 418.0', 'zkSync 418.x', 'zkSync 419.0', 'zkSync 419.x', 'zkSync 420.0', 'zkSync 420.x', 'zkSync 421.0', 'zkSync 421.x', 'zkSync 422.0', 'zkSync 422.x', 'zkSync 423.0', 'zkSync 423.x', 'zkSync 424.0', 'zkSync 424.x', 'zkSync 425.0', 'zkSync 425.x', 'zkSync 426.0', 'zkSync 426.x', 'zkSync 427.0', 'zkSync 427.x', 'zkSync 428.0', 'zkSync 428.x', 'zkSync 429.0', 'zkSync 429.x', 'zkSync 430.0', 'zkSync 430.x', 'zkSync 431.0', 'zkSync 431.x', 'zkSync 432.0', 'zkSync 432.x', 'zkSync 433.0', 'zkSync 433.x', 'zkSync 434.0', 'zkSync 434.x', 'zkSync 435.0', 'zkSync 435.x', 'zkSync 436.0', 'zkSync 436.x', 'zkSync 437.0', 'zkSync 437.x', 'zkSync 438.0', 'zkSync 438.x', 'zkSync 439.0', 'zkSync 439.x', 'zkSync 440.0', 'zkSync 440.x', 'zkSync 441.0', 'zkSync 441.x', 'zkSync 442.0', 'zkSync 442.x', 'zkSync 443.0', 'zkSync 443.x', 'zkSync 444.0', 'zkSync 444.x', 'zkSync 445.0', 'zkSync 445.x', 'zkSync 446.0', 'zkSync 446.x', 'zkSync 447.0', 'zkSync 447.x', 'zkSync 448.0', 'zkSync 448.x', 'zkSync 449.0', 'zkSync 449.x', 'zkSync 450.0', 'zkSync 450.x', 'zkSync 451.0', 'zkSync 451.x', 'zkSync 452.0', 'zkSync 452.x', 'zkSync 453.0', 'zkSync 453.x', 'zkSync 454.0', 'zkSync 454.x', 'zkSync 455.0', 'zkSync 455.x', 'zkSync 456.0', 'zkSync 456.x', 'zkSync 457.0', 'zkSync 457.x', 'zkSync 458.0', 'zkSync 458.x', 'zkSync 459.0', 'zkSync 459.x', 'zkSync 460.0', 'zkSync 460.x', 'zkSync 461.0', 'zkSync 461.x', 'zkSync 462.0', 'zkSync 462.x', 'zkSync 463.0', 'zkSync 463.x', 'zkSync 464.0', 'zkSync 464.x', 'zkSync 465.0', 'zkSync 465.x', 'zkSync 466.0', 'zkSync 466.x', 'zkSync 467.0', 'zkSync 467.x', 'zkSync 468.0', 'zkSync 468.x', 'zkSync 469.0', 'zkSync 469.x', 'zkSync 470.0', 'zkSync 470.x', 'zkSync 471.0', 'zkSync 471.x', 'zkSync 472.0', 'zkSync 472.x', 'zkSync 473.0', 'zkSync 473.x', 'zkSync 474.0', 'zkSync 474.x', 'zkSync 475.0', 'zkSync 475.x', 'zkSync 476.0', 'zkSync 476.x', 'zkSync 477.0', 'zkSync 477.x', 'zkSync 478.0', 'zkSync 478.x', 'zkSync 479.0', 'zkSync 479.x', 'zkSync 480.0', 'zkSync 480.x', 'zkSync 481.0', 'zkSync 481.x', 'zkSync 482.0', 'zkSync 482.x', 'zkSync 483.0', 'zkSync 483.x', 'zkSync 484.0', 'zkSync 484.x', 'zkSync 485.0', 'zkSync 485.x', 'zkSync 486.0', 'zkSync 486.x', 'zkSync 487.0', 'zkSync 487.x', 'zkSync 488.0', 'zkSync 488.x', 'zkSync 489.0', 'zkSync 489.x', 'zkSync 490.0', 'zkSync 490.x', 'zkSync 491.0', 'zkSync 491.x', 'zkSync 492.0', 'zkSync 492.x', 'zkSync 493.0', 'zkSync 493.x', 'zkSync 494.0', 'zkSync 494.x', 'zkSync 495.0', 'zkSync 495.x', 'zkSync 496.0', 'zkSync 496.x', 'zkSync 497.0', 'zkSync 497.x', 'zkSync 498.0', 'zkSync 498.x', 'zkSync 499.0', 'zkSync 499.x', 'zkSync 500.0', 'zkSync 500.x', 'zkSync 501.0', 'zkSync 501.x', 'zkSync 502.0', 'zkSync 502.x', 'zkSync 503.0', 'zkSync 503.x', 'zkSync 504.0', 'zkSync 504.x', 'zkSync 505.0', 'zkSync 505.x', 'zkSync 506.0', 'zkSync 506.x', 'zkSync 507.0', 'zkSync 507.x', 'zkSync 508.0', 'zkSync 508.x', 'zkSync 509.0', 'zkSync 509.x', 'zkSync 510.0', 'zkSync 510.x', 'zkSync 511.0', 'zkSync 511.x', 'zkSync 512.0', 'zkSync 512.x', 'zkSync 513.0', 'zkSync 513.x', 'zkSync 514.0', 'zkSync 514.x', 'zkSync 515.0', 'zkSync 515.x', 'zkSync 516.0', 'zkSync 516.x', 'zkSync 517.0', 'zkSync 517.x', 'zkSync 518.0', 'zkSync 518.x', 'zkSync 519.0', 'zkSync 519.x', 'zkSync 520.0', 'zkSync 520.x', 'zkSync 521.0', 'zkSync 521.x', 'zkSync 522.0', 'zkSync 522.x', 'zkSync 523.0', 'zkSync 523.x', 'zkSync 524.0', 'zkSync 524.x', 'zkSync 525.0', 'zkSync 525.x', 'zkSync 526.0', 'zkSync 526.x', 'zkSync 527.0', 'zkSync 527.x', 'zkSync 528.0', 'zkSync 528.x', 'zkSync 529.0', 'zkSync 529.x', 'zkSync 530.0', 'zkSync
