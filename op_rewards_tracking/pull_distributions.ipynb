{
 "cells": [
  {
   "cell_type": "code",
   "execution_count": null,
   "metadata": {},
   "outputs": [],
   "source": [
    "# Based off of Cow Protocol's Dune Client: https://github.com/cowprotocol/dune-client\n",
    "import pandas as pd\n",
    "import dotenv\n",
    "import os\n",
    "\n",
    "from dune_client.types import QueryParameter\n",
    "from dune_client.client import DuneClient\n",
    "from dune_client.query import Query"
   ]
  },
  {
   "cell_type": "code",
   "execution_count": null,
   "metadata": {},
   "outputs": [],
   "source": [
    "# https://dune.com/queries/1900056/3127874\n",
    "query = Query(\n",
    "    name=\"Latest OP Distributions by Project\",\n",
    "    query_id=1900056,\n",
    ")\n",
    "print(\"Results available at\", query.url())"
   ]
  },
  {
   "cell_type": "code",
   "execution_count": null,
   "metadata": {},
   "outputs": [],
   "source": [
    "dotenv.load_dotenv()\n",
    "dune = DuneClient(os.environ[\"DUNE_API_KEY\"])\n",
    "results = dune.refresh(query)"
   ]
  },
  {
   "cell_type": "code",
   "execution_count": null,
   "metadata": {},
   "outputs": [],
   "source": [
    "df = pd.DataFrame(results.result.rows)\n",
    "df['last_updated'] = results.times.submitted_at\n",
    "if not os.path.exists('csv_output'):\n",
    "    os.makedirs('csv_output')\n",
    "df.to_csv('csv_output/dune_op_distribution.csv')\n",
    "display(df)"
   ]
  }
 ],
 "metadata": {
  "kernelspec": {
   "display_name": "new-env",
   "language": "python",
   "name": "python3"
  },
  "language_info": {
   "codemirror_mode": {
    "name": "ipython",
    "version": 3
   },
   "file_extension": ".py",
   "mimetype": "text/x-python",
   "name": "python",
   "nbconvert_exporter": "python",
   "pygments_lexer": "ipython3",
   "version": "3.10.9"
  },
  "orig_nbformat": 4,
  "vscode": {
   "interpreter": {
    "hash": "7d537a1638226190f579d6fbb68604c1b09ebc740a69df557abedb49ad78e592"
   }
  }
 },
 "nbformat": 4,
 "nbformat_minor": 2
}
