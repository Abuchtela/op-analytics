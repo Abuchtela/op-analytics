{
 "cells": [
  {
   "cell_type": "code",
   "execution_count": null,
   "metadata": {},
   "outputs": [],
   "source": [
    "import pandas as pd\n",
    "\n",
    "import sys\n",
    "sys.path.append(\"../helper_functions\")\n",
    "import coingecko_utils as cg\n",
    "sys.path.pop()\n",
    "\n",
    "\n",
    "df = cg.get_token_data_by_granularity('optimism','daily',False)"
   ]
  },
  {
   "cell_type": "code",
   "execution_count": null,
   "metadata": {},
   "outputs": [],
   "source": [
    "print('Total Days: ' + str(len(df)) )\n",
    "\n",
    "df['price_x_volume'] = df['prices'] * df['total_volumes']\n",
    "\n",
    "# display(df)\n",
    "\n",
    "total_volume = df['total_volumes'].sum()\n",
    "total_price_x_volume = df['price_x_volume'].sum()\n",
    "\n",
    "vwap = total_price_x_volume / total_volume\n",
    "\n",
    "print('OP VWAP T' + str(len(df)) + ' Days: ' + str(vwap) )\n"
   ]
  }
 ],
 "metadata": {
  "kernelspec": {
   "display_name": "new-env",
   "language": "python",
   "name": "python3"
  },
  "language_info": {
   "codemirror_mode": {
    "name": "ipython",
    "version": 3
   },
   "file_extension": ".py",
   "mimetype": "text/x-python",
   "name": "python",
   "nbconvert_exporter": "python",
   "pygments_lexer": "ipython3",
   "version": "3.10.11"
  },
  "orig_nbformat": 4
 },
 "nbformat": 4,
 "nbformat_minor": 2
}
