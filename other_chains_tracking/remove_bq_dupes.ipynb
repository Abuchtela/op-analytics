{
 "cells": [
  {
   "cell_type": "code",
   "execution_count": 19,
   "metadata": {
    "metadata": {}
   },
   "outputs": [],
   "source": [
    "\n",
    "import sys\n",
    "sys.path.append(\"../helper_functions\")\n",
    "import duneapi_utils as d\n",
    "# import flipside_utils as f\n",
    "# import clickhouse_utils as ch\n",
    "import csv_utils as cu\n",
    "import google_bq_utils as bqu\n",
    "sys.path.pop()\n",
    "\n",
    "import numpy as np\n",
    "import pandas as pd\n",
    "from datetime import timedelta\n",
    "import os\n",
    "# import clickhouse_connect as cc"
   ]
  },
  {
   "cell_type": "code",
   "execution_count": 20,
   "metadata": {},
   "outputs": [],
   "source": [
    "# daily_filter_deployer_counts #'dt','blockchain'\n",
    "# daily_evms_qualified_txs_counts\n",
    "# daily_filter_deployer_address_list #'created_dt','blockchain','address'\n",
    "# daily_revdev_counts #'dt','blockchain'\n",
    "table_name= 'daily_evms_qualified_txs_counts'\n",
    "unique_cols = ['dt','blockchain']"
   ]
  },
  {
   "cell_type": "code",
   "execution_count": 21,
   "metadata": {},
   "outputs": [
    {
     "name": "stdout",
     "output_type": "stream",
     "text": [
      "Running locally\n",
      "Temporary deduplicated table oplabs-tools-data.api_table_uploads.daily_revdev_counts_deduped_temp created.\n",
      "Original table oplabs-tools-data.api_table_uploads.daily_revdev_counts replaced with deduplicated data.\n",
      "Temporary table oplabs-tools-data.api_table_uploads.daily_revdev_counts_deduped_temp deleted.\n"
     ]
    }
   ],
   "source": [
    "bqu.remove_duplicates(table_id=table_name, unique_keys = unique_cols)"
   ]
  }
 ],
 "metadata": {
  "kernelspec": {
   "display_name": "new-env",
   "language": "python",
   "name": "python3"
  },
  "language_info": {
   "codemirror_mode": {
    "name": "ipython",
    "version": 3
   },
   "file_extension": ".py",
   "mimetype": "text/x-python",
   "name": "python",
   "nbconvert_exporter": "python",
   "pygments_lexer": "ipython3",
   "version": "3.12.3"
  }
 },
 "nbformat": 4,
 "nbformat_minor": 2
}
