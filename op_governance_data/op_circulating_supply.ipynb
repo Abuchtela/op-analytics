{
 "cells": [
  {
   "cell_type": "code",
   "execution_count": 7,
   "metadata": {},
   "outputs": [],
   "source": [
    "import requests\n",
    "import pandas as pd\n",
    "from datetime import datetime, timedelta\n",
    "import sys\n",
    "sys.path.append(\"../helper_functions\")\n",
    "import duneapi_utils as du\n",
    "sys.path.pop()\n",
    "\n",
    "# Define the CSV path and API URL\n",
    "csv_path = 'outputs/daily_op_circulating_supply.csv'  # Update this path as per your directory structure\n",
    "api_url = 'https://static.optimism.io/tokenomics/circulatingSupply.txt'"
   ]
  },
  {
   "cell_type": "code",
   "execution_count": 8,
   "metadata": {},
   "outputs": [],
   "source": [
    "def update_csv_with_api_data(csv_path, api_url):\n",
    "    # Read the existing CSV file\n",
    "    try:\n",
    "        df = pd.read_csv(csv_path)\n",
    "    except FileNotFoundError:\n",
    "        print(f\"File {csv_path} not found.\")\n",
    "        return\n",
    "\n",
    "    # Get the current data from the API\n",
    "    try:\n",
    "        response = requests.get(api_url)\n",
    "        response.raise_for_status()\n",
    "        current_supply = float(response.text.strip())\n",
    "    except requests.RequestException as e:\n",
    "        print(f\"Error fetching data from API: {e}\")\n",
    "        return\n",
    "\n",
    "    # Get today's date in the required format\n",
    "    today = datetime.now().strftime('%Y-%m-%d')\n",
    "\n",
    "    # Check if today's date is already in the DataFrame\n",
    "    if today in df['date'].values:\n",
    "        df.loc[df['date'] == today, 'op_circulating_supply'] = current_supply\n",
    "    else:\n",
    "        # Backfill missing dates\n",
    "        last_date_in_csv = datetime.strptime(df['date'].iloc[-1], '%Y-%m-%d')\n",
    "        delta = datetime.strptime(today, '%Y-%m-%d') - last_date_in_csv\n",
    "        for i in range(1, delta.days + 1):\n",
    "            new_date = last_date_in_csv + timedelta(days=i)\n",
    "            new_date_str = new_date.strftime('%Y-%m-%d')\n",
    "            df = df.append({'date': new_date_str, 'op_circulating_supply': current_supply}, ignore_index=True)\n",
    "\n",
    "    # Save the updated DataFrame back to CSV\n",
    "    df.to_csv(csv_path, index=False)\n",
    "    print(f\"CSV file updated successfully at {csv_path}\")"
   ]
  },
  {
   "cell_type": "code",
   "execution_count": 9,
   "metadata": {},
   "outputs": [
    {
     "name": "stdout",
     "output_type": "stream",
     "text": [
      "CSV file updated successfully at outputs/daily_op_circulating_supply.csv\n"
     ]
    }
   ],
   "source": [
    "# Call the function to update the CSV\n",
    "update_csv_with_api_data(csv_path, api_url)"
   ]
  },
  {
   "cell_type": "code",
   "execution_count": 10,
   "metadata": {},
   "outputs": [],
   "source": [
    "try:\n",
    "    # Read the CSV file\n",
    "    df = pd.read_csv(csv_path)\n",
    "\n",
    "except FileNotFoundError:\n",
    "    print(f\"File {csv_path} not found.\")\n",
    "except Exception as e:\n",
    "    print(f\"An error occurred: {e}\")"
   ]
  },
  {
   "cell_type": "code",
   "execution_count": 11,
   "metadata": {},
   "outputs": [
    {
     "name": "stdout",
     "output_type": "stream",
     "text": [
      "          date  op_circulating_supply  daily_change_op_supply\n",
      "0   2022-05-31            214748364.8             214748364.8\n",
      "267 2023-02-22            317487381.0             102739016.2\n",
      "346 2023-05-12            335376391.0              20532250.0\n",
      "365 2023-05-31            644594782.0             309218391.0\n",
      "414 2023-07-19            679080066.0              34485284.0\n",
      "426 2023-07-31            716708907.0              37628841.0\n",
      "457 2023-08-31            798517235.0              81808328.0\n",
      "490 2023-10-03            880444572.0              81927337.0\n",
      "527 2023-11-09            880917403.0                472831.0\n",
      "549 2023-12-01            911294948.0              30377545.0\n",
      "          date  op_circulating_supply  daily_change_op_supply\n",
      "566 2023-12-18            911294948.0                     0.0\n",
      "567 2023-12-19            911294948.0                     0.0\n",
      "568 2023-12-20            911294948.0                     0.0\n",
      "569 2023-12-21            911294948.0                     0.0\n",
      "570 2023-12-22            911294948.0                     0.0\n"
     ]
    },
    {
     "name": "stderr",
     "output_type": "stream",
     "text": [
      "/var/folders/by/kltjc8yd0yz_7_wrtrzhrm9m0000gn/T/ipykernel_59662/1534122912.py:5: SettingWithCopyWarning: \n",
      "A value is trying to be set on a copy of a slice from a DataFrame\n",
      "\n",
      "See the caveats in the documentation: https://pandas.pydata.org/pandas-docs/stable/user_guide/indexing.html#returning-a-view-versus-a-copy\n",
      "  df['daily_change_op_supply'].iloc[0] = df['op_circulating_supply'].iloc[0]\n"
     ]
    }
   ],
   "source": [
    "# Convert to timestamp\n",
    "df['date'] = pd.to_datetime(df['date'])\n",
    "df['daily_change_op_supply'] = df['op_circulating_supply'].diff().fillna(0)\n",
    "# For the first day, the difference is the 'op_circulating_supply' itself since it starts from 0\n",
    "df['daily_change_op_supply'].iloc[0] = df['op_circulating_supply'].iloc[0]\n",
    "#print\n",
    "print(df[df['daily_change_op_supply']>0])\n",
    "print(df.tail(5))"
   ]
  },
  {
   "cell_type": "code",
   "execution_count": 12,
   "metadata": {},
   "outputs": [
    {
     "name": "stdout",
     "output_type": "stream",
     "text": [
      "table at: dune.oplabspbc.dataset_daily_op_circulating_supply\n",
      "Response status code: 200\n",
      "Response content: b'{\"success\":true,\"table_name\":\"daily_op_circulating_supply\"}'\n"
     ]
    }
   ],
   "source": [
    "# Upload to Dune\n",
    "du.write_dune_api_from_pandas(df, 'daily_op_circulating_supply',\\\n",
    "                             'Daily Snapshots of OP Token Circulating Supply, pulled from: https://static.optimism.io/tokenomics/circulatingSupply.txt')"
   ]
  }
 ],
 "metadata": {
  "kernelspec": {
   "display_name": "new-env",
   "language": "python",
   "name": "python3"
  },
  "language_info": {
   "codemirror_mode": {
    "name": "ipython",
    "version": 3
   },
   "file_extension": ".py",
   "mimetype": "text/x-python",
   "name": "python",
   "nbconvert_exporter": "python",
   "pygments_lexer": "ipython3",
   "version": "3.10.11"
  }
 },
 "nbformat": 4,
 "nbformat_minor": 2
}
