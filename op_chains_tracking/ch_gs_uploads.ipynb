{
 "cells": [
  {
   "cell_type": "code",
   "execution_count": 2,
   "metadata": {},
   "outputs": [],
   "source": [
    "#Clickhouse db w/ Goldsky\n",
    "\n",
    "import requests as r\n",
    "import pandas as pd\n",
    "import clickhouse_connect as cc\n",
    "\n",
    "\n",
    "import sys\n",
    "sys.path.append(\"../helper_functions\")\n",
    "import duneapi_utils as d\n",
    "import pandas_utils as p\n",
    "import clickhouse_utils as ch\n",
    "sys.path.pop()\n",
    "\n",
    "import time\n",
    "\n",
    "client = ch.connect_to_clickhouse_db() #Default is OPLabs DB\n",
    "# client.close()"
   ]
  },
  {
   "cell_type": "code",
   "execution_count": null,
   "metadata": {},
   "outputs": [],
   "source": [
    "chain_mappings = {\n",
    "        'zora': 'Zora',\n",
    "        'pgn': 'Public Goods Network',\n",
    "        'base': 'Base',\n",
    "        'mode': 'Mode',\n",
    "        'metal': 'Metal',\n",
    "        'frax': 'Fraxtal'\n",
    "        # Add more mappings as needed\n",
    "    }"
   ]
  },
  {
   "cell_type": "code",
   "execution_count": null,
   "metadata": {},
   "outputs": [],
   "source": [
    "sql_directory = \"inputs/sql/\"\n",
    "\n",
    "query_names = [\n",
    "        # Must match the file name in inputs/sql\n",
    "        \"frax_allltime_chain_activity\"\n",
    "]"
   ]
  },
  {
   "cell_type": "code",
   "execution_count": null,
   "metadata": {},
   "outputs": [],
   "source": [
    "#checks\n",
    "# print(pandas_gbq.context.project)\n",
    "# print(pandas_gbq.context.credentials)\n",
    "dune_df = []\n",
    "dune_table = 'op_gcs_allltime_chain_activity'"
   ]
  },
  {
   "cell_type": "code",
   "execution_count": null,
   "metadata": {},
   "outputs": [],
   "source": [
    "for qn in query_names:\n",
    "        # If we can do it programmatically from UI saved queries\n",
    "        # query = client.get_job(query_name)\n",
    "        # Read the SQL query from file\n",
    "        with open(os.path.join(sql_directory, f\"{qn}.sql\"), \"r\") as file:\n",
    "                query = file.read()\n",
    "        print(qn)\n",
    "        table_name = qn\n",
    "        \n",
    "        # Execute the query\n",
    "        query_job = client.query(query)\n",
    "        # df = pandas_gbq.read_gbq(query)\n",
    "        # Fetch the results\n",
    "        results = query_job.result()\n",
    "        # Convert the results to a DataFrame\n",
    "        df = results.to_dataframe()\n",
    "        \n",
    "        # Write to csv\n",
    "        df.to_csv('outputs/chain_data/' + qn + '.csv', index=False)\n",
    "        # print(df.sample(5))\n",
    "        time.sleep(1)\n",
    "        \n",
    "        # Write to Dune\n",
    "        df['chain_raw'] = df['chain']\n",
    "        df['chain'] = df['chain'].replace(chain_mappings)\n",
    "        dune_df.append(df)\n",
    "\n",
    "write_df = pd.concat(dune_df)\n",
    "d.write_dune_api_from_pandas(write_df, dune_table,table_description = dune_table)\n",
    "write_df.to_csv('outputs/chain_data/' + dune_table + '.csv', index=False)\n",
    "# Print the results"
   ]
  },
  {
   "cell_type": "code",
   "execution_count": null,
   "metadata": {},
   "outputs": [],
   "source": [
    "print(write_df.sort_values(by='dt',ascending=False))"
   ]
  }
 ],
 "metadata": {
  "kernelspec": {
   "display_name": "new-env",
   "language": "python",
   "name": "python3"
  },
  "language_info": {
   "codemirror_mode": {
    "name": "ipython",
    "version": 3
   },
   "file_extension": ".py",
   "mimetype": "text/x-python",
   "name": "python",
   "nbconvert_exporter": "python",
   "pygments_lexer": "ipython3",
   "version": "3.10.11"
  },
  "orig_nbformat": 4
 },
 "nbformat": 4,
 "nbformat_minor": 2
}
