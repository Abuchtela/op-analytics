{
 "cells": [
  {
   "cell_type": "code",
   "execution_count": null,
   "metadata": {},
   "outputs": [],
   "source": [
    "import requests as r\n",
    "import pandas as pd\n",
    "import os\n",
    "\n",
    "import sys\n",
    "import csv\n",
    "from datetime import datetime, timedelta\n",
    "import time\n",
    "sys.path.append(\"../../helper_functions\")\n",
    "import clickhouse_utils as ch\n",
    "sys.path.pop()"
   ]
  },
  {
   "cell_type": "code",
   "execution_count": null,
   "metadata": {},
   "outputs": [],
   "source": [
    "client = ch.connect_to_clickhouse_db() #Default is OPLabs DB\n",
    "\n",
    "end_date = datetime(2024, 6, 27)   # Year, Month, Day\n",
    "trailing_days = 14\n",
    "\n",
    "chain_names = [\n",
    "        # 'op',\n",
    "        'base']"
   ]
  },
  {
   "cell_type": "code",
   "execution_count": null,
   "metadata": {},
   "outputs": [],
   "source": [
    "query = '''\n",
    "SELECT *\n",
    "FROM @chain_name@_transactions\n",
    "WHERE gas_price > 0\n",
    "        AND block_timestamp >= '@start_date@'\n",
    "        AND block_timestamp < '@end_date@'\n",
    "        AND receipt_status = 1\n",
    "\n",
    "SETTINGS max_execution_time = 50000\n",
    "'''\n"
   ]
  },
  {
   "cell_type": "code",
   "execution_count": null,
   "metadata": {},
   "outputs": [],
   "source": [
    "# Calculate start date\n",
    "start_date = end_date - timedelta(days=trailing_days)\n"
   ]
  },
  {
   "cell_type": "code",
   "execution_count": null,
   "metadata": {},
   "outputs": [],
   "source": [
    "for chain_name in chain_names:\n",
    "    result = None\n",
    "    start_time = time.time()\n",
    "    print(f\"Starting processing for {chain_name}\")\n",
    "\n",
    "    csv_filename = f'csv_outputs/{chain_name}_{end_date.strftime(\"%Y%m%d\")}_{trailing_days}days.csv'\n",
    "    file_exists = os.path.isfile(csv_filename)\n",
    "\n",
    "    current_date = start_date\n",
    "    while current_date < end_date:\n",
    "        day_start = current_date\n",
    "        day_end = min(day_start + timedelta(days=1), end_date)\n",
    "\n",
    "        q_run = query.replace('@chain_name@', chain_name)\n",
    "        q_run = q_run.replace('@start_date@', day_start.strftime('%Y-%m-%d'))\n",
    "        q_run = q_run.replace('@end_date@', day_end.strftime('%Y-%m-%d'))\n",
    "\n",
    "        print(f\"Querying data for {day_start.date()}\")\n",
    "        result = client.query_df(q_run)\n",
    "        \n",
    "        # Append the result to the CSV file\n",
    "        if not file_exists and current_date == start_date:\n",
    "            # If it's the first run and file doesn't exist, create new file with header\n",
    "            result.to_csv(csv_filename, index=False, mode='w')\n",
    "            file_exists = True\n",
    "        else:\n",
    "            # Append without header\n",
    "            result.to_csv(csv_filename, index=False, mode='a', header=False)\n",
    "\n",
    "        int_time = time.time()\n",
    "        execution_time = int_time - start_time\n",
    "        print(f\"Query for {chain_name} on {day_start.date()} completed in {execution_time:.2f} seconds\")\n",
    "\n",
    "        current_date = day_end\n",
    "\n",
    "    end_time = time.time()\n",
    "    execution_time = end_time - start_time\n",
    "    print(f\"Processing for {chain_name} completed in {execution_time:.2f} seconds\")\n",
    "    print(f\"Processed data for {trailing_days} days, ending on {end_date.date()}\")\n",
    "    print(f\"Results saved to {csv_filename}\")\n",
    "    print(\"---\")"
   ]
  },
  {
   "cell_type": "code",
   "execution_count": null,
   "metadata": {},
   "outputs": [],
   "source": [
    "# print(result.result_rows)"
   ]
  }
 ],
 "metadata": {
  "kernelspec": {
   "display_name": "new-env",
   "language": "python",
   "name": "python3"
  },
  "language_info": {
   "codemirror_mode": {
    "name": "ipython",
    "version": 3
   },
   "file_extension": ".py",
   "mimetype": "text/x-python",
   "name": "python",
   "nbconvert_exporter": "python",
   "pygments_lexer": "ipython3",
   "version": "3.10.11"
  }
 },
 "nbformat": 4,
 "nbformat_minor": 2
}
