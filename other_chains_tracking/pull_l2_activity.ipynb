{
 "cells": [
  {
   "cell_type": "code",
   "execution_count": 1,
   "metadata": {},
   "outputs": [
    {
     "name": "stdout",
     "output_type": "stream",
     "text": [
      "Failed to retrieve data for stables. HTTP Status code: 403\n",
      "      index       date    chain_name       daa    txcount  txcosts_usd  \\\n",
      "2392   2392 2022-06-22  Arbitrum One   25927.0   180930.0     0.262577   \n",
      "2667   2667 2023-03-24  Arbitrum One  420278.0  1814378.0     0.104386   \n",
      "4234   4234 2023-07-05          Zora    1319.0     1920.0     0.496680   \n",
      "4270   4270 2023-08-10          Zora   13100.0    29667.0     0.140603   \n",
      "2724   2724 2023-05-20  Arbitrum One  159507.0   698109.0     0.165258   \n",
      "\n",
      "      txcosts_eth       tvl_usd       tvl_eth       fees_usd    fees_eth  \n",
      "2392     0.000233  2.123696e+09  1.888466e+06   64232.279001   57.117628  \n",
      "2667     0.000057  6.754369e+09  3.701112e+06  262526.130564  143.853351  \n",
      "4234     0.000256  9.196173e+05  4.747636e+02    1266.626350    0.653911  \n",
      "4270     0.000076  3.558765e+06  1.917551e+03    8517.092644    4.589221  \n",
      "2724     0.000091  6.418941e+09  3.542205e+06  155272.123117   85.684789  \n",
      "       timestamp  transactions  ethereumTransactions       chain\n",
      "13634 2022-07-04         22652               1151999      sorare\n",
      "7037  2021-04-03             0               1293333      mantle\n",
      "4980  2023-04-08        706306                924776  immutablex\n",
      "2381  2023-08-07        366825               1047336        base\n",
      "7812  2023-05-18             0               1054402      mantle\n",
      "       timestamp  transactions  ethereumTransactions chain\n",
      "16509 2023-11-05         44439               1034459  zora\n",
      "16510 2023-11-06         34481               1101645  zora\n",
      "16511 2023-11-07         35593               1055975  zora\n",
      "16512 2023-11-08         37054               1066274  zora\n",
      "16513 2023-11-09         35672               1125199  zora\n"
     ]
    }
   ],
   "source": [
    "import sys\n",
    "sys.path.append(\"../helper_functions\")\n",
    "import duneapi_utils as d\n",
    "import growthepieapi_utils as gtp\n",
    "import l2beat_utils as ltwo\n",
    "sys.path.pop()\n",
    "\n",
    "# # Usage\n",
    "merged_df = gtp.get_growthepie_api_data()\n",
    "merged_df = merged_df.reset_index()\n",
    "print(merged_df.sample(5))\n",
    "\n",
    "l2beat_df = ltwo.get_l2beat_activity_data()\n",
    "print(l2beat_df.sample(5))"
   ]
  },
  {
   "cell_type": "code",
   "execution_count": null,
   "metadata": {},
   "outputs": [],
   "source": [
    "# Post to Dune API\n",
    "d.write_dune_api_from_pandas(merged_df, 'growthepie_l2_activity',\\\n",
    "                             'L2 Usage Activity from GrowThePie')\n",
    "d.write_dune_api_from_pandas(l2beat_df, 'l2beat_l2_activity',\\\n",
    "                             'L2 Usage Activity from L2Beat')"
   ]
  }
 ],
 "metadata": {
  "kernelspec": {
   "display_name": "new-env",
   "language": "python",
   "name": "python3"
  },
  "language_info": {
   "codemirror_mode": {
    "name": "ipython",
    "version": 3
   },
   "file_extension": ".py",
   "mimetype": "text/x-python",
   "name": "python",
   "nbconvert_exporter": "python",
   "pygments_lexer": "ipython3",
   "version": "3.10.11"
  },
  "orig_nbformat": 4
 },
 "nbformat": 4,
 "nbformat_minor": 2
}
