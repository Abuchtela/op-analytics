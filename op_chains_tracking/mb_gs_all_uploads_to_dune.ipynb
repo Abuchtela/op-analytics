{
 "cells": [
  {
   "cell_type": "code",
   "execution_count": 1,
   "metadata": {},
   "outputs": [],
   "source": [
    "import requests as r\n",
    "import pandas as pd\n",
    "\n",
    "import sys\n",
    "sys.path.append(\"../helper_functions\")\n",
    "import duneapi_utils as d\n",
    "import metabaseapi_utils as mb\n",
    "sys.path.pop()\n",
    "\n",
    "import os\n",
    "import dotenv\n",
    "\n",
    "dotenv.load_dotenv()\n",
    "mb_name = os.environ[\"MS_METABASE_NAME\"]\n",
    "mb_pw = os.environ[\"MS_METABASE_PW\"]\n",
    "\n",
    "mb_url_base = \"https://dash.goldsky.com\"\n",
    "\n",
    "# https://goldsky.notion.site/SHARED-Lightweight-API-Documentation-for-Goldsky-Dashboarding-5cde15ba222844f485c31a4426f6ed53"
   ]
  },
  {
   "cell_type": "code",
   "execution_count": 2,
   "metadata": {},
   "outputs": [
    {
     "name": "stdout",
     "output_type": "stream",
     "text": [
      "<Response [401]>\n",
      "An error occurred: 401 Client Error: Unauthorized for url: https://dash.goldsky.com/api/card/42/query/json\n",
      "Maximum number of retries (1) reached due to exception. Giving up.\n",
      "creating new session\n",
      "82315c36-fdb7-4f95-bab9-03b86306a987\n"
     ]
    }
   ],
   "source": [
    "session_id = mb.get_session_id(mb_url_base, mb_name, mb_pw)"
   ]
  },
  {
   "cell_type": "code",
   "execution_count": 3,
   "metadata": {},
   "outputs": [],
   "source": [
    "# Run Query\n",
    "\n",
    "query_nums = [\n",
    "         [21,'opchain_activity_by_day_gs'\n",
    "                ,'Basic Daily Activity for OP Chains - Zora & PGN (from Goldsky)']     #https://dash.goldsky.com/question/21-op-chains-activity-by-day\n",
    "        ,[86,'opchain_pgn_alltime_contracts_created'\n",
    "                ,'PGN All-Time Contracts Created(from Goldsky)']     #https://dash.goldsky.com/question/86-pgn-num-alltime-contracts-created\n",
    "        ,[20,'opchain_active_dev_creators_gs'\n",
    "                ,'Basic Active Developer Methodology for Zora & PGN (from Goldsky)']     #https://dash.goldsky.com/question/20-get-kr1-active-developers\n",
    "        ,[78,'opchain_fee_gen_contracts_dev_creators_t365d_gs'\n",
    "                ,'Basic Fee Generating Contracts & Developer Methodology (T365D) for PGN (from Goldsky)']     #https://dash.goldsky.com/question/78-daily-used-contracts-with-traces-logs\n",
    "        ,[35,'opchain_used_contracts_creators_gs'\n",
    "                ,'Basic Used Contracts Methodology for Zora & PGN (from Goldsky)']     #https://dash.goldsky.com/question/35-kr2-intermediate-get-daily-is-used-contracts\n",
    "        \n",
    "]\n"
   ]
  },
  {
   "cell_type": "code",
   "execution_count": 4,
   "metadata": {},
   "outputs": [
    {
     "name": "stdout",
     "output_type": "stream",
     "text": [
      "query number: 21\n",
      "<Response [200]>\n",
      "{\"database_id\": 8, \"started_at\": \"2023-12-07T17:02:10.836702Z\", \"via\": [{\"status\": \"failed\", \"class\": \"class java.sql.SQLException\", \"error\": \"Code: 258. DB::Exception: Different number of columns in UNION ALL elements:\\nid, hash, nonce, block_hash, \n",
      "'Failed' status detected. Retrying in 10 seconds (Retry 1/3)...\n",
      "<Response [200]>\n",
      "{\"database_id\": 8, \"started_at\": \"2023-12-07T17:02:22.408702Z\", \"via\": [{\"status\": \"failed\", \"class\": \"class java.sql.SQLException\", \"error\": \"Code: 258. DB::Exception: Different number of columns in UNION ALL elements:\\nid, hash, nonce, block_hash, \n",
      "'Failed' status detected. Retrying in 10 seconds (Retry 2/3)...\n",
      "<Response [200]>\n",
      "{\"database_id\": 8, \"started_at\": \"2023-12-07T17:02:33.888345Z\", \"via\": [{\"status\": \"failed\", \"class\": \"class java.sql.SQLException\", \"error\": \"Code: 258. DB::Exception: Different number of columns in UNION ALL elements:\\nid, hash, nonce, block_hash, \n",
      "Maximum number of retries (3) reached with 'failed' status. Giving up.\n",
      "Type of response: <class 'NoneType'>\n",
      "The list is empty\n"
     ]
    },
    {
     "ename": "TypeError",
     "evalue": "'NoneType' object is not iterable",
     "output_type": "error",
     "traceback": [
      "\u001b[0;31m---------------------------------------------------------------------------\u001b[0m",
      "\u001b[0;31mTypeError\u001b[0m                                 Traceback (most recent call last)",
      "\u001b[1;32m/Users/michaelsilberling/Documents/GitHub/op-analytics/op_chains_tracking/mb_gs_all_uploads_to_dune.ipynb Cell 4\u001b[0m line \u001b[0;36m6\n\u001b[1;32m      <a href='vscode-notebook-cell:/Users/michaelsilberling/Documents/GitHub/op-analytics/op_chains_tracking/mb_gs_all_uploads_to_dune.ipynb#X11sZmlsZQ%3D%3D?line=3'>4</a>\u001b[0m dune_table_name \u001b[39m=\u001b[39m q[\u001b[39m1\u001b[39m]\n\u001b[1;32m      <a href='vscode-notebook-cell:/Users/michaelsilberling/Documents/GitHub/op-analytics/op_chains_tracking/mb_gs_all_uploads_to_dune.ipynb#X11sZmlsZQ%3D%3D?line=4'>5</a>\u001b[0m dune_table_description \u001b[39m=\u001b[39m q[\u001b[39m2\u001b[39m]\n\u001b[0;32m----> <a href='vscode-notebook-cell:/Users/michaelsilberling/Documents/GitHub/op-analytics/op_chains_tracking/mb_gs_all_uploads_to_dune.ipynb#X11sZmlsZQ%3D%3D?line=5'>6</a>\u001b[0m mb\u001b[39m.\u001b[39;49mquery_response_to_dune(session_id, mb_url_base, query_num, dune_table_name, dune_table_description)\n\u001b[1;32m      <a href='vscode-notebook-cell:/Users/michaelsilberling/Documents/GitHub/op-analytics/op_chains_tracking/mb_gs_all_uploads_to_dune.ipynb#X11sZmlsZQ%3D%3D?line=6'>7</a>\u001b[0m \u001b[39m# except:\u001b[39;00m\n\u001b[1;32m      <a href='vscode-notebook-cell:/Users/michaelsilberling/Documents/GitHub/op-analytics/op_chains_tracking/mb_gs_all_uploads_to_dune.ipynb#X11sZmlsZQ%3D%3D?line=7'>8</a>\u001b[0m \u001b[39m#         continue\u001b[39;00m\n",
      "File \u001b[0;32m~/Documents/GitHub/op-analytics/op_chains_tracking/../helper_functions/metabaseapi_utils.py:112\u001b[0m, in \u001b[0;36mquery_response_to_dune\u001b[0;34m(session_id, mb_url_base, query_num, dune_table_name, dune_table_description)\u001b[0m\n\u001b[1;32m    109\u001b[0m \u001b[39melse\u001b[39;00m:\n\u001b[1;32m    110\u001b[0m     \u001b[39mprint\u001b[39m(\u001b[39m\"\u001b[39m\u001b[39mThe list is empty\u001b[39m\u001b[39m\"\u001b[39m)\n\u001b[0;32m--> 112\u001b[0m keys_set \u001b[39m=\u001b[39m {\u001b[39mfrozenset\u001b[39m(d\u001b[39m.\u001b[39mkeys()) \u001b[39mfor\u001b[39;00m d \u001b[39min\u001b[39;00m resp \u001b[39mif\u001b[39;00m \u001b[39misinstance\u001b[39m(d, \u001b[39mdict\u001b[39m)}\n\u001b[1;32m    113\u001b[0m \u001b[39mif\u001b[39;00m \u001b[39mlen\u001b[39m(keys_set) \u001b[39m>\u001b[39m \u001b[39m1\u001b[39m:\n\u001b[1;32m    114\u001b[0m     \u001b[39mprint\u001b[39m(\u001b[39m\"\u001b[39m\u001b[39mDictionaries have different sets of keys.\u001b[39m\u001b[39m\"\u001b[39m)\n",
      "\u001b[0;31mTypeError\u001b[0m: 'NoneType' object is not iterable"
     ]
    }
   ],
   "source": [
    "for q in query_nums:\n",
    "        try: #don't break if one query fails\n",
    "                query_num = q[0]\n",
    "                dune_table_name = q[1]\n",
    "                dune_table_description = q[2]\n",
    "                mb.query_response_to_dune(session_id, mb_url_base, query_num, dune_table_name, dune_table_description)\n",
    "        except:\n",
    "                continue"
   ]
  }
 ],
 "metadata": {
  "kernelspec": {
   "display_name": "new-env",
   "language": "python",
   "name": "python3"
  },
  "language_info": {
   "codemirror_mode": {
    "name": "ipython",
    "version": 3
   },
   "file_extension": ".py",
   "mimetype": "text/x-python",
   "name": "python",
   "nbconvert_exporter": "python",
   "pygments_lexer": "ipython3",
   "version": "3.10.11"
  },
  "orig_nbformat": 4
 },
 "nbformat": 4,
 "nbformat_minor": 2
}
