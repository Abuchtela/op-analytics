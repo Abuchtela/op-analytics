{
 "cells": [
  {
   "cell_type": "markdown",
   "metadata": {},
   "source": [
    "## Prepare data reader for a given chain and date"
   ]
  },
  {
   "cell_type": "code",
   "execution_count": 1,
   "metadata": {},
   "outputs": [
    {
     "name": "stdout",
     "output_type": "stream",
     "text": [
      "\u001b[2m2024-12-13 07:19:14\u001b[0m [\u001b[32m\u001b[1mdebug    \u001b[0m] \u001b[1mconnecting to OPLABS Clickhouse client...\u001b[0m \u001b[36mfilename\u001b[0m=\u001b[35mclient.py\u001b[0m \u001b[36mlineno\u001b[0m=\u001b[35m25\u001b[0m \u001b[36mprocess\u001b[0m=\u001b[35m12154\u001b[0m\n",
      "\u001b[2m2024-12-13 07:19:14\u001b[0m [\u001b[32m\u001b[1minfo     \u001b[0m] \u001b[1mloaded vault from .env file   \u001b[0m \u001b[36mfilename\u001b[0m=\u001b[35mvault.py\u001b[0m \u001b[36mlineno\u001b[0m=\u001b[35m32\u001b[0m \u001b[36mprocess\u001b[0m=\u001b[35m12154\u001b[0m\n",
      "\u001b[2m2024-12-13 07:19:14\u001b[0m [\u001b[32m\u001b[1mdebug    \u001b[0m] \u001b[1mloaded vault: 17 items        \u001b[0m \u001b[36mfilename\u001b[0m=\u001b[35mvault.py\u001b[0m \u001b[36mlineno\u001b[0m=\u001b[35m76\u001b[0m \u001b[36mprocess\u001b[0m=\u001b[35m12154\u001b[0m\n",
      "\u001b[2m2024-12-13 07:19:15\u001b[0m [\u001b[32m\u001b[1mdebug    \u001b[0m] \u001b[1minitialized OPLABS Clickhouse client.\u001b[0m \u001b[36mfilename\u001b[0m=\u001b[35mclient.py\u001b[0m \u001b[36mlineno\u001b[0m=\u001b[35m37\u001b[0m \u001b[36mprocess\u001b[0m=\u001b[35m12154\u001b[0m\n",
      "\u001b[2m2024-12-13 07:19:15\u001b[0m [\u001b[32m\u001b[1minfo     \u001b[0m] \u001b[1mprepared 1 input batches.     \u001b[0m \u001b[36mfilename\u001b[0m=\u001b[35mreader_bydate.py\u001b[0m \u001b[36mlineno\u001b[0m=\u001b[35m97\u001b[0m \u001b[36mprocess\u001b[0m=\u001b[35m12154\u001b[0m\n"
     ]
    }
   ],
   "source": [
    "from op_analytics.coreutils.duckdb_inmem import init_client\n",
    "from op_analytics.coreutils.partitioned.reader import DataReader\n",
    "from op_analytics.coreutils.partitioned.location import DataLocation\n",
    "from op_analytics.datapipeline.etl.intermediate.construct import construct_data_readers\n",
    "\n",
    "from op_analytics.datapipeline.models.compute.udfs import create_duckdb_macros\n",
    "\n",
    "\n",
    "# Define the input data range.\n",
    "read_batches: list[DataReader] = construct_data_readers(\n",
    "    chains=[\"op\"],\n",
    "    models=[\"event_emitting_transactions_list\"],\n",
    "    range_spec=\"@20241118:+1\",\n",
    "    read_from=DataLocation.GCS\n",
    ")\n",
    "\n",
    "\n",
    "# Select input for one date and build the intermediate model inputs.\n",
    "batch = read_batches[0]\n",
    "\n",
    "\n",
    "duckdb_client = init_client()\n",
    "create_duckdb_macros(duckdb_client)\n"
   ]
  },
  {
   "cell_type": "markdown",
   "metadata": {},
   "source": [
    "## Run the model\n",
    "\n",
    "This automatically registers the model outputs as duckdb tables."
   ]
  },
  {
   "cell_type": "code",
   "execution_count": 2,
   "metadata": {},
   "outputs": [
    {
     "name": "stdout",
     "output_type": "stream",
     "text": [
      "\u001b[2m2024-12-13 07:19:15\u001b[0m [\u001b[32m\u001b[1minfo     \u001b[0m] \u001b[1mExecuting model...            \u001b[0m \u001b[36mfilename\u001b[0m=\u001b[35mtestutils.py\u001b[0m \u001b[36mlineno\u001b[0m=\u001b[35m220\u001b[0m \u001b[36mprocess\u001b[0m=\u001b[35m12154\u001b[0m\n",
      "\u001b[2m2024-12-13 07:19:15\u001b[0m [\u001b[32m\u001b[1minfo     \u001b[0m] \u001b[1mduckdb dataset='ingestion/logs_v1' using 1/22 parquet paths, first path is gs://oplabs-tools-data-sink/ingestion/logs_v1/chain=op/dt=2024-11-18/000128144000.parquet\u001b[0m \u001b[36mfilename\u001b[0m=\u001b[35mreader.py\u001b[0m \u001b[36mlineno\u001b[0m=\u001b[35m68\u001b[0m \u001b[36mprocess\u001b[0m=\u001b[35m12154\u001b[0m\n",
      "\u001b[2m2024-12-13 07:19:16\u001b[0m [\u001b[32m\u001b[1minfo     \u001b[0m] \u001b[1mregistered view: 'ingestion_logs_v1' using 1 parquet paths\u001b[0m \u001b[36mfilename\u001b[0m=\u001b[35mclient.py\u001b[0m \u001b[36mlineno\u001b[0m=\u001b[35m53\u001b[0m \u001b[36mprocess\u001b[0m=\u001b[35m12154\u001b[0m\n",
      "\u001b[2m2024-12-13 07:19:16\u001b[0m [\u001b[32m\u001b[1minfo     \u001b[0m] \u001b[1mduckdb dataset='ingestion/transactions_v1' using 1/22 parquet paths, first path is gs://oplabs-tools-data-sink/ingestion/transactions_v1/chain=op/dt=2024-11-18/000128144000.parquet\u001b[0m \u001b[36mfilename\u001b[0m=\u001b[35mreader.py\u001b[0m \u001b[36mlineno\u001b[0m=\u001b[35m68\u001b[0m \u001b[36mprocess\u001b[0m=\u001b[35m12154\u001b[0m\n",
      "\u001b[2m2024-12-13 07:19:18\u001b[0m [\u001b[32m\u001b[1minfo     \u001b[0m] \u001b[1mregistered view: 'ingestion_transactions_v1' using 1 parquet paths\u001b[0m \u001b[36mfilename\u001b[0m=\u001b[35mclient.py\u001b[0m \u001b[36mlineno\u001b[0m=\u001b[35m53\u001b[0m \u001b[36mprocess\u001b[0m=\u001b[35m12154\u001b[0m\n",
      "\u001b[2m2024-12-13 07:19:18\u001b[0m [\u001b[32m\u001b[1minfo     \u001b[0m] \u001b[1mRendering query               \u001b[0m \u001b[36mfilename\u001b[0m=\u001b[35mquerybuilder.py\u001b[0m \u001b[36mlineno\u001b[0m=\u001b[35m40\u001b[0m \u001b[36mprocess\u001b[0m=\u001b[35m12154\u001b[0m \u001b[36mtemplate\u001b[0m=\u001b[35mevent_emitting_transactions_list\u001b[0m\n",
      "dict_keys(['event_emitting_transactions_list_v1'])\n"
     ]
    },
    {
     "data": {
      "text/plain": [
       "┌─────────────────────────────────────┐\n",
       "│                name                 │\n",
       "│               varchar               │\n",
       "├─────────────────────────────────────┤\n",
       "│ event_emitting_transactions_list    │\n",
       "│ event_emitting_transactions_list_v1 │\n",
       "│ ingestion_logs_v1                   │\n",
       "│ ingestion_transactions_v1           │\n",
       "└─────────────────────────────────────┘"
      ]
     },
     "execution_count": 2,
     "metadata": {},
     "output_type": "execute_result"
    }
   ],
   "source": [
    "from op_analytics.datapipeline.models.compute.testutils import execute_model_in_memory\n",
    "\n",
    "execute_model_in_memory(\n",
    "    duckdb_client=duckdb_client,\n",
    "    model=\"event_emitting_transactions_list\",\n",
    "    data_reader=batch,\n",
    "    limit_input_parquet_files=1\n",
    ")\n",
    "\n",
    "# The duckdb database will have the following:\n",
    "#   - input tables\n",
    "#   - views used by the model\n",
    "#   - model outputs\n",
    "# \n",
    "# You can use duckdb to inspect any of the above results.\n",
    "duckdb_client.sql(\"SHOW TABLES\")"
   ]
  },
  {
   "cell_type": "markdown",
   "metadata": {},
   "source": [
    "## Verify model results"
   ]
  },
  {
   "cell_type": "code",
   "execution_count": 3,
   "metadata": {},
   "outputs": [
    {
     "data": {
      "text/plain": [
       "┌────────────┬─────────────────────┬─────────────────┬─────────┬─────────┬──────────┬──────────────┬────────────────────────────────────────────────────────────────────┬──────────────────┬────────────────────┬───────────────────────┬───────────────────────┬───────────────────────┐\n",
       "│     dt     │     block_hour      │ block_timestamp │ network │  chain  │ chain_id │ block_number │                          transaction_hash                          │ transaction_type │ count_total_events │ count_approval_events │ count_wrapping_events │ count_transfer_events │\n",
       "│    date    │      timestamp      │     uint32      │ varchar │ varchar │  int32   │    int64     │                              varchar                               │      int32       │       int64        │     decimal(38,0)     │     decimal(38,0)     │     decimal(38,0)     │\n",
       "├────────────┼─────────────────────┼─────────────────┼─────────┼─────────┼──────────┼──────────────┼────────────────────────────────────────────────────────────────────┼──────────────────┼────────────────────┼───────────────────────┼───────────────────────┼───────────────────────┤\n",
       "│ 2024-11-18 │ 2024-11-18 00:00:00 │      1731890755 │ mainnet │ op      │       10 │    128145989 │ 0x0f3da35693644abe74388ab718881855a50e147201bb5be97ff4d653e8e7ba12 │                0 │                 11 │                     0 │                     0 │                     5 │\n",
       "│ 2024-11-18 │ 2024-11-18 00:00:00 │      1731890755 │ mainnet │ op      │       10 │    128145989 │ 0xc2a2f0930d2ac4e7dec64fd4cebab2e639c57833122d696a1a8552de009b4f6c │                0 │                  1 │                     0 │                     1 │                     0 │\n",
       "│ 2024-11-18 │ 2024-11-18 00:00:00 │      1731890755 │ mainnet │ op      │       10 │    128145989 │ 0xd2964ea0788e9cac8791337a99f3199d7190f519a3f65c4c5b650c869ba5a0cd │                2 │                 10 │                     1 │                     0 │                     1 │\n",
       "│ 2024-11-18 │ 2024-11-18 00:00:00 │      1731890757 │ mainnet │ op      │       10 │    128145990 │ 0x6b6aa9ee2a63a6e07504e13163a1c5e38a7ad9ad610dc75d5faeb7c7b73fcb28 │                0 │                 10 │                     3 │                     0 │                     4 │\n",
       "│ 2024-11-18 │ 2024-11-18 00:00:00 │      1731890757 │ mainnet │ op      │       10 │    128145990 │ 0x3669f9fe8fdaaffda96bffb7184fca2a2d0169b5f2889127dd5ae1e2a12dc220 │                2 │                  6 │                     0 │                     0 │                     1 │\n",
       "│ 2024-11-18 │ 2024-11-18 00:00:00 │      1731890759 │ mainnet │ op      │       10 │    128145991 │ 0xc35deaac4d11790caa169138f6849be7a6eccbab9c7a2155e59473fdf42c9412 │                2 │                  3 │                     0 │                     0 │                     2 │\n",
       "│ 2024-11-18 │ 2024-11-18 00:00:00 │      1731890759 │ mainnet │ op      │       10 │    128145991 │ 0x1235a81f6e53a98fd084110155e10a2a9987364008a22337339329ad40242387 │                0 │                 12 │                     3 │                     0 │                     3 │\n",
       "│ 2024-11-18 │ 2024-11-18 00:00:00 │      1731890759 │ mainnet │ op      │       10 │    128145991 │ 0x4d862c5ed6a09583d3c45ed805cbec6d67fa3649e1ab5aaf3843e9f8cecaac70 │                0 │                  9 │                     0 │                     0 │                     5 │\n",
       "│ 2024-11-18 │ 2024-11-18 00:00:00 │      1731890761 │ mainnet │ op      │       10 │    128145992 │ 0xd9049775812dc33560bdb384e5596cd9432ff2fd77949852eb67cfeefa4f446e │                2 │                 31 │                     0 │                     0 │                    16 │\n",
       "│ 2024-11-18 │ 2024-11-18 00:00:00 │      1731890765 │ mainnet │ op      │       10 │    128145994 │ 0x49047d659e4148cf9fef35d0ff2499ef771d7d3e3d805b437906f60d98c7d4b6 │                2 │                  3 │                     0 │                     0 │                     2 │\n",
       "├────────────┴─────────────────────┴─────────────────┴─────────┴─────────┴──────────┴──────────────┴────────────────────────────────────────────────────────────────────┴──────────────────┴────────────────────┴───────────────────────┴───────────────────────┴───────────────────────┤\n",
       "│ 10 rows                                                                                                                                                                                                                                                                    13 columns │\n",
       "└───────────────────────────────────────────────────────────────────────────────────────────────────────────────────────────────────────────────────────────────────────────────────────────────────────────────────────────────────────────────────────────────────────────────────────┘"
      ]
     },
     "execution_count": 3,
     "metadata": {},
     "output_type": "execute_result"
    }
   ],
   "source": [
    "duckdb_client.sql(\"SELECT * FROM event_emitting_transactions_list_v1 LIMIT 10\")"
   ]
  },
  {
   "cell_type": "markdown",
   "metadata": {},
   "source": [
    "### Check the data output size"
   ]
  },
  {
   "cell_type": "code",
   "execution_count": 4,
   "metadata": {},
   "outputs": [
    {
     "data": {
      "text/plain": [
       "┌────────────────┐\n",
       "│ interm_num_txs │\n",
       "│     int64      │\n",
       "├────────────────┤\n",
       "│          16679 │\n",
       "└────────────────┘"
      ]
     },
     "execution_count": 4,
     "metadata": {},
     "output_type": "execute_result"
    }
   ],
   "source": [
    "duckdb_client.sql(\"SELECT COUNT(*) AS interm_num_txs FROM event_emitting_transactions_list_v1\")"
   ]
  },
  {
   "cell_type": "code",
   "execution_count": 5,
   "metadata": {},
   "outputs": [
    {
     "data": {
      "text/plain": [
       "┌───────────────────┐\n",
       "│ ingestion_num_txs │\n",
       "│       int64       │\n",
       "├───────────────────┤\n",
       "│             16679 │\n",
       "└───────────────────┘"
      ]
     },
     "execution_count": 5,
     "metadata": {},
     "output_type": "execute_result"
    }
   ],
   "source": [
    "duckdb_client.sql(\"SELECT COUNT(DISTINCT transaction_hash) as ingestion_num_txs FROM ingestion_logs_v1\")"
   ]
  },
  {
   "cell_type": "code",
   "execution_count": 6,
   "metadata": {},
   "outputs": [
    {
     "data": {
      "text/plain": [
       "┌────────────────────────────────────────────────────────────────────┐\n",
       "│                               topic0                               │\n",
       "│                              varchar                               │\n",
       "├────────────────────────────────────────────────────────────────────┤\n",
       "│ 0xddf252ad1be2c89b69c2b068fc378daa952ba7f163c4a11628f55a4df523b3ef │\n",
       "│ 0xddf252ad1be2c89b69c2b068fc378daa952ba7f163c4a11628f55a4df523b3ef │\n",
       "│ 0xddf252ad1be2c89b69c2b068fc378daa952ba7f163c4a11628f55a4df523b3ef │\n",
       "│ 0x112c256902bf554b6ed882d2936687aaeb4225e8cd5b51303c90ca6cf43a8602 │\n",
       "│ 0xcf2aa50876cdfbb541206f89af0ee78d44a2abf8d328e37fa4917f982149848a │\n",
       "│ 0xb3e2773606abfd36b5bd91394b3a54d1398336c65005baf7bf7a05efeffaf75b │\n",
       "│ 0xddf252ad1be2c89b69c2b068fc378daa952ba7f163c4a11628f55a4df523b3ef │\n",
       "│ 0x1c411e9a96e071241c2f21f7726b17ae89e3cab4c78be50e062b03a9fffbbad1 │\n",
       "│ 0xd78ad95fa46c994b6551d0da85fc275fe613ce37657fb8d5e3d130840159d822 │\n",
       "│ 0xc42079f94a6350d7e6235f29174924f928cc2ac818eb64fed8004e115fbcca67 │\n",
       "├────────────────────────────────────────────────────────────────────┤\n",
       "│                              10 rows                               │\n",
       "└────────────────────────────────────────────────────────────────────┘"
      ]
     },
     "execution_count": 6,
     "metadata": {},
     "output_type": "execute_result"
    }
   ],
   "source": [
    "duckdb_client.sql(\"SELECT topic0 FROM ingestion_logs_v1 LIMIT 10\")\n"
   ]
  },
  {
   "cell_type": "markdown",
   "metadata": {},
   "source": [
    "### You can also convert the results to dataframes to inspect them in more familiar ways"
   ]
  },
  {
   "cell_type": "code",
   "execution_count": 7,
   "metadata": {},
   "outputs": [
    {
     "data": {
      "text/html": [
       "<div><style>\n",
       ".dataframe > thead > tr,\n",
       ".dataframe > tbody > tr {\n",
       "  text-align: right;\n",
       "  white-space: pre-wrap;\n",
       "}\n",
       "</style>\n",
       "<small>shape: (5, 13)</small><table border=\"1\" class=\"dataframe\"><thead><tr><th>dt</th><th>block_hour</th><th>block_timestamp</th><th>network</th><th>chain</th><th>chain_id</th><th>block_number</th><th>transaction_hash</th><th>transaction_type</th><th>count_total_events</th><th>count_approval_events</th><th>count_wrapping_events</th><th>count_transfer_events</th></tr><tr><td>date</td><td>datetime[μs]</td><td>u32</td><td>str</td><td>str</td><td>i32</td><td>i64</td><td>str</td><td>i32</td><td>i64</td><td>decimal[38,0]</td><td>decimal[38,0]</td><td>decimal[38,0]</td></tr></thead><tbody><tr><td>2024-11-18</td><td>2024-11-18&nbsp;00:00:00</td><td>1731890755</td><td>&quot;mainnet&quot;</td><td>&quot;op&quot;</td><td>10</td><td>128145989</td><td>&quot;0x0f3da35693644abe74388ab71888…</td><td>0</td><td>11</td><td>0</td><td>0</td><td>5</td></tr><tr><td>2024-11-18</td><td>2024-11-18&nbsp;00:00:00</td><td>1731890755</td><td>&quot;mainnet&quot;</td><td>&quot;op&quot;</td><td>10</td><td>128145989</td><td>&quot;0xc2a2f0930d2ac4e7dec64fd4ceba…</td><td>0</td><td>1</td><td>0</td><td>1</td><td>0</td></tr><tr><td>2024-11-18</td><td>2024-11-18&nbsp;00:00:00</td><td>1731890755</td><td>&quot;mainnet&quot;</td><td>&quot;op&quot;</td><td>10</td><td>128145989</td><td>&quot;0xd2964ea0788e9cac8791337a99f3…</td><td>2</td><td>10</td><td>1</td><td>0</td><td>1</td></tr><tr><td>2024-11-18</td><td>2024-11-18&nbsp;00:00:00</td><td>1731890757</td><td>&quot;mainnet&quot;</td><td>&quot;op&quot;</td><td>10</td><td>128145990</td><td>&quot;0x6b6aa9ee2a63a6e07504e13163a1…</td><td>0</td><td>10</td><td>3</td><td>0</td><td>4</td></tr><tr><td>2024-11-18</td><td>2024-11-18&nbsp;00:00:00</td><td>1731890757</td><td>&quot;mainnet&quot;</td><td>&quot;op&quot;</td><td>10</td><td>128145990</td><td>&quot;0x3669f9fe8fdaaffda96bffb7184f…</td><td>2</td><td>6</td><td>0</td><td>0</td><td>1</td></tr></tbody></table></div>"
      ],
      "text/plain": [
       "shape: (5, 13)\n",
       "┌────────────┬───────────┬───────────┬─────────┬───┬───────────┬───────────┬───────────┬───────────┐\n",
       "│ dt         ┆ block_hou ┆ block_tim ┆ network ┆ … ┆ count_tot ┆ count_app ┆ count_wra ┆ count_tra │\n",
       "│ ---        ┆ r         ┆ estamp    ┆ ---     ┆   ┆ al_events ┆ roval_eve ┆ pping_eve ┆ nsfer_eve │\n",
       "│ date       ┆ ---       ┆ ---       ┆ str     ┆   ┆ ---       ┆ nts       ┆ nts       ┆ nts       │\n",
       "│            ┆ datetime[ ┆ u32       ┆         ┆   ┆ i64       ┆ ---       ┆ ---       ┆ ---       │\n",
       "│            ┆ μs]       ┆           ┆         ┆   ┆           ┆ decimal[3 ┆ decimal[3 ┆ decimal[3 │\n",
       "│            ┆           ┆           ┆         ┆   ┆           ┆ 8,0]      ┆ 8,0]      ┆ 8,0]      │\n",
       "╞════════════╪═══════════╪═══════════╪═════════╪═══╪═══════════╪═══════════╪═══════════╪═══════════╡\n",
       "│ 2024-11-18 ┆ 2024-11-1 ┆ 173189075 ┆ mainnet ┆ … ┆ 11        ┆ 0         ┆ 0         ┆ 5         │\n",
       "│            ┆ 8         ┆ 5         ┆         ┆   ┆           ┆           ┆           ┆           │\n",
       "│            ┆ 00:00:00  ┆           ┆         ┆   ┆           ┆           ┆           ┆           │\n",
       "│ 2024-11-18 ┆ 2024-11-1 ┆ 173189075 ┆ mainnet ┆ … ┆ 1         ┆ 0         ┆ 1         ┆ 0         │\n",
       "│            ┆ 8         ┆ 5         ┆         ┆   ┆           ┆           ┆           ┆           │\n",
       "│            ┆ 00:00:00  ┆           ┆         ┆   ┆           ┆           ┆           ┆           │\n",
       "│ 2024-11-18 ┆ 2024-11-1 ┆ 173189075 ┆ mainnet ┆ … ┆ 10        ┆ 1         ┆ 0         ┆ 1         │\n",
       "│            ┆ 8         ┆ 5         ┆         ┆   ┆           ┆           ┆           ┆           │\n",
       "│            ┆ 00:00:00  ┆           ┆         ┆   ┆           ┆           ┆           ┆           │\n",
       "│ 2024-11-18 ┆ 2024-11-1 ┆ 173189075 ┆ mainnet ┆ … ┆ 10        ┆ 3         ┆ 0         ┆ 4         │\n",
       "│            ┆ 8         ┆ 7         ┆         ┆   ┆           ┆           ┆           ┆           │\n",
       "│            ┆ 00:00:00  ┆           ┆         ┆   ┆           ┆           ┆           ┆           │\n",
       "│ 2024-11-18 ┆ 2024-11-1 ┆ 173189075 ┆ mainnet ┆ … ┆ 6         ┆ 0         ┆ 0         ┆ 1         │\n",
       "│            ┆ 8         ┆ 7         ┆         ┆   ┆           ┆           ┆           ┆           │\n",
       "│            ┆ 00:00:00  ┆           ┆         ┆   ┆           ┆           ┆           ┆           │\n",
       "└────────────┴───────────┴───────────┴─────────┴───┴───────────┴───────────┴───────────┴───────────┘"
      ]
     },
     "execution_count": 7,
     "metadata": {},
     "output_type": "execute_result"
    }
   ],
   "source": [
    "duckdb_client.sql(\"SELECT * FROM event_emitting_transactions_list_v1 LIMIT 5\").pl()"
   ]
  },
  {
   "cell_type": "markdown",
   "metadata": {},
   "source": [
    "### Get table schema"
   ]
  },
  {
   "cell_type": "code",
   "execution_count": 8,
   "metadata": {},
   "outputs": [
    {
     "data": {
      "text/plain": [
       "┌───────────────────────┬───────────────┬─────────┬─────────┬─────────┬─────────┐\n",
       "│      column_name      │  column_type  │  null   │   key   │ default │  extra  │\n",
       "│        varchar        │    varchar    │ varchar │ varchar │ varchar │ varchar │\n",
       "├───────────────────────┼───────────────┼─────────┼─────────┼─────────┼─────────┤\n",
       "│ dt                    │ DATE          │ YES     │ NULL    │ NULL    │ NULL    │\n",
       "│ block_hour            │ TIMESTAMP     │ YES     │ NULL    │ NULL    │ NULL    │\n",
       "│ block_timestamp       │ UINTEGER      │ YES     │ NULL    │ NULL    │ NULL    │\n",
       "│ network               │ VARCHAR       │ YES     │ NULL    │ NULL    │ NULL    │\n",
       "│ chain                 │ VARCHAR       │ YES     │ NULL    │ NULL    │ NULL    │\n",
       "│ chain_id              │ INTEGER       │ YES     │ NULL    │ NULL    │ NULL    │\n",
       "│ block_number          │ BIGINT        │ YES     │ NULL    │ NULL    │ NULL    │\n",
       "│ transaction_hash      │ VARCHAR       │ YES     │ NULL    │ NULL    │ NULL    │\n",
       "│ transaction_type      │ INTEGER       │ YES     │ NULL    │ NULL    │ NULL    │\n",
       "│ count_total_events    │ BIGINT        │ YES     │ NULL    │ NULL    │ NULL    │\n",
       "│ count_approval_events │ DECIMAL(38,0) │ YES     │ NULL    │ NULL    │ NULL    │\n",
       "│ count_wrapping_events │ DECIMAL(38,0) │ YES     │ NULL    │ NULL    │ NULL    │\n",
       "│ count_transfer_events │ DECIMAL(38,0) │ YES     │ NULL    │ NULL    │ NULL    │\n",
       "├───────────────────────┴───────────────┴─────────┴─────────┴─────────┴─────────┤\n",
       "│ 13 rows                                                             6 columns │\n",
       "└───────────────────────────────────────────────────────────────────────────────┘"
      ]
     },
     "execution_count": 8,
     "metadata": {},
     "output_type": "execute_result"
    }
   ],
   "source": [
    "duckdb_client.sql(\"DESCRIBE event_emitting_transactions_list_v1\")\n"
   ]
  }
 ],
 "metadata": {
  "kernelspec": {
   "display_name": ".venv",
   "language": "python",
   "name": "python3"
  },
  "language_info": {
   "codemirror_mode": {
    "name": "ipython",
    "version": 3
   },
   "file_extension": ".py",
   "mimetype": "text/x-python",
   "name": "python",
   "nbconvert_exporter": "python",
   "pygments_lexer": "ipython3",
   "version": "3.12.4"
  }
 },
 "nbformat": 4,
 "nbformat_minor": 2
}
