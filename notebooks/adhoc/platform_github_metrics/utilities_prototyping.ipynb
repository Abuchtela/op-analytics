{
 "cells": [
  {
   "cell_type": "code",
   "execution_count": 1,
   "metadata": {},
   "outputs": [
    {
     "name": "stdout",
     "output_type": "stream",
     "text": [
      "\u001b[2m2025-01-14 06:49:00\u001b[0m [\u001b[32m\u001b[1minfo     \u001b[0m] \u001b[1mloaded vault from .env file   \u001b[0m \u001b[36mcounter\u001b[0m=\u001b[35m001/009\u001b[0m \u001b[36meta\u001b[0m=\u001b[35mNone\u001b[0m \u001b[36mfilename\u001b[0m=\u001b[35mvault.py\u001b[0m \u001b[36mlineno\u001b[0m=\u001b[35m32\u001b[0m \u001b[36mprocess\u001b[0m=\u001b[35m22565\u001b[0m \u001b[36mrepo\u001b[0m=\u001b[35moptimism\u001b[0m\n",
      "\u001b[2m2025-01-14 06:49:00\u001b[0m [\u001b[32m\u001b[1mdebug    \u001b[0m] \u001b[1mloaded vault: 18 items        \u001b[0m \u001b[36mcounter\u001b[0m=\u001b[35m001/009\u001b[0m \u001b[36meta\u001b[0m=\u001b[35mNone\u001b[0m \u001b[36mfilename\u001b[0m=\u001b[35mvault.py\u001b[0m \u001b[36mlineno\u001b[0m=\u001b[35m76\u001b[0m \u001b[36mprocess\u001b[0m=\u001b[35m22565\u001b[0m \u001b[36mrepo\u001b[0m=\u001b[35moptimism\u001b[0m\n"
     ]
    },
    {
     "name": "stderr",
     "output_type": "stream",
     "text": [
      "Request GET /repos/ethereum-optimism/optimism failed with 403: Forbidden\n",
      "Setting next backoff to 1640.40558s\n",
      "Request GET /repos/ethereum-optimism/supersim failed with 403: Forbidden\n",
      "Setting next backoff to 1640.403205s\n"
     ]
    }
   ],
   "source": [
    "from op_analytics.cli.subcommands.pulls.github.actvity.allrepos import (\n",
    "    GithubActivityData,\n",
    ")\n",
    "\n",
    "\n",
    "dfs = GithubActivityData.fetch(\n",
    "    closed_items_last_n_days=4000,\n",
    "    current_dt=\"2025-01-14\",\n",
    "    repo_concurrent_workers=2,\n",
    ")"
   ]
  },
  {
   "cell_type": "code",
   "execution_count": 1,
   "metadata": {},
   "outputs": [
    {
     "ename": "NameError",
     "evalue": "name 'dfs' is not defined",
     "output_type": "error",
     "traceback": [
      "\u001b[0;31m---------------------------------------------------------------------------\u001b[0m",
      "\u001b[0;31mNameError\u001b[0m                                 Traceback (most recent call last)",
      "Cell \u001b[0;32mIn[1], line 1\u001b[0m\n\u001b[0;32m----> 1\u001b[0m \u001b[43mdfs\u001b[49m\u001b[38;5;241m.\u001b[39mprs\n",
      "\u001b[0;31mNameError\u001b[0m: name 'dfs' is not defined"
     ]
    }
   ],
   "source": [
    "dfs.prs"
   ]
  },
  {
   "cell_type": "code",
   "execution_count": 2,
   "metadata": {},
   "outputs": [
    {
     "name": "stdout",
     "output_type": "stream",
     "text": [
      "\u001b[2m2025-01-13 19:31:02\u001b[0m [\u001b[32m\u001b[1minfo     \u001b[0m] \u001b[1mfetched 116 open in 3.89s     \u001b[0m \u001b[36mfetch\u001b[0m=\u001b[35mPULLS\u001b[0m \u001b[36mfilename\u001b[0m=\u001b[35mgithubapi.py\u001b[0m \u001b[36mlineno\u001b[0m=\u001b[35m172\u001b[0m \u001b[36mprocess\u001b[0m=\u001b[35m90324\u001b[0m \u001b[36mrepo\u001b[0m=\u001b[35moptimism\u001b[0m\n",
      "\u001b[2m2025-01-13 19:31:09\u001b[0m [\u001b[32m\u001b[1minfo     \u001b[0m] \u001b[1mfound 157 closed after 2024-12-22 in 6.07s\u001b[0m \u001b[36mfetch\u001b[0m=\u001b[35mPULLS\u001b[0m \u001b[36mfilename\u001b[0m=\u001b[35mgithubapi.py\u001b[0m \u001b[36mlineno\u001b[0m=\u001b[35m186\u001b[0m \u001b[36mprocess\u001b[0m=\u001b[35m90324\u001b[0m \u001b[36mrepo\u001b[0m=\u001b[35moptimism\u001b[0m\n",
      "\u001b[2m2025-01-13 19:31:19\u001b[0m [\u001b[32m\u001b[1minfo     \u001b[0m] \u001b[1mfetched 497 open in 9.95s     \u001b[0m \u001b[36mfetch\u001b[0m=\u001b[35mISSUES\u001b[0m \u001b[36mfilename\u001b[0m=\u001b[35mgithubapi.py\u001b[0m \u001b[36mlineno\u001b[0m=\u001b[35m172\u001b[0m \u001b[36mprocess\u001b[0m=\u001b[35m90324\u001b[0m \u001b[36mrepo\u001b[0m=\u001b[35moptimism\u001b[0m\n",
      "\u001b[2m2025-01-13 19:31:20\u001b[0m [\u001b[32m\u001b[1minfo     \u001b[0m] \u001b[1mfound 17 closed after 2024-12-22 in 0.58s\u001b[0m \u001b[36mfetch\u001b[0m=\u001b[35mISSUES\u001b[0m \u001b[36mfilename\u001b[0m=\u001b[35mgithubapi.py\u001b[0m \u001b[36mlineno\u001b[0m=\u001b[35m186\u001b[0m \u001b[36mprocess\u001b[0m=\u001b[35m90324\u001b[0m \u001b[36mrepo\u001b[0m=\u001b[35moptimism\u001b[0m\n",
      "\u001b[2m2025-01-13 19:31:20\u001b[0m [\u001b[32m\u001b[1minfo     \u001b[0m] \u001b[1mfetching comments for 273 prs \u001b[0m \u001b[36mfilename\u001b[0m=\u001b[35mgithubapi.py\u001b[0m \u001b[36mlineno\u001b[0m=\u001b[35m90\u001b[0m \u001b[36mprocess\u001b[0m=\u001b[35m90324\u001b[0m \u001b[36mrepo\u001b[0m=\u001b[35moptimism\u001b[0m\n",
      "\u001b[2m2025-01-13 19:33:54\u001b[0m [\u001b[32m\u001b[1minfo     \u001b[0m] \u001b[1mfetching reviews for 273 prs  \u001b[0m \u001b[36mfilename\u001b[0m=\u001b[35mgithubapi.py\u001b[0m \u001b[36mlineno\u001b[0m=\u001b[35m97\u001b[0m \u001b[36mprocess\u001b[0m=\u001b[35m90324\u001b[0m \u001b[36mrepo\u001b[0m=\u001b[35moptimism\u001b[0m\n"
     ]
    }
   ],
   "source": [
    "from op_analytics.cli.subcommands.pulls.github.actvity.singlerepo import (\n",
    "    GithubRepoActivityData,\n",
    ")\n",
    "\n",
    "\n",
    "dfs = GithubRepoActivityData.fetch(\n",
    "    \"optimism\",\n",
    "    current_dt=\"2025-01-01\",\n",
    "    last_n_days=10,\n",
    ")"
   ]
  }
 ],
 "metadata": {
  "kernelspec": {
   "display_name": ".venv",
   "language": "python",
   "name": "python3"
  },
  "language_info": {
   "codemirror_mode": {
    "name": "ipython",
    "version": 3
   },
   "file_extension": ".py",
   "mimetype": "text/x-python",
   "name": "python",
   "nbconvert_exporter": "python",
   "pygments_lexer": "ipython3",
   "version": "3.12.6"
  }
 },
 "nbformat": 4,
 "nbformat_minor": 2
}
