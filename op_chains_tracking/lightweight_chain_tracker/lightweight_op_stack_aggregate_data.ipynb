{
 "cells": [
  {
   "cell_type": "markdown",
   "metadata": {},
   "source": [
    "See readme.md for ideal fields and descriptions"
   ]
  },
  {
   "cell_type": "code",
   "execution_count": null,
   "metadata": {},
   "outputs": [],
   "source": [
    "# ! pip install pandas pyarrow\n",
    "# ! pip install polars"
   ]
  },
  {
   "cell_type": "code",
   "execution_count": 1,
   "metadata": {},
   "outputs": [],
   "source": [
    "import subprocess\n",
    "import os\n",
    "import datetime\n",
    "import time\n",
    "import pyarrow.parquet as pq\n",
    "import pandas as pd\n"
   ]
  },
  {
   "cell_type": "code",
   "execution_count": 2,
   "metadata": {},
   "outputs": [],
   "source": [
    "import polars as pl"
   ]
  },
  {
   "cell_type": "code",
   "execution_count": 3,
   "metadata": {},
   "outputs": [
    {
     "name": "stdout",
     "output_type": "stream",
     "text": [
      "current time: 2023-12-17 03:01:03.868268\n",
      "24 hrs ago time: 2023-12-16 03:01:03.868268\n"
     ]
    }
   ],
   "source": [
    "# Init timestamps\n",
    "current_time = datetime.datetime.utcnow()\n",
    "time_24_hours_ago = current_time - datetime.timedelta(hours=24)\n",
    "print('current time: ' + str(current_time))\n",
    "print('24 hrs ago time: ' + str(time_24_hours_ago))"
   ]
  },
  {
   "cell_type": "code",
   "execution_count": 4,
   "metadata": {},
   "outputs": [
    {
     "ename": "SyntaxError",
     "evalue": "unterminated string literal (detected at line 8) (3299451692.py, line 8)",
     "output_type": "error",
     "traceback": [
      "\u001b[0;36m  Cell \u001b[0;32mIn[4], line 8\u001b[0;36m\u001b[0m\n\u001b[0;31m    subdirs = chain_name + '_output\u001b[0m\n\u001b[0m                           ^\u001b[0m\n\u001b[0;31mSyntaxError\u001b[0m\u001b[0;31m:\u001b[0m unterminated string literal (detected at line 8)\n"
     ]
    }
   ],
   "source": [
    "# Test doing t24h for Lyra\n",
    "\n",
    "fields = 'blocks txs traces'\n",
    "rpc_url = 'https://rpc.lyra.finance/'\n",
    "chain_name = 'lyra'\n",
    "start_timestamp = int(time_24_hours_ago.timestamp())\n",
    "end_timestamp = int(current_time.timestamp())\n",
    "subdirs = chain_name + '_output'\n",
    "\n",
    "dry_run = 0"
   ]
  },
  {
   "cell_type": "code",
   "execution_count": null,
   "metadata": {},
   "outputs": [],
   "source": [
    "# Generate Command\n",
    "if dry_run == 1:\n",
    "    dry_txt = '--dry'\n",
    "else:\n",
    "    dry_txt = ''\n",
    "\n",
    "command = f\"cryo {fields} --rpc {rpc_url} --timestamps {start_timestamp}:{end_timestamp} --subdirs {subdirs} {dry_txt}\"\n",
    "print(command)"
   ]
  },
  {
   "cell_type": "code",
   "execution_count": null,
   "metadata": {},
   "outputs": [],
   "source": [
    "start_time = time.time()\n",
    "# Run the command using subprocess.run and capture the output\n",
    "result = subprocess.run(\n",
    "    command, \n",
    "    shell=True, \n",
    "    stdout=subprocess.PIPE,  # Capture standard output\n",
    "    stderr=subprocess.PIPE,  # Capture standard error\n",
    "    text=True  # Capture output as text (Python 3.7+)\n",
    ")\n",
    "\n",
    "# Display the captured output\n",
    "if result.returncode == 0:\n",
    "    print(\"Command succeeded. Output:\")\n",
    "    print(result.stdout)\n",
    "# else:\n",
    "#     print(\"Command failed. Error output:\")\n",
    "#     print(result.stderr)\n",
    "\n",
    "end_time = time.time()"
   ]
  },
  {
   "cell_type": "code",
   "execution_count": null,
   "metadata": {},
   "outputs": [],
   "source": [
    "# Calculate the elapsed time\n",
    "elapsed_time = end_time - start_time\n",
    "# Print the elapsed time in seconds\n",
    "print(f\"Elapsed time: {elapsed_time:.4f} seconds\")"
   ]
  },
  {
   "cell_type": "code",
   "execution_count": null,
   "metadata": {},
   "outputs": [],
   "source": [
    "# parquet_file_path = 'network_957__transactions__01342167_to_01342167.parquet'\n",
    "\n",
    "# # Use the pyarrow.parquet library to read the Parquet file into a DataFrame\n",
    "# df = pq.read_table(parquet_file_path).to_pandas()\n",
    "\n",
    "# # Now, 'df' contains the data from the Parquet file in a Pandas DataFrame\n",
    "# display(df)"
   ]
  }
 ],
 "metadata": {
  "kernelspec": {
   "display_name": "py10",
   "language": "python",
   "name": "python3"
  },
  "language_info": {
   "codemirror_mode": {
    "name": "ipython",
    "version": 3
   },
   "file_extension": ".py",
   "mimetype": "text/x-python",
   "name": "python",
   "nbconvert_exporter": "python",
   "pygments_lexer": "ipython3",
   "version": "3.10.13"
  }
 },
 "nbformat": 4,
 "nbformat_minor": 2
}
