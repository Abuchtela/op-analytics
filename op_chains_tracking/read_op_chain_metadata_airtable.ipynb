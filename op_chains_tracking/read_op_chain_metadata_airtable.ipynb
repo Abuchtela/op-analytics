{
 "cells": [
  {
   "cell_type": "code",
   "execution_count": 1,
   "metadata": {},
   "outputs": [],
   "source": [
    "import pandas as pd\n",
    "from airtable import airtable\n",
    "\n",
    "import sys\n",
    "sys.path.append(\"../helper_functions\")\n",
    "import duneapi_utils as d\n",
    "sys.path.pop()\n",
    "\n",
    "import dotenv\n",
    "import os\n",
    "dotenv.load_dotenv()\n",
    "at_api = os.environ[\"AIRTABLE_API_TOKEN\"]\n",
    "at_base = os.environ[\"AIRTABLE_DEVREL_BASE_ID\"]\n",
    "\n",
    "columns = ['Name','Alignment','Block Explorer','Announcement Date', 'Mainnet Launch Date','Shutdown Date'\n",
    "           ,'L1 Standard Bridge Contract', 'L1 NFT Bridge Contract', 'L1 BatchInbox \"to address\"', 'L1 BatchInbox \"from address\"','L1 Output Oracle']"
   ]
  },
  {
   "cell_type": "code",
   "execution_count": 2,
   "metadata": {},
   "outputs": [],
   "source": [
    "at = airtable.Airtable(at_base, at_api)\n",
    "data = at.get('OP Products')\n",
    "df = pd.json_normalize(data, record_path='records')\n",
    "# Rename all columns that start with 'fields.'\n",
    "df.rename(columns=lambda x: x.replace('fields.', ''), inplace=True)\n",
    "df = df[columns]"
   ]
  },
  {
   "cell_type": "code",
   "execution_count": 3,
   "metadata": {},
   "outputs": [
    {
     "data": {
      "text/html": [
       "<div>\n",
       "<style scoped>\n",
       "    .dataframe tbody tr th:only-of-type {\n",
       "        vertical-align: middle;\n",
       "    }\n",
       "\n",
       "    .dataframe tbody tr th {\n",
       "        vertical-align: top;\n",
       "    }\n",
       "\n",
       "    .dataframe thead th {\n",
       "        text-align: right;\n",
       "    }\n",
       "</style>\n",
       "<table border=\"1\" class=\"dataframe\">\n",
       "  <thead>\n",
       "    <tr style=\"text-align: right;\">\n",
       "      <th></th>\n",
       "      <th>Name</th>\n",
       "      <th>Alignment</th>\n",
       "      <th>Block Explorer</th>\n",
       "      <th>Announcement Date</th>\n",
       "      <th>Mainnet Launch Date</th>\n",
       "      <th>Shutdown Date</th>\n",
       "      <th>L1 Standard Bridge Contract</th>\n",
       "      <th>L1 NFT Bridge Contract</th>\n",
       "      <th>L1 BatchInbox \"to address\"</th>\n",
       "      <th>L1 BatchInbox \"from address\"</th>\n",
       "      <th>L1 Output Oracle</th>\n",
       "    </tr>\n",
       "  </thead>\n",
       "  <tbody>\n",
       "    <tr>\n",
       "      <th>0</th>\n",
       "      <td>OP Mainnet (OVM2)</td>\n",
       "      <td>[Forks]</td>\n",
       "      <td>https://optimistic.etherscan.io/</td>\n",
       "      <td>NaN</td>\n",
       "      <td>2021-11-11</td>\n",
       "      <td>NaN</td>\n",
       "      <td>0x99C9fc46f92E8a1c0deC1b1747d010903E884bE1</td>\n",
       "      <td>0x5a7749f83b81b301cab5f48eb8516b986daef23d</td>\n",
       "      <td>0x5E4e65926BA27467555EB562121fac00D24E9dD2</td>\n",
       "      <td>0x6887246668a3b87F54DeB3b94Ba47a6f63F32985</td>\n",
       "      <td>0xBe5dAb4A2e9cd0F27300dB4aB94BeE3A233AEB19</td>\n",
       "    </tr>\n",
       "    <tr>\n",
       "      <th>1</th>\n",
       "      <td>Aevo</td>\n",
       "      <td>[RAAS]</td>\n",
       "      <td>https://explorer.aevo.xyz/</td>\n",
       "      <td>2022-09-28</td>\n",
       "      <td>2023-04-07</td>\n",
       "      <td>NaN</td>\n",
       "      <td>0x4082C9647c098a6493fb499EaE63b5ce3259c574</td>\n",
       "      <td>0x2e7d7B188D663F38c2E4fF9C59328458A2D676F0</td>\n",
       "      <td>0x253887577420Cb7e7418cD4d50147743c8041b28</td>\n",
       "      <td>0x889e21d7BA3d6dD62e75d4980A4Ad1349c61599d</td>\n",
       "      <td>0x909E51211e959339EFb14b36f5A50955a8ae3770</td>\n",
       "    </tr>\n",
       "    <tr>\n",
       "      <th>2</th>\n",
       "      <td>OP Mainnet (OVM1)</td>\n",
       "      <td>[Forks]</td>\n",
       "      <td>https://optimistic.etherscan.io/</td>\n",
       "      <td>NaN</td>\n",
       "      <td>2021-06-23</td>\n",
       "      <td>2021-11-11</td>\n",
       "      <td>0x99C9fc46f92E8a1c0deC1b1747d010903E884bE1</td>\n",
       "      <td>NaN</td>\n",
       "      <td>0x4BF681894abEc828B212C906082B444Ceb2f6cf6</td>\n",
       "      <td>0x6887246668a3b87F54DeB3b94Ba47a6f63F32985</td>\n",
       "      <td>0xE969C2724d2448F1d1A6189d3e2aA1F37d5998c1</td>\n",
       "    </tr>\n",
       "  </tbody>\n",
       "</table>\n",
       "</div>"
      ],
      "text/plain": [
       "                Name Alignment                    Block Explorer  \\\n",
       "0  OP Mainnet (OVM2)   [Forks]  https://optimistic.etherscan.io/   \n",
       "1               Aevo    [RAAS]        https://explorer.aevo.xyz/   \n",
       "2  OP Mainnet (OVM1)   [Forks]  https://optimistic.etherscan.io/   \n",
       "\n",
       "  Announcement Date Mainnet Launch Date Shutdown Date  \\\n",
       "0               NaN          2021-11-11           NaN   \n",
       "1        2022-09-28          2023-04-07           NaN   \n",
       "2               NaN          2021-06-23    2021-11-11   \n",
       "\n",
       "                  L1 Standard Bridge Contract  \\\n",
       "0  0x99C9fc46f92E8a1c0deC1b1747d010903E884bE1   \n",
       "1  0x4082C9647c098a6493fb499EaE63b5ce3259c574   \n",
       "2  0x99C9fc46f92E8a1c0deC1b1747d010903E884bE1   \n",
       "\n",
       "                       L1 NFT Bridge Contract  \\\n",
       "0  0x5a7749f83b81b301cab5f48eb8516b986daef23d   \n",
       "1  0x2e7d7B188D663F38c2E4fF9C59328458A2D676F0   \n",
       "2                                         NaN   \n",
       "\n",
       "                   L1 BatchInbox \"to address\"  \\\n",
       "0  0x5E4e65926BA27467555EB562121fac00D24E9dD2   \n",
       "1  0x253887577420Cb7e7418cD4d50147743c8041b28   \n",
       "2  0x4BF681894abEc828B212C906082B444Ceb2f6cf6   \n",
       "\n",
       "                 L1 BatchInbox \"from address\"  \\\n",
       "0  0x6887246668a3b87F54DeB3b94Ba47a6f63F32985   \n",
       "1  0x889e21d7BA3d6dD62e75d4980A4Ad1349c61599d   \n",
       "2  0x6887246668a3b87F54DeB3b94Ba47a6f63F32985   \n",
       "\n",
       "                             L1 Output Oracle  \n",
       "0  0xBe5dAb4A2e9cd0F27300dB4aB94BeE3A233AEB19  \n",
       "1  0x909E51211e959339EFb14b36f5A50955a8ae3770  \n",
       "2  0xE969C2724d2448F1d1A6189d3e2aA1F37d5998c1  "
      ]
     },
     "metadata": {},
     "output_type": "display_data"
    }
   ],
   "source": [
    "# Filter the DataFrame\n",
    "filtered_df = df[df['L1 Standard Bridge Contract'].notnull() & df['L1 Standard Bridge Contract'].str.startswith('0x')\\\n",
    "                 & df['L1 BatchInbox \"to address\"'].notnull() & df['L1 BatchInbox \"to address\"'].str.startswith('0x')]\n",
    "filtered_df.reset_index(inplace=True, drop=True)\n",
    "display(filtered_df)"
   ]
  },
  {
   "cell_type": "code",
   "execution_count": 4,
   "metadata": {},
   "outputs": [
    {
     "name": "stdout",
     "output_type": "stream",
     "text": [
      "Response status code: 200\n",
      "Response content: b'{\"success\":true}'\n"
     ]
    }
   ],
   "source": [
    "# Post to Dune API\n",
    "d.write_dune_api_from_pandas(filtered_df, 'op_stack_chain_metadata',\\\n",
    "                             'Metadata about OP Stack Chains (i.e. bridge contracts, submitter contracts, name)')"
   ]
  }
 ],
 "metadata": {
  "kernelspec": {
   "display_name": "new-env",
   "language": "python",
   "name": "python3"
  },
  "language_info": {
   "codemirror_mode": {
    "name": "ipython",
    "version": 3
   },
   "file_extension": ".py",
   "mimetype": "text/x-python",
   "name": "python",
   "nbconvert_exporter": "python",
   "pygments_lexer": "ipython3",
   "version": "3.10.9"
  },
  "orig_nbformat": 4
 },
 "nbformat": 4,
 "nbformat_minor": 2
}
