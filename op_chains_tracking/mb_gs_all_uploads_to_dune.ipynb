{
 "cells": [
  {
   "cell_type": "code",
   "execution_count": null,
   "metadata": {},
   "outputs": [],
   "source": [
    "import requests as r\n",
    "import pandas as pd\n",
    "\n",
    "import sys\n",
    "sys.path.append(\"../helper_functions\")\n",
    "import duneapi_utils as d\n",
    "import metabaseapi_utils as mb\n",
    "sys.path.pop()\n",
    "\n",
    "import os\n",
    "import dotenv\n",
    "\n",
    "dotenv.load_dotenv()\n",
    "mb_name = os.environ[\"MS_METABASE_NAME\"]\n",
    "mb_pw = os.environ[\"MS_METABASE_PW\"]\n",
    "\n",
    "mb_url_base = \"https://dash.goldsky.com\"\n",
    "\n",
    "# https://goldsky.notion.site/SHARED-Lightweight-API-Documentation-for-Goldsky-Dashboarding-5cde15ba222844f485c31a4426f6ed53"
   ]
  },
  {
   "cell_type": "code",
   "execution_count": null,
   "metadata": {},
   "outputs": [],
   "source": [
    "session_id = mb.get_session_id(mb_url_base, mb_name, mb_pw)"
   ]
  },
  {
   "cell_type": "code",
   "execution_count": null,
   "metadata": {},
   "outputs": [],
   "source": [
    "# Run Query\n",
    "\n",
    "query_nums = [\n",
    "         [86,'opchain_pgn_alltime_contracts_created'\n",
    "                ,'PGN All-Time Contracts Created(from Goldsky)']     #https://dash.goldsky.com/question/86-pgn-num-alltime-contracts-created\n",
    "        ,[21,'opchain_activity_by_day_gs'\n",
    "                ,'Basic Daily Activity for OP Chains - Zora & PGN (from Goldsky)']     #https://dash.goldsky.com/question/21-op-chains-activity-by-day\n",
    "        ,[379, 'pgn_chain_activity_by_day_gs'\n",
    "                ,'Basic Daily Activity for OP Chains - PGN (from Goldsky)']    #https://dash.goldsky.com/question/379-lyra-activity-by-day\n",
    "        ,[129, 'lyra_chain_activity_by_day_gs'\n",
    "                ,'Basic Daily Activity for OP Chains - Lyra (from Goldsky)']    #https://dash.goldsky.com/question/129-lyra-activity-by-day\n",
    "        ,[107,'pgn_usage_by_contract_by_month'\n",
    "                ,'Monthly Contract Usage Data for PGN (from Goldsky)']     #https://dash.goldsky.com/question/107-pgn-usage-by-contract-by-month\n",
    "        ,[106,'pgn_usage_by_contract_7_vs_30'\n",
    "                ,'Contract Usage Data for PGN - Last 7 days vs prior 30 (from Goldsky)']     #https://dash.goldsky.com/question/106-pgn-usage-by-contract-7-vs-30\n",
    "        # ,[118,'pgn_usage_by_contract_by_day_gt_1_tx'\n",
    "        #         ,'Daily Contract Usage Data for PGN - > 1 Tx per Day (from Goldsky)']     #https://dash.goldsky.com/question/118-pgn-usage-by-contract-by-day-t365d-gt-1-tx\n",
    "        ,[244, 'mode_chain_activity_by_day_gs'\n",
    "                ,'Basic Daily Activity for OP Chains - Mode (from Goldsky)']    #https://dash.goldsky.com/question/244-mode-activity-by-day\n",
    "        ,[247,'mode_usage_by_contract_by_month'\n",
    "                ,'Monthly Contract Usage Data for Mode (from Goldsky)']     #https://dash.goldsky.com/question/247-mode-usage-by-contract-by-month\n",
    "        ,[248,'mode_usage_by_contract_7_vs_30'\n",
    "                ,'Contract Usage Data for Mode - Last 7 days vs prior 30 (from Goldsky)']     #https://dash.goldsky.com/question/248-mode-usage-by-contract-7-vs-30\n",
    "        ,[245,'mode_usage_by_contract_by_day_gt_1_tx'\n",
    "                ,'Daily Contract Usage Data for Mode - > 1 Tx per Day (from Goldsky)']     #https://dash.goldsky.com/question/245-mode-usage-by-contract-by-day-t365d-gt-1-tx\n",
    "\n",
    "        # ,[78,'opchain_fee_gen_contracts_dev_creators_t365d_gs'\n",
    "        #         ,'Basic Fee Generating Contracts & Developer Methodology (T365D) for PGN (from Goldsky)']     #https://dash.goldsky.com/question/78-daily-used-contracts-with-traces-logs\n",
    "        # ,[20,'opchain_active_dev_creators_gs'\n",
    "        #         ,'Basic Active Developer Methodology for Zora & PGN (from Goldsky)']     #https://dash.goldsky.com/question/20-get-kr1-active-developers\n",
    "        # ,[35,'opchain_used_contracts_creators_gs'\n",
    "        #         ,'Basic Used Contracts Methodology for Zora & PGN (from Goldsky)']     #https://dash.goldsky.com/question/35-kr2-intermediate-get-daily-is-used-contracts\n",
    "        \n",
    "]\n"
   ]
  },
  {
   "cell_type": "code",
   "execution_count": null,
   "metadata": {},
   "outputs": [],
   "source": [
    "for q in query_nums:\n",
    "        # try: #don't break if one query fails\n",
    "        query_num = q[0]\n",
    "        dune_table_name = q[1]\n",
    "        dune_table_description = q[2]\n",
    "        mb.query_response_to_dune(session_id, mb_url_base, query_num, dune_table_name, dune_table_description)\n",
    "        # except:\n",
    "        #         continue"
   ]
  }
 ],
 "metadata": {
  "kernelspec": {
   "display_name": "new-env",
   "language": "python",
   "name": "python3"
  },
  "language_info": {
   "codemirror_mode": {
    "name": "ipython",
    "version": 3
   },
   "file_extension": ".py",
   "mimetype": "text/x-python",
   "name": "python",
   "nbconvert_exporter": "python",
   "pygments_lexer": "ipython3",
   "version": "3.10.8"
  },
  "orig_nbformat": 4
 },
 "nbformat": 4,
 "nbformat_minor": 2
}
