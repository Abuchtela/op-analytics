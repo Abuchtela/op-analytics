{
 "cells": [
  {
   "cell_type": "code",
   "execution_count": 6,
   "metadata": {},
   "outputs": [],
   "source": [
    "# Generate static txt files for data points that we can reference elsewhere (i.e. Google Sheets)\n",
    "\n",
    "# Data Points: L1 Base Fee, Blob Base Fee, ETH/USD Conversion\n",
    "import requests\n",
    "from dotenv import load_dotenv\n",
    "load_dotenv()\n",
    "import os\n",
    "\n",
    "etherscan_api_key = os.environ.get('L1_ETHERSCAN_API')\n"
   ]
  },
  {
   "cell_type": "code",
   "execution_count": 7,
   "metadata": {},
   "outputs": [
    {
     "name": "stdout",
     "output_type": "stream",
     "text": [
      "ETH Price in USD: 3549.7308509082\n"
     ]
    }
   ],
   "source": [
    "# Get ETH/USD\n",
    "api_url = f\"https://api.etherscan.io/api?module=stats&action=ethprice&apikey={etherscan_api_key}\"\n",
    "# Make the GET request\n",
    "response = requests.get(api_url)\n",
    "# Check if the request was successful\n",
    "if response.status_code == 200:\n",
    "        # Parse the JSON response\n",
    "        data = response.json()\n",
    "        # Assuming you want to print or use the ETH price in USD\n",
    "        ethusd = data.get(\"result\", {}).get(\"ethusd\")\n",
    "        print(f\"ETH Price in USD: {ethusd}\")\n",
    "else:\n",
    "        print(\"Failed to fetch data from Etherscan API.\")"
   ]
  },
  {
   "cell_type": "code",
   "execution_count": 8,
   "metadata": {},
   "outputs": [
    {
     "name": "stdout",
     "output_type": "stream",
     "text": [
      "Suggested Base Fee: 100.578184701\n"
     ]
    }
   ],
   "source": [
    "api_url_gas_oracle = f\"https://api.etherscan.io/api?module=gastracker&action=gasoracle&apikey={etherscan_api_key}\"\n",
    "response_gas_oracle = requests.get(api_url_gas_oracle)\n",
    "if response_gas_oracle.status_code == 200:\n",
    "        # Parse the JSON response\n",
    "        data_gas_oracle = response_gas_oracle.json()\n",
    "        # Extract the suggestBaseFee\n",
    "        suggest_base_fee = data_gas_oracle.get(\"result\", {}).get(\"suggestBaseFee\")\n",
    "        print(f\"Suggested Base Fee: {suggest_base_fee}\")\n",
    "else:\n",
    "        print(\"Failed to fetch data from Etherscan API for gas oracle.\")"
   ]
  },
  {
   "cell_type": "code",
   "execution_count": 9,
   "metadata": {},
   "outputs": [],
   "source": [
    "#Write to Endpoints\n",
    "with open(f\"outputs/ethusd.txt\", 'w') as file:\n",
    "        file.write(ethusd)\n",
    "with open(f\"outputs/suggest_base_fee.txt\", 'w') as file:\n",
    "        file.write(suggest_base_fee)"
   ]
  }
 ],
 "metadata": {
  "kernelspec": {
   "display_name": "new-env",
   "language": "python",
   "name": "python3"
  },
  "language_info": {
   "codemirror_mode": {
    "name": "ipython",
    "version": 3
   },
   "file_extension": ".py",
   "mimetype": "text/x-python",
   "name": "python",
   "nbconvert_exporter": "python",
   "pygments_lexer": "ipython3",
   "version": "3.10.11"
  }
 },
 "nbformat": 4,
 "nbformat_minor": 2
}
