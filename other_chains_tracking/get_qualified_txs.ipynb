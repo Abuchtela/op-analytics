{
 "cells": [
  {
   "cell_type": "code",
   "execution_count": null,
   "metadata": {},
   "outputs": [],
   "source": [
    "import sys\n",
    "sys.path.append(\"../helper_functions\")\n",
    "import duneapi_utils as d\n",
    "import flipside_utils as f\n",
    "import clickhouse_utils as ch\n",
    "sys.path.pop()\n",
    "\n",
    "import numpy as np\n",
    "import pandas as pd\n",
    "import os"
   ]
  },
  {
   "cell_type": "code",
   "execution_count": null,
   "metadata": {},
   "outputs": [],
   "source": [
    "flipside_configs = [\n",
    "        {'blockchain': 'blast', 'name': 'Blast', 'layer': 'L2', 'trailing_days': 365}\n",
    "]\n",
    "clickhouse_configs = [\n",
    "        {'blockchain': 'metal', 'name': 'Metal', 'layer': 'L2', 'trailing_days': 365},\n",
    "        {'blockchain': 'mode', 'name': 'Mode', 'layer': 'L2', 'trailing_days': 365},\n",
    "        {'blockchain': 'bob', 'name': 'BOB (Build on Bitcoin)', 'layer': 'L2', 'trailing_days': 365},\n",
    "        {'blockchain': 'fraxtal', 'name': 'Fraxtal', 'layer': 'L2', 'trailing_days': 365},\n",
    "]"
   ]
  },
  {
   "cell_type": "code",
   "execution_count": null,
   "metadata": {},
   "outputs": [],
   "source": [
    "# Run Flipside\n",
    "flip_dfs = []\n",
    "with open(os.path.join(\"inputs/sql/flipside_bychain.sql\"), \"r\") as file:\n",
    "                        og_query = file.read()\n",
    "\n",
    "for chain in flipside_configs:\n",
    "        query = og_query\n",
    "        #Pass in Params to the query\n",
    "        query = query.replace(\"@blockchain@\", chain['blockchain'])\n",
    "        query = query.replace(\"@name@\", chain['name'])\n",
    "        query = query.replace(\"@layer@\", chain['layer'])\n",
    "        query = query.replace(\"@trailing_days@\", str(chain['trailing_days']))\n",
    "        \n",
    "        df = f.query_to_df(query)\n",
    "\n",
    "        flip_dfs.append(df)\n",
    "\n",
    "flip = pd.concat(flip_dfs)\n",
    "flip['source'] = 'flipside'\n",
    "flip['dt'] = pd.to_datetime(flip['dt']).dt.tz_localize(None)\n",
    "flip = flip[['dt','blockchain','name','layer','num_qualified_txs','source']]\n"
   ]
  },
  {
   "cell_type": "code",
   "execution_count": null,
   "metadata": {},
   "outputs": [],
   "source": [
    "# Run Dune\n",
    "dune_df = d.get_dune_data(query_id = 3740822, #https://dune.com/queries/3740822\n",
    "    name = \"dune_evms_qualified_txs\",\n",
    "    path = \"outputs\"\n",
    ")\n",
    "dune_df['source'] = 'dune'\n",
    "dune_df['dt'] = pd.to_datetime(dune_df['dt']).dt.tz_localize(None)\n",
    "dune_df = dune_df[['dt','blockchain','name','layer','num_qualified_txs','source']]"
   ]
  },
  {
   "cell_type": "code",
   "execution_count": null,
   "metadata": {},
   "outputs": [],
   "source": [
    "# Run Clickhouse\n",
    "ch_dfs = []\n",
    "ch_client = ch.connect_to_clickhouse_db() #Default is OPLabs DB\n",
    "with open(os.path.join(\"inputs/sql/goldsky_bychain.sql\"), \"r\") as file:\n",
    "                        og_query = file.read()\n",
    "\n",
    "for chain in clickhouse_configs:\n",
    "        query = og_query\n",
    "        #Pass in Params to the query\n",
    "        query = query.replace(\"@blockchain@\", chain['blockchain'])\n",
    "        query = query.replace(\"@name@\", chain['name'])\n",
    "        query = query.replace(\"@layer@\", chain['layer'])\n",
    "        query = query.replace(\"@trailing_days@\", str(chain['trailing_days']))\n",
    "        \n",
    "        df = ch_client.query_df(query)\n",
    "\n",
    "        ch_dfs.append(df)\n",
    "\n",
    "ch = pd.concat(ch_dfs)\n",
    "ch['source'] = 'goldsky'\n",
    "ch['dt'] = pd.to_datetime(ch['dt']).dt.tz_localize(None)\n",
    "ch = ch[['dt','blockchain','name','layer','num_qualified_txs','source']]"
   ]
  },
  {
   "cell_type": "code",
   "execution_count": null,
   "metadata": {},
   "outputs": [],
   "source": [
    "# Step 1: Filter dune_df for chains not in flip\n",
    "filtered_dune_df = dune_df[~dune_df['blockchain'].isin(flip['blockchain'])]\n",
    "# Step 2: Union flip and filtered_dune_df\n",
    "combined_flip_dune = pd.concat([flip, filtered_dune_df])\n",
    "# Step 3: Filter ch for chains not in combined_flip_dune\n",
    "filtered_ch = ch[~ch['blockchain'].isin(combined_flip_dune['blockchain'])]\n",
    "# Step 4: Union the result with filtered_ch\n",
    "final_df = pd.concat([combined_flip_dune, filtered_ch])\n",
    "# final_df\n"
   ]
  },
  {
   "cell_type": "code",
   "execution_count": 14,
   "metadata": {},
   "outputs": [],
   "source": [
    "opstack_metadata = pd.read_csv('../op_chains_tracking/outputs/chain_metadata.csv')\n",
    "\n",
    "opstack_metadata['display_name_lower'] = opstack_metadata['display_name'].str.lower()\n",
    "final_df['display_name_lower'] = final_df['name'].str.lower()\n",
    "\n",
    "meta_cols = ['is_op_chain','mainnet_chain_id','op_based_version', 'alignment','chain_name', 'display_name','display_name_lower']\n",
    "\n",
    "final_enriched_df = final_df.merge(opstack_metadata[meta_cols], on='display_name_lower', how = 'left')\n",
    "final_enriched_df['alignment'] = final_enriched_df['alignment'].fillna('Other EVMs')\n",
    "final_enriched_df['is_op_chain'] = final_enriched_df['is_op_chain'].fillna(False)\n",
    "final_enriched_df['display_name'] = final_enriched_df['display_name'].fillna(final_enriched_df['name'])\n",
    "\n",
    "final_enriched_df = final_enriched_df.drop(columns=['name'])"
   ]
  },
  {
   "cell_type": "code",
   "execution_count": 15,
   "metadata": {},
   "outputs": [],
   "source": [
    "final_enriched_df.sort_values(by=['dt','blockchain'], ascending =[False, False], inplace = True)\n",
    "\n",
    "final_enriched_df.to_csv('outputs/unified_qualified_txs.csv', index=False)"
   ]
  }
 ],
 "metadata": {
  "kernelspec": {
   "display_name": "new-env",
   "language": "python",
   "name": "python3"
  },
  "language_info": {
   "codemirror_mode": {
    "name": "ipython",
    "version": 3
   },
   "file_extension": ".py",
   "mimetype": "text/x-python",
   "name": "python",
   "nbconvert_exporter": "python",
   "pygments_lexer": "ipython3",
   "version": "3.10.11"
  }
 },
 "nbformat": 4,
 "nbformat_minor": 2
}
