{
 "cells": [
  {
   "cell_type": "code",
   "execution_count": 1,
   "metadata": {
    "metadata": {}
   },
   "outputs": [],
   "source": [
    "import requests as r\n",
    "import pandas as pd\n",
    "import numpy as np\n",
    "import os\n",
    "\n",
    "import sys\n",
    "sys.path.append(\"../helper_functions\")\n",
    "import duneapi_utils as d\n",
    "import pandas_utils as p\n",
    "import google_bq_utils as bqu\n",
    "sys.path.pop()\n",
    "\n",
    "import time"
   ]
  },
  {
   "cell_type": "code",
   "execution_count": 2,
   "metadata": {
    "metadata": {}
   },
   "outputs": [],
   "source": [
    "table_name = 'daily_opchain_aggregate_stats_dune'"
   ]
  },
  {
   "cell_type": "code",
   "execution_count": 3,
   "metadata": {},
   "outputs": [
    {
     "name": "stderr",
     "output_type": "stream",
     "text": [
      "\u001b[32m2024-06-02 20:08:54.416\u001b[0m | \u001b[1mINFO    \u001b[0m | \u001b[36mduneapi_utils\u001b[0m:\u001b[36mget_dune_data\u001b[0m:\u001b[36m44\u001b[0m - \u001b[1mResults available at https://dune.com/queries/2453515\u001b[0m\n"
     ]
    },
    {
     "name": "stdout",
     "output_type": "stream",
     "text": [
      "     dune runs\n"
     ]
    },
    {
     "name": "stderr",
     "output_type": "stream",
     "text": [
      "\u001b[32m2024-06-02 20:08:57.830\u001b[0m | \u001b[1mINFO    \u001b[0m | \u001b[36mduneapi_utils\u001b[0m:\u001b[36mget_dune_data\u001b[0m:\u001b[36m89\u001b[0m - \u001b[1m✨ Results saved as outputs/dune_daily_opchain_aggregate_stats_dune.csv, with 788 rows and 348 columns.\u001b[0m\n"
     ]
    }
   ],
   "source": [
    "# Run Dune\n",
    "print('     dune runs')\n",
    "dune_df = d.get_dune_data(query_id = 2453515, #https://dune.com/queries/2453515\n",
    "    name = \"dune_\" + table_name,\n",
    "    path = \"outputs\",\n",
    "    performance=\"large\"\n",
    ")\n",
    "dune_df['source'] = 'dune'\n",
    "dune_df['dt'] = pd.to_datetime(dune_df['dt']).dt.tz_localize(None)\n"
   ]
  },
  {
   "cell_type": "code",
   "execution_count": 4,
   "metadata": {},
   "outputs": [
    {
     "name": "stderr",
     "output_type": "stream",
     "text": [
      "/var/folders/by/kltjc8yd0yz_7_wrtrzhrm9m0000gn/T/ipykernel_67244/3583440690.py:2: FutureWarning: Downcasting behavior in `replace` is deprecated and will be removed in a future version. To retain the old behavior, explicitly call `result.infer_objects(copy=False)`. To opt-in to the future behavior, set `pd.set_option('future.no_silent_downcasting', True)`\n",
      "  dune_df = dune_df.replace([np.inf, -np.inf, np.nan], 0)\n"
     ]
    }
   ],
   "source": [
    "# Replace inf, -inf, and NaN with 0\n",
    "dune_df = dune_df.replace([np.inf, -np.inf, np.nan], 0)\n",
    "dune_df = dune_df.replace(['inf', 'NaN'], 0)"
   ]
  },
  {
   "cell_type": "code",
   "execution_count": 5,
   "metadata": {},
   "outputs": [],
   "source": [
    "dune_df[\"avg_l1_calldata_gas_price_on_l1_inbox\"] = dune_df[\"avg_l1_calldata_gas_price_on_l1_inbox\"].astype('float64')\n",
    "dune_df[\"avg_l1_calldata_gas_price_on_l1_inbox_by_day\"] = dune_df[\"avg_l1_calldata_gas_price_on_l1_inbox_by_day\"].astype('float64')\n",
    "dune_df[\"source\"] = dune_df[\"source\"].astype('string')\n",
    "dune_df[\"chain_layer\"] = dune_df[\"chain_layer\"].astype('string')\n",
    "dune_df[\"chain_type\"] = dune_df[\"chain_type\"].astype('string')\n",
    "\n",
    "# # dune_df.dtypes\n",
    "# with pd.option_context('display.max_rows', None, 'display.max_columns', None):\n",
    "#     # display(dune_df.sample(5))\n",
    "#     print(\"\\nData types:\")\n",
    "#     print(dune_df.dtypes[40:])\n",
    "\n",
    "# print(dune_df[\"chain_layer\"].unique())\n",
    "# print(dune_df[\"chain_layer\"].dtypes)"
   ]
  },
  {
   "cell_type": "code",
   "execution_count": 6,
   "metadata": {},
   "outputs": [
    {
     "name": "stdout",
     "output_type": "stream",
     "text": [
      "True\n",
      "Running locally\n"
     ]
    }
   ],
   "source": [
    "#BQ Upload\n",
    "bqu.write_df_to_bq_table(dune_df, table_name)"
   ]
  }
 ],
 "metadata": {
  "kernelspec": {
   "display_name": "new-env",
   "language": "python",
   "name": "python3"
  },
  "language_info": {
   "codemirror_mode": {
    "name": "ipython",
    "version": 3
   },
   "file_extension": ".py",
   "mimetype": "text/x-python",
   "name": "python",
   "nbconvert_exporter": "python",
   "pygments_lexer": "ipython3",
   "version": "3.12.3"
  },
  "orig_nbformat": 4
 },
 "nbformat": 4,
 "nbformat_minor": 2
}
