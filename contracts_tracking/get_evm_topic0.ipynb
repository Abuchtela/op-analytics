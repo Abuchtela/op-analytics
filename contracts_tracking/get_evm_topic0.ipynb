{
 "cells": [
  {
   "cell_type": "code",
   "execution_count": 1,
   "metadata": {},
   "outputs": [],
   "source": [
    "import sys\n",
    "sys.path.append(\"../helper_functions\")\n",
    "import web3py_utils as w3py\n",
    "sys.path.pop()\n",
    "\n",
    "import pandas as pd\n",
    "from dotenv import load_dotenv\n",
    "load_dotenv()\n",
    "import os\n",
    "\n",
    "token_events = [\n",
    "     'Transfer(from, to, tokenId)'\n",
    "    ,'Approval(owner, approved, tokenId)'\n",
    "    ,'ApprovalForAll(owner, operator, approved)'\n",
    "]\n",
    "\n",
    "\n",
    "arr = token_events"
   ]
  },
  {
   "cell_type": "code",
   "execution_count": 2,
   "metadata": {},
   "outputs": [
    {
     "name": "stdout",
     "output_type": "stream",
     "text": [
      "format for sql query\n",
      "\n",
      "('Transfer(from,to,tokenId)', 0xb9296e39),\n",
      "('Approval(owner,approved,tokenId)', 0x08c9cb98),\n",
      "('ApprovalForAll(owner,operator,approved)', 0x20b3ccab)\n"
     ]
    }
   ],
   "source": [
    "\n",
    "test_arr = []\n",
    "\n",
    "for sig in arr:\n",
    "        sig = sig.replace(\" \", \"\") #replace spaces\n",
    "        bytecode = w3py.generate_ethereum_event_signature_hash(sig)\n",
    "        test_arr.append([sig,bytecode])\n",
    "\n",
    "formatted_arr = []\n",
    "\n",
    "for item in test_arr:\n",
    "    function_name = item[0]\n",
    "    opcode = item[1].replace(\"'0x\", \"0x\")  # Remove the '0x' prefix\n",
    "    formatted_arr.append(f\"('{function_name}', {opcode})\")\n",
    "\n",
    "# Join the formatted array using commas\n",
    "formatted_string = \",\\n\".join(formatted_arr)\n",
    "\n",
    "print('format for sql query\\n')\n",
    "print(formatted_string)"
   ]
  }
 ],
 "metadata": {
  "kernelspec": {
   "display_name": "new-env",
   "language": "python",
   "name": "python3"
  },
  "language_info": {
   "codemirror_mode": {
    "name": "ipython",
    "version": 3
   },
   "file_extension": ".py",
   "mimetype": "text/x-python",
   "name": "python",
   "nbconvert_exporter": "python",
   "pygments_lexer": "ipython3",
   "version": "3.10.11"
  },
  "orig_nbformat": 4
 },
 "nbformat": 4,
 "nbformat_minor": 2
}
