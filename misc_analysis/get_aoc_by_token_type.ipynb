{
 "cells": [
  {
   "cell_type": "code",
   "execution_count": null,
   "metadata": {},
   "outputs": [],
   "source": [
    "import sys\n",
    "sys.path.append(\"../helper_functions\")\n",
    "import duneapi_utils as d\n",
    "import l2beat_utils as ltwo\n",
    "sys.path.pop()\n",
    "\n",
    "import numpy as np\n",
    "import pandas as pd\n",
    "import time\n",
    "import seaborn as sns\n",
    "import matplotlib.pyplot as plt\n",
    "import matplotlib.ticker as ticker"
   ]
  },
  {
   "cell_type": "code",
   "execution_count": null,
   "metadata": {},
   "outputs": [],
   "source": [
    "# # Get token classification\n",
    "# # https://dune.com/queries/3852319\n",
    "token_df = d.get_dune_data(query_id = 3852319,\n",
    "    name = \"tokens_by_type_base_opm\",\n",
    "    performance = 'large',\n",
    "    num_hours_to_rerun=0\n",
    ")\n",
    "\n",
    "token_df.sample(5)"
   ]
  },
  {
   "cell_type": "code",
   "execution_count": null,
   "metadata": {},
   "outputs": [],
   "source": [
    "# Get Lastest L2B aoc\n",
    "l2b_df = ltwo.get_daily_aoc_by_token()\n",
    "l2b_df_spc = l2b_df[l2b_df['project'].isin(['optimism','base'])]\n",
    "l2b_df_spc = l2b_df_spc.rename(columns={'project':'blockchain'})\n",
    "\n",
    "l2b_df_spc = l2b_df_spc[['dt','blockchain','token_type','asset_id','address','usd_value']]\n",
    "l2b_df_spc['address'] = l2b_df_spc['address'].str.lower()\n",
    "\n",
    "l2b_df_spc.sample(5)"
   ]
  },
  {
   "cell_type": "code",
   "execution_count": null,
   "metadata": {},
   "outputs": [],
   "source": [
    "cols = ['blockchain','token_address','l1_token','token_classification','symbol']\n",
    "token_if_l1_df = token_df[cols].rename(columns={'l1_token':'address'})\n",
    "token_if_l2_df = token_df[cols].rename(columns={'token_address':'address'})"
   ]
  },
  {
   "cell_type": "code",
   "execution_count": null,
   "metadata": {},
   "outputs": [],
   "source": [
    "token_if_l1_df = token_if_l1_df[~token_if_l1_df['address'].isna()]\n",
    "token_if_l2_df = token_if_l2_df[~token_if_l2_df['address'].isna()]\n",
    "token_if_l2_df.sample(5)"
   ]
  },
  {
   "cell_type": "code",
   "execution_count": null,
   "metadata": {},
   "outputs": [],
   "source": [
    "unified_df = l2b_df_spc.merge(token_if_l1_df[token_if_l1_df['address'].isna()][['blockchain','address','token_classification']]\n",
    "                              , on=['blockchain','address'], how='left')\n",
    "unified_df = unified_df.merge(token_if_l2_df[['blockchain','address','token_classification']]\n",
    "                              , on=['blockchain','address'], how='left')"
   ]
  },
  {
   "cell_type": "code",
   "execution_count": null,
   "metadata": {},
   "outputs": [],
   "source": [
    "unified_df['token_classification'] = unified_df['token_classification_x'].fillna(unified_df['token_classification_y']).fillna('Unknown')\n",
    "unified_df = unified_df.drop(columns=['token_classification_x', 'token_classification_y'])"
   ]
  },
  {
   "cell_type": "code",
   "execution_count": null,
   "metadata": {},
   "outputs": [],
   "source": [
    "#Drop dupes where 1 L1 maps to multiple L2 tokens\n",
    "unified_df = unified_df.drop_duplicates(keep='first')\n",
    "unified_df.to_csv('csv_outputs/aoc_by_chain_token_classification.csv')"
   ]
  },
  {
   "cell_type": "code",
   "execution_count": null,
   "metadata": {},
   "outputs": [],
   "source": [
    "unified_df.sample(5)"
   ]
  },
  {
   "cell_type": "code",
   "execution_count": null,
   "metadata": {},
   "outputs": [],
   "source": [
    "grouped_df = unified_df.groupby(['blockchain', 'token_type', 'token_classification'])['usd_value'].sum().reset_index()\n",
    "\n",
    "# Calculate the total usd_value for each blockchain\n",
    "total_by_blockchain = grouped_df.groupby('blockchain')['usd_value'].sum().reset_index()\n",
    "total_by_blockchain = total_by_blockchain.rename(columns={'usd_value': 'total_usd_value_by_blockchain'})\n",
    "# Merge the total_by_blockchain back into the grouped_df\n",
    "grouped_df = grouped_df.merge(total_by_blockchain, on='blockchain')\n",
    "# Calculate the overall total usd_value\n",
    "overall_total = grouped_df['usd_value'].sum()\n",
    "# Add new columns for the percentages\n",
    "grouped_df['percent_of_blockchain'] = (grouped_df['usd_value'] / grouped_df['total_usd_value_by_blockchain']) * 100\n",
    "grouped_df['percent_of_overall'] = (grouped_df['usd_value'] / overall_total) * 100\n",
    "# Drop the total_usd_value_by_blockchain column as it's no longer needed\n",
    "grouped_df = grouped_df.drop(columns=['total_usd_value_by_blockchain'])\n",
    "# Display the updated DataFrame\n",
    "# print(grouped_df)\n",
    "# # Display the grouped table\n",
    "grouped_df.sort_values(by='usd_value',ascending=False)"
   ]
  },
  {
   "cell_type": "code",
   "execution_count": null,
   "metadata": {},
   "outputs": [],
   "source": [
    "# Convert usd_value to millions\n",
    "grouped_df['usd_value_millions'] = grouped_df['usd_value'] / 1e6\n",
    "\n",
    "# Set the order of token_type\n",
    "token_type_order = ['native', 'canonical', 'external']\n",
    "grouped_df['token_type'] = pd.Categorical(grouped_df['token_type'], categories=token_type_order, ordered=True)\n",
    "\n",
    "# Set the style and figure size\n",
    "sns.set(style=\"whitegrid\")\n",
    "plt.figure(figsize=(20, 5 * len(token_type_order)))\n",
    "\n",
    "# Create a custom color palette\n",
    "color_palette = {'optimism': '#ff0420', 'base': '#0b45ed'}\n",
    "\n",
    "# Create the faceted bar chart\n",
    "g = sns.FacetGrid(grouped_df, row=\"token_type\", height=4, aspect=2, sharex=True, sharey=True)\n",
    "\n",
    "# Define the plotting function\n",
    "def plot_bars(data, **kwargs):\n",
    "    ax = sns.barplot(x=\"token_classification\", y=\"usd_value_millions\", hue=\"blockchain\", data=data, \n",
    "                     palette=color_palette, hue_order=['optimism', 'base'], **kwargs)\n",
    "    for p in ax.patches:\n",
    "        ax.annotate(f'${p.get_height():.1f}M', (p.get_x() + p.get_width() / 2., p.get_height()), \n",
    "                    ha='center', va='center', fontsize=10, color='black', xytext=(0, 5), \n",
    "                    textcoords='offset points')\n",
    "    plt.xticks(rotation=45, ha='right')\n",
    "    plt.ylabel(\"USD Value (Millions)\")\n",
    "\n",
    "# Apply the plotting function to each facet\n",
    "g.map_dataframe(plot_bars)\n",
    "\n",
    "# Adjust the y-axis to be the same for all facets\n",
    "y_max = grouped_df['usd_value_millions'].max()\n",
    "g.set(ylim=(0, y_max))\n",
    "\n",
    "# Add labels and title\n",
    "g.set_axis_labels(\"Token Classification\", \"\")\n",
    "g.fig.suptitle(\"USD Value by Token Classification, Blockchain, and Token Type\", fontsize=16, y=1.02)\n",
    "\n",
    "# Adjust the legend\n",
    "g.add_legend(title=\"Blockchain\", bbox_to_anchor=(1.05, 1), loc='upper left')\n",
    "\n",
    "# Adjust the layout and display the plot\n",
    "plt.tight_layout()\n",
    "plt.show()"
   ]
  }
 ],
 "metadata": {
  "kernelspec": {
   "display_name": "new-env",
   "language": "python",
   "name": "python3"
  },
  "language_info": {
   "codemirror_mode": {
    "name": "ipython",
    "version": 3
   },
   "file_extension": ".py",
   "mimetype": "text/x-python",
   "name": "python",
   "nbconvert_exporter": "python",
   "pygments_lexer": "ipython3",
   "version": "3.10.11"
  }
 },
 "nbformat": 4,
 "nbformat_minor": 2
}
