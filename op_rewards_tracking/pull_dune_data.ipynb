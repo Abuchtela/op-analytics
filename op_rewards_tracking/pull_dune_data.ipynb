{
 "cells": [
  {
   "cell_type": "code",
   "execution_count": 1,
   "metadata": {},
   "outputs": [],
   "source": [
    "import sys\n",
    "\n",
    "sys.path.append(\"../helper_functions\")\n",
    "import os\n",
    "import duneapi_utils as d"
   ]
  },
  {
   "cell_type": "code",
   "execution_count": 2,
   "metadata": {},
   "outputs": [],
   "source": [
    "# add any data to pull here\n",
    "data = {\n",
    "    1886707: \"dune_op_distribution_type\",\n",
    "    2199844: \"dune_usage_by_app\",\n",
    "    2195796: \"dune_op_program_performance_summary\",\n",
    "}"
   ]
  },
  {
   "cell_type": "code",
   "execution_count": 3,
   "metadata": {},
   "outputs": [
    {
     "name": "stderr",
     "output_type": "stream",
     "text": [
      "2023-03-27 13:19:11.485 | INFO     | duneapi_utils:get_dune_data:24 - Results available at https://dune.com/queries/1886707\n",
      "2023-03-27 13:19:12,333 INFO dune_client.base_client waiting for query execution 01GWJ19FG46HQCRF46AZG1W99R to complete: ExecutionState.EXECUTING\n",
      "2023-03-27 13:19:18.208 | INFO     | duneapi_utils:get_dune_data:38 - ✨ Results saved as csv_outputs/dune_op_distribution_type.csv, with 407 rows and 12 columns.\n",
      "2023-03-27 13:19:18.209 | INFO     | duneapi_utils:get_dune_data:24 - Results available at https://dune.com/queries/2199844\n",
      "2023-03-27 13:19:19,478 INFO dune_client.base_client waiting for query execution 01GWJ19P5E7XXZWJGP09V2KSCK to complete: ExecutionState.EXECUTING\n",
      "2023-03-27 13:19:24,943 INFO dune_client.base_client waiting for query execution 01GWJ19P5E7XXZWJGP09V2KSCK to complete: ExecutionState.EXECUTING\n",
      "2023-03-27 13:19:30,372 INFO dune_client.base_client waiting for query execution 01GWJ19P5E7XXZWJGP09V2KSCK to complete: ExecutionState.EXECUTING\n",
      "2023-03-27 13:19:35,932 INFO dune_client.base_client waiting for query execution 01GWJ19P5E7XXZWJGP09V2KSCK to complete: ExecutionState.EXECUTING\n",
      "2023-03-27 13:19:41,361 INFO dune_client.base_client waiting for query execution 01GWJ19P5E7XXZWJGP09V2KSCK to complete: ExecutionState.EXECUTING\n",
      "2023-03-27 13:19:46,743 INFO dune_client.base_client waiting for query execution 01GWJ19P5E7XXZWJGP09V2KSCK to complete: ExecutionState.EXECUTING\n",
      "2023-03-27 13:19:52,175 INFO dune_client.base_client waiting for query execution 01GWJ19P5E7XXZWJGP09V2KSCK to complete: ExecutionState.EXECUTING\n",
      "2023-03-27 13:19:57,577 INFO dune_client.base_client waiting for query execution 01GWJ19P5E7XXZWJGP09V2KSCK to complete: ExecutionState.EXECUTING\n",
      "2023-03-27 13:20:03,123 INFO dune_client.base_client waiting for query execution 01GWJ19P5E7XXZWJGP09V2KSCK to complete: ExecutionState.EXECUTING\n",
      "2023-03-27 13:20:08,585 INFO dune_client.base_client waiting for query execution 01GWJ19P5E7XXZWJGP09V2KSCK to complete: ExecutionState.EXECUTING\n",
      "2023-03-27 13:20:14,196 INFO dune_client.base_client waiting for query execution 01GWJ19P5E7XXZWJGP09V2KSCK to complete: ExecutionState.EXECUTING\n",
      "2023-03-27 13:20:19,761 INFO dune_client.base_client waiting for query execution 01GWJ19P5E7XXZWJGP09V2KSCK to complete: ExecutionState.EXECUTING\n",
      "2023-03-27 13:20:25,336 INFO dune_client.base_client waiting for query execution 01GWJ19P5E7XXZWJGP09V2KSCK to complete: ExecutionState.EXECUTING\n",
      "2023-03-27 13:20:30,797 INFO dune_client.base_client waiting for query execution 01GWJ19P5E7XXZWJGP09V2KSCK to complete: ExecutionState.EXECUTING\n",
      "2023-03-27 13:26:44.137 | INFO     | duneapi_utils:get_dune_data:38 - ✨ Results saved as csv_outputs/dune_usage_by_app.csv, with 39 rows and 44 columns.\n",
      "2023-03-27 13:26:44.138 | INFO     | duneapi_utils:get_dune_data:24 - Results available at https://dune.com/queries/2195796\n",
      "2023-03-27 13:26:45,296 INFO dune_client.base_client waiting for query execution 01GWJ1Q9TBBV9QFHGK57QMXJB9 to complete: ExecutionState.EXECUTING\n",
      "2023-03-27 13:26:50,695 INFO dune_client.base_client waiting for query execution 01GWJ1Q9TBBV9QFHGK57QMXJB9 to complete: ExecutionState.EXECUTING\n",
      "2023-03-27 13:26:56,192 INFO dune_client.base_client waiting for query execution 01GWJ1Q9TBBV9QFHGK57QMXJB9 to complete: ExecutionState.EXECUTING\n",
      "2023-03-27 13:27:01,624 INFO dune_client.base_client waiting for query execution 01GWJ1Q9TBBV9QFHGK57QMXJB9 to complete: ExecutionState.EXECUTING\n",
      "2023-03-27 13:27:07,194 INFO dune_client.base_client waiting for query execution 01GWJ1Q9TBBV9QFHGK57QMXJB9 to complete: ExecutionState.EXECUTING\n",
      "2023-03-27 13:27:12,787 INFO dune_client.base_client waiting for query execution 01GWJ1Q9TBBV9QFHGK57QMXJB9 to complete: ExecutionState.EXECUTING\n",
      "2023-03-27 13:27:18,253 INFO dune_client.base_client waiting for query execution 01GWJ1Q9TBBV9QFHGK57QMXJB9 to complete: ExecutionState.EXECUTING\n",
      "2023-03-27 13:27:23,980 INFO dune_client.base_client waiting for query execution 01GWJ1Q9TBBV9QFHGK57QMXJB9 to complete: ExecutionState.EXECUTING\n",
      "2023-03-27 13:27:29,757 INFO dune_client.base_client waiting for query execution 01GWJ1Q9TBBV9QFHGK57QMXJB9 to complete: ExecutionState.EXECUTING\n",
      "2023-03-27 13:27:35,264 INFO dune_client.base_client waiting for query execution 01GWJ1Q9TBBV9QFHGK57QMXJB9 to complete: ExecutionState.EXECUTING\n",
      "2023-03-27 13:27:40,764 INFO dune_client.base_client waiting for query execution 01GWJ1Q9TBBV9QFHGK57QMXJB9 to complete: ExecutionState.EXECUTING\n",
      "2023-03-27 13:27:46,197 INFO dune_client.base_client waiting for query execution 01GWJ1Q9TBBV9QFHGK57QMXJB9 to complete: ExecutionState.EXECUTING\n",
      "2023-03-27 13:27:51,956 INFO dune_client.base_client waiting for query execution 01GWJ1Q9TBBV9QFHGK57QMXJB9 to complete: ExecutionState.EXECUTING\n",
      "2023-03-27 13:27:57,408 INFO dune_client.base_client waiting for query execution 01GWJ1Q9TBBV9QFHGK57QMXJB9 to complete: ExecutionState.EXECUTING\n",
      "2023-03-27 13:28:02,869 INFO dune_client.base_client waiting for query execution 01GWJ1Q9TBBV9QFHGK57QMXJB9 to complete: ExecutionState.EXECUTING\n",
      "2023-03-27 13:28:08,209 INFO dune_client.base_client waiting for query execution 01GWJ1Q9TBBV9QFHGK57QMXJB9 to complete: ExecutionState.EXECUTING\n",
      "2023-03-27 13:28:13,555 INFO dune_client.base_client waiting for query execution 01GWJ1Q9TBBV9QFHGK57QMXJB9 to complete: ExecutionState.EXECUTING\n",
      "2023-03-27 13:28:19,425 INFO dune_client.base_client waiting for query execution 01GWJ1Q9TBBV9QFHGK57QMXJB9 to complete: ExecutionState.EXECUTING\n",
      "2023-03-27 13:28:24,861 INFO dune_client.base_client waiting for query execution 01GWJ1Q9TBBV9QFHGK57QMXJB9 to complete: ExecutionState.EXECUTING\n",
      "2023-03-27 13:28:30,190 INFO dune_client.base_client waiting for query execution 01GWJ1Q9TBBV9QFHGK57QMXJB9 to complete: ExecutionState.EXECUTING\n",
      "2023-03-27 13:28:35,614 INFO dune_client.base_client waiting for query execution 01GWJ1Q9TBBV9QFHGK57QMXJB9 to complete: ExecutionState.EXECUTING\n",
      "2023-03-27 13:28:41,042 INFO dune_client.base_client waiting for query execution 01GWJ1Q9TBBV9QFHGK57QMXJB9 to complete: ExecutionState.EXECUTING\n",
      "2023-03-27 13:28:47.171 | INFO     | duneapi_utils:get_dune_data:38 - ✨ Results saved as csv_outputs/dune_op_program_performance_summary.csv, with 39 rows and 44 columns.\n"
     ]
    }
   ],
   "source": [
    "for query_id, csv_name in data.items():\n",
    "    d.get_dune_data(query_id, csv_name)"
   ]
  }
 ],
 "metadata": {
  "kernelspec": {
   "display_name": "Python 3",
   "language": "python",
   "name": "python3"
  },
  "language_info": {
   "codemirror_mode": {
    "name": "ipython",
    "version": 3
   },
   "file_extension": ".py",
   "mimetype": "text/x-python",
   "name": "python",
   "nbconvert_exporter": "python",
   "pygments_lexer": "ipython3",
   "version": "3.10.4"
  },
  "orig_nbformat": 4
 },
 "nbformat": 4,
 "nbformat_minor": 2
}
