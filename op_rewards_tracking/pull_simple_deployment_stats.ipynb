{
 "cells": [
  {
   "cell_type": "code",
   "execution_count": null,
   "metadata": {},
   "outputs": [],
   "source": [
    "# Based off of Cow Protocol's Dune Client: https://github.com/cowprotocol/dune-client\n",
    "import pandas as pd\n",
    "import dotenv\n",
    "import os\n",
    "\n",
    "from dune_client.types import QueryParameter\n",
    "from dune_client.client import DuneClient\n",
    "from dune_client.query import Query"
   ]
  },
  {
   "cell_type": "code",
   "execution_count": null,
   "metadata": {},
   "outputs": [],
   "source": [
    "# https://dune.com/queries/2162007 # OP Distributed - OP Deployed Aggregate\n",
    "query_aggregate = Query(\n",
    "    name=\"Latest OP Deployments by Project\",\n",
    "    query_id=2162007,\n",
    ")\n",
    "print(\"Results available at\", query_aggregate.url())\n",
    "\n",
    "# https://dune.com/queries/1886707 # OP Distributed - OP Deployed By Type\n",
    "query_type = Query(\n",
    "    name=\"Latest OP Deployments by Project and Type\",\n",
    "    query_id=1886707,\n",
    ")\n",
    "print(\"Results available at\", query_type.url())"
   ]
  },
  {
   "cell_type": "code",
   "execution_count": null,
   "metadata": {},
   "outputs": [],
   "source": [
    "dotenv.load_dotenv()\n",
    "dune = DuneClient(os.environ[\"DUNE_API_KEY\"])\n",
    "## Don't run aggregate, this is duplicative of by type\n",
    "# results_aggregate = dune.refresh(query_aggregate)\n",
    "# print('aggregate done')\n",
    "results_type = dune.refresh(query_type)\n",
    "print('type done')"
   ]
  },
  {
   "cell_type": "code",
   "execution_count": null,
   "metadata": {},
   "outputs": [],
   "source": [
    "## Don't run aggregate, this is duplicative of by type\n",
    "# df_agg = pd.DataFrame(results_aggregate.result.rows)\n",
    "# df_agg['last_updated'] = results_aggregate.times.submitted_at\n",
    "\n",
    "df_type = pd.DataFrame(results_type.result.rows)\n",
    "df_type['last_updated'] = results_type.times.submitted_at\n",
    "\n",
    "if not os.path.exists('csv_output'):\n",
    "    os.makedirs('csv_output')\n",
    "\n",
    "# df_agg.to_csv('csv_output/dune_op_distribution_agg.csv')\n",
    "df_type.to_csv('csv_output/dune_op_distribution_type.csv')"
   ]
  },
  {
   "cell_type": "code",
   "execution_count": null,
   "metadata": {},
   "outputs": [],
   "source": [
    "display(df_type)"
   ]
  }
 ],
 "metadata": {
  "kernelspec": {
   "display_name": "new-env",
   "language": "python",
   "name": "python3"
  },
  "language_info": {
   "codemirror_mode": {
    "name": "ipython",
    "version": 3
   },
   "file_extension": ".py",
   "mimetype": "text/x-python",
   "name": "python",
   "nbconvert_exporter": "python",
   "pygments_lexer": "ipython3",
   "version": "3.10.9"
  },
  "orig_nbformat": 4,
  "vscode": {
   "interpreter": {
    "hash": "7d537a1638226190f579d6fbb68604c1b09ebc740a69df557abedb49ad78e592"
   }
  }
 },
 "nbformat": 4,
 "nbformat_minor": 2
}
