{
 "cells": [
  {
   "cell_type": "code",
   "execution_count": null,
   "metadata": {},
   "outputs": [],
   "source": [
    "import pandas as pd\n",
    "\n",
    "import sys\n",
    "sys.path.append(\"../helper_functions\")\n",
    "import web3py_utils as w\n",
    "sys.path.pop()\n",
    "\n",
    "import dotenv\n",
    "import os\n",
    "dotenv.load_dotenv()\n",
    "\n",
    "op_node = os.environ[\"OP_NODE\"]\n",
    "op_etherscan = os.environ[\"OP_ETHERSCAN_API\"]\n",
    "\n",
    "ts = '2023-04-25 23:59:00'\n",
    "address = '0x4200000000000000000000000000000000000011'\n",
    "# print(ts)"
   ]
  },
  {
   "cell_type": "code",
   "execution_count": null,
   "metadata": {},
   "outputs": [],
   "source": [
    "print('address: ' + str(address) )\n",
    "# bn = w.getBlockByTimestamp(op_etherscan,ts)\n",
    "bn = 94256243 #hardcoded - alchemy estimator was off\n",
    "print('block number: ' + str(bn))\n",
    "print('https://optimistic.etherscan.io/block/' + str(bn))\n",
    "b = w.alchemy_get_block_by_number(op_node,bn)\n",
    "bal = w.alchemy_get_eth_balance_by_block(op_node, b, address)\n",
    "print('eth balance: ' + str(bal) )"
   ]
  }
 ],
 "metadata": {
  "kernelspec": {
   "display_name": "new-env",
   "language": "python",
   "name": "python3"
  },
  "language_info": {
   "codemirror_mode": {
    "name": "ipython",
    "version": 3
   },
   "file_extension": ".py",
   "mimetype": "text/x-python",
   "name": "python",
   "nbconvert_exporter": "python",
   "pygments_lexer": "ipython3",
   "version": "3.10.11"
  },
  "orig_nbformat": 4
 },
 "nbformat": 4,
 "nbformat_minor": 2
}
