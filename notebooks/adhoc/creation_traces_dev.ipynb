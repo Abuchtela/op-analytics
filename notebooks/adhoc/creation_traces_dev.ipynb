{
 "cells": [
  {
   "cell_type": "markdown",
   "metadata": {},
   "source": [
    "## Prepare data reader for a given chain and date"
   ]
  },
  {
   "cell_type": "code",
   "execution_count": 1,
   "metadata": {},
   "outputs": [
    {
     "name": "stdout",
     "output_type": "stream",
     "text": [
      "\u001b[2m2024-11-22 17:30:21\u001b[0m [\u001b[32m\u001b[1mdebug    \u001b[0m] \u001b[1mconnecting to OPLABS Clickhouse client...\u001b[0m \u001b[36mfilename\u001b[0m=\u001b[35mclient.py\u001b[0m \u001b[36mlineno\u001b[0m=\u001b[35m26\u001b[0m\n",
      "\u001b[2m2024-11-22 17:30:21\u001b[0m [\u001b[32m\u001b[1mdebug    \u001b[0m] \u001b[1mloaded vault: 16 items        \u001b[0m \u001b[36mfilename\u001b[0m=\u001b[35mvault.py\u001b[0m \u001b[36mlineno\u001b[0m=\u001b[35m74\u001b[0m\n",
      "\u001b[2m2024-11-22 17:30:22\u001b[0m [\u001b[32m\u001b[1mdebug    \u001b[0m] \u001b[1minitialized OPLABS Clickhouse client.\u001b[0m \u001b[36mfilename\u001b[0m=\u001b[35mclient.py\u001b[0m \u001b[36mlineno\u001b[0m=\u001b[35m38\u001b[0m\n",
      "\u001b[2m2024-11-22 17:30:22\u001b[0m [\u001b[32m\u001b[1minfo     \u001b[0m] \u001b[1mprepared 1 input batches.     \u001b[0m \u001b[36mfilename\u001b[0m=\u001b[35mreader.py\u001b[0m \u001b[36mlineno\u001b[0m=\u001b[35m147\u001b[0m\n"
     ]
    }
   ],
   "source": [
    "from op_analytics.coreutils.duckdb_inmem import init_client\n",
    "from op_analytics.coreutils.partitioned import DataReader, DataLocation\n",
    "from op_analytics.datapipeline.etl.intermediate.construct import construct_data_readers\n",
    "\n",
    "from op_analytics.datapipeline.etl.intermediate.udfs import create_duckdb_macros\n",
    "\n",
    "\n",
    "# Define the input data range.\n",
    "read_batches: list[DataReader] = construct_data_readers(\n",
    "    chains=[\"op\"],\n",
    "    range_spec=\"@20241118:+1\",\n",
    "    read_from=DataLocation.GCS\n",
    ")\n",
    "\n",
    "\n",
    "# Select input for one date and build the intermediate model inputs.\n",
    "batch = read_batches[0]\n",
    "\n",
    "\n",
    "duckdb_client = init_client()\n",
    "create_duckdb_macros(duckdb_client)\n"
   ]
  },
  {
   "cell_type": "markdown",
   "metadata": {},
   "source": [
    "## Run the model\n",
    "\n",
    "This automatically registers the model outputs as duckdb tables."
   ]
  },
  {
   "cell_type": "code",
   "execution_count": 2,
   "metadata": {},
   "outputs": [
    {
     "name": "stdout",
     "output_type": "stream",
     "text": [
      "\u001b[2m2024-11-22 17:30:26\u001b[0m [\u001b[32m\u001b[1minfo     \u001b[0m] \u001b[1mRendering query               \u001b[0m \u001b[36mfilename\u001b[0m=\u001b[35mquerybuilder.py\u001b[0m \u001b[36mlineno\u001b[0m=\u001b[35m51\u001b[0m \u001b[36mmodel\u001b[0m=\u001b[35mdaily_address_summary\u001b[0m \u001b[36mtemplate\u001b[0m=\u001b[35mtransaction_fees\u001b[0m\n"
     ]
    },
    {
     "name": "stdout",
     "output_type": "stream",
     "text": [
      "\u001b[2m2024-11-22 17:30:26\u001b[0m [\u001b[33m\u001b[1mwarning  \u001b[0m] \u001b[1mRendered SQL template does not match expectation. Please update: /Users/chuxinhuang/work/op-analytics/src/op_analytics/datapipeline/etl/intermediate/rendered/transaction_fees.rendered.sql\u001b[0m \u001b[36mfilename\u001b[0m=\u001b[35mquerybuilder.py\u001b[0m \u001b[36mlineno\u001b[0m=\u001b[35m65\u001b[0m \u001b[36mmodel\u001b[0m=\u001b[35mdaily_address_summary\u001b[0m\n",
      "\u001b[2m2024-11-22 17:30:26\u001b[0m [\u001b[32m\u001b[1minfo     \u001b[0m] \u001b[1mRendering query               \u001b[0m \u001b[36mfilename\u001b[0m=\u001b[35mquerybuilder.py\u001b[0m \u001b[36mlineno\u001b[0m=\u001b[35m51\u001b[0m \u001b[36mmodel\u001b[0m=\u001b[35mdaily_address_summary\u001b[0m \u001b[36mtemplate\u001b[0m=\u001b[35mdaily_address_summary\u001b[0m\n",
      "\u001b[2m2024-11-22 17:30:26\u001b[0m [\u001b[32m\u001b[1minfo     \u001b[0m] \u001b[1mRendering query               \u001b[0m \u001b[36mfilename\u001b[0m=\u001b[35mquerybuilder.py\u001b[0m \u001b[36mlineno\u001b[0m=\u001b[35m51\u001b[0m \u001b[36mmodel\u001b[0m=\u001b[35mcreation_traces\u001b[0m \u001b[36mtemplate\u001b[0m=\u001b[35mcreation_traces\u001b[0m\n",
      "\u001b[2m2024-11-22 17:30:26\u001b[0m [\u001b[33m\u001b[1mwarning  \u001b[0m] \u001b[1mRendered SQL template does not match expectation. Please update: /Users/chuxinhuang/work/op-analytics/src/op_analytics/datapipeline/etl/intermediate/rendered/creation_traces.rendered.sql\u001b[0m \u001b[36mfilename\u001b[0m=\u001b[35mquerybuilder.py\u001b[0m \u001b[36mlineno\u001b[0m=\u001b[35m65\u001b[0m \u001b[36mmodel\u001b[0m=\u001b[35mcreation_traces\u001b[0m\n",
      "\u001b[2m2024-11-22 17:30:26\u001b[0m [\u001b[32m\u001b[1minfo     \u001b[0m] \u001b[1mLoaded 2 python modules with intermediate model definitions.\u001b[0m \u001b[36mfilename\u001b[0m=\u001b[35mregistry.py\u001b[0m \u001b[36mlineno\u001b[0m=\u001b[35m138\u001b[0m\n",
      "\u001b[2m2024-11-22 17:30:26\u001b[0m [\u001b[32m\u001b[1minfo     \u001b[0m] \u001b[1mExecuting model...            \u001b[0m \u001b[36mfilename\u001b[0m=\u001b[35mtestutils.py\u001b[0m \u001b[36mlineno\u001b[0m=\u001b[35m205\u001b[0m\n",
      "\u001b[2m2024-11-22 17:30:26\u001b[0m [\u001b[32m\u001b[1minfo     \u001b[0m] \u001b[1mcreating duckdb relation 'traces' from 22 paths, first path is gs://oplabs-tools-data-sink/ingestion/traces_v1/chain=op/dt=2024-11-18/000128144000.parquet\u001b[0m \u001b[36mfilename\u001b[0m=\u001b[35mreader.py\u001b[0m \u001b[36mlineno\u001b[0m=\u001b[35m67\u001b[0m\n",
      "\u001b[2m2024-11-22 17:30:31\u001b[0m [\u001b[32m\u001b[1minfo     \u001b[0m] \u001b[1mcreating duckdb relation 'transactions' from 22 paths, first path is gs://oplabs-tools-data-sink/ingestion/transactions_v1/chain=op/dt=2024-11-18/000128144000.parquet\u001b[0m \u001b[36mfilename\u001b[0m=\u001b[35mreader.py\u001b[0m \u001b[36mlineno\u001b[0m=\u001b[35m67\u001b[0m\n",
      "dict_keys(['creation_traces_v1'])\n"
     ]
    },
    {
     "data": {
      "text/plain": [
       "┌────────────────────┐\n",
       "│        name        │\n",
       "│      varchar       │\n",
       "├────────────────────┤\n",
       "│ creation_traces    │\n",
       "│ creation_traces_v1 │\n",
       "│ traces             │\n",
       "│ transactions       │\n",
       "└────────────────────┘"
      ]
     },
     "execution_count": 2,
     "metadata": {},
     "output_type": "execute_result"
    }
   ],
   "source": [
    "from op_analytics.datapipeline.etl.intermediate.registry import REGISTERED_INTERMEDIATE_MODELS, load_model_definitions\n",
    "from op_analytics.datapipeline.etl.intermediate.testutils import execute_model_in_memory\n",
    "\n",
    "load_model_definitions()\n",
    "execute_model_in_memory(\n",
    "    duckdb_client=duckdb_client,\n",
    "    model=REGISTERED_INTERMEDIATE_MODELS[\"creation_traces\"],\n",
    "    data_reader=batch\n",
    ")\n",
    "\n",
    "# The duckdb database will have the following:\n",
    "#   - input tables\n",
    "#   - views used by the model\n",
    "#   - model outputs\n",
    "# \n",
    "# You can use duckdb to inspect any of the above results.\n",
    "duckdb_client.sql(\"SHOW TABLES\")"
   ]
  },
  {
   "cell_type": "markdown",
   "metadata": {},
   "source": [
    "## Verify model results"
   ]
  },
  {
   "cell_type": "code",
   "execution_count": 3,
   "metadata": {},
   "outputs": [
    {
     "data": {
      "text/plain": [
       "┌─────────┬──────────┬─────────┬────────────┬───────────────────┬──────────────────────┬────────────────────────────────────────────────────────────────────┬────────────────────────────────────────────────────────────────────┬──────────────────┬────────────────────────────────────────────┬────────────────────────────────────────────┬────────────────────────────────────────────┬────────────────────────────────────────────┬──────────┬────────────────┬──────────────────────────────────────────────────────────────────────────────────────────────────────────────────┬──────────────────────────────────────────────────────────────────────────────────────────────┬────────────┬───────────┬─────────────┬──────────┬──────────┬───────────┬───────────────┬─────────┬────────┬──────────────────────┬─────────────────┐\n",
       "│ network │ chain_id │  chain  │     dt     │ created_timestamp │ created_block_number │                         created_block_hash                         │                          created_tx_hash                           │ created_tx_index │           trace_creator_address            │              created_tx_from               │              contract_address              │               created_tx_to                │ value_64 │ value_lossless │                                                       code                                                       │                                            output                                            │ trace_type │ call_type │ reward_type │   gas    │ gas_used │ subtraces │ trace_address │  error  │ status │ created_tx_method_id │ code_bytelength │\n",
       "│ varchar │  int32   │ varchar │  varchar   │      uint32       │        int64         │                              varchar                               │                              varchar                               │      int64       │                  varchar                   │                  varchar                   │                  varchar                   │                  varchar                   │  int64   │    varchar     │                                                     varchar                                                      │                                           varchar                                            │  varchar   │  varchar  │   varchar   │  int64   │  int64   │   int64   │    varchar    │ varchar │ int64  │       varchar        │     double      │\n",
       "├─────────┼──────────┼─────────┼────────────┼───────────────────┼──────────────────────┼────────────────────────────────────────────────────────────────────┼────────────────────────────────────────────────────────────────────┼──────────────────┼────────────────────────────────────────────┼────────────────────────────────────────────┼────────────────────────────────────────────┼────────────────────────────────────────────┼──────────┼────────────────┼──────────────────────────────────────────────────────────────────────────────────────────────────────────────────┼──────────────────────────────────────────────────────────────────────────────────────────────┼────────────┼───────────┼─────────────┼──────────┼──────────┼───────────┼───────────────┼─────────┼────────┼──────────────────────┼─────────────────┤\n",
       "│ mainnet │       10 │ op      │ 2024-11-18 │        1731889139 │            128145181 │ 0xfdf5a4af8123cb5816b29a8abd81a0273c0d10283ca37262fa1c674fff3c63ce │ 0xfefd2ba20ebe02e761629a0dc690cc6acd6e1798aae5d7886d58ddfcfade4cd8 │               21 │ 0x9ec1c3dcf667f2035fb4cd2eb42a1566fd54d2b7 │ 0xc3d73a65130662cd7034d6733f63fd5f5a8c6e61 │ 0x62fa2e9bab9fc51508b506590065a27c2b06176a │ 0x9ec1c3dcf667f2035fb4cd2eb42a1566fd54d2b7 │        0 │ 0              │ 0x3d602d80600a3d3981f3363d3d373d3d3d363d739ec1c3dcf667f2035fb4cd2eb42a1566fd54d2b75af43d82803e903d91602b57fd5bf3 │ 0x363d3d373d3d3d363d739ec1c3dcf667f2035fb4cd2eb42a1566fd54d2b75af43d82803e903d91602b57fd5bf3 │ create2    │           │             │ 19629380 │     9031 │         0 │ 0             │         │      1 │ 0xb1ae2ed1           │            55.0 │\n",
       "│ mainnet │       10 │ op      │ 2024-11-18 │        1731889139 │            128145181 │ 0xfdf5a4af8123cb5816b29a8abd81a0273c0d10283ca37262fa1c674fff3c63ce │ 0xfefd2ba20ebe02e761629a0dc690cc6acd6e1798aae5d7886d58ddfcfade4cd8 │               21 │ 0x9ec1c3dcf667f2035fb4cd2eb42a1566fd54d2b7 │ 0xc3d73a65130662cd7034d6733f63fd5f5a8c6e61 │ 0xd0ececa4c7c235d63bdade2f447b10e3bb5a875c │ 0x9ec1c3dcf667f2035fb4cd2eb42a1566fd54d2b7 │        0 │ 0              │ 0x3d602d80600a3d3981f3363d3d373d3d3d363d739ec1c3dcf667f2035fb4cd2eb42a1566fd54d2b75af43d82803e903d91602b57fd5bf3 │ 0x363d3d373d3d3d363d739ec1c3dcf667f2035fb4cd2eb42a1566fd54d2b75af43d82803e903d91602b57fd5bf3 │ create2    │           │             │ 19449076 │     9031 │         0 │ 2             │         │      1 │ 0xb1ae2ed1           │            55.0 │\n",
       "│ mainnet │       10 │ op      │ 2024-11-18 │        1731889139 │            128145181 │ 0xfdf5a4af8123cb5816b29a8abd81a0273c0d10283ca37262fa1c674fff3c63ce │ 0xfefd2ba20ebe02e761629a0dc690cc6acd6e1798aae5d7886d58ddfcfade4cd8 │               21 │ 0x9ec1c3dcf667f2035fb4cd2eb42a1566fd54d2b7 │ 0xc3d73a65130662cd7034d6733f63fd5f5a8c6e61 │ 0xb934c64ce54f8490c8370efdc23084c3f29d5693 │ 0x9ec1c3dcf667f2035fb4cd2eb42a1566fd54d2b7 │        0 │ 0              │ 0x3d602d80600a3d3981f3363d3d373d3d3d363d739ec1c3dcf667f2035fb4cd2eb42a1566fd54d2b75af43d82803e903d91602b57fd5bf3 │ 0x363d3d373d3d3d363d739ec1c3dcf667f2035fb4cd2eb42a1566fd54d2b75af43d82803e903d91602b57fd5bf3 │ create2    │           │             │ 19283143 │     9031 │         0 │ 4             │         │      1 │ 0xb1ae2ed1           │            55.0 │\n",
       "│ mainnet │       10 │ op      │ 2024-11-18 │        1731889139 │            128145181 │ 0xfdf5a4af8123cb5816b29a8abd81a0273c0d10283ca37262fa1c674fff3c63ce │ 0xfefd2ba20ebe02e761629a0dc690cc6acd6e1798aae5d7886d58ddfcfade4cd8 │               21 │ 0x9ec1c3dcf667f2035fb4cd2eb42a1566fd54d2b7 │ 0xc3d73a65130662cd7034d6733f63fd5f5a8c6e61 │ 0xada7b1fa007a0472264991cc115b13f3d31c4d49 │ 0x9ec1c3dcf667f2035fb4cd2eb42a1566fd54d2b7 │        0 │ 0              │ 0x3d602d80600a3d3981f3363d3d373d3d3d363d739ec1c3dcf667f2035fb4cd2eb42a1566fd54d2b75af43d82803e903d91602b57fd5bf3 │ 0x363d3d373d3d3d363d739ec1c3dcf667f2035fb4cd2eb42a1566fd54d2b75af43d82803e903d91602b57fd5bf3 │ create2    │           │             │ 19117214 │     9031 │         0 │ 6             │         │      1 │ 0xb1ae2ed1           │            55.0 │\n",
       "│ mainnet │       10 │ op      │ 2024-11-18 │        1731889139 │            128145181 │ 0xfdf5a4af8123cb5816b29a8abd81a0273c0d10283ca37262fa1c674fff3c63ce │ 0xfefd2ba20ebe02e761629a0dc690cc6acd6e1798aae5d7886d58ddfcfade4cd8 │               21 │ 0x9ec1c3dcf667f2035fb4cd2eb42a1566fd54d2b7 │ 0xc3d73a65130662cd7034d6733f63fd5f5a8c6e61 │ 0x5228307f77a3b92f92a733b2723c81d99a2b051f │ 0x9ec1c3dcf667f2035fb4cd2eb42a1566fd54d2b7 │        0 │ 0              │ 0x3d602d80600a3d3981f3363d3d373d3d3d363d739ec1c3dcf667f2035fb4cd2eb42a1566fd54d2b75af43d82803e903d91602b57fd5bf3 │ 0x363d3d373d3d3d363d739ec1c3dcf667f2035fb4cd2eb42a1566fd54d2b75af43d82803e903d91602b57fd5bf3 │ create2    │           │             │ 18951282 │     9031 │         0 │ 8             │         │      1 │ 0xb1ae2ed1           │            55.0 │\n",
       "│ mainnet │       10 │ op      │ 2024-11-18 │        1731889139 │            128145181 │ 0xfdf5a4af8123cb5816b29a8abd81a0273c0d10283ca37262fa1c674fff3c63ce │ 0xfefd2ba20ebe02e761629a0dc690cc6acd6e1798aae5d7886d58ddfcfade4cd8 │               21 │ 0x9ec1c3dcf667f2035fb4cd2eb42a1566fd54d2b7 │ 0xc3d73a65130662cd7034d6733f63fd5f5a8c6e61 │ 0x90ecaecdbf8b597ecbb7927138d86f7c0bba7ac0 │ 0x9ec1c3dcf667f2035fb4cd2eb42a1566fd54d2b7 │        0 │ 0              │ 0x3d602d80600a3d3981f3363d3d373d3d3d363d739ec1c3dcf667f2035fb4cd2eb42a1566fd54d2b75af43d82803e903d91602b57fd5bf3 │ 0x363d3d373d3d3d363d739ec1c3dcf667f2035fb4cd2eb42a1566fd54d2b75af43d82803e903d91602b57fd5bf3 │ create2    │           │             │ 18785349 │     9031 │         0 │ 10            │         │      1 │ 0xb1ae2ed1           │            55.0 │\n",
       "│ mainnet │       10 │ op      │ 2024-11-18 │        1731889139 │            128145181 │ 0xfdf5a4af8123cb5816b29a8abd81a0273c0d10283ca37262fa1c674fff3c63ce │ 0xfefd2ba20ebe02e761629a0dc690cc6acd6e1798aae5d7886d58ddfcfade4cd8 │               21 │ 0x9ec1c3dcf667f2035fb4cd2eb42a1566fd54d2b7 │ 0xc3d73a65130662cd7034d6733f63fd5f5a8c6e61 │ 0xa551525df272c1b6b57e5004a8218313a578b95e │ 0x9ec1c3dcf667f2035fb4cd2eb42a1566fd54d2b7 │        0 │ 0              │ 0x3d602d80600a3d3981f3363d3d373d3d3d363d739ec1c3dcf667f2035fb4cd2eb42a1566fd54d2b75af43d82803e903d91602b57fd5bf3 │ 0x363d3d373d3d3d363d739ec1c3dcf667f2035fb4cd2eb42a1566fd54d2b75af43d82803e903d91602b57fd5bf3 │ create2    │           │             │ 18619419 │     9031 │         0 │ 12            │         │      1 │ 0xb1ae2ed1           │            55.0 │\n",
       "│ mainnet │       10 │ op      │ 2024-11-18 │        1731889139 │            128145181 │ 0xfdf5a4af8123cb5816b29a8abd81a0273c0d10283ca37262fa1c674fff3c63ce │ 0xfefd2ba20ebe02e761629a0dc690cc6acd6e1798aae5d7886d58ddfcfade4cd8 │               21 │ 0x9ec1c3dcf667f2035fb4cd2eb42a1566fd54d2b7 │ 0xc3d73a65130662cd7034d6733f63fd5f5a8c6e61 │ 0x7fb986b1a5b0c52097cb34b44164553f8210ffca │ 0x9ec1c3dcf667f2035fb4cd2eb42a1566fd54d2b7 │        0 │ 0              │ 0x3d602d80600a3d3981f3363d3d373d3d3d363d739ec1c3dcf667f2035fb4cd2eb42a1566fd54d2b75af43d82803e903d91602b57fd5bf3 │ 0x363d3d373d3d3d363d739ec1c3dcf667f2035fb4cd2eb42a1566fd54d2b75af43d82803e903d91602b57fd5bf3 │ create2    │           │             │ 18453487 │     9031 │         0 │ 14            │         │      1 │ 0xb1ae2ed1           │            55.0 │\n",
       "│ mainnet │       10 │ op      │ 2024-11-18 │        1731889139 │            128145181 │ 0xfdf5a4af8123cb5816b29a8abd81a0273c0d10283ca37262fa1c674fff3c63ce │ 0xfefd2ba20ebe02e761629a0dc690cc6acd6e1798aae5d7886d58ddfcfade4cd8 │               21 │ 0x9ec1c3dcf667f2035fb4cd2eb42a1566fd54d2b7 │ 0xc3d73a65130662cd7034d6733f63fd5f5a8c6e61 │ 0xe82810fe945d7effdde62c1f14ce7eb2983772ea │ 0x9ec1c3dcf667f2035fb4cd2eb42a1566fd54d2b7 │        0 │ 0              │ 0x3d602d80600a3d3981f3363d3d373d3d3d363d739ec1c3dcf667f2035fb4cd2eb42a1566fd54d2b75af43d82803e903d91602b57fd5bf3 │ 0x363d3d373d3d3d363d739ec1c3dcf667f2035fb4cd2eb42a1566fd54d2b75af43d82803e903d91602b57fd5bf3 │ create2    │           │             │ 18287558 │     9031 │         0 │ 16            │         │      1 │ 0xb1ae2ed1           │            55.0 │\n",
       "│ mainnet │       10 │ op      │ 2024-11-18 │        1731889139 │            128145181 │ 0xfdf5a4af8123cb5816b29a8abd81a0273c0d10283ca37262fa1c674fff3c63ce │ 0xfefd2ba20ebe02e761629a0dc690cc6acd6e1798aae5d7886d58ddfcfade4cd8 │               21 │ 0x9ec1c3dcf667f2035fb4cd2eb42a1566fd54d2b7 │ 0xc3d73a65130662cd7034d6733f63fd5f5a8c6e61 │ 0x048ec9f8ec8c4f78465ef5be634837118293511f │ 0x9ec1c3dcf667f2035fb4cd2eb42a1566fd54d2b7 │        0 │ 0              │ 0x3d602d80600a3d3981f3363d3d373d3d3d363d739ec1c3dcf667f2035fb4cd2eb42a1566fd54d2b75af43d82803e903d91602b57fd5bf3 │ 0x363d3d373d3d3d363d739ec1c3dcf667f2035fb4cd2eb42a1566fd54d2b75af43d82803e903d91602b57fd5bf3 │ create2    │           │             │ 18121625 │     9031 │         0 │ 18            │         │      1 │ 0xb1ae2ed1           │            55.0 │\n",
       "├─────────┴──────────┴─────────┴────────────┴───────────────────┴──────────────────────┴────────────────────────────────────────────────────────────────────┴────────────────────────────────────────────────────────────────────┴──────────────────┴────────────────────────────────────────────┴────────────────────────────────────────────┴────────────────────────────────────────────┴────────────────────────────────────────────┴──────────┴────────────────┴──────────────────────────────────────────────────────────────────────────────────────────────────────────────────┴──────────────────────────────────────────────────────────────────────────────────────────────┴────────────┴───────────┴─────────────┴──────────┴──────────┴───────────┴───────────────┴─────────┴────────┴──────────────────────┴─────────────────┤\n",
       "│ 10 rows                                                                                                                                                                                                                                                                                                                                                                                                                                                                                                                                                                                                                                                                                                                                                                                                                       28 columns │\n",
       "└──────────────────────────────────────────────────────────────────────────────────────────────────────────────────────────────────────────────────────────────────────────────────────────────────────────────────────────────────────────────────────────────────────────────────────────────────────────────────────────────────────────────────────────────────────────────────────────────────────────────────────────────────────────────────────────────────────────────────────────────────────────────────────────────────────────────────────────────────────────────────────────────────────────────────────────────────────────────────────────────────────────────────────────────────────────────────────────────────────────────────────────────────────────────────────────────────────────────────────────────────────────┘"
      ]
     },
     "execution_count": 3,
     "metadata": {},
     "output_type": "execute_result"
    }
   ],
   "source": [
    "duckdb_client.sql(\"SELECT * FROM creation_traces_v1 LIMIT 10\")"
   ]
  },
  {
   "cell_type": "code",
   "execution_count": 6,
   "metadata": {},
   "outputs": [
    {
     "data": {
      "text/plain": [
       "┌──────────────┐\n",
       "│ count_star() │\n",
       "│    int64     │\n",
       "├──────────────┤\n",
       "│       255326 │\n",
       "└──────────────┘"
      ]
     },
     "execution_count": 6,
     "metadata": {},
     "output_type": "execute_result"
    }
   ],
   "source": [
    "duckdb_client.sql(\"SELECT COUNT(*) FROM creation_traces_v1\")"
   ]
  },
  {
   "cell_type": "code",
   "execution_count": 4,
   "metadata": {},
   "outputs": [
    {
     "data": {
      "text/plain": [
       "┌────────────────────────────────────────────────────────────────────────────────────────────────────────────────────────────────────────────────────────────────────────────────────────────────────────────────────────────────────────────────────────────────────────────────────────────────────────────────────────────────────────────────────────────────────────────────────────────────────────────────────────────────────────────────────────────────────────────────────────────────────────────────────────────────────────────────────────────────────────────────────────────────────────────────────────────────────────────────────────────────────────────────────────────────────────────────────────────────────────────┐\n",
       "│                                                                                                                                                                                                                                                                                                                                                                   input                                                                                                                                                                                                                                                                                                                                                                    │\n",
       "│                                                                                                                                                                                                                                                                                                                                                                  varchar                                                                                                                                                                                                                                                                                                                                                                   │\n",
       "├────────────────────────────────────────────────────────────────────────────────────────────────────────────────────────────────────────────────────────────────────────────────────────────────────────────────────────────────────────────────────────────────────────────────────────────────────────────────────────────────────────────────────────────────────────────────────────────────────────────────────────────────────────────────────────────────────────────────────────────────────────────────────────────────────────────────────────────────────────────────────────────────────────────────────────────────────────────────────────────────────────────────────────────────────────────────────────────────────────────┤\n",
       "│ 0x00000002000000000000000de01ce47f317b800000fc1f3296458f9b2a27a0b91dd7681c4020e09d0542000000000000000000000000000000000000424200000000000000000000000000000000000006000000000000000000000000000000000000002ad6c1be015b9be1913bbecfeb000000000000000000000000000000000000002ad53b792a6149d72479c1b49d00000000673a8429                                                                                                                                                                                                                                                                                                                                                                                                                       │\n",
       "│ 0x128acb0800000000000000000000000006a8087693b98e068b79f362687c718de6e5b5ae000000000000000000000000000000000000000000000000000000000000000000000000000000000000000000000000000000000000000de01ce47f317b8000000000000000000000000000000000000000002ad53b792a6149d72479c1b49d00000000000000000000000000000000000000000000000000000000000000a000000000000000000000000000000000000000000000000000000000000000a0000000000000000000000000000000000000000000000000000000000000000000000000000000000000000000000000000000000000000000000000000000010000000000000000000000004200000000000000000000000000000000000042000000000000000000000000fc1f3296458f9b2a27a0b91dd7681c4020e09d05000000000000000000000000000000000000002ad6c1be015b9be1913bbecfeb │\n",
       "│ 0x70a082310000000000000000000000008406d59f3638d7dac9cccf469cac16bdd9629c27                                                                                                                                                                                                                                                                                                                                                                                                                                                                                                                                                                                                                                                                 │\n",
       "│ 0xa6f19c84                                                                                                                                                                                                                                                                                                                                                                                                                                                                                                                                                                                                                                                                                                                                 │\n",
       "│ 0xa6f19c84                                                                                                                                                                                                                                                                                                                                                                                                                                                                                                                                                                                                                                                                                                                                 │\n",
       "│ 0xa34123a7000000000000000000000000000000000000000000000000000000000002fda0000000000000000000000000000000000000000000000000000000000002fe0400000000000000000000000000000000000000000000000003a1933c042068ea                                                                                                                                                                                                                                                                                                                                                                                                                                                                                                                                 │\n",
       "│ 0xa34123a7000000000000000000000000000000000000000000000000000000000002fda0000000000000000000000000000000000000000000000000000000000002fe0400000000000000000000000000000000000000000000000003a1933c042068ea                                                                                                                                                                                                                                                                                                                                                                                                                                                                                                                                 │\n",
       "│ 0x514ea4bfef89aa5a2f71c3937cb1903217b003dbfbfe7c21df1f7af0c6d49b40f0aef2d5                                                                                                                                                                                                                                                                                                                                                                                                                                                                                                                                                                                                                                                                 │\n",
       "│ 0x514ea4bfef89aa5a2f71c3937cb1903217b003dbfbfe7c21df1f7af0c6d49b40f0aef2d5                                                                                                                                                                                                                                                                                                                                                                                                                                                                                                                                                                                                                                                                 │\n",
       "│ 0xfc6f786500000000000000000000000000000000000000000000000000000000000872ae000000000000000000000000000000000000000000000000000000000000000000000000000000000000000000000000ffffffffffffffffffffffffffffffff00000000000000000000000000000000ffffffffffffffffffffffffffffffff                                                                                                                                                                                                                                                                                                                                                                                                                                                                 │\n",
       "├────────────────────────────────────────────────────────────────────────────────────────────────────────────────────────────────────────────────────────────────────────────────────────────────────────────────────────────────────────────────────────────────────────────────────────────────────────────────────────────────────────────────────────────────────────────────────────────────────────────────────────────────────────────────────────────────────────────────────────────────────────────────────────────────────────────────────────────────────────────────────────────────────────────────────────────────────────────────────────────────────────────────────────────────────────────────────────────────────────────┤\n",
       "│                                                                                                                                                                                                                                                                                                                                                                  10 rows                                                                                                                                                                                                                                                                                                                                                                   │\n",
       "└────────────────────────────────────────────────────────────────────────────────────────────────────────────────────────────────────────────────────────────────────────────────────────────────────────────────────────────────────────────────────────────────────────────────────────────────────────────────────────────────────────────────────────────────────────────────────────────────────────────────────────────────────────────────────────────────────────────────────────────────────────────────────────────────────────────────────────────────────────────────────────────────────────────────────────────────────────────────────────────────────────────────────────────────────────────────────────────────────────────┘"
      ]
     },
     "execution_count": 4,
     "metadata": {},
     "output_type": "execute_result"
    }
   ],
   "source": [
    "duckdb_client.sql(\"SELECT input FROM traces LIMIT 10\")\n"
   ]
  },
  {
   "cell_type": "markdown",
   "metadata": {},
   "source": [
    "### You can also convert the results to dataframes to inspect them in more familiar ways"
   ]
  },
  {
   "cell_type": "code",
   "execution_count": 8,
   "metadata": {},
   "outputs": [
    {
     "data": {
      "text/html": [
       "<div><style>\n",
       ".dataframe > thead > tr,\n",
       ".dataframe > tbody > tr {\n",
       "  text-align: right;\n",
       "  white-space: pre-wrap;\n",
       "}\n",
       "</style>\n",
       "<small>shape: (5, 28)</small><table border=\"1\" class=\"dataframe\"><thead><tr><th>network</th><th>chain_id</th><th>chain</th><th>dt</th><th>created_timestamp</th><th>created_block_number</th><th>created_block_hash</th><th>created_tx_hash</th><th>created_tx_index</th><th>trace_creator_address</th><th>created_tx_from</th><th>contract_address</th><th>created_tx_to</th><th>value_64</th><th>value_lossless</th><th>code</th><th>output</th><th>trace_type</th><th>call_type</th><th>reward_type</th><th>gas</th><th>gas_used</th><th>subtraces</th><th>trace_address</th><th>error</th><th>status</th><th>created_tx_method_id</th><th>code_bytelength</th></tr><tr><td>str</td><td>i32</td><td>str</td><td>str</td><td>u32</td><td>i64</td><td>str</td><td>str</td><td>i64</td><td>str</td><td>str</td><td>str</td><td>str</td><td>i64</td><td>str</td><td>str</td><td>str</td><td>str</td><td>str</td><td>str</td><td>i64</td><td>i64</td><td>i64</td><td>str</td><td>str</td><td>i64</td><td>str</td><td>f64</td></tr></thead><tbody><tr><td>&quot;mainnet&quot;</td><td>10</td><td>&quot;op&quot;</td><td>&quot;2024-11-18&quot;</td><td>1731889139</td><td>128145181</td><td>&quot;0xfdf5a4af8123cb5816b29a8abd81…</td><td>&quot;0xfefd2ba20ebe02e761629a0dc690…</td><td>21</td><td>&quot;0x9ec1c3dcf667f2035fb4cd2eb42a…</td><td>&quot;0xc3d73a65130662cd7034d6733f63…</td><td>&quot;0x62fa2e9bab9fc51508b506590065…</td><td>&quot;0x9ec1c3dcf667f2035fb4cd2eb42a…</td><td>0</td><td>&quot;0&quot;</td><td>&quot;0x3d602d80600a3d3981f3363d3d37…</td><td>&quot;0x363d3d373d3d3d363d739ec1c3dc…</td><td>&quot;create2&quot;</td><td>&quot;&quot;</td><td>&quot;&quot;</td><td>19629380</td><td>9031</td><td>0</td><td>&quot;0&quot;</td><td>&quot;&quot;</td><td>1</td><td>&quot;0xb1ae2ed1&quot;</td><td>55.0</td></tr><tr><td>&quot;mainnet&quot;</td><td>10</td><td>&quot;op&quot;</td><td>&quot;2024-11-18&quot;</td><td>1731889139</td><td>128145181</td><td>&quot;0xfdf5a4af8123cb5816b29a8abd81…</td><td>&quot;0xfefd2ba20ebe02e761629a0dc690…</td><td>21</td><td>&quot;0x9ec1c3dcf667f2035fb4cd2eb42a…</td><td>&quot;0xc3d73a65130662cd7034d6733f63…</td><td>&quot;0xd0ececa4c7c235d63bdade2f447b…</td><td>&quot;0x9ec1c3dcf667f2035fb4cd2eb42a…</td><td>0</td><td>&quot;0&quot;</td><td>&quot;0x3d602d80600a3d3981f3363d3d37…</td><td>&quot;0x363d3d373d3d3d363d739ec1c3dc…</td><td>&quot;create2&quot;</td><td>&quot;&quot;</td><td>&quot;&quot;</td><td>19449076</td><td>9031</td><td>0</td><td>&quot;2&quot;</td><td>&quot;&quot;</td><td>1</td><td>&quot;0xb1ae2ed1&quot;</td><td>55.0</td></tr><tr><td>&quot;mainnet&quot;</td><td>10</td><td>&quot;op&quot;</td><td>&quot;2024-11-18&quot;</td><td>1731889139</td><td>128145181</td><td>&quot;0xfdf5a4af8123cb5816b29a8abd81…</td><td>&quot;0xfefd2ba20ebe02e761629a0dc690…</td><td>21</td><td>&quot;0x9ec1c3dcf667f2035fb4cd2eb42a…</td><td>&quot;0xc3d73a65130662cd7034d6733f63…</td><td>&quot;0xb934c64ce54f8490c8370efdc230…</td><td>&quot;0x9ec1c3dcf667f2035fb4cd2eb42a…</td><td>0</td><td>&quot;0&quot;</td><td>&quot;0x3d602d80600a3d3981f3363d3d37…</td><td>&quot;0x363d3d373d3d3d363d739ec1c3dc…</td><td>&quot;create2&quot;</td><td>&quot;&quot;</td><td>&quot;&quot;</td><td>19283143</td><td>9031</td><td>0</td><td>&quot;4&quot;</td><td>&quot;&quot;</td><td>1</td><td>&quot;0xb1ae2ed1&quot;</td><td>55.0</td></tr><tr><td>&quot;mainnet&quot;</td><td>10</td><td>&quot;op&quot;</td><td>&quot;2024-11-18&quot;</td><td>1731889139</td><td>128145181</td><td>&quot;0xfdf5a4af8123cb5816b29a8abd81…</td><td>&quot;0xfefd2ba20ebe02e761629a0dc690…</td><td>21</td><td>&quot;0x9ec1c3dcf667f2035fb4cd2eb42a…</td><td>&quot;0xc3d73a65130662cd7034d6733f63…</td><td>&quot;0xada7b1fa007a0472264991cc115b…</td><td>&quot;0x9ec1c3dcf667f2035fb4cd2eb42a…</td><td>0</td><td>&quot;0&quot;</td><td>&quot;0x3d602d80600a3d3981f3363d3d37…</td><td>&quot;0x363d3d373d3d3d363d739ec1c3dc…</td><td>&quot;create2&quot;</td><td>&quot;&quot;</td><td>&quot;&quot;</td><td>19117214</td><td>9031</td><td>0</td><td>&quot;6&quot;</td><td>&quot;&quot;</td><td>1</td><td>&quot;0xb1ae2ed1&quot;</td><td>55.0</td></tr><tr><td>&quot;mainnet&quot;</td><td>10</td><td>&quot;op&quot;</td><td>&quot;2024-11-18&quot;</td><td>1731889139</td><td>128145181</td><td>&quot;0xfdf5a4af8123cb5816b29a8abd81…</td><td>&quot;0xfefd2ba20ebe02e761629a0dc690…</td><td>21</td><td>&quot;0x9ec1c3dcf667f2035fb4cd2eb42a…</td><td>&quot;0xc3d73a65130662cd7034d6733f63…</td><td>&quot;0x5228307f77a3b92f92a733b2723c…</td><td>&quot;0x9ec1c3dcf667f2035fb4cd2eb42a…</td><td>0</td><td>&quot;0&quot;</td><td>&quot;0x3d602d80600a3d3981f3363d3d37…</td><td>&quot;0x363d3d373d3d3d363d739ec1c3dc…</td><td>&quot;create2&quot;</td><td>&quot;&quot;</td><td>&quot;&quot;</td><td>18951282</td><td>9031</td><td>0</td><td>&quot;8&quot;</td><td>&quot;&quot;</td><td>1</td><td>&quot;0xb1ae2ed1&quot;</td><td>55.0</td></tr></tbody></table></div>"
      ],
      "text/plain": [
       "shape: (5, 28)\n",
       "┌─────────┬──────────┬───────┬────────────┬───┬───────┬────────┬─────────────────┬─────────────────┐\n",
       "│ network ┆ chain_id ┆ chain ┆ dt         ┆ … ┆ error ┆ status ┆ created_tx_meth ┆ code_bytelength │\n",
       "│ ---     ┆ ---      ┆ ---   ┆ ---        ┆   ┆ ---   ┆ ---    ┆ od_id           ┆ ---             │\n",
       "│ str     ┆ i32      ┆ str   ┆ str        ┆   ┆ str   ┆ i64    ┆ ---             ┆ f64             │\n",
       "│         ┆          ┆       ┆            ┆   ┆       ┆        ┆ str             ┆                 │\n",
       "╞═════════╪══════════╪═══════╪════════════╪═══╪═══════╪════════╪═════════════════╪═════════════════╡\n",
       "│ mainnet ┆ 10       ┆ op    ┆ 2024-11-18 ┆ … ┆       ┆ 1      ┆ 0xb1ae2ed1      ┆ 55.0            │\n",
       "│ mainnet ┆ 10       ┆ op    ┆ 2024-11-18 ┆ … ┆       ┆ 1      ┆ 0xb1ae2ed1      ┆ 55.0            │\n",
       "│ mainnet ┆ 10       ┆ op    ┆ 2024-11-18 ┆ … ┆       ┆ 1      ┆ 0xb1ae2ed1      ┆ 55.0            │\n",
       "│ mainnet ┆ 10       ┆ op    ┆ 2024-11-18 ┆ … ┆       ┆ 1      ┆ 0xb1ae2ed1      ┆ 55.0            │\n",
       "│ mainnet ┆ 10       ┆ op    ┆ 2024-11-18 ┆ … ┆       ┆ 1      ┆ 0xb1ae2ed1      ┆ 55.0            │\n",
       "└─────────┴──────────┴───────┴────────────┴───┴───────┴────────┴─────────────────┴─────────────────┘"
      ]
     },
     "execution_count": 8,
     "metadata": {},
     "output_type": "execute_result"
    }
   ],
   "source": [
    "duckdb_client.sql(\"SELECT * FROM creation_traces_v1 LIMIT 10\").pl().head()"
   ]
  },
  {
   "cell_type": "code",
   "execution_count": 9,
   "metadata": {},
   "outputs": [
    {
     "data": {
      "text/plain": [
       "┌───────────────────────┬─────────────┬─────────┬─────────┬─────────┬─────────┐\n",
       "│      column_name      │ column_type │  null   │   key   │ default │  extra  │\n",
       "│        varchar        │   varchar   │ varchar │ varchar │ varchar │ varchar │\n",
       "├───────────────────────┼─────────────┼─────────┼─────────┼─────────┼─────────┤\n",
       "│ network               │ VARCHAR     │ YES     │ NULL    │ NULL    │ NULL    │\n",
       "│ chain_id              │ INTEGER     │ YES     │ NULL    │ NULL    │ NULL    │\n",
       "│ chain                 │ VARCHAR     │ YES     │ NULL    │ NULL    │ NULL    │\n",
       "│ dt                    │ VARCHAR     │ YES     │ NULL    │ NULL    │ NULL    │\n",
       "│ created_timestamp     │ UINTEGER    │ YES     │ NULL    │ NULL    │ NULL    │\n",
       "│ created_block_number  │ BIGINT      │ YES     │ NULL    │ NULL    │ NULL    │\n",
       "│ created_block_hash    │ VARCHAR     │ YES     │ NULL    │ NULL    │ NULL    │\n",
       "│ created_tx_hash       │ VARCHAR     │ YES     │ NULL    │ NULL    │ NULL    │\n",
       "│ created_tx_index      │ BIGINT      │ YES     │ NULL    │ NULL    │ NULL    │\n",
       "│ trace_creator_address │ VARCHAR     │ YES     │ NULL    │ NULL    │ NULL    │\n",
       "│     ·                 │    ·        │  ·      │  ·      │  ·      │  ·      │\n",
       "│     ·                 │    ·        │  ·      │  ·      │  ·      │  ·      │\n",
       "│     ·                 │    ·        │  ·      │  ·      │  ·      │  ·      │\n",
       "│ call_type             │ VARCHAR     │ YES     │ NULL    │ NULL    │ NULL    │\n",
       "│ reward_type           │ VARCHAR     │ YES     │ NULL    │ NULL    │ NULL    │\n",
       "│ gas                   │ BIGINT      │ YES     │ NULL    │ NULL    │ NULL    │\n",
       "│ gas_used              │ BIGINT      │ YES     │ NULL    │ NULL    │ NULL    │\n",
       "│ subtraces             │ BIGINT      │ YES     │ NULL    │ NULL    │ NULL    │\n",
       "│ trace_address         │ VARCHAR     │ YES     │ NULL    │ NULL    │ NULL    │\n",
       "│ error                 │ VARCHAR     │ YES     │ NULL    │ NULL    │ NULL    │\n",
       "│ status                │ BIGINT      │ YES     │ NULL    │ NULL    │ NULL    │\n",
       "│ created_tx_method_id  │ VARCHAR     │ YES     │ NULL    │ NULL    │ NULL    │\n",
       "│ code_bytelength       │ DOUBLE      │ YES     │ NULL    │ NULL    │ NULL    │\n",
       "├───────────────────────┴─────────────┴─────────┴─────────┴─────────┴─────────┤\n",
       "│ 28 rows (20 shown)                                                6 columns │\n",
       "└─────────────────────────────────────────────────────────────────────────────┘"
      ]
     },
     "execution_count": 9,
     "metadata": {},
     "output_type": "execute_result"
    }
   ],
   "source": [
    "duckdb_client.sql(\"DESCRIBE creation_traces_v1\")\n"
   ]
  }
 ],
 "metadata": {
  "kernelspec": {
   "display_name": ".venv",
   "language": "python",
   "name": "python3"
  },
  "language_info": {
   "codemirror_mode": {
    "name": "ipython",
    "version": 3
   },
   "file_extension": ".py",
   "mimetype": "text/x-python",
   "name": "python",
   "nbconvert_exporter": "python",
   "pygments_lexer": "ipython3",
   "version": "3.12.3"
  }
 },
 "nbformat": 4,
 "nbformat_minor": 2
}
