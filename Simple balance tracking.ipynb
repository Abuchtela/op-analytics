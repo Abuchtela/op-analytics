{
 "cells": [
  {
   "cell_type": "code",
   "execution_count": null,
   "id": "9e3cb6b8",
   "metadata": {},
   "outputs": [],
   "source": [
    "import requests\n",
    "\n",
    "# Set the API endpoint URL\n",
    "url = \"https://api-optimistic.etherscan.io/api\"\n",
    "\n",
    "# Read the list of addresses from the file\n",
    "with open(\"addresses.txt\", \"r\") as f:\n",
    "    addresses = f.read().splitlines()\n",
    "\n",
    "# Split the list of addresses into batches of size 20\n",
    "address_batches = [addresses[i:i+20] for i in range(0, len(addresses), 20)]\n",
    "\n",
    "# Set the query parameters\n",
    "# https://docs.optimism.etherscan.io/api-endpoints/accounts#get-ether-balance-for-multiple-addresses-in-a-single-call\n",
    "payload = {\n",
    "    \"module\": \"account\",\n",
    "    \"action\": \"balancemulti\",\n",
    "    \"tag\": \"latest\",\n",
    "    # Add your key\n",
    "    \"apikey\": \"\"\n",
    "}\n",
    "\n",
    "# Send an HTTP GET request for each batch of addresses\n",
    "for batch in address_batches:\n",
    "    # Add the batch of addresses to the query parameters\n",
    "    payload[\"address\"] = \",\".join(batch)\n",
    "    \n",
    "    # Send the HTTP GET request\n",
    "    response = requests.get(url, params=payload)\n",
    "    \n",
    "    # Check if the request was successful\n",
    "    if response.status_code == 200:\n",
    "        # Parse the JSON response\n",
    "        data = response.json()\n",
    "        \n",
    "        # Check if there are any errors\n",
    "        if data[\"status\"] == \"1\":\n",
    "            # Print the balances of each account in the batch\n",
    "            for account in data[\"result\"]:\n",
    "                print(f\"{account['account']}: {account['balance']}\")\n",
    "        else:\n",
    "            print(f\"Error: {data['message']}\")\n",
    "    else:\n",
    "        print(f\"HTTP error {response.status_code}\")\n",
    "    \n",
    "    # Print a separator between batches\n",
    "    print(\"-\" * 40)\n"
   ]
  },
  {
   "cell_type": "code",
   "execution_count": null,
   "id": "ef679e68",
   "metadata": {},
   "outputs": [],
   "source": []
  }
 ],
 "metadata": {
  "kernelspec": {
   "display_name": "Python 3 (ipykernel)",
   "language": "python",
   "name": "python3"
  },
  "language_info": {
   "codemirror_mode": {
    "name": "ipython",
    "version": 3
   },
   "file_extension": ".py",
   "mimetype": "text/x-python",
   "name": "python",
   "nbconvert_exporter": "python",
   "pygments_lexer": "ipython3",
   "version": "3.9.7"
  }
 },
 "nbformat": 4,
 "nbformat_minor": 5
}
