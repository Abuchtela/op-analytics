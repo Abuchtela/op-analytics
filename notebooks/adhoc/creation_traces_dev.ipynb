{
 "cells": [
  {
   "cell_type": "markdown",
   "metadata": {},
   "source": [
    "## Prepare data reader for a given chain and date"
   ]
  },
  {
   "cell_type": "code",
   "execution_count": 1,
   "metadata": {},
   "outputs": [
    {
     "name": "stdout",
     "output_type": "stream",
     "text": [
      "\u001b[2m2024-11-26 14:43:13\u001b[0m [\u001b[32m\u001b[1mdebug    \u001b[0m] \u001b[1mconnecting to OPLABS Clickhouse client...\u001b[0m \u001b[36mfilename\u001b[0m=\u001b[35mclient.py\u001b[0m \u001b[36mlineno\u001b[0m=\u001b[35m26\u001b[0m\n",
      "\u001b[2m2024-11-26 14:43:13\u001b[0m [\u001b[32m\u001b[1minfo     \u001b[0m] \u001b[1mloaded vault from .env file   \u001b[0m \u001b[36mfilename\u001b[0m=\u001b[35mvault.py\u001b[0m \u001b[36mlineno\u001b[0m=\u001b[35m32\u001b[0m\n",
      "\u001b[2m2024-11-26 14:43:13\u001b[0m [\u001b[32m\u001b[1mdebug    \u001b[0m] \u001b[1mloaded vault: 17 items        \u001b[0m \u001b[36mfilename\u001b[0m=\u001b[35mvault.py\u001b[0m \u001b[36mlineno\u001b[0m=\u001b[35m76\u001b[0m\n",
      "\u001b[2m2024-11-26 14:43:14\u001b[0m [\u001b[32m\u001b[1mdebug    \u001b[0m] \u001b[1minitialized OPLABS Clickhouse client.\u001b[0m \u001b[36mfilename\u001b[0m=\u001b[35mclient.py\u001b[0m \u001b[36mlineno\u001b[0m=\u001b[35m38\u001b[0m\n",
      "\u001b[2m2024-11-26 14:43:14\u001b[0m [\u001b[32m\u001b[1minfo     \u001b[0m] \u001b[1mprepared 1 input batches.     \u001b[0m \u001b[36mfilename\u001b[0m=\u001b[35mreader.py\u001b[0m \u001b[36mlineno\u001b[0m=\u001b[35m157\u001b[0m\n"
     ]
    }
   ],
   "source": [
    "from op_analytics.coreutils.duckdb_inmem import init_client\n",
    "from op_analytics.coreutils.partitioned import DataReader, DataLocation\n",
    "from op_analytics.datapipeline.etl.intermediate.construct import construct_data_readers\n",
    "\n",
    "from op_analytics.datapipeline.etl.intermediate.udfs import create_duckdb_macros\n",
    "\n",
    "\n",
    "# Define the input data range.\n",
    "read_batches: list[DataReader] = construct_data_readers(\n",
    "    chains=[\"op\"],\n",
    "    range_spec=\"@20241118:+1\",\n",
    "    read_from=DataLocation.GCS\n",
    ")\n",
    "\n",
    "\n",
    "# Select input for one date and build the intermediate model inputs.\n",
    "batch = read_batches[0]\n",
    "\n",
    "\n",
    "duckdb_client = init_client()\n",
    "create_duckdb_macros(duckdb_client)\n"
   ]
  },
  {
   "cell_type": "markdown",
   "metadata": {},
   "source": [
    "## Run the model\n",
    "\n",
    "This automatically registers the model outputs as duckdb tables."
   ]
  },
  {
   "cell_type": "code",
   "execution_count": 2,
   "metadata": {},
   "outputs": [
    {
     "name": "stdout",
     "output_type": "stream",
     "text": [
      "\u001b[2m2024-11-26 14:43:14\u001b[0m [\u001b[32m\u001b[1minfo     \u001b[0m] \u001b[1mRendering query               \u001b[0m \u001b[36mfilename\u001b[0m=\u001b[35mquerybuilder.py\u001b[0m \u001b[36mlineno\u001b[0m=\u001b[35m40\u001b[0m \u001b[36mmodel\u001b[0m=\u001b[35mdaily_address_summary\u001b[0m \u001b[36mtemplate\u001b[0m=\u001b[35mtransaction_fees\u001b[0m\n",
      "\u001b[2m2024-11-26 14:43:14\u001b[0m [\u001b[32m\u001b[1minfo     \u001b[0m] \u001b[1mRendering query               \u001b[0m \u001b[36mfilename\u001b[0m=\u001b[35mquerybuilder.py\u001b[0m \u001b[36mlineno\u001b[0m=\u001b[35m40\u001b[0m \u001b[36mmodel\u001b[0m=\u001b[35mdaily_address_summary\u001b[0m \u001b[36mtemplate\u001b[0m=\u001b[35mdaily_address_summary\u001b[0m\n",
      "\u001b[2m2024-11-26 14:43:14\u001b[0m [\u001b[32m\u001b[1minfo     \u001b[0m] \u001b[1mRendering query               \u001b[0m \u001b[36mfilename\u001b[0m=\u001b[35mquerybuilder.py\u001b[0m \u001b[36mlineno\u001b[0m=\u001b[35m40\u001b[0m \u001b[36mmodel\u001b[0m=\u001b[35mcontract_creation\u001b[0m \u001b[36mtemplate\u001b[0m=\u001b[35mcontract_creation_traces\u001b[0m\n",
      "\u001b[2m2024-11-26 14:43:14\u001b[0m [\u001b[32m\u001b[1minfo     \u001b[0m] \u001b[1mLoaded 2 python modules with intermediate model definitions.\u001b[0m \u001b[36mfilename\u001b[0m=\u001b[35mregistry.py\u001b[0m \u001b[36mlineno\u001b[0m=\u001b[35m62\u001b[0m\n",
      "\u001b[2m2024-11-26 14:43:14\u001b[0m [\u001b[32m\u001b[1minfo     \u001b[0m] \u001b[1mExecuting model...            \u001b[0m \u001b[36mfilename\u001b[0m=\u001b[35mtestutils.py\u001b[0m \u001b[36mlineno\u001b[0m=\u001b[35m210\u001b[0m\n",
      "\u001b[2m2024-11-26 14:43:14\u001b[0m [\u001b[32m\u001b[1minfo     \u001b[0m] \u001b[1mduckdb dataset='traces' using 1/22 parquet paths, first path is gs://oplabs-tools-data-sink/ingestion/traces_v1/chain=op/dt=2024-11-18/000128144000.parquet\u001b[0m \u001b[36mfilename\u001b[0m=\u001b[35mreader.py\u001b[0m \u001b[36mlineno\u001b[0m=\u001b[35m77\u001b[0m\n",
      "\u001b[2m2024-11-26 14:43:15\u001b[0m [\u001b[32m\u001b[1minfo     \u001b[0m] \u001b[1mduckdb dataset='transactions' using 1/22 parquet paths, first path is gs://oplabs-tools-data-sink/ingestion/transactions_v1/chain=op/dt=2024-11-18/000128144000.parquet\u001b[0m \u001b[36mfilename\u001b[0m=\u001b[35mreader.py\u001b[0m \u001b[36mlineno\u001b[0m=\u001b[35m77\u001b[0m\n",
      "dict_keys(['create_traces_v1'])\n"
     ]
    },
    {
     "data": {
      "text/plain": [
       "┌──────────────────────────┐\n",
       "│           name           │\n",
       "│         varchar          │\n",
       "├──────────────────────────┤\n",
       "│ contract_creation_traces │\n",
       "│ create_traces_v1         │\n",
       "│ traces                   │\n",
       "│ transactions             │\n",
       "└──────────────────────────┘"
      ]
     },
     "execution_count": 2,
     "metadata": {},
     "output_type": "execute_result"
    }
   ],
   "source": [
    "from op_analytics.datapipeline.etl.intermediate.registry import REGISTERED_INTERMEDIATE_MODELS, load_model_definitions\n",
    "from op_analytics.datapipeline.etl.intermediate.testutils import execute_model_in_memory\n",
    "\n",
    "load_model_definitions()\n",
    "execute_model_in_memory(\n",
    "    duckdb_client=duckdb_client,\n",
    "    model=REGISTERED_INTERMEDIATE_MODELS[\"contract_creation\"],\n",
    "    data_reader=batch,\n",
    "    limit_input_parquet_files=1\n",
    ")\n",
    "\n",
    "# The duckdb database will have the following:\n",
    "#   - input tables\n",
    "#   - views used by the model\n",
    "#   - model outputs\n",
    "# \n",
    "# You can use duckdb to inspect any of the above results.\n",
    "duckdb_client.sql(\"SHOW TABLES\")"
   ]
  },
  {
   "cell_type": "markdown",
   "metadata": {},
   "source": [
    "## Verify model results"
   ]
  },
  {
   "cell_type": "code",
   "execution_count": 3,
   "metadata": {},
   "outputs": [
    {
     "data": {
      "text/plain": [
       "┌─────────┬──────────┬─────────┬────────────┬─────────────────┬──────────────┬────────────────────────────────────────────────────────────────────┬────────────────────────────────────────────────────────────────────┬───────────────────┬────────────────────────────────────────────┬────────────────────────────────────────────┬────────────────────────────────────────────┬────────────────────────────────────────────┬──────────┬────────────────┬──────────────────────────────────────────────────────────────────────────────────────────────────────────────────┬──────────────────────────────────────────────────────────────────────────────────────────────┬────────────┬───────────┬─────────────┬─────────┬──────────┬───────────┬───────────────┬─────────┬────────┬──────────────┬─────────────────┐\n",
       "│ network │ chain_id │  chain  │     dt     │ block_timestamp │ block_number │                             block_hash                             │                          transaction_hash                          │ transaction_index │              tr_from_address               │              tx_from_address               │              contract_address              │               tx_to_address                │ value_64 │ value_lossless │                                                       code                                                       │                                            output                                            │ trace_type │ call_type │ reward_type │   gas   │ gas_used │ subtraces │ trace_address │  error  │ status │ tx_method_id │ code_bytelength │\n",
       "│ varchar │  int32   │ varchar │  varchar   │     uint32      │    int64     │                              varchar                               │                              varchar                               │       int64       │                  varchar                   │                  varchar                   │                  varchar                   │                  varchar                   │  int64   │    varchar     │                                                     varchar                                                      │                                           varchar                                            │  varchar   │  varchar  │   varchar   │  int64  │  int64   │   int64   │    varchar    │ varchar │ int64  │   varchar    │     double      │\n",
       "├─────────┼──────────┼─────────┼────────────┼─────────────────┼──────────────┼────────────────────────────────────────────────────────────────────┼────────────────────────────────────────────────────────────────────┼───────────────────┼────────────────────────────────────────────┼────────────────────────────────────────────┼────────────────────────────────────────────┼────────────────────────────────────────────┼──────────┼────────────────┼──────────────────────────────────────────────────────────────────────────────────────────────────────────────────┼──────────────────────────────────────────────────────────────────────────────────────────────┼────────────┼───────────┼─────────────┼─────────┼──────────┼───────────┼───────────────┼─────────┼────────┼──────────────┼─────────────────┤\n",
       "│ mainnet │       10 │ op      │ 2024-11-18 │      1731888097 │    128144660 │ 0xaedf3d6cc150f089f1ccdeb158ae60a39e5b9dd593e03b05ba7bee9b9463876e │ 0xdfd4eb61f5ced2b2e02f3ebd363d255fbbaf07f274e0694044754c6978e1c154 │                24 │ 0x9ec1c3dcf667f2035fb4cd2eb42a1566fd54d2b7 │ 0x46eb0d94111dc144cc00f675741c1074743f085c │ 0x5ba2525b78d2f40faffa21367a96194e0a84504c │ 0x9ec1c3dcf667f2035fb4cd2eb42a1566fd54d2b7 │        0 │ 0              │ 0x3d602d80600a3d3981f3363d3d373d3d3d363d739ec1c3dcf667f2035fb4cd2eb42a1566fd54d2b75af43d82803e903d91602b57fd5bf3 │ 0x363d3d373d3d3d363d739ec1c3dcf667f2035fb4cd2eb42a1566fd54d2b75af43d82803e903d91602b57fd5bf3 │ create2    │           │             │ 8165681 │     9031 │         0 │ 138           │         │      1 │ 0xb1ae2ed1   │            55.0 │\n",
       "│ mainnet │       10 │ op      │ 2024-11-18 │      1731888097 │    128144660 │ 0xaedf3d6cc150f089f1ccdeb158ae60a39e5b9dd593e03b05ba7bee9b9463876e │ 0xdfd4eb61f5ced2b2e02f3ebd363d255fbbaf07f274e0694044754c6978e1c154 │                24 │ 0x9ec1c3dcf667f2035fb4cd2eb42a1566fd54d2b7 │ 0x46eb0d94111dc144cc00f675741c1074743f085c │ 0x414143b55429a665eabca791094106dd12968b22 │ 0x9ec1c3dcf667f2035fb4cd2eb42a1566fd54d2b7 │        0 │ 0              │ 0x3d602d80600a3d3981f3363d3d373d3d3d363d739ec1c3dcf667f2035fb4cd2eb42a1566fd54d2b75af43d82803e903d91602b57fd5bf3 │ 0x363d3d373d3d3d363d739ec1c3dcf667f2035fb4cd2eb42a1566fd54d2b75af43d82803e903d91602b57fd5bf3 │ create2    │           │             │ 7999749 │     9031 │         0 │ 140           │         │      1 │ 0xb1ae2ed1   │            55.0 │\n",
       "│ mainnet │       10 │ op      │ 2024-11-18 │      1731888097 │    128144660 │ 0xaedf3d6cc150f089f1ccdeb158ae60a39e5b9dd593e03b05ba7bee9b9463876e │ 0xdfd4eb61f5ced2b2e02f3ebd363d255fbbaf07f274e0694044754c6978e1c154 │                24 │ 0x9ec1c3dcf667f2035fb4cd2eb42a1566fd54d2b7 │ 0x46eb0d94111dc144cc00f675741c1074743f085c │ 0x7e99e5f744890a1acc77a1c652aec82c02e7e6e3 │ 0x9ec1c3dcf667f2035fb4cd2eb42a1566fd54d2b7 │        0 │ 0              │ 0x3d602d80600a3d3981f3363d3d373d3d3d363d739ec1c3dcf667f2035fb4cd2eb42a1566fd54d2b75af43d82803e903d91602b57fd5bf3 │ 0x363d3d373d3d3d363d739ec1c3dcf667f2035fb4cd2eb42a1566fd54d2b75af43d82803e903d91602b57fd5bf3 │ create2    │           │             │ 7833815 │     9031 │         0 │ 142           │         │      1 │ 0xb1ae2ed1   │            55.0 │\n",
       "│ mainnet │       10 │ op      │ 2024-11-18 │      1731888097 │    128144660 │ 0xaedf3d6cc150f089f1ccdeb158ae60a39e5b9dd593e03b05ba7bee9b9463876e │ 0xdfd4eb61f5ced2b2e02f3ebd363d255fbbaf07f274e0694044754c6978e1c154 │                24 │ 0x9ec1c3dcf667f2035fb4cd2eb42a1566fd54d2b7 │ 0x46eb0d94111dc144cc00f675741c1074743f085c │ 0x878e888c8ed3718d6405a58098daa8865de56d9f │ 0x9ec1c3dcf667f2035fb4cd2eb42a1566fd54d2b7 │        0 │ 0              │ 0x3d602d80600a3d3981f3363d3d373d3d3d363d739ec1c3dcf667f2035fb4cd2eb42a1566fd54d2b75af43d82803e903d91602b57fd5bf3 │ 0x363d3d373d3d3d363d739ec1c3dcf667f2035fb4cd2eb42a1566fd54d2b75af43d82803e903d91602b57fd5bf3 │ create2    │           │             │ 7667884 │     9031 │         0 │ 144           │         │      1 │ 0xb1ae2ed1   │            55.0 │\n",
       "│ mainnet │       10 │ op      │ 2024-11-18 │      1731888097 │    128144660 │ 0xaedf3d6cc150f089f1ccdeb158ae60a39e5b9dd593e03b05ba7bee9b9463876e │ 0xdfd4eb61f5ced2b2e02f3ebd363d255fbbaf07f274e0694044754c6978e1c154 │                24 │ 0x9ec1c3dcf667f2035fb4cd2eb42a1566fd54d2b7 │ 0x46eb0d94111dc144cc00f675741c1074743f085c │ 0x84656b3e0ad0bbf6c62a7f2b54f807306ff10a8e │ 0x9ec1c3dcf667f2035fb4cd2eb42a1566fd54d2b7 │        0 │ 0              │ 0x3d602d80600a3d3981f3363d3d373d3d3d363d739ec1c3dcf667f2035fb4cd2eb42a1566fd54d2b75af43d82803e903d91602b57fd5bf3 │ 0x363d3d373d3d3d363d739ec1c3dcf667f2035fb4cd2eb42a1566fd54d2b75af43d82803e903d91602b57fd5bf3 │ create2    │           │             │ 7501950 │     9031 │         0 │ 146           │         │      1 │ 0xb1ae2ed1   │            55.0 │\n",
       "│ mainnet │       10 │ op      │ 2024-11-18 │      1731888097 │    128144660 │ 0xaedf3d6cc150f089f1ccdeb158ae60a39e5b9dd593e03b05ba7bee9b9463876e │ 0xdfd4eb61f5ced2b2e02f3ebd363d255fbbaf07f274e0694044754c6978e1c154 │                24 │ 0x9ec1c3dcf667f2035fb4cd2eb42a1566fd54d2b7 │ 0x46eb0d94111dc144cc00f675741c1074743f085c │ 0x389f1922e309ae7917c1beab78f99e8a087d38e3 │ 0x9ec1c3dcf667f2035fb4cd2eb42a1566fd54d2b7 │        0 │ 0              │ 0x3d602d80600a3d3981f3363d3d373d3d3d363d739ec1c3dcf667f2035fb4cd2eb42a1566fd54d2b75af43d82803e903d91602b57fd5bf3 │ 0x363d3d373d3d3d363d739ec1c3dcf667f2035fb4cd2eb42a1566fd54d2b75af43d82803e903d91602b57fd5bf3 │ create2    │           │             │ 7336015 │     9031 │         0 │ 148           │         │      1 │ 0xb1ae2ed1   │            55.0 │\n",
       "│ mainnet │       10 │ op      │ 2024-11-18 │      1731888097 │    128144660 │ 0xaedf3d6cc150f089f1ccdeb158ae60a39e5b9dd593e03b05ba7bee9b9463876e │ 0xdfd4eb61f5ced2b2e02f3ebd363d255fbbaf07f274e0694044754c6978e1c154 │                24 │ 0x9ec1c3dcf667f2035fb4cd2eb42a1566fd54d2b7 │ 0x46eb0d94111dc144cc00f675741c1074743f085c │ 0x01ee02db05678feea7c3259f48839b719e90dc52 │ 0x9ec1c3dcf667f2035fb4cd2eb42a1566fd54d2b7 │        0 │ 0              │ 0x3d602d80600a3d3981f3363d3d373d3d3d363d739ec1c3dcf667f2035fb4cd2eb42a1566fd54d2b75af43d82803e903d91602b57fd5bf3 │ 0x363d3d373d3d3d363d739ec1c3dcf667f2035fb4cd2eb42a1566fd54d2b75af43d82803e903d91602b57fd5bf3 │ create2    │           │             │ 7170084 │     9031 │         0 │ 150           │         │      1 │ 0xb1ae2ed1   │            55.0 │\n",
       "│ mainnet │       10 │ op      │ 2024-11-18 │      1731888097 │    128144660 │ 0xaedf3d6cc150f089f1ccdeb158ae60a39e5b9dd593e03b05ba7bee9b9463876e │ 0xdfd4eb61f5ced2b2e02f3ebd363d255fbbaf07f274e0694044754c6978e1c154 │                24 │ 0x9ec1c3dcf667f2035fb4cd2eb42a1566fd54d2b7 │ 0x46eb0d94111dc144cc00f675741c1074743f085c │ 0x8510c4ce233b0f7954be58c30a90251655499310 │ 0x9ec1c3dcf667f2035fb4cd2eb42a1566fd54d2b7 │        0 │ 0              │ 0x3d602d80600a3d3981f3363d3d373d3d3d363d739ec1c3dcf667f2035fb4cd2eb42a1566fd54d2b75af43d82803e903d91602b57fd5bf3 │ 0x363d3d373d3d3d363d739ec1c3dcf667f2035fb4cd2eb42a1566fd54d2b75af43d82803e903d91602b57fd5bf3 │ create2    │           │             │ 7004150 │     9031 │         0 │ 152           │         │      1 │ 0xb1ae2ed1   │            55.0 │\n",
       "│ mainnet │       10 │ op      │ 2024-11-18 │      1731888097 │    128144660 │ 0xaedf3d6cc150f089f1ccdeb158ae60a39e5b9dd593e03b05ba7bee9b9463876e │ 0xdfd4eb61f5ced2b2e02f3ebd363d255fbbaf07f274e0694044754c6978e1c154 │                24 │ 0x9ec1c3dcf667f2035fb4cd2eb42a1566fd54d2b7 │ 0x46eb0d94111dc144cc00f675741c1074743f085c │ 0x97d88068e843373284430045facfee23e8745811 │ 0x9ec1c3dcf667f2035fb4cd2eb42a1566fd54d2b7 │        0 │ 0              │ 0x3d602d80600a3d3981f3363d3d373d3d3d363d739ec1c3dcf667f2035fb4cd2eb42a1566fd54d2b75af43d82803e903d91602b57fd5bf3 │ 0x363d3d373d3d3d363d739ec1c3dcf667f2035fb4cd2eb42a1566fd54d2b75af43d82803e903d91602b57fd5bf3 │ create2    │           │             │ 6838214 │     9031 │         0 │ 154           │         │      1 │ 0xb1ae2ed1   │            55.0 │\n",
       "│ mainnet │       10 │ op      │ 2024-11-18 │      1731888097 │    128144660 │ 0xaedf3d6cc150f089f1ccdeb158ae60a39e5b9dd593e03b05ba7bee9b9463876e │ 0xdfd4eb61f5ced2b2e02f3ebd363d255fbbaf07f274e0694044754c6978e1c154 │                24 │ 0x9ec1c3dcf667f2035fb4cd2eb42a1566fd54d2b7 │ 0x46eb0d94111dc144cc00f675741c1074743f085c │ 0x88e41cb621cf7ed8702023fb710f19abbb7f9770 │ 0x9ec1c3dcf667f2035fb4cd2eb42a1566fd54d2b7 │        0 │ 0              │ 0x3d602d80600a3d3981f3363d3d373d3d3d363d739ec1c3dcf667f2035fb4cd2eb42a1566fd54d2b75af43d82803e903d91602b57fd5bf3 │ 0x363d3d373d3d3d363d739ec1c3dcf667f2035fb4cd2eb42a1566fd54d2b75af43d82803e903d91602b57fd5bf3 │ create2    │           │             │ 6672283 │     9031 │         0 │ 156           │         │      1 │ 0xb1ae2ed1   │            55.0 │\n",
       "├─────────┴──────────┴─────────┴────────────┴─────────────────┴──────────────┴────────────────────────────────────────────────────────────────────┴────────────────────────────────────────────────────────────────────┴───────────────────┴────────────────────────────────────────────┴────────────────────────────────────────────┴────────────────────────────────────────────┴────────────────────────────────────────────┴──────────┴────────────────┴──────────────────────────────────────────────────────────────────────────────────────────────────────────────────┴──────────────────────────────────────────────────────────────────────────────────────────────┴────────────┴───────────┴─────────────┴─────────┴──────────┴───────────┴───────────────┴─────────┴────────┴──────────────┴─────────────────┤\n",
       "│ 10 rows                                                                                                                                                                                                                                                                                                                                                                                                                                                                                                                                                                                                                                                                                                                                                                                                     28 columns │\n",
       "└────────────────────────────────────────────────────────────────────────────────────────────────────────────────────────────────────────────────────────────────────────────────────────────────────────────────────────────────────────────────────────────────────────────────────────────────────────────────────────────────────────────────────────────────────────────────────────────────────────────────────────────────────────────────────────────────────────────────────────────────────────────────────────────────────────────────────────────────────────────────────────────────────────────────────────────────────────────────────────────────────────────────────────────────────────────────────────────────────────────────────────────────────────────────────────────────────────────────────────┘"
      ]
     },
     "execution_count": 3,
     "metadata": {},
     "output_type": "execute_result"
    }
   ],
   "source": [
    "duckdb_client.sql(\"SELECT * FROM create_traces_v1 LIMIT 10\")"
   ]
  },
  {
   "cell_type": "markdown",
   "metadata": {},
   "source": [
    "### Check the data output size"
   ]
  },
  {
   "cell_type": "code",
   "execution_count": 5,
   "metadata": {},
   "outputs": [
    {
     "data": {
      "text/plain": [
       "┌──────────────┐\n",
       "│ count_star() │\n",
       "│    int64     │\n",
       "├──────────────┤\n",
       "│        33413 │\n",
       "└──────────────┘"
      ]
     },
     "execution_count": 5,
     "metadata": {},
     "output_type": "execute_result"
    }
   ],
   "source": [
    "duckdb_client.sql(\"SELECT COUNT(*) FROM create_traces_v1\")"
   ]
  },
  {
   "cell_type": "code",
   "execution_count": 6,
   "metadata": {},
   "outputs": [
    {
     "data": {
      "text/plain": [
       "┌────────────────────────────────────────────────────────────────────────────────────────────────────────────────────────────────────────────────────────────────────────────────────────────────────────────────────────────────────────────────────────────────────────────────────────────────────────────────────────────────────────────────────────────────────────────────────────────────────────────────────────────────────────────────────────────────────────────────────────────────────────────────────────────────────────────────────────────────────────────────────────────────────────────────────────────────────────────────────────────────────────────────────────────────────────────────────────────────────────────┐\n",
       "│                                                                                                                                                                                                                                                                                                                                                                   input                                                                                                                                                                                                                                                                                                                                                                    │\n",
       "│                                                                                                                                                                                                                                                                                                                                                                  varchar                                                                                                                                                                                                                                                                                                                                                                   │\n",
       "├────────────────────────────────────────────────────────────────────────────────────────────────────────────────────────────────────────────────────────────────────────────────────────────────────────────────────────────────────────────────────────────────────────────────────────────────────────────────────────────────────────────────────────────────────────────────────────────────────────────────────────────────────────────────────────────────────────────────────────────────────────────────────────────────────────────────────────────────────────────────────────────────────────────────────────────────────────────────────────────────────────────────────────────────────────────────────────────────────────────┤\n",
       "│ 0x00000002000000000000000de01ce47f317b800000fc1f3296458f9b2a27a0b91dd7681c4020e09d0542000000000000000000000000000000000000424200000000000000000000000000000000000006000000000000000000000000000000000000002ad6c1be015b9be1913bbecfeb000000000000000000000000000000000000002ad53b792a6149d72479c1b49d00000000673a8429                                                                                                                                                                                                                                                                                                                                                                                                                       │\n",
       "│ 0x128acb0800000000000000000000000006a8087693b98e068b79f362687c718de6e5b5ae000000000000000000000000000000000000000000000000000000000000000000000000000000000000000000000000000000000000000de01ce47f317b8000000000000000000000000000000000000000002ad53b792a6149d72479c1b49d00000000000000000000000000000000000000000000000000000000000000a000000000000000000000000000000000000000000000000000000000000000a0000000000000000000000000000000000000000000000000000000000000000000000000000000000000000000000000000000000000000000000000000000010000000000000000000000004200000000000000000000000000000000000042000000000000000000000000fc1f3296458f9b2a27a0b91dd7681c4020e09d05000000000000000000000000000000000000002ad6c1be015b9be1913bbecfeb │\n",
       "│ 0x70a082310000000000000000000000008406d59f3638d7dac9cccf469cac16bdd9629c27                                                                                                                                                                                                                                                                                                                                                                                                                                                                                                                                                                                                                                                                 │\n",
       "│ 0xa6f19c84                                                                                                                                                                                                                                                                                                                                                                                                                                                                                                                                                                                                                                                                                                                                 │\n",
       "│ 0xa6f19c84                                                                                                                                                                                                                                                                                                                                                                                                                                                                                                                                                                                                                                                                                                                                 │\n",
       "│ 0xa34123a7000000000000000000000000000000000000000000000000000000000002fda0000000000000000000000000000000000000000000000000000000000002fe0400000000000000000000000000000000000000000000000003a1933c042068ea                                                                                                                                                                                                                                                                                                                                                                                                                                                                                                                                 │\n",
       "│ 0xa34123a7000000000000000000000000000000000000000000000000000000000002fda0000000000000000000000000000000000000000000000000000000000002fe0400000000000000000000000000000000000000000000000003a1933c042068ea                                                                                                                                                                                                                                                                                                                                                                                                                                                                                                                                 │\n",
       "│ 0x514ea4bfef89aa5a2f71c3937cb1903217b003dbfbfe7c21df1f7af0c6d49b40f0aef2d5                                                                                                                                                                                                                                                                                                                                                                                                                                                                                                                                                                                                                                                                 │\n",
       "│ 0x514ea4bfef89aa5a2f71c3937cb1903217b003dbfbfe7c21df1f7af0c6d49b40f0aef2d5                                                                                                                                                                                                                                                                                                                                                                                                                                                                                                                                                                                                                                                                 │\n",
       "│ 0xfc6f786500000000000000000000000000000000000000000000000000000000000872ae000000000000000000000000000000000000000000000000000000000000000000000000000000000000000000000000ffffffffffffffffffffffffffffffff00000000000000000000000000000000ffffffffffffffffffffffffffffffff                                                                                                                                                                                                                                                                                                                                                                                                                                                                 │\n",
       "├────────────────────────────────────────────────────────────────────────────────────────────────────────────────────────────────────────────────────────────────────────────────────────────────────────────────────────────────────────────────────────────────────────────────────────────────────────────────────────────────────────────────────────────────────────────────────────────────────────────────────────────────────────────────────────────────────────────────────────────────────────────────────────────────────────────────────────────────────────────────────────────────────────────────────────────────────────────────────────────────────────────────────────────────────────────────────────────────────────────┤\n",
       "│                                                                                                                                                                                                                                                                                                                                                                  10 rows                                                                                                                                                                                                                                                                                                                                                                   │\n",
       "└────────────────────────────────────────────────────────────────────────────────────────────────────────────────────────────────────────────────────────────────────────────────────────────────────────────────────────────────────────────────────────────────────────────────────────────────────────────────────────────────────────────────────────────────────────────────────────────────────────────────────────────────────────────────────────────────────────────────────────────────────────────────────────────────────────────────────────────────────────────────────────────────────────────────────────────────────────────────────────────────────────────────────────────────────────────────────────────────────────────┘"
      ]
     },
     "execution_count": 6,
     "metadata": {},
     "output_type": "execute_result"
    }
   ],
   "source": [
    "duckdb_client.sql(\"SELECT input FROM traces LIMIT 10\")\n"
   ]
  },
  {
   "cell_type": "markdown",
   "metadata": {},
   "source": [
    "### You can also convert the results to dataframes to inspect them in more familiar ways"
   ]
  },
  {
   "cell_type": "code",
   "execution_count": 7,
   "metadata": {},
   "outputs": [
    {
     "data": {
      "text/html": [
       "<div><style>\n",
       ".dataframe > thead > tr,\n",
       ".dataframe > tbody > tr {\n",
       "  text-align: right;\n",
       "  white-space: pre-wrap;\n",
       "}\n",
       "</style>\n",
       "<small>shape: (5, 28)</small><table border=\"1\" class=\"dataframe\"><thead><tr><th>network</th><th>chain_id</th><th>chain</th><th>dt</th><th>block_timestamp</th><th>block_number</th><th>block_hash</th><th>transaction_hash</th><th>transaction_index</th><th>tr_from_address</th><th>tx_from_address</th><th>contract_address</th><th>tx_to_address</th><th>value_64</th><th>value_lossless</th><th>code</th><th>output</th><th>trace_type</th><th>call_type</th><th>reward_type</th><th>gas</th><th>gas_used</th><th>subtraces</th><th>trace_address</th><th>error</th><th>status</th><th>tx_method_id</th><th>code_bytelength</th></tr><tr><td>str</td><td>i32</td><td>str</td><td>str</td><td>u32</td><td>i64</td><td>str</td><td>str</td><td>i64</td><td>str</td><td>str</td><td>str</td><td>str</td><td>i64</td><td>str</td><td>str</td><td>str</td><td>str</td><td>str</td><td>str</td><td>i64</td><td>i64</td><td>i64</td><td>str</td><td>str</td><td>i64</td><td>str</td><td>f64</td></tr></thead><tbody><tr><td>&quot;mainnet&quot;</td><td>10</td><td>&quot;op&quot;</td><td>&quot;2024-11-18&quot;</td><td>1731888097</td><td>128144660</td><td>&quot;0xaedf3d6cc150f089f1ccdeb158ae…</td><td>&quot;0xdfd4eb61f5ced2b2e02f3ebd363d…</td><td>24</td><td>&quot;0x9ec1c3dcf667f2035fb4cd2eb42a…</td><td>&quot;0x46eb0d94111dc144cc00f675741c…</td><td>&quot;0x5ba2525b78d2f40faffa21367a96…</td><td>&quot;0x9ec1c3dcf667f2035fb4cd2eb42a…</td><td>0</td><td>&quot;0&quot;</td><td>&quot;0x3d602d80600a3d3981f3363d3d37…</td><td>&quot;0x363d3d373d3d3d363d739ec1c3dc…</td><td>&quot;create2&quot;</td><td>&quot;&quot;</td><td>&quot;&quot;</td><td>8165681</td><td>9031</td><td>0</td><td>&quot;138&quot;</td><td>&quot;&quot;</td><td>1</td><td>&quot;0xb1ae2ed1&quot;</td><td>55.0</td></tr><tr><td>&quot;mainnet&quot;</td><td>10</td><td>&quot;op&quot;</td><td>&quot;2024-11-18&quot;</td><td>1731888097</td><td>128144660</td><td>&quot;0xaedf3d6cc150f089f1ccdeb158ae…</td><td>&quot;0xdfd4eb61f5ced2b2e02f3ebd363d…</td><td>24</td><td>&quot;0x9ec1c3dcf667f2035fb4cd2eb42a…</td><td>&quot;0x46eb0d94111dc144cc00f675741c…</td><td>&quot;0x414143b55429a665eabca7910941…</td><td>&quot;0x9ec1c3dcf667f2035fb4cd2eb42a…</td><td>0</td><td>&quot;0&quot;</td><td>&quot;0x3d602d80600a3d3981f3363d3d37…</td><td>&quot;0x363d3d373d3d3d363d739ec1c3dc…</td><td>&quot;create2&quot;</td><td>&quot;&quot;</td><td>&quot;&quot;</td><td>7999749</td><td>9031</td><td>0</td><td>&quot;140&quot;</td><td>&quot;&quot;</td><td>1</td><td>&quot;0xb1ae2ed1&quot;</td><td>55.0</td></tr><tr><td>&quot;mainnet&quot;</td><td>10</td><td>&quot;op&quot;</td><td>&quot;2024-11-18&quot;</td><td>1731888097</td><td>128144660</td><td>&quot;0xaedf3d6cc150f089f1ccdeb158ae…</td><td>&quot;0xdfd4eb61f5ced2b2e02f3ebd363d…</td><td>24</td><td>&quot;0x9ec1c3dcf667f2035fb4cd2eb42a…</td><td>&quot;0x46eb0d94111dc144cc00f675741c…</td><td>&quot;0x7e99e5f744890a1acc77a1c652ae…</td><td>&quot;0x9ec1c3dcf667f2035fb4cd2eb42a…</td><td>0</td><td>&quot;0&quot;</td><td>&quot;0x3d602d80600a3d3981f3363d3d37…</td><td>&quot;0x363d3d373d3d3d363d739ec1c3dc…</td><td>&quot;create2&quot;</td><td>&quot;&quot;</td><td>&quot;&quot;</td><td>7833815</td><td>9031</td><td>0</td><td>&quot;142&quot;</td><td>&quot;&quot;</td><td>1</td><td>&quot;0xb1ae2ed1&quot;</td><td>55.0</td></tr><tr><td>&quot;mainnet&quot;</td><td>10</td><td>&quot;op&quot;</td><td>&quot;2024-11-18&quot;</td><td>1731888097</td><td>128144660</td><td>&quot;0xaedf3d6cc150f089f1ccdeb158ae…</td><td>&quot;0xdfd4eb61f5ced2b2e02f3ebd363d…</td><td>24</td><td>&quot;0x9ec1c3dcf667f2035fb4cd2eb42a…</td><td>&quot;0x46eb0d94111dc144cc00f675741c…</td><td>&quot;0x878e888c8ed3718d6405a58098da…</td><td>&quot;0x9ec1c3dcf667f2035fb4cd2eb42a…</td><td>0</td><td>&quot;0&quot;</td><td>&quot;0x3d602d80600a3d3981f3363d3d37…</td><td>&quot;0x363d3d373d3d3d363d739ec1c3dc…</td><td>&quot;create2&quot;</td><td>&quot;&quot;</td><td>&quot;&quot;</td><td>7667884</td><td>9031</td><td>0</td><td>&quot;144&quot;</td><td>&quot;&quot;</td><td>1</td><td>&quot;0xb1ae2ed1&quot;</td><td>55.0</td></tr><tr><td>&quot;mainnet&quot;</td><td>10</td><td>&quot;op&quot;</td><td>&quot;2024-11-18&quot;</td><td>1731888097</td><td>128144660</td><td>&quot;0xaedf3d6cc150f089f1ccdeb158ae…</td><td>&quot;0xdfd4eb61f5ced2b2e02f3ebd363d…</td><td>24</td><td>&quot;0x9ec1c3dcf667f2035fb4cd2eb42a…</td><td>&quot;0x46eb0d94111dc144cc00f675741c…</td><td>&quot;0x84656b3e0ad0bbf6c62a7f2b54f8…</td><td>&quot;0x9ec1c3dcf667f2035fb4cd2eb42a…</td><td>0</td><td>&quot;0&quot;</td><td>&quot;0x3d602d80600a3d3981f3363d3d37…</td><td>&quot;0x363d3d373d3d3d363d739ec1c3dc…</td><td>&quot;create2&quot;</td><td>&quot;&quot;</td><td>&quot;&quot;</td><td>7501950</td><td>9031</td><td>0</td><td>&quot;146&quot;</td><td>&quot;&quot;</td><td>1</td><td>&quot;0xb1ae2ed1&quot;</td><td>55.0</td></tr></tbody></table></div>"
      ],
      "text/plain": [
       "shape: (5, 28)\n",
       "┌─────────┬──────────┬───────┬────────────┬───┬───────┬────────┬──────────────┬─────────────────┐\n",
       "│ network ┆ chain_id ┆ chain ┆ dt         ┆ … ┆ error ┆ status ┆ tx_method_id ┆ code_bytelength │\n",
       "│ ---     ┆ ---      ┆ ---   ┆ ---        ┆   ┆ ---   ┆ ---    ┆ ---          ┆ ---             │\n",
       "│ str     ┆ i32      ┆ str   ┆ str        ┆   ┆ str   ┆ i64    ┆ str          ┆ f64             │\n",
       "╞═════════╪══════════╪═══════╪════════════╪═══╪═══════╪════════╪══════════════╪═════════════════╡\n",
       "│ mainnet ┆ 10       ┆ op    ┆ 2024-11-18 ┆ … ┆       ┆ 1      ┆ 0xb1ae2ed1   ┆ 55.0            │\n",
       "│ mainnet ┆ 10       ┆ op    ┆ 2024-11-18 ┆ … ┆       ┆ 1      ┆ 0xb1ae2ed1   ┆ 55.0            │\n",
       "│ mainnet ┆ 10       ┆ op    ┆ 2024-11-18 ┆ … ┆       ┆ 1      ┆ 0xb1ae2ed1   ┆ 55.0            │\n",
       "│ mainnet ┆ 10       ┆ op    ┆ 2024-11-18 ┆ … ┆       ┆ 1      ┆ 0xb1ae2ed1   ┆ 55.0            │\n",
       "│ mainnet ┆ 10       ┆ op    ┆ 2024-11-18 ┆ … ┆       ┆ 1      ┆ 0xb1ae2ed1   ┆ 55.0            │\n",
       "└─────────┴──────────┴───────┴────────────┴───┴───────┴────────┴──────────────┴─────────────────┘"
      ]
     },
     "execution_count": 7,
     "metadata": {},
     "output_type": "execute_result"
    }
   ],
   "source": [
    "duckdb_client.sql(\"SELECT * FROM create_traces_v1 LIMIT 10\").pl().head()"
   ]
  },
  {
   "cell_type": "markdown",
   "metadata": {},
   "source": [
    "### Get table schema"
   ]
  },
  {
   "cell_type": "code",
   "execution_count": 8,
   "metadata": {},
   "outputs": [
    {
     "data": {
      "text/plain": [
       "┌───────────────────┬─────────────┬─────────┬─────────┬─────────┬─────────┐\n",
       "│    column_name    │ column_type │  null   │   key   │ default │  extra  │\n",
       "│      varchar      │   varchar   │ varchar │ varchar │ varchar │ varchar │\n",
       "├───────────────────┼─────────────┼─────────┼─────────┼─────────┼─────────┤\n",
       "│ network           │ VARCHAR     │ YES     │ NULL    │ NULL    │ NULL    │\n",
       "│ chain_id          │ INTEGER     │ YES     │ NULL    │ NULL    │ NULL    │\n",
       "│ chain             │ VARCHAR     │ YES     │ NULL    │ NULL    │ NULL    │\n",
       "│ dt                │ VARCHAR     │ YES     │ NULL    │ NULL    │ NULL    │\n",
       "│ block_timestamp   │ UINTEGER    │ YES     │ NULL    │ NULL    │ NULL    │\n",
       "│ block_number      │ BIGINT      │ YES     │ NULL    │ NULL    │ NULL    │\n",
       "│ block_hash        │ VARCHAR     │ YES     │ NULL    │ NULL    │ NULL    │\n",
       "│ transaction_hash  │ VARCHAR     │ YES     │ NULL    │ NULL    │ NULL    │\n",
       "│ transaction_index │ BIGINT      │ YES     │ NULL    │ NULL    │ NULL    │\n",
       "│ tr_from_address   │ VARCHAR     │ YES     │ NULL    │ NULL    │ NULL    │\n",
       "│     ·             │    ·        │  ·      │  ·      │  ·      │  ·      │\n",
       "│     ·             │    ·        │  ·      │  ·      │  ·      │  ·      │\n",
       "│     ·             │    ·        │  ·      │  ·      │  ·      │  ·      │\n",
       "│ call_type         │ VARCHAR     │ YES     │ NULL    │ NULL    │ NULL    │\n",
       "│ reward_type       │ VARCHAR     │ YES     │ NULL    │ NULL    │ NULL    │\n",
       "│ gas               │ BIGINT      │ YES     │ NULL    │ NULL    │ NULL    │\n",
       "│ gas_used          │ BIGINT      │ YES     │ NULL    │ NULL    │ NULL    │\n",
       "│ subtraces         │ BIGINT      │ YES     │ NULL    │ NULL    │ NULL    │\n",
       "│ trace_address     │ VARCHAR     │ YES     │ NULL    │ NULL    │ NULL    │\n",
       "│ error             │ VARCHAR     │ YES     │ NULL    │ NULL    │ NULL    │\n",
       "│ status            │ BIGINT      │ YES     │ NULL    │ NULL    │ NULL    │\n",
       "│ tx_method_id      │ VARCHAR     │ YES     │ NULL    │ NULL    │ NULL    │\n",
       "│ code_bytelength   │ DOUBLE      │ YES     │ NULL    │ NULL    │ NULL    │\n",
       "├───────────────────┴─────────────┴─────────┴─────────┴─────────┴─────────┤\n",
       "│ 28 rows (20 shown)                                            6 columns │\n",
       "└─────────────────────────────────────────────────────────────────────────┘"
      ]
     },
     "execution_count": 8,
     "metadata": {},
     "output_type": "execute_result"
    }
   ],
   "source": [
    "duckdb_client.sql(\"DESCRIBE create_traces_v1\")\n"
   ]
  },
  {
   "cell_type": "code",
   "execution_count": null,
   "metadata": {},
   "outputs": [],
   "source": []
  }
 ],
 "metadata": {
  "kernelspec": {
   "display_name": ".venv",
   "language": "python",
   "name": "python3"
  },
  "language_info": {
   "codemirror_mode": {
    "name": "ipython",
    "version": 3
   },
   "file_extension": ".py",
   "mimetype": "text/x-python",
   "name": "python",
   "nbconvert_exporter": "python",
   "pygments_lexer": "ipython3",
   "version": "3.12.6"
  }
 },
 "nbformat": 4,
 "nbformat_minor": 2
}
