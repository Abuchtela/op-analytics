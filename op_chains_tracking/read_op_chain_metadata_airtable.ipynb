{
 "cells": [
  {
   "cell_type": "code",
   "execution_count": null,
   "metadata": {},
   "outputs": [],
   "source": [
    "import pandas as pd\n",
    "from airtable import airtable\n",
    "\n",
    "import sys\n",
    "sys.path.append(\"../helper_functions\")\n",
    "import duneapi_utils as d\n",
    "sys.path.pop()\n",
    "\n",
    "import dotenv\n",
    "import os\n",
    "dotenv.load_dotenv()\n",
    "at_api = os.environ[\"AIRTABLE_API_TOKEN\"]\n",
    "at_base = os.environ[\"AIRTABLE_DEVREL_BASE_ID\"]\n",
    "\n",
    "columns = ['Name','Alignment','Block Explorer','Announcement Date', 'Mainnet Launch Date'\n",
    "           ,'L1 Standard Bridge Contract', 'L1 NFT Bridge Contract', 'L1 BatchInbox \"to address\"', 'L1 BatchInbox \"from address\"']"
   ]
  },
  {
   "cell_type": "code",
   "execution_count": null,
   "metadata": {},
   "outputs": [],
   "source": [
    "at = airtable.Airtable(at_base, at_api)\n",
    "data = at.get('OP Products')\n",
    "df = pd.json_normalize(data, record_path='records')\n",
    "# Rename all columns that start with 'fields.'\n",
    "df.rename(columns=lambda x: x.replace('fields.', ''), inplace=True)\n",
    "df = df[columns]"
   ]
  },
  {
   "cell_type": "code",
   "execution_count": null,
   "metadata": {},
   "outputs": [],
   "source": [
    "# Filter the DataFrame\n",
    "filtered_df = df[df['L1 Standard Bridge Contract'].notnull() & df['L1 Standard Bridge Contract'].str.startswith('0x')\\\n",
    "                 & df['L1 BatchInbox \"to address\"'].notnull() & df['L1 BatchInbox \"to address\"'].str.startswith('0x')]\n",
    "filtered_df.reset_index(inplace=True, drop=True)\n",
    "display(filtered_df)"
   ]
  },
  {
   "cell_type": "code",
   "execution_count": null,
   "metadata": {},
   "outputs": [],
   "source": [
    "# Post to Dune API\n",
    "d.write_dune_api_from_pandas(filtered_df, 'op_stack_chain_metadata','Metadata about OP Stack Chains (i.e. bridge contracts, submitter contracts, name)')"
   ]
  }
 ],
 "metadata": {
  "kernelspec": {
   "display_name": "new-env",
   "language": "python",
   "name": "python3"
  },
  "language_info": {
   "codemirror_mode": {
    "name": "ipython",
    "version": 3
   },
   "file_extension": ".py",
   "mimetype": "text/x-python",
   "name": "python",
   "nbconvert_exporter": "python",
   "pygments_lexer": "ipython3",
   "version": "3.10.9"
  },
  "orig_nbformat": 4
 },
 "nbformat": 4,
 "nbformat_minor": 2
}
