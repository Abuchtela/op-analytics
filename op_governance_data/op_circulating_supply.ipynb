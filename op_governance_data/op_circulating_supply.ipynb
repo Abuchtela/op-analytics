{
 "cells": [
  {
   "cell_type": "code",
   "execution_count": 1,
   "metadata": {},
   "outputs": [],
   "source": [
    "import requests\n",
    "import pandas as pd\n",
    "from datetime import datetime, timedelta\n",
    "import sys\n",
    "sys.path.append(\"../helper_functions\")\n",
    "import duneapi_utils as du\n",
    "sys.path.pop()\n",
    "\n",
    "# Define the CSV path and API URL\n",
    "csv_path = 'outputs/daily_op_circulating_supply.csv'  # Update this path as per your directory structure\n",
    "api_url = 'https://static.optimism.io/tokenomics/circulatingSupply.txt'"
   ]
  },
  {
   "cell_type": "code",
   "execution_count": 2,
   "metadata": {},
   "outputs": [],
   "source": [
    "def update_csv_with_api_data(csv_path, api_url):\n",
    "    # Read the existing CSV file\n",
    "    try:\n",
    "        df = pd.read_csv(csv_path)\n",
    "    except FileNotFoundError:\n",
    "        print(f\"File {csv_path} not found.\")\n",
    "        return\n",
    "\n",
    "    # Get the current data from the API\n",
    "    try:\n",
    "        response = requests.get(api_url)\n",
    "        response.raise_for_status()\n",
    "        current_supply = float(response.text.strip())\n",
    "    except requests.RequestException as e:\n",
    "        print(f\"Error fetching data from API: {e}\")\n",
    "        return\n",
    "\n",
    "    # Get today's date in the required format\n",
    "    today = datetime.now().strftime('%Y-%m-%d')\n",
    "\n",
    "    # Check if today's date is already in the DataFrame\n",
    "    if today in df['date'].values:\n",
    "        df.loc[df['date'] == today, 'op_circulating_supply'] = current_supply\n",
    "    else:\n",
    "        # Backfill missing dates\n",
    "        last_date_in_csv = datetime.strptime(df['date'].iloc[-1], '%Y-%m-%d')\n",
    "        delta = datetime.strptime(today, '%Y-%m-%d') - last_date_in_csv\n",
    "        for i in range(1, delta.days + 1):\n",
    "            new_date = last_date_in_csv + timedelta(days=i)\n",
    "            new_date_str = new_date.strftime('%Y-%m-%d')\n",
    "            df = df.append({'date': new_date_str, 'op_circulating_supply': current_supply}, ignore_index=True)\n",
    "\n",
    "    # Save the updated DataFrame back to CSV\n",
    "    df.to_csv(csv_path, index=False)\n",
    "    print(f\"CSV file updated successfully at {csv_path}\")"
   ]
  },
  {
   "cell_type": "code",
   "execution_count": 3,
   "metadata": {},
   "outputs": [
    {
     "name": "stdout",
     "output_type": "stream",
     "text": [
      "CSV file updated successfully at outputs/daily_op_circulating_supply.csv\n"
     ]
    }
   ],
   "source": [
    "# Call the function to update the CSV\n",
    "update_csv_with_api_data(csv_path, api_url)"
   ]
  },
  {
   "cell_type": "code",
   "execution_count": 4,
   "metadata": {},
   "outputs": [
    {
     "name": "stdout",
     "output_type": "stream",
     "text": [
      "           date  op_circulating_supply\n",
      "561  2023-12-13            911294948.0\n",
      "562  2023-12-14            911294948.0\n",
      "563  2023-12-15            911294948.0\n",
      "564  2023-12-16            911294948.0\n",
      "565  2023-12-17            911294948.0\n",
      "566  2023-12-18            911294948.0\n",
      "567  2023-12-19            911294948.0\n",
      "568  2023-12-20            911294948.0\n",
      "569  2023-12-21            911294948.0\n",
      "570  2023-12-22            911294948.0\n"
     ]
    }
   ],
   "source": [
    "try:\n",
    "    # Read the CSV file\n",
    "    df = pd.read_csv(csv_path)\n",
    "\n",
    "    # Print the last 10 rows\n",
    "    print(df.tail(10))\n",
    "except FileNotFoundError:\n",
    "    print(f\"File {csv_path} not found.\")\n",
    "except Exception as e:\n",
    "    print(f\"An error occurred: {e}\")"
   ]
  },
  {
   "cell_type": "code",
   "execution_count": 5,
   "metadata": {},
   "outputs": [
    {
     "name": "stdout",
     "output_type": "stream",
     "text": [
      "table at: dune.oplabspbc.dataset_daily_op_circulating_supply\n",
      "Response status code: 200\n",
      "Response content: b'{\"success\":true,\"table_name\":\"daily_op_circulating_supply\"}'\n"
     ]
    }
   ],
   "source": [
    "# Convert to timestamp\n",
    "df['date'] = pd.to_datetime(df['date'])\n",
    "# Upload to Dune\n",
    "du.write_dune_api_from_pandas(df, 'daily_op_circulating_supply',\\\n",
    "                             'Daily Snapshots of OP Token Circulating Supply, pulled from: https://static.optimism.io/tokenomics/circulatingSupply.txt')"
   ]
  }
 ],
 "metadata": {
  "kernelspec": {
   "display_name": "new-env",
   "language": "python",
   "name": "python3"
  },
  "language_info": {
   "codemirror_mode": {
    "name": "ipython",
    "version": 3
   },
   "file_extension": ".py",
   "mimetype": "text/x-python",
   "name": "python",
   "nbconvert_exporter": "python",
   "pygments_lexer": "ipython3",
   "version": "3.10.11"
  }
 },
 "nbformat": 4,
 "nbformat_minor": 2
}
