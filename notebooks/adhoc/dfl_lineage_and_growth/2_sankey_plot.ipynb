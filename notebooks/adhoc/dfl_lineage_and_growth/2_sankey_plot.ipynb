{
 "cells": [
  {
   "cell_type": "code",
   "execution_count": 31,
   "metadata": {},
   "outputs": [],
   "source": [
    "import pandas as pd\n",
    "import plotly.graph_objects as go\n",
    "import random\n",
    "\n",
    "def group_small_values(df, col, threshold):\n",
    "    \"\"\"\n",
    "    Group values in 'col' whose total TVL < threshold into 'Others'.\n",
    "    \"\"\"\n",
    "    totals = df.groupby(col)[\"app_token_tvl_usd\"].sum()\n",
    "    small_values = totals[totals < threshold].index\n",
    "    df[col] = df[col].apply(lambda x: x if x not in small_values else \"Others\")\n",
    "    return df\n",
    "\n",
    "def build_sankey_df(df, columns_order, threshold=0.03):\n",
    "    \"\"\"\n",
    "    Summarize TVL for a 3-level Sankey chart, e.g. [left, mid, right].\n",
    "    \"\"\"\n",
    "    left_col, mid_col, right_col = columns_order\n",
    "    df_sankey = df.groupby([left_col, mid_col, right_col], as_index=False).agg({\"app_token_tvl_usd\": \"sum\"})\n",
    "\n",
    "    total_val = df_sankey[\"app_token_tvl_usd\"].sum()\n",
    "    cutoff = threshold * total_val\n",
    "\n",
    "    # Consolidate small entries\n",
    "    df_sankey = group_small_values(df_sankey, left_col, cutoff)\n",
    "    df_sankey = group_small_values(df_sankey, mid_col, cutoff)\n",
    "    df_sankey = group_small_values(df_sankey, right_col, cutoff)\n",
    "\n",
    "    # Re-aggregate after grouping\n",
    "    df_sankey = df_sankey.groupby([left_col, mid_col, right_col], as_index=False).agg({\"app_token_tvl_usd\": \"sum\"})\n",
    "    return df_sankey\n",
    "\n",
    "def build_sankey_links_and_nodes(df_sankey, columns_order):\n",
    "    \"\"\"\n",
    "    Convert the 3-col DataFrame into Sankey link/node arrays.\n",
    "    \"\"\"\n",
    "    left_col, mid_col, right_col = columns_order\n",
    "\n",
    "    left_vals = df_sankey[left_col].unique().tolist()\n",
    "    mid_vals = df_sankey[mid_col].unique().tolist()\n",
    "    right_vals = df_sankey[right_col].unique().tolist()\n",
    "\n",
    "    idx_left = {v: i for i, v in enumerate(left_vals)}\n",
    "    idx_mid = {v: i + len(left_vals) for i, v in enumerate(mid_vals)}\n",
    "    idx_right = {v: i + len(left_vals) + len(mid_vals) for i, v in enumerate(right_vals)}\n",
    "\n",
    "    # Links left->mid\n",
    "    lm_df = df_sankey.groupby([left_col, mid_col], as_index=False).agg({\"app_token_tvl_usd\": \"sum\"})\n",
    "    lm_source = lm_df[left_col].map(idx_left)\n",
    "    lm_target = lm_df[mid_col].map(idx_mid)\n",
    "    lm_value = lm_df[\"app_token_tvl_usd\"]\n",
    "\n",
    "    # Links mid->right\n",
    "    mr_df = df_sankey.groupby([mid_col, right_col], as_index=False).agg({\"app_token_tvl_usd\": \"sum\"})\n",
    "    mr_source = mr_df[mid_col].map(idx_mid)\n",
    "    mr_target = mr_df[right_col].map(idx_right)\n",
    "    mr_value = mr_df[\"app_token_tvl_usd\"]\n",
    "\n",
    "    link_source = pd.concat([lm_source, mr_source], ignore_index=True)\n",
    "    link_target = pd.concat([lm_target, mr_target], ignore_index=True)\n",
    "    link_value = pd.concat([lm_value, mr_value], ignore_index=True)\n",
    "\n",
    "    node_labels = left_vals + mid_vals + right_vals\n",
    "    return node_labels, link_source, link_target, link_value\n",
    "\n",
    "def random_color():\n",
    "    r = lambda: random.randint(0,255)\n",
    "    return f'#{r():02X}{r():02X}{r():02X}'\n",
    "\n",
    "def assign_node_colors(node_labels):\n",
    "    \"\"\"\n",
    "    Assign random (but reproducible) colors to each node label. \n",
    "    We'll make \"Others\" gray if present.\n",
    "    \"\"\"\n",
    "    random.seed(42)\n",
    "    color_map = {lbl: random_color() for lbl in node_labels}\n",
    "    if \"Others\" in color_map:\n",
    "        color_map[\"Others\"] = \"#999999\"\n",
    "    return [color_map[lbl] for lbl in node_labels]\n",
    "\n",
    "def plot_sankey(df_sankey, column_labels_map, columns_order, snapshot_date, threshold=0.03, note=None):\n",
    "    \"\"\"\n",
    "    Build and show a Sankey chart.\n",
    "    \"\"\"\n",
    "    if df_sankey.empty:\n",
    "        raise ValueError(\"No data available after filters. Sankey would be empty.\")\n",
    "\n",
    "    node_labels, link_source, link_target, link_value = build_sankey_links_and_nodes(df_sankey, columns_order)\n",
    "    node_colors = assign_node_colors(node_labels)\n",
    "\n",
    "    total_tvl = df_sankey[\"app_token_tvl_usd\"].sum()\n",
    "\n",
    "    left_col, mid_col, right_col = columns_order\n",
    "    left_lbl = column_labels_map.get(left_col, left_col)\n",
    "    mid_lbl = column_labels_map.get(mid_col, mid_col)\n",
    "    right_lbl = column_labels_map.get(right_col, right_col)\n",
    "\n",
    "    fig = go.Figure(\n",
    "        data=[go.Sankey(\n",
    "            arrangement='snap',\n",
    "            node=dict(\n",
    "                label=node_labels,\n",
    "                pad=15,\n",
    "                thickness=20,\n",
    "                line=dict(color=\"black\", width=0.5),\n",
    "                color=node_colors\n",
    "            ),\n",
    "            link=dict(\n",
    "                source=link_source,\n",
    "                target=link_target,\n",
    "                value=link_value,\n",
    "                color=\"#cccccc\",  # all links gray, or customize if you'd like\n",
    "                customdata=(link_value / 1e6), \n",
    "                hovertemplate='TVL: %{customdata:.2f}M USD<extra></extra>'\n",
    "            )\n",
    "        )]\n",
    "    )\n",
    "\n",
    "    fig.update_layout(\n",
    "        title={\n",
    "            'text': \"Protocol Token Lineage - \" + snapshot_date,\n",
    "            'font': {'size': 15}\n",
    "        },\n",
    "        annotations=[\n",
    "            dict(\n",
    "                x=0.0,\n",
    "                y=-0.35,\n",
    "                xref='paper',\n",
    "                yref='paper',\n",
    "                text=note,\n",
    "                showarrow=False,\n",
    "                font=dict(size=10),\n",
    "                align='left'\n",
    "            ),\n",
    "            dict(\n",
    "                x=0,\n",
    "                y=1.1,\n",
    "                xref='paper',\n",
    "                yref='paper',\n",
    "                text=f\"<b>{left_lbl}</b>\",\n",
    "                showarrow=False,\n",
    "                font=dict(size=12),\n",
    "                align='center'\n",
    "            ),\n",
    "            dict(\n",
    "                x=0.5,\n",
    "                y=1.1,\n",
    "                xref='paper',\n",
    "                yref='paper',\n",
    "                text=f\"<b>{mid_lbl}</b>\",\n",
    "                showarrow=False,\n",
    "                font=dict(size=12),\n",
    "                align='center'\n",
    "            ),\n",
    "            dict(\n",
    "                x=1,\n",
    "                y=1.1,\n",
    "                xref='paper',\n",
    "                yref='paper',\n",
    "                text=f\"<b>{right_lbl}</b>\",\n",
    "                showarrow=False,\n",
    "                font=dict(size=12),\n",
    "                align='center'\n",
    "            ),\n",
    "            dict(\n",
    "                x=0, y=-0.10, xref='paper', yref='paper',\n",
    "                text=f\"<b>Total TVL Shown: ${total_tvl/1e9:,.2f}B</b>\",\n",
    "                showarrow=False, font=dict(size=12)\n",
    "            )\n",
    "        ],\n",
    "        font_size=10,\n",
    "        margin=dict(l=50, r=50, b=150, t=100),\n",
    "        autosize=True,\n",
    "        width=950, height=600\n",
    "    )\n",
    "    return fig"
   ]
  },
  {
   "cell_type": "code",
   "execution_count": 5,
   "metadata": {},
   "outputs": [
    {
     "name": "stdout",
     "output_type": "stream",
     "text": [
      "Loaded 5885377 rows from 'protocol_data_prepped.csv'.\n"
     ]
    }
   ],
   "source": [
    "df_all = pd.read_csv(\"protocol_data_prepped.csv\")\n",
    "print(f\"Loaded {df_all.shape[0]} rows from 'protocol_data_prepped.csv'.\")"
   ]
  },
  {
   "cell_type": "code",
   "execution_count": 37,
   "metadata": {},
   "outputs": [
    {
     "name": "stdout",
     "output_type": "stream",
     "text": [
      "Rows matching 2024-12-17: 96425\n",
      "df_sankey shape after grouping: (39, 4)\n"
     ]
    },
    {
     "data": {
      "application/vnd.plotly.v1+json": {
       "config": {
        "plotlyServerURL": "https://plot.ly"
       },
       "data": [
        {
         "arrangement": "snap",
         "link": {
          "color": "#cccccc",
          "customdata": [
           84602.59338249698,
           446.7599837458,
           26874.344326409013,
           9306.27335149512,
           163340.90705933448,
           9990.72702623378,
           19160.751650761773,
           71229.27125735972,
           14917.56368056327,
           74084.68388653397,
           14616.40155215821,
           9048.842475396348,
           5846.83891470734,
           42.067946617080004,
           707.5189685587399,
           18172.12533524245,
           5395.8100476152,
           2568.75887732962,
           737.6500662217398,
           29318.580685901932,
           6150.41441255513,
           28762.362526350018,
           6997.91363255264,
           9226.309290060539,
           5441.70123795111,
           242.18755548079002,
           7.36559707083,
           76890.86806459547,
           15046.348792025381,
           15433.21000350491,
           12246.54989663625,
           39085.999695955645,
           4637.93060661681,
           11036.40375932115,
           8124.3478914406205
          ],
          "hovertemplate": "TVL: %{customdata:.2f}M USD<extra></extra>",
          "source": [
           0,
           1,
           1,
           2,
           2,
           3,
           3,
           4,
           5,
           6,
           6,
           6,
           6,
           6,
           6,
           7,
           7,
           7,
           7,
           10,
           10,
           10,
           10,
           11,
           11,
           11,
           11,
           8,
           8,
           8,
           8,
           8,
           8,
           9,
           9
          ],
          "target": [
           6,
           6,
           7,
           6,
           8,
           6,
           9,
           10,
           11,
           12,
           13,
           14,
           15,
           16,
           17,
           12,
           13,
           14,
           17,
           12,
           13,
           14,
           17,
           12,
           13,
           14,
           17,
           12,
           13,
           14,
           15,
           16,
           17,
           12,
           13
          ],
          "value": [
           84602593382.49698,
           446759983.7458,
           26874344326.40901,
           9306273351.49512,
           163340907059.33447,
           9990727026.23378,
           19160751650.761772,
           71229271257.35973,
           14917563680.563269,
           74084683886.53397,
           14616401552.158209,
           9048842475.396349,
           5846838914.70734,
           42067946.61708,
           707518968.5587399,
           18172125335.24245,
           5395810047.6152,
           2568758877.3296204,
           737650066.2217399,
           29318580685.90193,
           6150414412.55513,
           28762362526.350018,
           6997913632.55264,
           9226309290.06054,
           5441701237.95111,
           242187555.48079002,
           7365597.07083,
           76890868064.59547,
           15046348792.025381,
           15433210003.50491,
           12246549896.63625,
           39085999695.95564,
           4637930606.61681,
           11036403759.32115,
           8124347891.44062
          ]
         },
         "node": {
          "color": [
           "#999999",
           "#7D7247",
           "#342CD8",
           "#7733C2",
           "#6F770D",
           "#65D670",
           "#999999",
           "#51D8AE",
           "#8E4F6E",
           "#AC342F",
           "#C231B7",
           "#B08716",
           "#999999",
           "#2896B9",
           "#622317",
           "#749428",
           "#7733C2",
           "#8EE8BA"
          ],
          "label": [
           "Others",
           "circle",
           "ethereum",
           "lido",
           "tether",
           "wrapped-bitcoin",
           "Others",
           "USDC",
           "WETH",
           "WSTETH",
           "USDT",
           "WBTC",
           "Others",
           "aave",
           "binance-cex",
           "eigenlayer",
           "lido",
           "okx"
          ],
          "line": {
           "color": "black",
           "width": 0.5
          },
          "pad": 15,
          "thickness": 20
         },
         "type": "sankey"
        }
       ],
       "layout": {
        "annotations": [
         {
          "align": "left",
          "font": {
           "size": 10
          },
          "showarrow": false,
          "text": "<b>Filters:</b><br>• <b>Chains:</b> Algorand, op_bnb, Optimism, Binance, Manta, Avalanche, Polygon, Ethereum, Tron, Litecoin, ...<br>• <b>Protocol Categories:</b> CEX, Liquid Staking, Lending, Restaking, Bridge, Chain, Liquid Restaking, CDP, Basis Trading, Yield, ...<br>• <b>Asset Type:</b> Other, Native Asset, Wrapped Assets<br><br>Note: Smaller protocols than 3.0% of total TVL are grouped under 'Others'.",
          "x": 0,
          "xref": "paper",
          "y": -0.35,
          "yref": "paper"
         },
         {
          "align": "center",
          "font": {
           "size": 12
          },
          "showarrow": false,
          "text": "<b>Token Issuer</b>",
          "x": 0,
          "xref": "paper",
          "y": 1.1,
          "yref": "paper"
         },
         {
          "align": "center",
          "font": {
           "size": 12
          },
          "showarrow": false,
          "text": "<b>Token</b>",
          "x": 0.5,
          "xref": "paper",
          "y": 1.1,
          "yref": "paper"
         },
         {
          "align": "center",
          "font": {
           "size": 12
          },
          "showarrow": false,
          "text": "<b>Protocol Destination</b>",
          "x": 1,
          "xref": "paper",
          "y": 1.1,
          "yref": "paper"
         },
         {
          "font": {
           "size": 12
          },
          "showarrow": false,
          "text": "<b>Total TVL Shown: $399.87B</b>",
          "x": 0,
          "xref": "paper",
          "y": -0.1,
          "yref": "paper"
         }
        ],
        "autosize": true,
        "font": {
         "size": 10
        },
        "height": 600,
        "margin": {
         "b": 150,
         "l": 50,
         "r": 50,
         "t": 100
        },
        "template": {
         "data": {
          "bar": [
           {
            "error_x": {
             "color": "#2a3f5f"
            },
            "error_y": {
             "color": "#2a3f5f"
            },
            "marker": {
             "line": {
              "color": "#E5ECF6",
              "width": 0.5
             },
             "pattern": {
              "fillmode": "overlay",
              "size": 10,
              "solidity": 0.2
             }
            },
            "type": "bar"
           }
          ],
          "barpolar": [
           {
            "marker": {
             "line": {
              "color": "#E5ECF6",
              "width": 0.5
             },
             "pattern": {
              "fillmode": "overlay",
              "size": 10,
              "solidity": 0.2
             }
            },
            "type": "barpolar"
           }
          ],
          "carpet": [
           {
            "aaxis": {
             "endlinecolor": "#2a3f5f",
             "gridcolor": "white",
             "linecolor": "white",
             "minorgridcolor": "white",
             "startlinecolor": "#2a3f5f"
            },
            "baxis": {
             "endlinecolor": "#2a3f5f",
             "gridcolor": "white",
             "linecolor": "white",
             "minorgridcolor": "white",
             "startlinecolor": "#2a3f5f"
            },
            "type": "carpet"
           }
          ],
          "choropleth": [
           {
            "colorbar": {
             "outlinewidth": 0,
             "ticks": ""
            },
            "type": "choropleth"
           }
          ],
          "contour": [
           {
            "colorbar": {
             "outlinewidth": 0,
             "ticks": ""
            },
            "colorscale": [
             [
              0,
              "#0d0887"
             ],
             [
              0.1111111111111111,
              "#46039f"
             ],
             [
              0.2222222222222222,
              "#7201a8"
             ],
             [
              0.3333333333333333,
              "#9c179e"
             ],
             [
              0.4444444444444444,
              "#bd3786"
             ],
             [
              0.5555555555555556,
              "#d8576b"
             ],
             [
              0.6666666666666666,
              "#ed7953"
             ],
             [
              0.7777777777777778,
              "#fb9f3a"
             ],
             [
              0.8888888888888888,
              "#fdca26"
             ],
             [
              1,
              "#f0f921"
             ]
            ],
            "type": "contour"
           }
          ],
          "contourcarpet": [
           {
            "colorbar": {
             "outlinewidth": 0,
             "ticks": ""
            },
            "type": "contourcarpet"
           }
          ],
          "heatmap": [
           {
            "colorbar": {
             "outlinewidth": 0,
             "ticks": ""
            },
            "colorscale": [
             [
              0,
              "#0d0887"
             ],
             [
              0.1111111111111111,
              "#46039f"
             ],
             [
              0.2222222222222222,
              "#7201a8"
             ],
             [
              0.3333333333333333,
              "#9c179e"
             ],
             [
              0.4444444444444444,
              "#bd3786"
             ],
             [
              0.5555555555555556,
              "#d8576b"
             ],
             [
              0.6666666666666666,
              "#ed7953"
             ],
             [
              0.7777777777777778,
              "#fb9f3a"
             ],
             [
              0.8888888888888888,
              "#fdca26"
             ],
             [
              1,
              "#f0f921"
             ]
            ],
            "type": "heatmap"
           }
          ],
          "heatmapgl": [
           {
            "colorbar": {
             "outlinewidth": 0,
             "ticks": ""
            },
            "colorscale": [
             [
              0,
              "#0d0887"
             ],
             [
              0.1111111111111111,
              "#46039f"
             ],
             [
              0.2222222222222222,
              "#7201a8"
             ],
             [
              0.3333333333333333,
              "#9c179e"
             ],
             [
              0.4444444444444444,
              "#bd3786"
             ],
             [
              0.5555555555555556,
              "#d8576b"
             ],
             [
              0.6666666666666666,
              "#ed7953"
             ],
             [
              0.7777777777777778,
              "#fb9f3a"
             ],
             [
              0.8888888888888888,
              "#fdca26"
             ],
             [
              1,
              "#f0f921"
             ]
            ],
            "type": "heatmapgl"
           }
          ],
          "histogram": [
           {
            "marker": {
             "pattern": {
              "fillmode": "overlay",
              "size": 10,
              "solidity": 0.2
             }
            },
            "type": "histogram"
           }
          ],
          "histogram2d": [
           {
            "colorbar": {
             "outlinewidth": 0,
             "ticks": ""
            },
            "colorscale": [
             [
              0,
              "#0d0887"
             ],
             [
              0.1111111111111111,
              "#46039f"
             ],
             [
              0.2222222222222222,
              "#7201a8"
             ],
             [
              0.3333333333333333,
              "#9c179e"
             ],
             [
              0.4444444444444444,
              "#bd3786"
             ],
             [
              0.5555555555555556,
              "#d8576b"
             ],
             [
              0.6666666666666666,
              "#ed7953"
             ],
             [
              0.7777777777777778,
              "#fb9f3a"
             ],
             [
              0.8888888888888888,
              "#fdca26"
             ],
             [
              1,
              "#f0f921"
             ]
            ],
            "type": "histogram2d"
           }
          ],
          "histogram2dcontour": [
           {
            "colorbar": {
             "outlinewidth": 0,
             "ticks": ""
            },
            "colorscale": [
             [
              0,
              "#0d0887"
             ],
             [
              0.1111111111111111,
              "#46039f"
             ],
             [
              0.2222222222222222,
              "#7201a8"
             ],
             [
              0.3333333333333333,
              "#9c179e"
             ],
             [
              0.4444444444444444,
              "#bd3786"
             ],
             [
              0.5555555555555556,
              "#d8576b"
             ],
             [
              0.6666666666666666,
              "#ed7953"
             ],
             [
              0.7777777777777778,
              "#fb9f3a"
             ],
             [
              0.8888888888888888,
              "#fdca26"
             ],
             [
              1,
              "#f0f921"
             ]
            ],
            "type": "histogram2dcontour"
           }
          ],
          "mesh3d": [
           {
            "colorbar": {
             "outlinewidth": 0,
             "ticks": ""
            },
            "type": "mesh3d"
           }
          ],
          "parcoords": [
           {
            "line": {
             "colorbar": {
              "outlinewidth": 0,
              "ticks": ""
             }
            },
            "type": "parcoords"
           }
          ],
          "pie": [
           {
            "automargin": true,
            "type": "pie"
           }
          ],
          "scatter": [
           {
            "fillpattern": {
             "fillmode": "overlay",
             "size": 10,
             "solidity": 0.2
            },
            "type": "scatter"
           }
          ],
          "scatter3d": [
           {
            "line": {
             "colorbar": {
              "outlinewidth": 0,
              "ticks": ""
             }
            },
            "marker": {
             "colorbar": {
              "outlinewidth": 0,
              "ticks": ""
             }
            },
            "type": "scatter3d"
           }
          ],
          "scattercarpet": [
           {
            "marker": {
             "colorbar": {
              "outlinewidth": 0,
              "ticks": ""
             }
            },
            "type": "scattercarpet"
           }
          ],
          "scattergeo": [
           {
            "marker": {
             "colorbar": {
              "outlinewidth": 0,
              "ticks": ""
             }
            },
            "type": "scattergeo"
           }
          ],
          "scattergl": [
           {
            "marker": {
             "colorbar": {
              "outlinewidth": 0,
              "ticks": ""
             }
            },
            "type": "scattergl"
           }
          ],
          "scattermapbox": [
           {
            "marker": {
             "colorbar": {
              "outlinewidth": 0,
              "ticks": ""
             }
            },
            "type": "scattermapbox"
           }
          ],
          "scatterpolar": [
           {
            "marker": {
             "colorbar": {
              "outlinewidth": 0,
              "ticks": ""
             }
            },
            "type": "scatterpolar"
           }
          ],
          "scatterpolargl": [
           {
            "marker": {
             "colorbar": {
              "outlinewidth": 0,
              "ticks": ""
             }
            },
            "type": "scatterpolargl"
           }
          ],
          "scatterternary": [
           {
            "marker": {
             "colorbar": {
              "outlinewidth": 0,
              "ticks": ""
             }
            },
            "type": "scatterternary"
           }
          ],
          "surface": [
           {
            "colorbar": {
             "outlinewidth": 0,
             "ticks": ""
            },
            "colorscale": [
             [
              0,
              "#0d0887"
             ],
             [
              0.1111111111111111,
              "#46039f"
             ],
             [
              0.2222222222222222,
              "#7201a8"
             ],
             [
              0.3333333333333333,
              "#9c179e"
             ],
             [
              0.4444444444444444,
              "#bd3786"
             ],
             [
              0.5555555555555556,
              "#d8576b"
             ],
             [
              0.6666666666666666,
              "#ed7953"
             ],
             [
              0.7777777777777778,
              "#fb9f3a"
             ],
             [
              0.8888888888888888,
              "#fdca26"
             ],
             [
              1,
              "#f0f921"
             ]
            ],
            "type": "surface"
           }
          ],
          "table": [
           {
            "cells": {
             "fill": {
              "color": "#EBF0F8"
             },
             "line": {
              "color": "white"
             }
            },
            "header": {
             "fill": {
              "color": "#C8D4E3"
             },
             "line": {
              "color": "white"
             }
            },
            "type": "table"
           }
          ]
         },
         "layout": {
          "annotationdefaults": {
           "arrowcolor": "#2a3f5f",
           "arrowhead": 0,
           "arrowwidth": 1
          },
          "autotypenumbers": "strict",
          "coloraxis": {
           "colorbar": {
            "outlinewidth": 0,
            "ticks": ""
           }
          },
          "colorscale": {
           "diverging": [
            [
             0,
             "#8e0152"
            ],
            [
             0.1,
             "#c51b7d"
            ],
            [
             0.2,
             "#de77ae"
            ],
            [
             0.3,
             "#f1b6da"
            ],
            [
             0.4,
             "#fde0ef"
            ],
            [
             0.5,
             "#f7f7f7"
            ],
            [
             0.6,
             "#e6f5d0"
            ],
            [
             0.7,
             "#b8e186"
            ],
            [
             0.8,
             "#7fbc41"
            ],
            [
             0.9,
             "#4d9221"
            ],
            [
             1,
             "#276419"
            ]
           ],
           "sequential": [
            [
             0,
             "#0d0887"
            ],
            [
             0.1111111111111111,
             "#46039f"
            ],
            [
             0.2222222222222222,
             "#7201a8"
            ],
            [
             0.3333333333333333,
             "#9c179e"
            ],
            [
             0.4444444444444444,
             "#bd3786"
            ],
            [
             0.5555555555555556,
             "#d8576b"
            ],
            [
             0.6666666666666666,
             "#ed7953"
            ],
            [
             0.7777777777777778,
             "#fb9f3a"
            ],
            [
             0.8888888888888888,
             "#fdca26"
            ],
            [
             1,
             "#f0f921"
            ]
           ],
           "sequentialminus": [
            [
             0,
             "#0d0887"
            ],
            [
             0.1111111111111111,
             "#46039f"
            ],
            [
             0.2222222222222222,
             "#7201a8"
            ],
            [
             0.3333333333333333,
             "#9c179e"
            ],
            [
             0.4444444444444444,
             "#bd3786"
            ],
            [
             0.5555555555555556,
             "#d8576b"
            ],
            [
             0.6666666666666666,
             "#ed7953"
            ],
            [
             0.7777777777777778,
             "#fb9f3a"
            ],
            [
             0.8888888888888888,
             "#fdca26"
            ],
            [
             1,
             "#f0f921"
            ]
           ]
          },
          "colorway": [
           "#636efa",
           "#EF553B",
           "#00cc96",
           "#ab63fa",
           "#FFA15A",
           "#19d3f3",
           "#FF6692",
           "#B6E880",
           "#FF97FF",
           "#FECB52"
          ],
          "font": {
           "color": "#2a3f5f"
          },
          "geo": {
           "bgcolor": "white",
           "lakecolor": "white",
           "landcolor": "#E5ECF6",
           "showlakes": true,
           "showland": true,
           "subunitcolor": "white"
          },
          "hoverlabel": {
           "align": "left"
          },
          "hovermode": "closest",
          "mapbox": {
           "style": "light"
          },
          "paper_bgcolor": "white",
          "plot_bgcolor": "#E5ECF6",
          "polar": {
           "angularaxis": {
            "gridcolor": "white",
            "linecolor": "white",
            "ticks": ""
           },
           "bgcolor": "#E5ECF6",
           "radialaxis": {
            "gridcolor": "white",
            "linecolor": "white",
            "ticks": ""
           }
          },
          "scene": {
           "xaxis": {
            "backgroundcolor": "#E5ECF6",
            "gridcolor": "white",
            "gridwidth": 2,
            "linecolor": "white",
            "showbackground": true,
            "ticks": "",
            "zerolinecolor": "white"
           },
           "yaxis": {
            "backgroundcolor": "#E5ECF6",
            "gridcolor": "white",
            "gridwidth": 2,
            "linecolor": "white",
            "showbackground": true,
            "ticks": "",
            "zerolinecolor": "white"
           },
           "zaxis": {
            "backgroundcolor": "#E5ECF6",
            "gridcolor": "white",
            "gridwidth": 2,
            "linecolor": "white",
            "showbackground": true,
            "ticks": "",
            "zerolinecolor": "white"
           }
          },
          "shapedefaults": {
           "line": {
            "color": "#2a3f5f"
           }
          },
          "ternary": {
           "aaxis": {
            "gridcolor": "white",
            "linecolor": "white",
            "ticks": ""
           },
           "baxis": {
            "gridcolor": "white",
            "linecolor": "white",
            "ticks": ""
           },
           "bgcolor": "#E5ECF6",
           "caxis": {
            "gridcolor": "white",
            "linecolor": "white",
            "ticks": ""
           }
          },
          "title": {
           "x": 0.05
          },
          "xaxis": {
           "automargin": true,
           "gridcolor": "white",
           "linecolor": "white",
           "ticks": "",
           "title": {
            "standoff": 15
           },
           "zerolinecolor": "white",
           "zerolinewidth": 2
          },
          "yaxis": {
           "automargin": true,
           "gridcolor": "white",
           "linecolor": "white",
           "ticks": "",
           "title": {
            "standoff": 15
           },
           "zerolinecolor": "white",
           "zerolinewidth": 2
          }
         }
        },
        "title": {
         "font": {
          "size": 15
         },
         "text": "Protocol Token Lineage - 2024-12-17"
        },
        "width": 950
       }
      }
     },
     "metadata": {},
     "output_type": "display_data"
    }
   ],
   "source": [
    "# Column label map for friendlier Sankey headings\n",
    "COLUMN_LABELS_MAP = {\n",
    "    \"source_protocol\": \"Token Issuer\",\n",
    "    \"parent_protocol\": \"Protocol Destination\",\n",
    "    \"token\": \"Token\",\n",
    "    # \"token_category\": \"Token Category\" (if you want a 3rd or 4th dimension)\n",
    "}\n",
    "\n",
    "# %%\n",
    "# 2. Pick a snapshot date & apply filters\n",
    "SNAPSHOT_DATE = \"2024-12-17\"\n",
    "\n",
    "# Example filters\n",
    "selected_chains = df_all.chain.unique().tolist()\n",
    "selected_protocol_categories = df_all.protocol_category.unique().tolist()\n",
    "selected_protocols = df_all.protocol_slug.unique().tolist()\n",
    "selected_token_categories = df_all.token_category.unique().tolist()\n",
    "\n",
    "# Filtering Data\n",
    "df_focus = df_all[\n",
    "    (df_all[\"dt\"] == SNAPSHOT_DATE)\n",
    "    & df_all.chain.isin(selected_chains)\n",
    "    & df_all.protocol_category.isin(selected_protocol_categories)\n",
    "    & df_all.token_category.isin(selected_token_categories)\n",
    "    & df_all.protocol_slug.isin(selected_protocols)\n",
    "].copy()\n",
    "\n",
    "print(f\"Rows matching {SNAPSHOT_DATE}: {df_focus.shape[0]}\")\n",
    "\n",
    "# 3. Build the Sankey DF (choose columns for left->middle->right)\n",
    "COLUMNS_ORDER = [\"source_protocol\", \"token\", \"parent_protocol\"]\n",
    "THRESHOLD = 0.03  # Group anything under 3% total TVL into 'Others'\n",
    "\n",
    "df_sankey = build_sankey_df(df_focus, COLUMNS_ORDER, threshold=THRESHOLD)\n",
    "print(f\"df_sankey shape after grouping: {df_sankey.shape}\")\n",
    "\n",
    "def truncate_list(lst, n=10):\n",
    "    return ', '.join(lst[:n]) + (', ...' if len(lst) > n else '')\n",
    "\n",
    "note =(\n",
    "    f\"<b>Filters:</b><br>\"\n",
    "    f\"• <b>Chains:</b> {truncate_list(selected_chains)}<br>\"\n",
    "    f\"• <b>Protocol Categories:</b> {truncate_list(selected_protocol_categories)}<br>\"\n",
    "    f\"• <b>Asset Type:</b> {truncate_list(selected_token_categories)}<br><br>\"\n",
    "    f\"Note: Smaller protocols than {THRESHOLD*100}% of total TVL are grouped under 'Others'.\"\n",
    ")\n",
    "\n",
    "# %%\n",
    "# 4. Plot\n",
    "fig = plot_sankey(\n",
    "    df_sankey=df_sankey,\n",
    "    column_labels_map=COLUMN_LABELS_MAP,\n",
    "    columns_order=COLUMNS_ORDER,\n",
    "    snapshot_date=SNAPSHOT_DATE,\n",
    "    threshold=THRESHOLD,\n",
    "    note = note\n",
    ")\n",
    "fig.show()"
   ]
  }
 ],
 "metadata": {
  "kernelspec": {
   "display_name": ".venv",
   "language": "python",
   "name": "python3"
  },
  "language_info": {
   "codemirror_mode": {
    "name": "ipython",
    "version": 3
   },
   "file_extension": ".py",
   "mimetype": "text/x-python",
   "name": "python",
   "nbconvert_exporter": "python",
   "pygments_lexer": "ipython3",
   "version": "3.12.7"
  }
 },
 "nbformat": 4,
 "nbformat_minor": 2
}
