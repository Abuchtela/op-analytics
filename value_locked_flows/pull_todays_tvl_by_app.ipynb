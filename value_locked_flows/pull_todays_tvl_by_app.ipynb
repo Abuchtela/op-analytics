{
 "cells": [
  {
   "cell_type": "code",
   "execution_count": 4,
   "metadata": {},
   "outputs": [],
   "source": [
    "import pandas as pd\n",
    "import sys\n",
    "import numpy as np\n",
    "sys.path.append(\"../helper_functions\")\n",
    "import defillama_utils as dfl\n",
    "sys.path.pop()\n",
    "from datetime import datetime, date"
   ]
  },
  {
   "cell_type": "code",
   "execution_count": 3,
   "metadata": {},
   "outputs": [
    {
     "name": "stdout",
     "output_type": "stream",
     "text": [
      "\u001b[2mUsing Python 3.12.7 environment at /Users/chuck/codebase/op-analytics/.venv\u001b[0m\n",
      "\u001b[2K\u001b[2mResolved \u001b[1m9 packages\u001b[0m \u001b[2min 661ms\u001b[0m\u001b[0m                                         \u001b[0m\n",
      "\u001b[2K\u001b[37m⠙\u001b[0m \u001b[2mPreparing packages...\u001b[0m (0/1)                                                   \n",
      "\u001b[2K\u001b[1A\u001b[37m⠙\u001b[0m \u001b[2mPreparing packages...\u001b[0m (0/1)-------\u001b[0m\u001b[0m     0 B/9.73 KiB                   \u001b[1A\n",
      "\u001b[2K\u001b[2mPrepared \u001b[1m1 package\u001b[0m \u001b[2min 44ms\u001b[0m\u001b[0m                                                   \u001b[1A\n",
      "\u001b[2K\u001b[2mInstalled \u001b[1m1 package\u001b[0m \u001b[2min 1ms\u001b[0m\u001b[0m0                                 \u001b[0m\n",
      " \u001b[32m+\u001b[39m \u001b[1maiohttp-retry\u001b[0m\u001b[2m==2.9.0\u001b[0m\n"
     ]
    }
   ],
   "source": [
    "!uv pip install aiohttp_retry\n"
   ]
  },
  {
   "cell_type": "code",
   "execution_count": 5,
   "metadata": {},
   "outputs": [],
   "source": [
    "protocols = ['uniswap-v1','uniswap-v2','uniswap-v3']"
   ]
  },
  {
   "cell_type": "code",
   "execution_count": 6,
   "metadata": {},
   "outputs": [
    {
     "name": "stdout",
     "output_type": "stream",
     "text": [
      "https://api.llama.fi/protocol/uniswap-v1\n",
      "https://api.llama.fi/protocol/uniswap-v2\n",
      "https://api.llama.fi/protocol/uniswap-v3\n"
     ]
    }
   ],
   "source": [
    "dfs = []\n",
    "for p in protocols:\n",
    "        df = dfl.get_tvl_by_app_for_all_chains(p)\n",
    "        dfs.append(df)\n",
    "final_df = pd.concat(dfs, ignore_index=True)"
   ]
  },
  {
   "cell_type": "code",
   "execution_count": 7,
   "metadata": {},
   "outputs": [
    {
     "data": {
      "text/html": [
       "<div>\n",
       "<style scoped>\n",
       "    .dataframe tbody tr th:only-of-type {\n",
       "        vertical-align: middle;\n",
       "    }\n",
       "\n",
       "    .dataframe tbody tr th {\n",
       "        vertical-align: top;\n",
       "    }\n",
       "\n",
       "    .dataframe thead th {\n",
       "        text-align: right;\n",
       "    }\n",
       "</style>\n",
       "<table border=\"1\" class=\"dataframe\">\n",
       "  <thead>\n",
       "    <tr style=\"text-align: right;\">\n",
       "      <th></th>\n",
       "      <th>protocol</th>\n",
       "      <th>chain</th>\n",
       "      <th>token</th>\n",
       "      <th>USD value</th>\n",
       "      <th>token value</th>\n",
       "    </tr>\n",
       "  </thead>\n",
       "  <tbody>\n",
       "    <tr>\n",
       "      <th>0</th>\n",
       "      <td>Uniswap V1</td>\n",
       "      <td>Ethereum</td>\n",
       "      <td>WETH</td>\n",
       "      <td>6.705436e+06</td>\n",
       "      <td>2564.58298</td>\n",
       "    </tr>\n",
       "    <tr>\n",
       "      <th>1</th>\n",
       "      <td>Uniswap V2</td>\n",
       "      <td>Ethereum</td>\n",
       "      <td>USDT</td>\n",
       "      <td>1.690050e+09</td>\n",
       "      <td>1695057495.37223</td>\n",
       "    </tr>\n",
       "    <tr>\n",
       "      <th>2</th>\n",
       "      <td>Uniswap V2</td>\n",
       "      <td>Zora</td>\n",
       "      <td>USDZC</td>\n",
       "      <td>3.357157e+04</td>\n",
       "      <td>33630.35589</td>\n",
       "    </tr>\n",
       "    <tr>\n",
       "      <th>3</th>\n",
       "      <td>Uniswap V2</td>\n",
       "      <td>Zora</td>\n",
       "      <td>ETH</td>\n",
       "      <td>2.422112e+04</td>\n",
       "      <td>9.24202</td>\n",
       "    </tr>\n",
       "    <tr>\n",
       "      <th>4</th>\n",
       "      <td>Uniswap V2</td>\n",
       "      <td>Zora</td>\n",
       "      <td>ENJOY</td>\n",
       "      <td>3.826645e+04</td>\n",
       "      <td>816437977.29207</td>\n",
       "    </tr>\n",
       "    <tr>\n",
       "      <th>...</th>\n",
       "      <td>...</td>\n",
       "      <td>...</td>\n",
       "      <td>...</td>\n",
       "      <td>...</td>\n",
       "      <td>...</td>\n",
       "    </tr>\n",
       "    <tr>\n",
       "      <th>4331</th>\n",
       "      <td>Uniswap V3</td>\n",
       "      <td>Ethereum</td>\n",
       "      <td>FDM</td>\n",
       "      <td>7.320559e+04</td>\n",
       "      <td>2934487.054</td>\n",
       "    </tr>\n",
       "    <tr>\n",
       "      <th>4332</th>\n",
       "      <td>Uniswap V3</td>\n",
       "      <td>Ethereum</td>\n",
       "      <td>THREE</td>\n",
       "      <td>4.000000e-05</td>\n",
       "      <td>0.00051</td>\n",
       "    </tr>\n",
       "    <tr>\n",
       "      <th>4333</th>\n",
       "      <td>Uniswap V3</td>\n",
       "      <td>Ethereum</td>\n",
       "      <td>REALM</td>\n",
       "      <td>0.000000e+00</td>\n",
       "      <td>0</td>\n",
       "    </tr>\n",
       "    <tr>\n",
       "      <th>4334</th>\n",
       "      <td>Uniswap V3</td>\n",
       "      <td>Ethereum</td>\n",
       "      <td>NGL</td>\n",
       "      <td>2.464561e+05</td>\n",
       "      <td>3637942.88688</td>\n",
       "    </tr>\n",
       "    <tr>\n",
       "      <th>4335</th>\n",
       "      <td>Uniswap V3</td>\n",
       "      <td>Ethereum</td>\n",
       "      <td>MKR</td>\n",
       "      <td>3.065535e+07</td>\n",
       "      <td>26879.10631</td>\n",
       "    </tr>\n",
       "  </tbody>\n",
       "</table>\n",
       "<p>4336 rows × 5 columns</p>\n",
       "</div>"
      ],
      "text/plain": [
       "        protocol     chain  token     USD value       token value\n",
       "0     Uniswap V1  Ethereum   WETH  6.705436e+06        2564.58298\n",
       "1     Uniswap V2  Ethereum   USDT  1.690050e+09  1695057495.37223\n",
       "2     Uniswap V2      Zora  USDZC  3.357157e+04       33630.35589\n",
       "3     Uniswap V2      Zora    ETH  2.422112e+04           9.24202\n",
       "4     Uniswap V2      Zora  ENJOY  3.826645e+04   816437977.29207\n",
       "...          ...       ...    ...           ...               ...\n",
       "4331  Uniswap V3  Ethereum    FDM  7.320559e+04       2934487.054\n",
       "4332  Uniswap V3  Ethereum  THREE  4.000000e-05           0.00051\n",
       "4333  Uniswap V3  Ethereum  REALM  0.000000e+00                 0\n",
       "4334  Uniswap V3  Ethereum    NGL  2.464561e+05     3637942.88688\n",
       "4335  Uniswap V3  Ethereum    MKR  3.065535e+07       26879.10631\n",
       "\n",
       "[4336 rows x 5 columns]"
      ]
     },
     "execution_count": 7,
     "metadata": {},
     "output_type": "execute_result"
    }
   ],
   "source": [
    "final_df"
   ]
  },
  {
   "cell_type": "code",
   "execution_count": null,
   "metadata": {},
   "outputs": [],
   "source": []
  },
  {
   "cell_type": "code",
   "execution_count": null,
   "metadata": {},
   "outputs": [],
   "source": [
    "final_df.sample(5)\n",
    "\n",
    "# Generate filename\n",
    "protocol_names = '_'.join(protocols)\n",
    "today_date = date.today().strftime(\"%Y%m%d\")\n",
    "filename = f'{protocol_names}_{today_date}.csv'\n",
    "\n",
    "# Save to CSV\n",
    "final_df.to_csv(f'csv_outputs/{filename}', index=False)\n",
    "\n",
    "print(f\"Data saved to csv_outputs/{filename}\")"
   ]
  }
 ],
 "metadata": {
  "kernelspec": {
   "display_name": ".venv",
   "language": "python",
   "name": "python3"
  },
  "language_info": {
   "codemirror_mode": {
    "name": "ipython",
    "version": 3
   },
   "file_extension": ".py",
   "mimetype": "text/x-python",
   "name": "python",
   "nbconvert_exporter": "python",
   "pygments_lexer": "ipython3",
   "version": "3.12.7"
  },
  "orig_nbformat": 4
 },
 "nbformat": 4,
 "nbformat_minor": 2
}
