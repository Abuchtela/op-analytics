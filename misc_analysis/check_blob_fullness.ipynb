{
 "cells": [
  {
   "cell_type": "code",
   "execution_count": 1,
   "metadata": {},
   "outputs": [],
   "source": [
    "from math import ceil\n",
    "num_blob_files = 5"
   ]
  },
  {
   "cell_type": "code",
   "execution_count": 2,
   "metadata": {},
   "outputs": [],
   "source": [
    "def count_chars_before_last_zeroes_in_files(file_paths):\n",
    "        counts = []  # Initialize a list to store counts for each file\n",
    "        for file_path in file_paths:\n",
    "                with open(file_path, 'r') as file:\n",
    "                        content = file.read()\n",
    "                        # Find the index of the start of the last sequence of all zeroes\n",
    "                        last_zeroes_start = content.rfind('0')\n",
    "                        # Count backwards to find where the zeroes stop\n",
    "                        i = last_zeroes_start\n",
    "                        while i > 0 and content[i] == '0':\n",
    "                                i -= 1\n",
    "                        # The count of characters before the last string of zeroes, not including \"0x\"\n",
    "                        count_before_zeroes = i - 1  # Adjust for index starting at 0 and exclude \"0x\"\n",
    "                        counts.append(count_before_zeroes)\n",
    "        return counts\n",
    "def process_counts_and_average(counts):\n",
    "    processed_counts = [(ceil((count - 2) / 2)) for count in counts]\n",
    "    print(processed_counts)\n",
    "    average_bytes = sum(processed_counts) / len(processed_counts)\n",
    "    return average_bytes\n",
    "\n",
    "def process_gas_counts(file_paths):\n",
    "    total_gas_per_file = []  # Store total gas for each file\n",
    "\n",
    "    for file_path in file_paths:\n",
    "        with open(file_path, 'r') as file:\n",
    "            content = file.read()\n",
    "            # Find the last sequence of all zeroes to determine the end of relevant content\n",
    "            last_zeroes_start = content.rfind('0')\n",
    "            while last_zeroes_start > 0 and content[last_zeroes_start] == '0':\n",
    "                    last_zeroes_start -= 1\n",
    "            relevant_content = content[2:last_zeroes_start]  # Exclude leading \"0x\" and trailing zeroes\n",
    "\n",
    "            # Initialize total gas for this file\n",
    "            total_gas = 0\n",
    "            for i in range(0, len(relevant_content), 2):  # Process each group of 2 characters\n",
    "                pair = relevant_content[i:i+2]\n",
    "                if pair == \"00\":\n",
    "                    total_gas += 4  # Add 4 gas for \"00\"\n",
    "                else:\n",
    "                    total_gas += 16  # Add 16 gas for any other pair\n",
    "\n",
    "            total_gas_per_file.append(total_gas)\n",
    "\n",
    "    # Calculate the average gas across all files\n",
    "    average_gas = sum(total_gas_per_file) / len(total_gas_per_file)\n",
    "    print(total_gas_per_file)\n",
    "    return average_gas\n"
   ]
  },
  {
   "cell_type": "code",
   "execution_count": 3,
   "metadata": {},
   "outputs": [
    {
     "name": "stdout",
     "output_type": "stream",
     "text": [
      "[377, 404, 398, 428, 423]\n"
     ]
    },
    {
     "ename": "UnboundLocalError",
     "evalue": "local variable 'i' referenced before assignment",
     "output_type": "error",
     "traceback": [
      "\u001b[0;31m---------------------------------------------------------------------------\u001b[0m",
      "\u001b[0;31mUnboundLocalError\u001b[0m                         Traceback (most recent call last)",
      "Cell \u001b[0;32mIn[3], line 7\u001b[0m\n\u001b[1;32m      5\u001b[0m counts \u001b[38;5;241m=\u001b[39m count_chars_before_last_zeroes_in_files(file_paths)\n\u001b[1;32m      6\u001b[0m average_bytes \u001b[38;5;241m=\u001b[39m process_counts_and_average(counts)\n\u001b[0;32m----> 7\u001b[0m average_gas \u001b[38;5;241m=\u001b[39m \u001b[43mprocess_gas_counts\u001b[49m\u001b[43m(\u001b[49m\u001b[43mfile_paths\u001b[49m\u001b[43m)\u001b[49m\n\u001b[1;32m      9\u001b[0m \u001b[38;5;28mprint\u001b[39m(\u001b[38;5;124m'\u001b[39m\u001b[38;5;124mavg bytes : \u001b[39m\u001b[38;5;124m'\u001b[39m \u001b[38;5;241m+\u001b[39m \u001b[38;5;28mstr\u001b[39m(average_bytes))\n\u001b[1;32m     10\u001b[0m \u001b[38;5;28mprint\u001b[39m(\u001b[38;5;124m'\u001b[39m\u001b[38;5;124mavg gas : \u001b[39m\u001b[38;5;124m'\u001b[39m \u001b[38;5;241m+\u001b[39m \u001b[38;5;28mstr\u001b[39m(average_gas))\n",
      "Cell \u001b[0;32mIn[2], line 31\u001b[0m, in \u001b[0;36mprocess_gas_counts\u001b[0;34m(file_paths)\u001b[0m\n\u001b[1;32m     29\u001b[0m last_zeroes_start \u001b[38;5;241m=\u001b[39m content\u001b[38;5;241m.\u001b[39mrfind(\u001b[38;5;124m'\u001b[39m\u001b[38;5;124m0\u001b[39m\u001b[38;5;124m'\u001b[39m)\n\u001b[1;32m     30\u001b[0m \u001b[38;5;28;01mwhile\u001b[39;00m last_zeroes_start \u001b[38;5;241m>\u001b[39m \u001b[38;5;241m0\u001b[39m \u001b[38;5;129;01mand\u001b[39;00m content[last_zeroes_start] \u001b[38;5;241m==\u001b[39m \u001b[38;5;124m'\u001b[39m\u001b[38;5;124m0\u001b[39m\u001b[38;5;124m'\u001b[39m:\n\u001b[0;32m---> 31\u001b[0m                     i \u001b[38;5;241m-\u001b[39m\u001b[38;5;241m=\u001b[39m \u001b[38;5;241m1\u001b[39m\n\u001b[1;32m     32\u001b[0m relevant_content \u001b[38;5;241m=\u001b[39m content[\u001b[38;5;241m2\u001b[39m:last_zeroes_start]  \u001b[38;5;66;03m# Exclude leading \"0x\" and trailing zeroes\u001b[39;00m\n\u001b[1;32m     34\u001b[0m \u001b[38;5;66;03m# Initialize total gas for this file\u001b[39;00m\n",
      "\u001b[0;31mUnboundLocalError\u001b[0m: local variable 'i' referenced before assignment"
     ]
    }
   ],
   "source": [
    "\n",
    "# Generate file paths\n",
    "file_paths = [f'inputs/blobs/{i}.txt' for i in range(1, num_blob_files+1)]\n",
    "\n",
    "# Call the function and get the counts\n",
    "counts = count_chars_before_last_zeroes_in_files(file_paths)\n",
    "average_bytes = process_counts_and_average(counts)\n",
    "average_gas = process_gas_counts(file_paths)\n",
    "\n",
    "print('avg bytes : ' + str(average_bytes))\n",
    "print('avg gas : ' + str(average_gas))"
   ]
  }
 ],
 "metadata": {
  "kernelspec": {
   "display_name": "new-env",
   "language": "python",
   "name": "python3"
  },
  "language_info": {
   "codemirror_mode": {
    "name": "ipython",
    "version": 3
   },
   "file_extension": ".py",
   "mimetype": "text/x-python",
   "name": "python",
   "nbconvert_exporter": "python",
   "pygments_lexer": "ipython3",
   "version": "3.10.11"
  }
 },
 "nbformat": 4,
 "nbformat_minor": 2
}
