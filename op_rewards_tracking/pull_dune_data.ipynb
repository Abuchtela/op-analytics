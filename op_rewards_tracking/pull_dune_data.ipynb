{
 "cells": [
  {
   "cell_type": "code",
   "execution_count": null,
   "metadata": {},
   "outputs": [],
   "source": [
    "import sys\n",
    "import os\n",
    "import duneapi_utils as d\n",
    "\n",
    "sys.path.append(\"../helper_functions\")"
   ]
  },
  {
   "cell_type": "code",
   "execution_count": null,
   "metadata": {},
   "outputs": [],
   "source": [
    "# add any data to pull here\n",
    "data = {\n",
    "    1886707: \"dune_op_distribution_type\",\n",
    "    1900056: \"dune_op_distribution\",\n",
    "    2199844: \"dune_usage_by_app\"\n",
    "    2195796: \"dune_op_program_performance_summary\"\n",
    "}"
   ]
  },
  {
   "cell_type": "code",
   "execution_count": null,
   "metadata": {},
   "outputs": [],
   "source": [
    "if not os.path.exists(\"csv_outputs\"):\n",
    "    os.mkdir(\"csv_outputs\")\n",
    "for query_id, csv_name in data.items():\n",
    "    d.get_dune_data(query_id, csv_name)"
   ]
  }
 ],
 "metadata": {
  "kernelspec": {
   "display_name": "Python 3",
   "language": "python",
   "name": "python3"
  },
  "language_info": {
   "codemirror_mode": {
    "name": "ipython",
    "version": 3
   },
   "file_extension": ".py",
   "mimetype": "text/x-python",
   "name": "python",
   "nbconvert_exporter": "python",
   "pygments_lexer": "ipython3",
   "version": "3.10.4"
  },
  "orig_nbformat": 4
 },
 "nbformat": 4,
 "nbformat_minor": 2
}
