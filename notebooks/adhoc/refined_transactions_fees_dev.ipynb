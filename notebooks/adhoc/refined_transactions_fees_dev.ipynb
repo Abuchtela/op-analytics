{
 "cells": [
  {
   "cell_type": "markdown",
   "metadata": {},
   "source": [
    "## Prepare data reader for a given chain and date"
   ]
  },
  {
   "cell_type": "code",
   "execution_count": 1,
   "metadata": {},
   "outputs": [
    {
     "name": "stdout",
     "output_type": "stream",
     "text": [
      "\u001b[2m2024-12-13 13:51:00\u001b[0m [\u001b[32m\u001b[1mdebug    \u001b[0m] \u001b[1mconnecting to OPLABS Clickhouse client...\u001b[0m \u001b[36mfilename\u001b[0m=\u001b[35mclient.py\u001b[0m \u001b[36mlineno\u001b[0m=\u001b[35m25\u001b[0m \u001b[36mprocess\u001b[0m=\u001b[35m51769\u001b[0m\n",
      "\u001b[2m2024-12-13 13:51:00\u001b[0m [\u001b[32m\u001b[1minfo     \u001b[0m] \u001b[1mloaded vault from .env file   \u001b[0m \u001b[36mfilename\u001b[0m=\u001b[35mvault.py\u001b[0m \u001b[36mlineno\u001b[0m=\u001b[35m32\u001b[0m \u001b[36mprocess\u001b[0m=\u001b[35m51769\u001b[0m\n",
      "\u001b[2m2024-12-13 13:51:00\u001b[0m [\u001b[32m\u001b[1mdebug    \u001b[0m] \u001b[1mloaded vault: 17 items        \u001b[0m \u001b[36mfilename\u001b[0m=\u001b[35mvault.py\u001b[0m \u001b[36mlineno\u001b[0m=\u001b[35m76\u001b[0m \u001b[36mprocess\u001b[0m=\u001b[35m51769\u001b[0m\n",
      "\u001b[2m2024-12-13 13:51:00\u001b[0m [\u001b[32m\u001b[1mdebug    \u001b[0m] \u001b[1minitialized OPLABS Clickhouse client.\u001b[0m \u001b[36mfilename\u001b[0m=\u001b[35mclient.py\u001b[0m \u001b[36mlineno\u001b[0m=\u001b[35m37\u001b[0m \u001b[36mprocess\u001b[0m=\u001b[35m51769\u001b[0m\n",
      "\u001b[2m2024-12-13 13:51:01\u001b[0m [\u001b[32m\u001b[1minfo     \u001b[0m] \u001b[1mprepared 1 input batches.     \u001b[0m \u001b[36mfilename\u001b[0m=\u001b[35mbydate.py\u001b[0m \u001b[36mlineno\u001b[0m=\u001b[35m96\u001b[0m \u001b[36mprocess\u001b[0m=\u001b[35m51769\u001b[0m\n"
     ]
    }
   ],
   "source": [
    "from op_analytics.coreutils.duckdb_inmem import init_client\n",
    "from op_analytics.coreutils.partitioned.reader import DataReader\n",
    "from op_analytics.coreutils.partitioned.location import DataLocation\n",
    "from op_analytics.datapipeline.etl.intermediate.construct import construct_data_readers\n",
    "\n",
    "from op_analytics.datapipeline.models.compute.udfs import create_duckdb_macros\n",
    "\n",
    "\n",
    "# Define the input data range.\n",
    "read_batches: list[DataReader] = construct_data_readers(\n",
    "    chains=[\"op\"],\n",
    "    models=[\"refined_transactions_fees\"],\n",
    "    range_spec=\"@20241118:+1\",\n",
    "    read_from=DataLocation.GCS\n",
    ")\n",
    "\n",
    "\n",
    "# Select input for one date and build the intermediate model inputs.\n",
    "batch = read_batches[0]\n",
    "\n",
    "\n",
    "duckdb_client = init_client()\n",
    "create_duckdb_macros(duckdb_client)\n"
   ]
  },
  {
   "cell_type": "markdown",
   "metadata": {},
   "source": [
    "## Run the model\n",
    "\n",
    "This automatically registers the model outputs as duckdb tables."
   ]
  },
  {
   "cell_type": "code",
   "execution_count": 2,
   "metadata": {},
   "outputs": [
    {
     "name": "stdout",
     "output_type": "stream",
     "text": [
      "\u001b[2m2024-12-13 13:51:01\u001b[0m [\u001b[32m\u001b[1minfo     \u001b[0m] \u001b[1mExecuting model...            \u001b[0m \u001b[36mfilename\u001b[0m=\u001b[35mtestutils.py\u001b[0m \u001b[36mlineno\u001b[0m=\u001b[35m220\u001b[0m \u001b[36mprocess\u001b[0m=\u001b[35m51769\u001b[0m\n",
      "\u001b[2m2024-12-13 13:51:01\u001b[0m [\u001b[32m\u001b[1minfo     \u001b[0m] \u001b[1mduckdb dataset='ingestion/transactions_v1' using 1/22 parquet paths, first path is gs://oplabs-tools-data-sink/ingestion/transactions_v1/chain=op/dt=2024-11-18/000128144000.parquet\u001b[0m \u001b[36mfilename\u001b[0m=\u001b[35mreader.py\u001b[0m \u001b[36mlineno\u001b[0m=\u001b[35m68\u001b[0m \u001b[36mprocess\u001b[0m=\u001b[35m51769\u001b[0m\n",
      "\u001b[2m2024-12-13 13:51:02\u001b[0m [\u001b[32m\u001b[1minfo     \u001b[0m] \u001b[1mregistered view: 'ingestion_transactions_v1' using 1 parquet paths\u001b[0m \u001b[36mfilename\u001b[0m=\u001b[35mclient.py\u001b[0m \u001b[36mlineno\u001b[0m=\u001b[35m53\u001b[0m \u001b[36mprocess\u001b[0m=\u001b[35m51769\u001b[0m\n",
      "\u001b[2m2024-12-13 13:51:02\u001b[0m [\u001b[32m\u001b[1minfo     \u001b[0m] \u001b[1mduckdb dataset='ingestion/blocks_v1' using 1/22 parquet paths, first path is gs://oplabs-tools-data-sink/ingestion/blocks_v1/chain=op/dt=2024-11-18/000128144000.parquet\u001b[0m \u001b[36mfilename\u001b[0m=\u001b[35mreader.py\u001b[0m \u001b[36mlineno\u001b[0m=\u001b[35m68\u001b[0m \u001b[36mprocess\u001b[0m=\u001b[35m51769\u001b[0m\n",
      "\u001b[2m2024-12-13 13:51:04\u001b[0m [\u001b[32m\u001b[1minfo     \u001b[0m] \u001b[1mregistered view: 'ingestion_blocks_v1' using 1 parquet paths\u001b[0m \u001b[36mfilename\u001b[0m=\u001b[35mclient.py\u001b[0m \u001b[36mlineno\u001b[0m=\u001b[35m53\u001b[0m \u001b[36mprocess\u001b[0m=\u001b[35m51769\u001b[0m\n",
      "\u001b[2m2024-12-13 13:51:04\u001b[0m [\u001b[32m\u001b[1minfo     \u001b[0m] \u001b[1mduckdb dataset='ingestion/logs_v1' using 1/22 parquet paths, first path is gs://oplabs-tools-data-sink/ingestion/logs_v1/chain=op/dt=2024-11-18/000128144000.parquet\u001b[0m \u001b[36mfilename\u001b[0m=\u001b[35mreader.py\u001b[0m \u001b[36mlineno\u001b[0m=\u001b[35m68\u001b[0m \u001b[36mprocess\u001b[0m=\u001b[35m51769\u001b[0m\n",
      "\u001b[2m2024-12-13 13:51:05\u001b[0m [\u001b[32m\u001b[1minfo     \u001b[0m] \u001b[1mregistered view: 'ingestion_logs_v1' using 1 parquet paths\u001b[0m \u001b[36mfilename\u001b[0m=\u001b[35mclient.py\u001b[0m \u001b[36mlineno\u001b[0m=\u001b[35m53\u001b[0m \u001b[36mprocess\u001b[0m=\u001b[35m51769\u001b[0m\n",
      "\u001b[2m2024-12-13 13:51:05\u001b[0m [\u001b[32m\u001b[1minfo     \u001b[0m] \u001b[1mRendering query               \u001b[0m \u001b[36mfilename\u001b[0m=\u001b[35mquerybuilder.py\u001b[0m \u001b[36mlineno\u001b[0m=\u001b[35m40\u001b[0m \u001b[36mprocess\u001b[0m=\u001b[35m51769\u001b[0m \u001b[36mtemplate\u001b[0m=\u001b[35mrefined_transactions_fees\u001b[0m\n",
      "dict_keys(['refined_transactions_fees_v1'])\n"
     ]
    },
    {
     "data": {
      "text/plain": [
       "┌──────────────────────────────┐\n",
       "│             name             │\n",
       "│           varchar            │\n",
       "├──────────────────────────────┤\n",
       "│ ingestion_blocks_v1          │\n",
       "│ ingestion_logs_v1            │\n",
       "│ ingestion_transactions_v1    │\n",
       "│ refined_transactions_fees    │\n",
       "│ refined_transactions_fees_v1 │\n",
       "└──────────────────────────────┘"
      ]
     },
     "execution_count": 2,
     "metadata": {},
     "output_type": "execute_result"
    }
   ],
   "source": [
    "from op_analytics.datapipeline.models.compute.testutils import execute_model_in_memory\n",
    "\n",
    "execute_model_in_memory(\n",
    "    duckdb_client=duckdb_client,\n",
    "    model=\"refined_transactions_fees\",\n",
    "    data_reader=batch,\n",
    "    limit_input_parquet_files=1\n",
    ")\n",
    "\n",
    "# The duckdb database will have the following:\n",
    "#   - input tables\n",
    "#   - views used by the model\n",
    "#   - model outputs\n",
    "# \n",
    "# You can use duckdb to inspect any of the above results.\n",
    "duckdb_client.sql(\"SHOW TABLES\")"
   ]
  },
  {
   "cell_type": "markdown",
   "metadata": {},
   "source": [
    "## Verify model results"
   ]
  },
  {
   "cell_type": "code",
   "execution_count": 3,
   "metadata": {},
   "outputs": [
    {
     "data": {
      "text/plain": [
       "┌────────────┬─────────┬──────────┬─────────┬──────────┬───────────────────┬────────────────────────────────────────────┬────────────────────────────────────────────┬──────────────┬─────────────────┬────────────────────────────────────────────────────────────────────┬───────────┬───────────┬──────────────────┬─────────────────────┬───────────────┬──────────────────────┬──────────────────────────┬──────────────────┬──────────────────────────┬─────────────────────────┬──────────────┬─────────────────┬─────────────┬─────────────────────┬────────────┬─────────┬────────────────────┬─────────────────────────┬──────────────────┬───────────────────┬────────────────────┬───────────────────────┬─────────────────────────────────────┬─────────────┬───────────────┬────────────────────┬───────────────────────────┬─────────────────────┬───────────────────────────┬─────────────────────┬───────────────────────┬───────────────────────┬───────────────────────┬───────────────────────┬───────────────────────┬───────────────────────┬────────────────────────┬───────────────────────────┬───────────────────┬────────────────────────┬────────────────────────────┬───────────────────────────────┬────────────────────────┬─────────────────────────────┐\n",
       "│     dt     │  chain  │ chain_id │ network │  nonce   │ transaction_index │                from_address                │                 to_address                 │ block_number │ block_timestamp │                                hash                                │ gas_price │ gas_limit │ receipt_gas_used │ receipt_l1_gas_used │    l1_fee     │ receipt_l1_gas_price │ receipt_l1_blob_base_fee │ base_fee_per_gas │ max_priority_fee_per_gas │ base_legacy_fee_per_gas │    l2_fee    │ l2_priority_fee │ l2_base_fee │     block_hour      │ method_id  │ success │ l1_base_fee_scalar │ l1_blob_base_fee_scalar │ transaction_type │ input_byte_length │ input_calldata_gas │ is_system_transaction │ is_attributes_deposited_transaction │ l1_gas_used │    tx_fee     │ l2_base_legacy_fee │        l1_base_fee        │ l1_base_scaled_size │        l1_blob_fee        │ l1_blob_scaled_size │     tx_fee_native     │     l1_fee_native     │     l2_fee_native     │  l1_base_fee_native   │  l1_blob_fee_native   │  l2_base_fee_native   │ l2_priority_fee_native │ l2_base_legacy_fee_native │ l2_gas_price_gwei │ l2_base_gas_price_gwei │ l2_priority_gas_price_gwei │ l2_base_legacy_gas_price_gwei │ l1_base_gas_price_gwei │ l1_blob_base_gas_price_gwei │\n",
       "│    date    │ varchar │  int32   │ varchar │  int64   │       int64       │                  varchar                   │                  varchar                   │    int64     │     uint32      │                              varchar                               │   int64   │   int64   │      int64       │        int64        │     int64     │        int64         │          int64           │      int64       │          int64           │          int64          │    int64     │      int64      │    int64    │      timestamp      │  varchar   │ boolean │   decimal(36,7)    │      decimal(26,7)      │      int32       │      double       │       double       │        boolean        │               boolean               │    int64    │     int64     │       int64        │      decimal(38,12)       │   decimal(38,12)    │      decimal(38,12)       │   decimal(38,12)    │    decimal(38,19)     │    decimal(38,19)     │    decimal(38,19)     │    decimal(38,19)     │    decimal(38,19)     │    decimal(38,19)     │     decimal(38,19)     │      decimal(38,19)       │  decimal(38,10)   │     decimal(38,10)     │       decimal(38,10)       │        decimal(38,10)         │     decimal(38,10)     │       decimal(38,10)        │\n",
       "├────────────┼─────────┼──────────┼─────────┼──────────┼───────────────────┼────────────────────────────────────────────┼────────────────────────────────────────────┼──────────────┼─────────────────┼────────────────────────────────────────────────────────────────────┼───────────┼───────────┼──────────────────┼─────────────────────┼───────────────┼──────────────────────┼──────────────────────────┼──────────────────┼──────────────────────────┼─────────────────────────┼──────────────┼─────────────────┼─────────────┼─────────────────────┼────────────┼─────────┼────────────────────┼─────────────────────────┼──────────────────┼───────────────────┼────────────────────┼───────────────────────┼─────────────────────────────────────┼─────────────┼───────────────┼────────────────────┼───────────────────────────┼─────────────────────┼───────────────────────────┼─────────────────────┼───────────────────────┼───────────────────────┼───────────────────────┼───────────────────────┼───────────────────────┼───────────────────────┼────────────────────────┼───────────────────────────┼───────────────────┼────────────────────────┼────────────────────────────┼───────────────────────────────┼────────────────────────┼─────────────────────────────┤\n",
       "│ 2024-11-18 │ op      │       10 │ mainnet │ 22910584 │                 0 │ 0xdeaddeaddeaddeaddeaddeaddeaddeaddead0001 │ 0x4200000000000000000000000000000000000015 │    128145646 │      1731890069 │ 0xd84f3bf3f18a1cf627450597ec683e81319c8eb0f9e00c1eaa8288869bc0cf0c │         0 │   1000000 │            43887 │                NULL │             0 │                 NULL │                     NULL │             1394 │                        0 │                   -1394 │            0 │               0 │           0 │ 2024-11-18 00:00:00 │ 0x440a5e20 │ true    │               NULL │               0.0000000 │              126 │             164.0 │             1604.0 │ true                  │ true                                │        NULL │             0 │                  0 │                      NULL │                NULL │                      NULL │                NULL │ 0.0000000000000000000 │ 0.0000000000000000000 │ 0.0000000000000000000 │                  NULL │                  NULL │ 0.0000000000000000000 │  0.0000000000000000000 │     0.0000000000000000000 │      0.0000000000 │           0.0000013940 │               0.0000000000 │                 -0.0000013940 │                   NULL │                        NULL │\n",
       "│ 2024-11-18 │ op      │       10 │ mainnet │     1236 │                 1 │ 0xcecfc5e576c71e913e900df7e96fc11be2222222 │ 0x0000000000007c4cb8129fc2ae24463c32e5d0da │    128145646 │      1731890069 │ 0x740c2dbfffed2f807d7502840596cd4bee063cdc6899e19f6a57b50d63945b00 │   1509609 │    363036 │           303721 │                1968 │  464705291307 │           8514105039 │               3021819819 │             1394 │                        0 │                 1508215 │ 458499955089 │               0 │   423387074 │ 2024-11-18 00:00:00 │ 0x03806a3a │ true    │          0.0836320 │               1.0142130 │                0 │              90.0 │             1392.0 │ false                 │ false                               │        1968 │  923205246396 │       458076568015 │  87582350812.462704000000 │     10.286736000000 │ 376966580122.755981000000 │    124.748199000000 │ 0.0000009232052463960 │ 0.0000004647052913070 │ 0.0000004584999550890 │ 0.0000000875823508120 │ 0.0000003769665801230 │ 0.0000000004233870740 │  0.0000000000000000000 │     0.0000004580765680150 │      0.0015096090 │           0.0000013940 │               0.0000000000 │                  0.0015082150 │           8.5141050390 │                3.0218198190 │\n",
       "│ 2024-11-18 │ op      │       10 │ mainnet │      558 │                10 │ 0x72099133f9310c47b3543d6a9c3fef25dd7c71e3 │ 0xe50fa9b3c56ffb159cb0fca61f5c9d750e8128c8 │    128145646 │      1731890069 │ 0x069e5d9f4850092b767b41fb883557c50db14a3f7ab5046e873a39afaf5d1575 │    452771 │     67533 │            51556 │                1600 │  377682057670 │           8514105039 │               3021819819 │             1394 │                   451377 │                       0 │  23343061676 │     23271192612 │    71869064 │ 2024-11-18 00:00:00 │ 0x095ea7b3 │ true    │          0.0836320 │               1.0142130 │                2 │              68.0 │              944.0 │ false                 │ false                               │        1600 │  401025119346 │                  0 │  71205163262.164800000000 │      8.363200000000 │ 306476894408.744700000000 │    101.421300000000 │ 0.0000004010251193460 │ 0.0000003776820576700 │ 0.0000000233430616760 │ 0.0000000712051632620 │ 0.0000003064768944090 │ 0.0000000000718690640 │  0.0000000232711926120 │     0.0000000000000000000 │      0.0004527710 │           0.0000013940 │               0.0004513770 │                  0.0000000000 │           8.5141050390 │                3.0218198190 │\n",
       "│ 2024-11-18 │ op      │       10 │ mainnet │   461242 │                11 │ 0x669bee230facc9240e2ef81c2e566c3ebadd7c71 │ 0xabf4daac18925530d1e4f99fd538d57b8bf1017c │    128145646 │      1731890069 │ 0xc73122d98c55a550441d600fb07f46962788a97a3b9cfd9194e3367cf8f870ae │    448961 │  15000000 │           513743 │                1600 │  377682057670 │           8514105039 │               3021819819 │             1394 │                   447567 │                       0 │ 230650571023 │    229934413281 │   716157742 │ 2024-11-18 00:00:00 │ 0x24f88863 │ true    │          0.0836320 │               1.0142130 │                2 │               4.0 │               64.0 │ false                 │ false                               │        1600 │  608332628693 │                  0 │  71205163262.164800000000 │      8.363200000000 │ 306476894408.744700000000 │    101.421300000000 │ 0.0000006083326286930 │ 0.0000003776820576700 │ 0.0000002306505710230 │ 0.0000000712051632620 │ 0.0000003064768944090 │ 0.0000000007161577420 │  0.0000002299344132810 │     0.0000000000000000000 │      0.0004489610 │           0.0000013940 │               0.0004475670 │                  0.0000000000 │           8.5141050390 │                3.0218198190 │\n",
       "│ 2024-11-18 │ op      │       10 │ mainnet │  1370265 │                12 │ 0xc97240c92596276b8b9366064123fd76a1207164 │ 0x24f6f36a551fe6008fa80afcff1d6ace182ead2b │    128145646 │      1731890069 │ 0x11a1d608f9ab9016ebfaa80a658fbe22f622cad6595df8ef59ae5ecf6098e034 │    386695 │    800000 │           305090 │                1600 │  377682057670 │           8514105039 │               3021819819 │             1394 │                   385301 │                       0 │ 117976777550 │    117551482090 │   425295460 │ 2024-11-18 00:00:00 │ 0x540817d7 │ true    │          0.0836320 │               1.0142130 │                2 │             100.0 │              688.0 │ false                 │ false                               │        1600 │  495658835220 │                  0 │  71205163262.164800000000 │      8.363200000000 │ 306476894408.744700000000 │    101.421300000000 │ 0.0000004956588352200 │ 0.0000003776820576700 │ 0.0000001179767775500 │ 0.0000000712051632620 │ 0.0000003064768944090 │ 0.0000000004252954600 │  0.0000001175514820900 │     0.0000000000000000000 │      0.0003866950 │           0.0000013940 │               0.0003853010 │                  0.0000000000 │           8.5141050390 │                3.0218198190 │\n",
       "│ 2024-11-18 │ op      │       10 │ mainnet │  1948828 │                13 │ 0xc96909cd052f6000ffaf3e9ff17f9c2047cfd1b8 │ 0xd3dc079ac6f98275bbbcd0aff11cbaadb4d8f2ac │    128145646 │      1731890069 │ 0x7beb4c5e4a7a2f9dd1fc18c469051a419534652065ea50afdf86ea13cccb6839 │    341508 │   5000000 │           342331 │                1600 │  377682057670 │           8514105039 │               3021819819 │             1394 │                   340114 │                       0 │ 116908775148 │    116431565734 │   477209414 │ 2024-11-18 00:00:00 │ 0x0001     │ true    │          0.0836320 │               1.0142130 │                2 │               2.0 │               20.0 │ false                 │ false                               │        1600 │  494590832818 │                  0 │  71205163262.164800000000 │      8.363200000000 │ 306476894408.744700000000 │    101.421300000000 │ 0.0000004945908328180 │ 0.0000003776820576700 │ 0.0000001169087751480 │ 0.0000000712051632620 │ 0.0000003064768944090 │ 0.0000000004772094140 │  0.0000001164315657340 │     0.0000000000000000000 │      0.0003415080 │           0.0000013940 │               0.0003401140 │                  0.0000000000 │           8.5141050390 │                3.0218198190 │\n",
       "│ 2024-11-18 │ op      │       10 │ mainnet │  2021489 │                14 │ 0xc96faba4ff9941a55754d7a4b02aeaf7d53f43b9 │ 0xabf4daac18925530d1e4f99fd538d57b8bf1017c │    128145646 │      1731890069 │ 0x27d1249da3b373260ce0b6ec9ce1fc9ce8e51ae6e22211dbcbcfe314d35d4a23 │    101394 │  15000000 │           513743 │                1600 │  377682057670 │           8514105039 │               3021819819 │             1394 │                   100000 │                       0 │  52090457742 │     51374300000 │   716157742 │ 2024-11-18 00:00:00 │ 0x24f88863 │ true    │          0.0836320 │               1.0142130 │                2 │               4.0 │               64.0 │ false                 │ false                               │        1600 │  429772515412 │                  0 │  71205163262.164800000000 │      8.363200000000 │ 306476894408.744700000000 │    101.421300000000 │ 0.0000004297725154120 │ 0.0000003776820576700 │ 0.0000000520904577420 │ 0.0000000712051632620 │ 0.0000003064768944090 │ 0.0000000007161577420 │  0.0000000513743000000 │     0.0000000000000000000 │      0.0001013940 │           0.0000013940 │               0.0001000000 │                  0.0000000000 │           8.5141050390 │                3.0218198190 │\n",
       "│ 2024-11-18 │ op      │       10 │ mainnet │      858 │                15 │ 0x21bdb91661a4472ff0d3871c300d4120a886ad9b │ 0x1195cf65f83b3a5768f3c496d3a05ad6412c64b7 │    128145646 │      1731890069 │ 0xf8c3fa8ece22e50b86ef016e991863191b62f20f376b16dbcca436fc80f8e28c │    101394 │    197308 │           189126 │                4953 │ 1169231513276 │           8514105039 │               3021819819 │             1394 │                   100000 │                       0 │  19176241644 │     18912600000 │   263641644 │ 2024-11-18 00:00:00 │ 0xd123b4d8 │ true    │          0.0836320 │               1.0142130 │                2 │             964.0 │             6388.0 │ false                 │ false                               │        4953 │ 1188407754920 │                  0 │ 220424483523.438909000000 │     25.889331000000 │ 948737536254.070311937500 │    313.962311812500 │ 0.0000011884077549200 │ 0.0000011692315132760 │ 0.0000000191762416440 │ 0.0000002204244835230 │ 0.0000009487375362540 │ 0.0000000002636416440 │  0.0000000189126000000 │     0.0000000000000000000 │      0.0001013940 │           0.0000013940 │               0.0001000000 │                  0.0000000000 │           8.5141050390 │                3.0218198190 │\n",
       "│ 2024-11-18 │ op      │       10 │ mainnet │      873 │                16 │ 0xac50debe83f7dbf2144239bcb946a2506b2782da │ 0x1195cf65f83b3a5768f3c496d3a05ad6412c64b7 │    128145646 │      1731890069 │ 0x8b70ce403d88feb808e4f44d60b95b49fc9299aaf324890ebf9593a5dbc29fd5 │    101394 │    197296 │           189114 │                4966 │ 1172390823688 │           8514105039 │               3021819819 │             1394 │                   100000 │                       0 │  19175024916 │     18911400000 │   263624916 │ 2024-11-18 00:00:00 │ 0xd123b4d8 │ true    │          0.0836320 │               1.0142130 │                2 │             964.0 │             6400.0 │ false                 │ false                               │        4966 │ 1191565848604 │                  0 │ 221003025474.943998000000 │     25.957282000000 │ 951227661021.141362625000 │    314.786359875000 │ 0.0000011915658486040 │ 0.0000011723908236880 │ 0.0000000191750249160 │ 0.0000002210030254750 │ 0.0000009512276610210 │ 0.0000000002636249160 │  0.0000000189114000000 │     0.0000000000000000000 │      0.0001013940 │           0.0000013940 │               0.0001000000 │                  0.0000000000 │           8.5141050390 │                3.0218198190 │\n",
       "│ 2024-11-18 │ op      │       10 │ mainnet │   270110 │                17 │ 0xabe58b50367fb4cea7d19c41c228abed381ed2ef │ 0xd3dc079ac6f98275bbbcd0aff11cbaadb4d8f2ac │    128145646 │      1731890069 │ 0x50aed494babf3fcafe2f1c271c7e5ff361a7f45a9134ab8d2ff660244b6b0bf0 │    101393 │   5000000 │           342331 │                1600 │  377682057670 │           8514105039 │               3021819819 │             1394 │                    99999 │                       0 │  34709967083 │     34232757669 │   477209414 │ 2024-11-18 00:00:00 │ 0x0001     │ true    │          0.0836320 │               1.0142130 │                2 │               2.0 │               20.0 │ false                 │ false                               │        1600 │  412392024753 │                  0 │  71205163262.164800000000 │      8.363200000000 │ 306476894408.744700000000 │    101.421300000000 │ 0.0000004123920247530 │ 0.0000003776820576700 │ 0.0000000347099670830 │ 0.0000000712051632620 │ 0.0000003064768944090 │ 0.0000000004772094140 │  0.0000000342327576690 │     0.0000000000000000000 │      0.0001013930 │           0.0000013940 │               0.0000999990 │                  0.0000000000 │           8.5141050390 │                3.0218198190 │\n",
       "├────────────┴─────────┴──────────┴─────────┴──────────┴───────────────────┴────────────────────────────────────────────┴────────────────────────────────────────────┴──────────────┴─────────────────┴────────────────────────────────────────────────────────────────────┴───────────┴───────────┴──────────────────┴─────────────────────┴───────────────┴──────────────────────┴──────────────────────────┴──────────────────┴──────────────────────────┴─────────────────────────┴──────────────┴─────────────────┴─────────────┴─────────────────────┴────────────┴─────────┴────────────────────┴─────────────────────────┴──────────────────┴───────────────────┴────────────────────┴───────────────────────┴─────────────────────────────────────┴─────────────┴───────────────┴────────────────────┴───────────────────────────┴─────────────────────┴───────────────────────────┴─────────────────────┴───────────────────────┴───────────────────────┴───────────────────────┴───────────────────────┴───────────────────────┴───────────────────────┴────────────────────────┴───────────────────────────┴───────────────────┴────────────────────────┴────────────────────────────┴───────────────────────────────┴────────────────────────┴─────────────────────────────┤\n",
       "│ 10 rows                                                                                                                                                                                                                                                                                                                                                                                                                                                                                                                                                                                                                                                                                                                                                                                                                                                                                                                                                                                                                                                                                                                                                                                                                                                                    55 columns │\n",
       "└───────────────────────────────────────────────────────────────────────────────────────────────────────────────────────────────────────────────────────────────────────────────────────────────────────────────────────────────────────────────────────────────────────────────────────────────────────────────────────────────────────────────────────────────────────────────────────────────────────────────────────────────────────────────────────────────────────────────────────────────────────────────────────────────────────────────────────────────────────────────────────────────────────────────────────────────────────────────────────────────────────────────────────────────────────────────────────────────────────────────────────────────────────────────────────────────────────────────────────────────────────────────────────────────────────────────────────────────────────────────────────────────────────────────────────────────────────────────────────────────────────────────────────────────────────────────────────────────────────────────────────────────────────────────────────────────────────────────────────────────────────────────────────────────────────────────────────────────────────────────────────────────────────────────────────┘"
      ]
     },
     "execution_count": 3,
     "metadata": {},
     "output_type": "execute_result"
    }
   ],
   "source": [
    "duckdb_client.sql(\"SELECT * FROM refined_transactions_fees_v1 LIMIT 10\")"
   ]
  },
  {
   "cell_type": "markdown",
   "metadata": {},
   "source": [
    "### Check the data output size"
   ]
  },
  {
   "cell_type": "code",
   "execution_count": 4,
   "metadata": {},
   "outputs": [
    {
     "data": {
      "text/plain": [
       "┌──────────────┐\n",
       "│ count_star() │\n",
       "│    int64     │\n",
       "├──────────────┤\n",
       "│        33168 │\n",
       "└──────────────┘"
      ]
     },
     "execution_count": 4,
     "metadata": {},
     "output_type": "execute_result"
    }
   ],
   "source": [
    "duckdb_client.sql(\"SELECT COUNT(*) FROM refined_transactions_fees_v1\")"
   ]
  },
  {
   "cell_type": "code",
   "execution_count": 5,
   "metadata": {},
   "outputs": [
    {
     "data": {
      "text/plain": [
       "┌──────────────┐\n",
       "│ count_star() │\n",
       "│    int64     │\n",
       "├──────────────┤\n",
       "│        33168 │\n",
       "└──────────────┘"
      ]
     },
     "execution_count": 5,
     "metadata": {},
     "output_type": "execute_result"
    }
   ],
   "source": [
    "duckdb_client.sql(\"SELECT COUNT(*) FROM ingestion_transactions_v1\")"
   ]
  },
  {
   "cell_type": "code",
   "execution_count": 6,
   "metadata": {},
   "outputs": [],
   "source": [
    "# duckdb_client.sql(\"SELECT input FROM ingestion_transactions_v1 LIMIT 10\")\n"
   ]
  },
  {
   "cell_type": "markdown",
   "metadata": {},
   "source": [
    "### You can also convert the results to dataframes to inspect them in more familiar ways"
   ]
  },
  {
   "cell_type": "code",
   "execution_count": 7,
   "metadata": {},
   "outputs": [
    {
     "data": {
      "text/html": [
       "<div><style>\n",
       ".dataframe > thead > tr,\n",
       ".dataframe > tbody > tr {\n",
       "  text-align: right;\n",
       "  white-space: pre-wrap;\n",
       "}\n",
       "</style>\n",
       "<small>shape: (5, 55)</small><table border=\"1\" class=\"dataframe\"><thead><tr><th>dt</th><th>chain</th><th>chain_id</th><th>network</th><th>nonce</th><th>transaction_index</th><th>from_address</th><th>to_address</th><th>block_number</th><th>block_timestamp</th><th>hash</th><th>gas_price</th><th>gas_limit</th><th>receipt_gas_used</th><th>receipt_l1_gas_used</th><th>l1_fee</th><th>receipt_l1_gas_price</th><th>receipt_l1_blob_base_fee</th><th>base_fee_per_gas</th><th>max_priority_fee_per_gas</th><th>base_legacy_fee_per_gas</th><th>l2_fee</th><th>l2_priority_fee</th><th>l2_base_fee</th><th>block_hour</th><th>method_id</th><th>success</th><th>l1_base_fee_scalar</th><th>l1_blob_base_fee_scalar</th><th>transaction_type</th><th>input_byte_length</th><th>input_calldata_gas</th><th>is_system_transaction</th><th>is_attributes_deposited_transaction</th><th>l1_gas_used</th><th>tx_fee</th><th>l2_base_legacy_fee</th><th>l1_base_fee</th><th>l1_base_scaled_size</th><th>l1_blob_fee</th><th>l1_blob_scaled_size</th><th>tx_fee_native</th><th>l1_fee_native</th><th>l2_fee_native</th><th>l1_base_fee_native</th><th>l1_blob_fee_native</th><th>l2_base_fee_native</th><th>l2_priority_fee_native</th><th>l2_base_legacy_fee_native</th><th>l2_gas_price_gwei</th><th>l2_base_gas_price_gwei</th><th>l2_priority_gas_price_gwei</th><th>l2_base_legacy_gas_price_gwei</th><th>l1_base_gas_price_gwei</th><th>l1_blob_base_gas_price_gwei</th></tr><tr><td>date</td><td>str</td><td>i32</td><td>str</td><td>i64</td><td>i64</td><td>str</td><td>str</td><td>i64</td><td>u32</td><td>str</td><td>i64</td><td>i64</td><td>i64</td><td>i64</td><td>i64</td><td>i64</td><td>i64</td><td>i64</td><td>i64</td><td>i64</td><td>i64</td><td>i64</td><td>i64</td><td>datetime[μs]</td><td>str</td><td>bool</td><td>decimal[36,7]</td><td>decimal[26,7]</td><td>i32</td><td>f64</td><td>f64</td><td>bool</td><td>bool</td><td>i64</td><td>i64</td><td>i64</td><td>decimal[38,12]</td><td>decimal[38,12]</td><td>decimal[38,12]</td><td>decimal[38,12]</td><td>decimal[38,19]</td><td>decimal[38,19]</td><td>decimal[38,19]</td><td>decimal[38,19]</td><td>decimal[38,19]</td><td>decimal[38,19]</td><td>decimal[38,19]</td><td>decimal[38,19]</td><td>decimal[38,10]</td><td>decimal[38,10]</td><td>decimal[38,10]</td><td>decimal[38,10]</td><td>decimal[38,10]</td><td>decimal[38,10]</td></tr></thead><tbody><tr><td>2024-11-18</td><td>&quot;op&quot;</td><td>10</td><td>&quot;mainnet&quot;</td><td>254942</td><td>1</td><td>&quot;0x3088f0191e49f120d567fbd21ae6…</td><td>&quot;0xeb4378aacdfb7d02a0c9accfac2e…</td><td>128145323</td><td>1731889423</td><td>&quot;0xa154c2a27f36f900ba0cc89f30e4…</td><td>6009964258</td><td>1000000</td><td>167161</td><td>1600</td><td>306301485470</td><td>7670139258</td><td>2387610658</td><td>856</td><td>0</td><td>6009963402</td><td>1004631635331538</td><td>0</td><td>143089816</td><td>2024-11-18&nbsp;00:00:00</td><td>&quot;0x01000000&quot;</td><td>true</td><td>0.0836320</td><td>1.0142130</td><td>0</td><td>39.0</td><td>492.0</td><td>false</td><td>false</td><td>1600</td><td>1004937936817008</td><td>1004631492241722</td><td>64146908642.505600000000</td><td>8.363200000000</td><td>242154576828.215400000000</td><td>101.421300000000</td><td>0.0010049379368170080</td><td>0.0000003063014854700</td><td>0.0010046316353315380</td><td>0.0000000641469086430</td><td>0.0000002421545768280</td><td>0.0000000001430898160</td><td>0.0000000000000000000</td><td>0.0010046314922417220</td><td>6.0099642580</td><td>0.0000008560</td><td>0.0000000000</td><td>6.0099634020</td><td>7.6701392580</td><td>2.3876106580</td></tr><tr><td>2024-11-18</td><td>&quot;op&quot;</td><td>10</td><td>&quot;mainnet&quot;</td><td>254890</td><td>1</td><td>&quot;0x3088f0191e49f120d567fbd21ae6…</td><td>&quot;0xeb4378aacdfb7d02a0c9accfac2e…</td><td>128144808</td><td>1731888393</td><td>&quot;0x3bf1efa2db347fb47dd054401ef4…</td><td>3557316353</td><td>1000000</td><td>167130</td><td>1600</td><td>178769154750</td><td>8171754126</td><td>1088796344</td><td>662</td><td>0</td><td>3557315691</td><td>594534282076890</td><td>0</td><td>110640060</td><td>2024-11-18&nbsp;00:00:00</td><td>&quot;0x01000000&quot;</td><td>true</td><td>0.0836320</td><td>1.0142130</td><td>0</td><td>39.0</td><td>492.0</td><td>false</td><td>false</td><td>1600</td><td>594713051231640</td><td>594534171436830</td><td>68342014106.563200000000</td><td>8.363200000000</td><td>110427140643.727200000000</td><td>101.421300000000</td><td>0.0005947130512316400</td><td>0.0000001787691547500</td><td>0.0005945342820768900</td><td>0.0000000683420141070</td><td>0.0000001104271406440</td><td>0.0000000001106400600</td><td>0.0000000000000000000</td><td>0.0005945341714368300</td><td>3.5573163530</td><td>0.0000006620</td><td>0.0000000000</td><td>3.5573156910</td><td>8.1717541260</td><td>1.0887963440</td></tr><tr><td>2024-11-18</td><td>&quot;op&quot;</td><td>10</td><td>&quot;mainnet&quot;</td><td>278585</td><td>3</td><td>&quot;0xe3e73f1aa65eeb809ff1f41f3c09…</td><td>&quot;0x68b3465833fb72a70ecdf485e0e4…</td><td>128145787</td><td>1731890351</td><td>&quot;0x3c34052b55b8ea87fad65536694c…</td><td>3806621788</td><td>1000000</td><td>150414</td><td>2263</td><td>496962886328</td><td>8132807920</td><td>2793617096</td><td>1778</td><td>0</td><td>3806620010</td><td>572569209620232</td><td>0</td><td>267436092</td><td>2024-11-18&nbsp;00:00:00</td><td>&quot;0x04e45aaf&quot;</td><td>false</td><td>0.0836320</td><td>1.0142130</td><td>0</td><td>228.0</td><td>1644.0</td><td>false</td><td>false</td><td>2263</td><td>573066172506560</td><td>572568942184140</td><td>96200553176.111920000000</td><td>11.828701000000</td><td>400738090100.154301500000</td><td>143.447751187500</td><td>0.0005730661725065600</td><td>0.0000004969628863280</td><td>0.0005725692096202320</td><td>0.0000000962005531760</td><td>0.0000004007380901000</td><td>0.0000000002674360920</td><td>0.0000000000000000000</td><td>0.0005725689421841400</td><td>3.8066217880</td><td>0.0000017780</td><td>0.0000000000</td><td>3.8066200100</td><td>8.1328079200</td><td>2.7936170960</td></tr><tr><td>2024-11-18</td><td>&quot;op&quot;</td><td>10</td><td>&quot;mainnet&quot;</td><td>15578</td><td>6</td><td>&quot;0x9c71e8299b145a4190c65ac0d555…</td><td>&quot;0x8fc1756b0bc045c06b7bb207b629…</td><td>128145605</td><td>1731889987</td><td>&quot;0x2f1c10fa888a422c3dafe1d8a16d…</td><td>477875164</td><td>2499999</td><td>1130360</td><td>20090</td><td>3713537605952</td><td>7522450707</td><td>2295686953</td><td>1299</td><td>0</td><td>477873865</td><td>540170970379040</td><td>0</td><td>1468337640</td><td>2024-11-18&nbsp;00:00:00</td><td>&quot;0xd9d73414&quot;</td><td>true</td><td>0.0836320</td><td>1.0142130</td><td>0</td><td>1604.0</td><td>21980.0</td><td>false</td><td>false</td><td>20090</td><td>543884507984992</td><td>540169502041400</td><td>789935783395.874010000000</td><td>105.010430000000</td><td>2923491214556.840563125000</td><td>1273.471198125000</td><td>0.0005438845079849920</td><td>0.0000037135376059520</td><td>0.0005401709703790400</td><td>0.0000007899357833960</td><td>0.0000029234912145570</td><td>0.0000000014683376400</td><td>0.0000000000000000000</td><td>0.0005401695020414000</td><td>0.4778751640</td><td>0.0000012990</td><td>0.0000000000</td><td>0.4778738650</td><td>7.5224507070</td><td>2.2956869530</td></tr><tr><td>2024-11-18</td><td>&quot;op&quot;</td><td>10</td><td>&quot;mainnet&quot;</td><td>15579</td><td>1</td><td>&quot;0x9c71e8299b145a4190c65ac0d555…</td><td>&quot;0x8fc1756b0bc045c06b7bb207b629…</td><td>128145777</td><td>1731890331</td><td>&quot;0x242ec819d3b42117800b3942fa29…</td><td>455586072</td><td>2499999</td><td>1149957</td><td>20157</td><td>5417238559765</td><td>8537410887</td><td>3535671733</td><td>1751</td><td>0</td><td>455584321</td><td>523904392598904</td><td>0</td><td>2013574707</td><td>2024-11-18&nbsp;00:00:00</td><td>&quot;0xd9d73414&quot;</td><td>true</td><td>0.0836320</td><td>1.0142130</td><td>0</td><td>1604.0</td><td>21956.0</td><td>false</td><td>false</td><td>20157</td><td>529321631158669</td><td>523902379024197</td><td>899507066459.876793000000</td><td>105.360639000000</td><td>4517592175735.696078312500</td><td>1277.718215062500</td><td>0.0005293216311586690</td><td>0.0000054172385597650</td><td>0.0005239043925989040</td><td>0.0000008995070664600</td><td>0.0000045175921757360</td><td>0.0000000020135747070</td><td>0.0000000000000000000</td><td>0.0005239023790241970</td><td>0.4555860720</td><td>0.0000017510</td><td>0.0000000000</td><td>0.4555843210</td><td>8.5374108870</td><td>3.5356717330</td></tr></tbody></table></div>"
      ],
      "text/plain": [
       "shape: (5, 55)\n",
       "┌────────────┬───────┬──────────┬─────────┬───┬─────────────┬────────────┬────────────┬────────────┐\n",
       "│ dt         ┆ chain ┆ chain_id ┆ network ┆ … ┆ l2_priority ┆ l2_base_le ┆ l1_base_ga ┆ l1_blob_ba │\n",
       "│ ---        ┆ ---   ┆ ---      ┆ ---     ┆   ┆ _gas_price_ ┆ gacy_gas_p ┆ s_price_gw ┆ se_gas_pri │\n",
       "│ date       ┆ str   ┆ i32      ┆ str     ┆   ┆ gwei        ┆ rice_gwei  ┆ ei         ┆ ce_gwei    │\n",
       "│            ┆       ┆          ┆         ┆   ┆ ---         ┆ ---        ┆ ---        ┆ ---        │\n",
       "│            ┆       ┆          ┆         ┆   ┆ decimal[38, ┆ decimal[38 ┆ decimal[38 ┆ decimal[38 │\n",
       "│            ┆       ┆          ┆         ┆   ┆ 10]         ┆ ,10]       ┆ ,10]       ┆ ,10]       │\n",
       "╞════════════╪═══════╪══════════╪═════════╪═══╪═════════════╪════════════╪════════════╪════════════╡\n",
       "│ 2024-11-18 ┆ op    ┆ 10       ┆ mainnet ┆ … ┆ 0.000000000 ┆ 6.00996340 ┆ 7.67013925 ┆ 2.38761065 │\n",
       "│            ┆       ┆          ┆         ┆   ┆ 0           ┆ 20         ┆ 80         ┆ 80         │\n",
       "│ 2024-11-18 ┆ op    ┆ 10       ┆ mainnet ┆ … ┆ 0.000000000 ┆ 3.55731569 ┆ 8.17175412 ┆ 1.08879634 │\n",
       "│            ┆       ┆          ┆         ┆   ┆ 0           ┆ 10         ┆ 60         ┆ 40         │\n",
       "│ 2024-11-18 ┆ op    ┆ 10       ┆ mainnet ┆ … ┆ 0.000000000 ┆ 3.80662001 ┆ 8.13280792 ┆ 2.79361709 │\n",
       "│            ┆       ┆          ┆         ┆   ┆ 0           ┆ 00         ┆ 00         ┆ 60         │\n",
       "│ 2024-11-18 ┆ op    ┆ 10       ┆ mainnet ┆ … ┆ 0.000000000 ┆ 0.47787386 ┆ 7.52245070 ┆ 2.29568695 │\n",
       "│            ┆       ┆          ┆         ┆   ┆ 0           ┆ 50         ┆ 70         ┆ 30         │\n",
       "│ 2024-11-18 ┆ op    ┆ 10       ┆ mainnet ┆ … ┆ 0.000000000 ┆ 0.45558432 ┆ 8.53741088 ┆ 3.53567173 │\n",
       "│            ┆       ┆          ┆         ┆   ┆ 0           ┆ 10         ┆ 70         ┆ 30         │\n",
       "└────────────┴───────┴──────────┴─────────┴───┴─────────────┴────────────┴────────────┴────────────┘"
      ]
     },
     "execution_count": 7,
     "metadata": {},
     "output_type": "execute_result"
    }
   ],
   "source": [
    "duckdb_client.sql(\"SELECT * FROM refined_transactions_fees_v1 WHERE transaction_type = 0 ORDER BY tx_fee_native DESC LIMIT 10\").pl().head()"
   ]
  },
  {
   "cell_type": "markdown",
   "metadata": {},
   "source": [
    "### Check Type 0 Legacy Fee Logic"
   ]
  },
  {
   "cell_type": "code",
   "execution_count": 8,
   "metadata": {},
   "outputs": [
    {
     "data": {
      "text/html": [
       "<div><style>\n",
       ".dataframe > thead > tr,\n",
       ".dataframe > tbody > tr {\n",
       "  text-align: right;\n",
       "  white-space: pre-wrap;\n",
       "}\n",
       "</style>\n",
       "<small>shape: (0, 55)</small><table border=\"1\" class=\"dataframe\"><thead><tr><th>dt</th><th>chain</th><th>chain_id</th><th>network</th><th>nonce</th><th>transaction_index</th><th>from_address</th><th>to_address</th><th>block_number</th><th>block_timestamp</th><th>hash</th><th>gas_price</th><th>gas_limit</th><th>receipt_gas_used</th><th>receipt_l1_gas_used</th><th>l1_fee</th><th>receipt_l1_gas_price</th><th>receipt_l1_blob_base_fee</th><th>base_fee_per_gas</th><th>max_priority_fee_per_gas</th><th>base_legacy_fee_per_gas</th><th>l2_fee</th><th>l2_priority_fee</th><th>l2_base_fee</th><th>block_hour</th><th>method_id</th><th>success</th><th>l1_base_fee_scalar</th><th>l1_blob_base_fee_scalar</th><th>transaction_type</th><th>input_byte_length</th><th>input_calldata_gas</th><th>is_system_transaction</th><th>is_attributes_deposited_transaction</th><th>l1_gas_used</th><th>tx_fee</th><th>l2_base_legacy_fee</th><th>l1_base_fee</th><th>l1_base_scaled_size</th><th>l1_blob_fee</th><th>l1_blob_scaled_size</th><th>tx_fee_native</th><th>l1_fee_native</th><th>l2_fee_native</th><th>l1_base_fee_native</th><th>l1_blob_fee_native</th><th>l2_base_fee_native</th><th>l2_priority_fee_native</th><th>l2_base_legacy_fee_native</th><th>l2_gas_price_gwei</th><th>l2_base_gas_price_gwei</th><th>l2_priority_gas_price_gwei</th><th>l2_base_legacy_gas_price_gwei</th><th>l1_base_gas_price_gwei</th><th>l1_blob_base_gas_price_gwei</th></tr><tr><td>date</td><td>str</td><td>i32</td><td>str</td><td>i64</td><td>i64</td><td>str</td><td>str</td><td>i64</td><td>u32</td><td>str</td><td>i64</td><td>i64</td><td>i64</td><td>i64</td><td>i64</td><td>i64</td><td>i64</td><td>i64</td><td>i64</td><td>i64</td><td>i64</td><td>i64</td><td>i64</td><td>datetime[μs]</td><td>str</td><td>bool</td><td>decimal[36,7]</td><td>decimal[26,7]</td><td>i32</td><td>f64</td><td>f64</td><td>bool</td><td>bool</td><td>i64</td><td>i64</td><td>i64</td><td>decimal[38,12]</td><td>decimal[38,12]</td><td>decimal[38,12]</td><td>decimal[38,12]</td><td>decimal[38,19]</td><td>decimal[38,19]</td><td>decimal[38,19]</td><td>decimal[38,19]</td><td>decimal[38,19]</td><td>decimal[38,19]</td><td>decimal[38,19]</td><td>decimal[38,19]</td><td>decimal[38,10]</td><td>decimal[38,10]</td><td>decimal[38,10]</td><td>decimal[38,10]</td><td>decimal[38,10]</td><td>decimal[38,10]</td></tr></thead><tbody></tbody></table></div>"
      ],
      "text/plain": [
       "shape: (0, 55)\n",
       "┌──────┬───────┬──────────┬─────────┬───┬──────────────┬──────────────┬──────────────┬─────────────┐\n",
       "│ dt   ┆ chain ┆ chain_id ┆ network ┆ … ┆ l2_priority_ ┆ l2_base_lega ┆ l1_base_gas_ ┆ l1_blob_bas │\n",
       "│ ---  ┆ ---   ┆ ---      ┆ ---     ┆   ┆ gas_price_gw ┆ cy_gas_price ┆ price_gwei   ┆ e_gas_price │\n",
       "│ date ┆ str   ┆ i32      ┆ str     ┆   ┆ ei           ┆ _gwei        ┆ ---          ┆ _gwei       │\n",
       "│      ┆       ┆          ┆         ┆   ┆ ---          ┆ ---          ┆ decimal[38,1 ┆ ---         │\n",
       "│      ┆       ┆          ┆         ┆   ┆ decimal[38,1 ┆ decimal[38,1 ┆ 0]           ┆ decimal[38, │\n",
       "│      ┆       ┆          ┆         ┆   ┆ 0]           ┆ 0]           ┆              ┆ 10]         │\n",
       "╞══════╪═══════╪══════════╪═════════╪═══╪══════════════╪══════════════╪══════════════╪═════════════╡\n",
       "└──────┴───────┴──────────┴─────────┴───┴──────────────┴──────────────┴──────────────┴─────────────┘"
      ]
     },
     "execution_count": 8,
     "metadata": {},
     "output_type": "execute_result"
    }
   ],
   "source": [
    "duckdb_client.sql(\"\"\"SELECT * FROM refined_transactions_fees_v1\n",
    "                    WHERE transaction_type = 0\n",
    "                  AND ( --check fee\n",
    "                        l1_fee + l2_base_fee + l2_priority_fee + l2_base_legacy_fee != tx_fee\n",
    "                        OR --check prices\n",
    "                        l2_base_gas_price_gwei + l2_priority_gas_price_gwei + l2_base_legacy_gas_price_gwei != l2_gas_price_gwei\n",
    "                        )\n",
    "                  LIMIT 10\n",
    "                  \"\"\").pl().head()"
   ]
  },
  {
   "cell_type": "markdown",
   "metadata": {},
   "source": [
    "### Get table schema"
   ]
  },
  {
   "cell_type": "code",
   "execution_count": 9,
   "metadata": {},
   "outputs": [
    {
     "data": {
      "text/plain": [
       "┌───────────────────────────────┬────────────────┬─────────┬─────────┬─────────┬─────────┐\n",
       "│          column_name          │  column_type   │  null   │   key   │ default │  extra  │\n",
       "│            varchar            │    varchar     │ varchar │ varchar │ varchar │ varchar │\n",
       "├───────────────────────────────┼────────────────┼─────────┼─────────┼─────────┼─────────┤\n",
       "│ dt                            │ DATE           │ YES     │ NULL    │ NULL    │ NULL    │\n",
       "│ chain                         │ VARCHAR        │ YES     │ NULL    │ NULL    │ NULL    │\n",
       "│ chain_id                      │ INTEGER        │ YES     │ NULL    │ NULL    │ NULL    │\n",
       "│ network                       │ VARCHAR        │ YES     │ NULL    │ NULL    │ NULL    │\n",
       "│ nonce                         │ BIGINT         │ YES     │ NULL    │ NULL    │ NULL    │\n",
       "│ transaction_index             │ BIGINT         │ YES     │ NULL    │ NULL    │ NULL    │\n",
       "│ from_address                  │ VARCHAR        │ YES     │ NULL    │ NULL    │ NULL    │\n",
       "│ to_address                    │ VARCHAR        │ YES     │ NULL    │ NULL    │ NULL    │\n",
       "│ block_number                  │ BIGINT         │ YES     │ NULL    │ NULL    │ NULL    │\n",
       "│ block_timestamp               │ UINTEGER       │ YES     │ NULL    │ NULL    │ NULL    │\n",
       "│        ·                      │    ·           │  ·      │  ·      │  ·      │  ·      │\n",
       "│        ·                      │    ·           │  ·      │  ·      │  ·      │  ·      │\n",
       "│        ·                      │    ·           │  ·      │  ·      │  ·      │  ·      │\n",
       "│ l1_blob_fee_native            │ DECIMAL(38,19) │ YES     │ NULL    │ NULL    │ NULL    │\n",
       "│ l2_base_fee_native            │ DECIMAL(38,19) │ YES     │ NULL    │ NULL    │ NULL    │\n",
       "│ l2_priority_fee_native        │ DECIMAL(38,19) │ YES     │ NULL    │ NULL    │ NULL    │\n",
       "│ l2_base_legacy_fee_native     │ DECIMAL(38,19) │ YES     │ NULL    │ NULL    │ NULL    │\n",
       "│ l2_gas_price_gwei             │ DECIMAL(38,10) │ YES     │ NULL    │ NULL    │ NULL    │\n",
       "│ l2_base_gas_price_gwei        │ DECIMAL(38,10) │ YES     │ NULL    │ NULL    │ NULL    │\n",
       "│ l2_priority_gas_price_gwei    │ DECIMAL(38,10) │ YES     │ NULL    │ NULL    │ NULL    │\n",
       "│ l2_base_legacy_gas_price_gwei │ DECIMAL(38,10) │ YES     │ NULL    │ NULL    │ NULL    │\n",
       "│ l1_base_gas_price_gwei        │ DECIMAL(38,10) │ YES     │ NULL    │ NULL    │ NULL    │\n",
       "│ l1_blob_base_gas_price_gwei   │ DECIMAL(38,10) │ YES     │ NULL    │ NULL    │ NULL    │\n",
       "├───────────────────────────────┴────────────────┴─────────┴─────────┴─────────┴─────────┤\n",
       "│ 55 rows (20 shown)                                                           6 columns │\n",
       "└────────────────────────────────────────────────────────────────────────────────────────┘"
      ]
     },
     "execution_count": 9,
     "metadata": {},
     "output_type": "execute_result"
    }
   ],
   "source": [
    "duckdb_client.sql(\"DESCRIBE refined_transactions_fees_v1\")\n"
   ]
  }
 ],
 "metadata": {
  "kernelspec": {
   "display_name": ".venv",
   "language": "python",
   "name": "python3"
  },
  "language_info": {
   "codemirror_mode": {
    "name": "ipython",
    "version": 3
   },
   "file_extension": ".py",
   "mimetype": "text/x-python",
   "name": "python",
   "nbconvert_exporter": "python",
   "pygments_lexer": "ipython3",
   "version": "3.12.4"
  }
 },
 "nbformat": 4,
 "nbformat_minor": 2
}
