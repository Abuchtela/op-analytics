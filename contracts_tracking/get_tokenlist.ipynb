{
 "cells": [
  {
   "cell_type": "code",
   "execution_count": 1,
   "metadata": {},
   "outputs": [],
   "source": [
    "import pandas as pd\n",
    "import sys\n",
    "import requests as r\n",
    "\n",
    "sys.path.append('../helper_functions')\n",
    "import github_utils as gh\n",
    "import tokenlist_utils as tl\n",
    "import duneapi_utils as dapi\n",
    "\n",
    "url_content = [\n",
    "    # owner_name, repo_name, path_name, file_name\n",
    "      ['ethereum-optimism','ethereum-optimism.github.io','','optimism.tokenlist.json',] #OP Bridge - https://github.com/ethereum-optimism/ethereum-optimism.github.io/blob/master/optimism.tokenlist.json\n",
    "    , ['rainbow-me','rainbow-token-list','output','lean-rainbow-token-list.json'] #Rainbow - https://github.com/rainbow-me/rainbow-token-list/blob/main/output/lean-rainbow-token-list.json\n",
    "    , ['velodrome-finance','docs','public','tokenlist.json'] #Velo - https://github.com/velodrome-finance/docs/blob/aa557db47248b88af73dcdebfbc161e2b93da712/public/tokenlist.json#L4\n",
    "]"
   ]
  },
  {
   "cell_type": "code",
   "execution_count": 2,
   "metadata": {},
   "outputs": [],
   "source": [
    "dune_list_query_id = 2420477 #https://dune.com/queries/2420477"
   ]
  },
  {
   "cell_type": "code",
   "execution_count": 3,
   "metadata": {},
   "outputs": [],
   "source": [
    "# Load the JSON data from the URL\n",
    "df_list = []\n",
    "for gh_url in url_content:\n",
    "\n",
    "    owner_name = gh_url[0]\n",
    "    repo_name = gh_url[1]\n",
    "    path_name = gh_url[2]\n",
    "    file_name = gh_url[3]\n",
    "\n",
    "    gh_file = gh.get_file_url_from_github(owner_name,repo_name,path_name,file_name)\n",
    "    res = r.get(gh_file)\n",
    "    data = res.json()\n",
    "    tmp = tl.generate_table_from_tokenlist(data)\n",
    "    tmp['list_name'] = owner_name\n",
    "    df_list.append(tmp)\n",
    "\n",
    "df = pd.concat(df_list)\n",
    "df = df[df['chainId'] ==10] #Get OP Version\n",
    "\n",
    "df = df.groupby(['chainId', 'address', 'name', 'symbol', 'decimals'])['list_name'].agg(list)\n",
    "df = df.reset_index()\n",
    "# display(df)"
   ]
  },
  {
   "cell_type": "code",
   "execution_count": 4,
   "metadata": {},
   "outputs": [
    {
     "name": "stderr",
     "output_type": "stream",
     "text": [
      "2023-09-17 09:01:59.141 | INFO     | duneapi_utils:get_dune_data:44 - Results available at https://dune.com/queries/2420477\n",
      "2023-09-17 09:02:00.402 | INFO     | duneapi_utils:get_dune_data:89 - ✨ Results saved as csv_outputs/my_query_results.csv, with 560 rows and 4 columns.\n"
     ]
    }
   ],
   "source": [
    "dune_list = dapi.get_dune_data(dune_list_query_id)\n",
    "# display(dune_list)"
   ]
  },
  {
   "cell_type": "code",
   "execution_count": 5,
   "metadata": {},
   "outputs": [],
   "source": [
    "#token addresses to lower\n",
    "df['contract_address'] = df['address'].str.lower().str.strip()\n",
    "dune_list['contract_address'] = dune_list['contract_address'].str.lower().str.strip()"
   ]
  },
  {
   "cell_type": "code",
   "execution_count": 6,
   "metadata": {},
   "outputs": [],
   "source": [
    "adds = df[~df['contract_address'].isin(dune_list['contract_address'])]\n",
    "# display(adds[['address','symbol','decimals', 'name','list_name']])\n"
   ]
  },
  {
   "cell_type": "code",
   "execution_count": 7,
   "metadata": {},
   "outputs": [
    {
     "name": "stdout",
     "output_type": "stream",
     "text": [
      ",(0x03e5b5930f3a42b56af4a982b10e60957bdd2f61, 'D2D', 18, 'underlying')\n",
      ",(0x629c2fd5d5f432357465b59d7832389a89956f0b, 'COC', 18, 'underlying')\n",
      ",(0x6c518f9D1a163379235816c543E62922a79863Fa, 'bwAJNA', 18, 'underlying')\n",
      ",(0x76c37F9949e05b37C8373d155C1Fef46a6858481, 'ePendle', 18, 'underlying')\n",
      ",(0x8368Dca5CE2a4Db530c0F6e535d90B6826428Dee, 'FPIS', 18, 'underlying')\n",
      ",(0x8637725aDa78db0674a679CeA2A5e0A0869EF4A1, 'NFTE', 18, 'underlying')\n",
      ",(0x96bBD55479e9923512dcc95Eb7Df5edDe6FB9874, 'wOpenX', 18, 'underlying')\n",
      ",(0xAd42D013ac31486B73b6b059e748172994736426, '1INCH', 18, 'underlying')\n",
      ",(0xC52D7F23a2e460248Db6eE192Cb23dD12bDDCbf6, 'crvUSD', 18, 'underlying')\n",
      ",(0xa925f4057d6E6C8FAf8bdE537Ad14BA91A1D0337, 'SYNTH', 18, 'underlying')\n",
      ",(0xaf3A6f67Af1624d3878A8d30b09FAe7915DcA2a0, 'EQB', 18, 'underlying')\n",
      ",(0xc5d43a94e26fca47a9b21cf547ae4aa0268670e1, 'FPI', 18, 'underlying')\n",
      ",(0xc871cCf95024eFa2CbcE69B5B775D2a1DcF49c1B, 'GROW', 18, 'underlying')\n"
     ]
    }
   ],
   "source": [
    "\n",
    "# Assuming your DataFrame is named 'adds'\n",
    "for index, row in adds.iterrows():\n",
    "    sql_values_str = f\",({row['address']}, '{row['symbol']}', {row['decimals']}, 'underlying')\"\n",
    "    print(sql_values_str)"
   ]
  }
 ],
 "metadata": {
  "kernelspec": {
   "display_name": "new-env",
   "language": "python",
   "name": "python3"
  },
  "language_info": {
   "codemirror_mode": {
    "name": "ipython",
    "version": 3
   },
   "file_extension": ".py",
   "mimetype": "text/x-python",
   "name": "python",
   "nbconvert_exporter": "python",
   "pygments_lexer": "ipython3",
   "version": "3.10.8"
  },
  "orig_nbformat": 4
 },
 "nbformat": 4,
 "nbformat_minor": 2
}
