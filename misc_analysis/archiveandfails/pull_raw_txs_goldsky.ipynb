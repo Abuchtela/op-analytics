{
 "cells": [
  {
   "cell_type": "code",
   "execution_count": null,
   "metadata": {},
   "outputs": [],
   "source": [
    "import requests as r\n",
    "import pandas as pd\n",
    "import os\n",
    "\n",
    "import sys\n",
    "import csv\n",
    "import time\n",
    "sys.path.append(\"../../helper_functions\")\n",
    "import clickhouse_utils as ch\n",
    "sys.path.pop()"
   ]
  },
  {
   "cell_type": "code",
   "execution_count": null,
   "metadata": {},
   "outputs": [],
   "source": [
    "client = ch.connect_to_clickhouse_db() #Default is OPLabs DB\n",
    "# start_date = '2024-03-01'\n",
    "trailing_days = 14\n",
    "\n",
    "chain_names = [\n",
    "        # 'op',\n",
    "        'base']"
   ]
  },
  {
   "cell_type": "code",
   "execution_count": null,
   "metadata": {},
   "outputs": [],
   "source": [
    "query = '''\n",
    "SELECT *\n",
    "FROM @chain_name@_transactions\n",
    "WHERE gas_price > 0\n",
    "        AND block_timestamp >= DATE_TRUNC('day',NOW()) - interval '@trailing_days@ days'\n",
    "        AND block_timestamp < DATE_TRUNC('day',NOW())\n",
    "        AND receipt_status = 1\n",
    "\n",
    "SETTINGS max_execution_time = 50000\n",
    "'''\n"
   ]
  },
  {
   "cell_type": "code",
   "execution_count": 4,
   "metadata": {},
   "outputs": [],
   "source": [
    "for chain_name in chain_names:\n",
    "        start_time = time.time()\n",
    "        print(f\"Starting processing for {chain_name}\")\n",
    "\n",
    "        q_run = query.replace('@trailing_days@', str(trailing_days))\n",
    "        q_run = q_run.replace('@chain_name@', chain_name)\n",
    "\n",
    "        # print(q_run)\n",
    "\n",
    "        result = client.query_df(q_run)\n",
    "        int_time = time.time()\n",
    "        execution_time = int_time - start_time\n",
    "        print(f\"Query for {chain_name} completed in {execution_time:.2f} seconds\")\n",
    "\n",
    "        # start_date_file = start_date.replace('-', '_')\n",
    "        result.to_csv(f'csv_outputs/{chain_name}_{trailing_days}.csv')\n",
    "\n",
    "        end_time = time.time()\n",
    "        execution_time = end_time - start_time\n",
    "        print(f\"Processing for {chain_name} completed in {execution_time:.2f} seconds\")\n",
    "        print(\"---\")"
   ]
  },
  {
   "cell_type": "code",
   "execution_count": null,
   "metadata": {},
   "outputs": [],
   "source": [
    "# print(result.result_rows)"
   ]
  }
 ],
 "metadata": {
  "kernelspec": {
   "display_name": "new-env",
   "language": "python",
   "name": "python3"
  },
  "language_info": {
   "codemirror_mode": {
    "name": "ipython",
    "version": 3
   },
   "file_extension": ".py",
   "mimetype": "text/x-python",
   "name": "python",
   "nbconvert_exporter": "python",
   "pygments_lexer": "ipython3",
   "version": "3.10.11"
  }
 },
 "nbformat": 4,
 "nbformat_minor": 2
}
