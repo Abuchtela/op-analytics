{
 "cells": [
  {
   "cell_type": "code",
   "execution_count": 1,
   "metadata": {},
   "outputs": [],
   "source": [
    "#Clickhouse db w/ Goldsky\n",
    "# https://clickhouse.com/docs/en/integrations/python\n",
    "\n",
    "import requests as r\n",
    "import pandas as pd\n",
    "import clickhouse_connect as cc\n",
    "import os\n",
    "\n",
    "import sys\n",
    "sys.path.append(\"../helper_functions\")\n",
    "import duneapi_utils as d\n",
    "import pandas_utils as p\n",
    "import clickhouse_utils as ch\n",
    "sys.path.pop()\n",
    "\n",
    "import time\n",
    "\n",
    "client = ch.connect_to_clickhouse_db() #Default is OPLabs DB\n",
    "# client.close()"
   ]
  },
  {
   "cell_type": "code",
   "execution_count": 2,
   "metadata": {},
   "outputs": [],
   "source": [
    "chain_mappings = {\n",
    "        # CH Schema Name, Display Name\n",
    "        # 'zora': 'Zora',\n",
    "        # 'pgn': 'Public Goods Network',\n",
    "        # 'base': 'Base',\n",
    "        # 'mode': 'Mode',\n",
    "        # 'metal': 'Metal',\n",
    "        'fraxtal': 'Fraxtal',\n",
    "        # 'bob':'BOB',\n",
    "        # Add more mappings as needed\n",
    "    }\n",
    "block_time_sec = 2\n",
    "\n",
    "trailing_days = 9999\n",
    "max_execution_secs = 3000"
   ]
  },
  {
   "cell_type": "code",
   "execution_count": 3,
   "metadata": {},
   "outputs": [],
   "source": [
    "sql_directory = \"inputs/sql/\"\n",
    "\n",
    "query_names = [\n",
    "        # Must match the file name in inputs/sql\n",
    "        \"ch_template_alltime_chain_activity\"\n",
    "]"
   ]
  },
  {
   "cell_type": "code",
   "execution_count": 4,
   "metadata": {},
   "outputs": [],
   "source": [
    "unified_dfs = []\n",
    "table_name = 'op_ch_allltime_chain_activity'"
   ]
  },
  {
   "cell_type": "code",
   "execution_count": 5,
   "metadata": {},
   "outputs": [
    {
     "name": "stdout",
     "output_type": "stream",
     "text": [
      "ch_template_alltime_chain_activity - fraxtal\n",
      "table at: dune.oplabspbc.dataset_ch_template_alltime_chain_activity\n",
      "Response status code: 200\n",
      "Response content: b'{\"success\":true,\"table_name\":\"ch_template_alltime_chain_activity\"}'\n"
     ]
    }
   ],
   "source": [
    "for qn in query_names:\n",
    "        for key, value in chain_mappings.items():\n",
    "                chain_schema = key\n",
    "                display_name = value\n",
    "                # If we can do it programmatically from UI saved queries\n",
    "                # query = client.get_job(query_name)\n",
    "                # Read the SQL query from file\n",
    "                with open(os.path.join(sql_directory, f\"{qn}.sql\"), \"r\") as file:\n",
    "                        query = file.read()\n",
    "                print(qn + ' - ' + chain_schema)\n",
    "                table_name = qn\n",
    "\n",
    "                #Pass in Params to the query\n",
    "                query = query.replace(\"@chain_db_name@\", chain_schema)\n",
    "                query = query.replace(\"@trailing_days@\", str(trailing_days))\n",
    "                query = query.replace(\"@block_time_sec@\", str(block_time_sec))\n",
    "                query = query.replace(\"@max_execution_secs@\", str(max_execution_secs))\n",
    "\n",
    "                # Execute the query\n",
    "                result_df = client.query_df(query)\n",
    "        #         # Write to csv\n",
    "        #         df.to_csv('outputs/chain_data/' + qn + '.csv', index=False)\n",
    "        #         # print(df.sample(5))\n",
    "        #         time.sleep(1)\n",
    "                \n",
    "                result_df['chain_raw'] = result_df['chain']\n",
    "                result_df['chain'] = result_df['chain'].replace(chain_mappings)\n",
    "                unified_dfs.append(result_df)\n",
    "\n",
    "        write_df = pd.concat(unified_dfs)\n",
    "        write_df.to_csv('outputs/chain_data/' + table_name + '.csv', index=False)\n",
    "        d.write_dune_api_from_pandas(write_df, table_name,table_description = table_name)\n",
    "        \n",
    "        # # # Print the results"
   ]
  },
  {
   "cell_type": "code",
   "execution_count": 6,
   "metadata": {},
   "outputs": [
    {
     "ename": "NameError",
     "evalue": "name 'result' is not defined",
     "output_type": "error",
     "traceback": [
      "\u001b[0;31m---------------------------------------------------------------------------\u001b[0m",
      "\u001b[0;31mNameError\u001b[0m                                 Traceback (most recent call last)",
      "Cell \u001b[0;32mIn[6], line 1\u001b[0m\n\u001b[0;32m----> 1\u001b[0m \u001b[43mresult\u001b[49m\u001b[38;5;241m.\u001b[39msample(\u001b[38;5;241m5\u001b[39m)\n",
      "\u001b[0;31mNameError\u001b[0m: name 'result' is not defined"
     ]
    }
   ],
   "source": [
    "write_df.sample(5)"
   ]
  }
 ],
 "metadata": {
  "kernelspec": {
   "display_name": "new-env",
   "language": "python",
   "name": "python3"
  },
  "language_info": {
   "codemirror_mode": {
    "name": "ipython",
    "version": 3
   },
   "file_extension": ".py",
   "mimetype": "text/x-python",
   "name": "python",
   "nbconvert_exporter": "python",
   "pygments_lexer": "ipython3",
   "version": "3.10.11"
  },
  "orig_nbformat": 4
 },
 "nbformat": 4,
 "nbformat_minor": 2
}
