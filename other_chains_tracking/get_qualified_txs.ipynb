{
 "cells": [
  {
   "cell_type": "code",
   "execution_count": null,
   "metadata": {
    "metadata": {}
   },
   "outputs": [],
   "source": [
    "print('get qualified txs')\n",
    "import sys\n",
    "sys.path.append(\"../helper_functions\")\n",
    "import duneapi_utils as d\n",
    "import flipside_utils as f\n",
    "import clickhouse_utils as ch\n",
    "import csv_utils as cu\n",
    "import google_bq_utils as bqu\n",
    "sys.path.pop()\n",
    "\n",
    "import time\n",
    "\n",
    "import numpy as np\n",
    "import pandas as pd\n",
    "import os\n",
    "import clickhouse_connect as cc"
   ]
  },
  {
   "cell_type": "code",
   "execution_count": null,
   "metadata": {
    "metadata": {}
   },
   "outputs": [],
   "source": [
    "ch_client = ch.connect_to_clickhouse_db() #Default is OPLabs DB\n",
    "\n",
    "query_name = 'daily_evms_qualified_txs_counts'"
   ]
  },
  {
   "cell_type": "code",
   "execution_count": null,
   "metadata": {},
   "outputs": [],
   "source": [
    "col_list = [\n",
    "        'dt','blockchain','name','layer','chain_id'\n",
    "        , 'num_raw_txs', 'num_success_txs','num_qualified_txs','source'\n",
    "        ]"
   ]
  },
  {
   "cell_type": "code",
   "execution_count": null,
   "metadata": {
    "metadata": {}
   },
   "outputs": [],
   "source": [
    "trailing_days = 365\n",
    "flipside_configs = [\n",
    "        {'blockchain': 'blast', 'chain_id': 238, 'name': 'Blast', 'layer': 'L2'}\n",
    "]\n",
    "clickhouse_configs = [\n",
    "        {'blockchain': 'metal', 'chain_id': 1750,'name': 'Metal', 'layer': 'L2'},\n",
    "        {'blockchain': 'mode', 'chain_id': 34443,'name': 'Mode', 'layer': 'L2'},\n",
    "        {'blockchain': 'bob', 'chain_id': 60808,'name': 'BOB (Build on Bitcoin)', 'layer': 'L2'},\n",
    "        {'blockchain': 'fraxtal', 'chain_id': 252,'name': 'Fraxtal', 'layer': 'L2'},\n",
    "        {'blockchain': 'cyber', 'chain_id': 7560,'name': 'Cyber', 'layer': 'L2'},\n",
    "]"
   ]
  },
  {
   "cell_type": "code",
   "execution_count": null,
   "metadata": {
    "metadata": {}
   },
   "outputs": [],
   "source": [
    "# Run Flipside\n",
    "print('     flipside runs')\n",
    "flip_dfs = []\n",
    "with open(os.path.join(\"inputs/sql/flipside_bychain.sql\"), \"r\") as file:\n",
    "                        og_query = file.read()\n",
    "\n",
    "for chain in flipside_configs:\n",
    "        print(     'flipside: ' + chain['blockchain'])\n",
    "        query = og_query\n",
    "        #Pass in Params to the query\n",
    "        query = query.replace(\"@blockchain@\", chain['blockchain'])\n",
    "        query = query.replace(\"@chain_id@\", str(chain['chain_id']))\n",
    "        query = query.replace(\"@name@\", chain['name'])\n",
    "        query = query.replace(\"@layer@\", chain['layer'])\n",
    "        query = query.replace(\"@trailing_days@\", str(trailing_days))\n",
    "        \n",
    "        df = f.query_to_df(query)\n",
    "\n",
    "        flip_dfs.append(df)\n",
    "\n",
    "flip = pd.concat(flip_dfs)\n",
    "flip['source'] = 'flipside'\n",
    "flip['dt'] = pd.to_datetime(flip['dt']).dt.tz_localize(None)\n",
    "flip = flip[col_list]\n"
   ]
  },
  {
   "cell_type": "code",
   "execution_count": null,
   "metadata": {
    "metadata": {}
   },
   "outputs": [],
   "source": [
    "# Run Dune\n",
    "print('     dune runs')\n",
    "dune_df = d.get_dune_data(query_id = 3740822, #https://dune.com/queries/3740822\n",
    "    name = \"dune_evms_qualified_txs\",\n",
    "    path = \"outputs\",\n",
    "    performance=\"large\"\n",
    ")\n",
    "dune_df['source'] = 'dune'\n",
    "dune_df['dt'] = pd.to_datetime(dune_df['dt']).dt.tz_localize(None)\n",
    "dune_df = dune_df[col_list]"
   ]
  },
  {
   "cell_type": "code",
   "execution_count": null,
   "metadata": {
    "metadata": {}
   },
   "outputs": [],
   "source": [
    "# Run Clickhouse\n",
    "print('     clickhouse runs')\n",
    "ch_dfs = []\n",
    "with open(os.path.join(\"inputs/sql/goldsky_bychain.sql\"), \"r\") as file:\n",
    "                        og_query = file.read()\n",
    "\n",
    "for chain in clickhouse_configs:\n",
    "        print(     'clickhouse: ' + chain['blockchain'])\n",
    "        query = og_query\n",
    "        #Pass in Params to the query\n",
    "        query = query.replace(\"@blockchain@\", chain['blockchain'])\n",
    "        query = query.replace(\"@chain_id@\", str(chain['chain_id']))\n",
    "        query = query.replace(\"@name@\", chain['name'])\n",
    "        query = query.replace(\"@layer@\", chain['layer'])\n",
    "        query = query.replace(\"@trailing_days@\", str(trailing_days))\n",
    "        \n",
    "        df = ch_client.query_df(query)\n",
    "\n",
    "        ch_dfs.append(df)\n",
    "\n",
    "ch = pd.concat(ch_dfs)\n",
    "ch['source'] = 'goldsky'\n",
    "ch['dt'] = pd.to_datetime(ch['dt']).dt.tz_localize(None)\n",
    "ch = ch[col_list]"
   ]
  },
  {
   "cell_type": "code",
   "execution_count": null,
   "metadata": {
    "metadata": {}
   },
   "outputs": [],
   "source": [
    "# Step 1: Filter dune_df for chains not in flip\n",
    "filtered_dune_df = dune_df[~dune_df['chain_id'].isin(flip['chain_id'])]\n",
    "# Step 2: Union flip and filtered_dune_df\n",
    "combined_flip_dune = pd.concat([flip, filtered_dune_df])\n",
    "# Step 3: Filter ch for chains not in combined_flip_dune\n",
    "filtered_ch = ch[~ch['chain_id'].isin(combined_flip_dune['chain_id'])]\n",
    "# Step 4: Union the result with filtered_ch\n",
    "final_df = pd.concat([combined_flip_dune, filtered_ch])\n",
    "# final_df\n"
   ]
  },
  {
   "cell_type": "code",
   "execution_count": null,
   "metadata": {},
   "outputs": [],
   "source": [
    "opstack_metadata = pd.read_csv('../op_chains_tracking/outputs/chain_metadata.csv')\n",
    "\n",
    "opstack_metadata['chain_id'] = opstack_metadata['mainnet_chain_id']\n",
    "\n",
    "meta_cols = ['is_op_chain','op_based_version', 'chain_id', 'alignment','chain_name', 'display_name']\n",
    "\n",
    "print(\"Columns in opstack_metadata:\", opstack_metadata.columns)\n",
    "print(\"Columns in opstack_metadata[meta_cols]:\", opstack_metadata[meta_cols].columns)\n",
    "print(\"Columns in final_df:\", final_df.columns)\n"
   ]
  },
  {
   "cell_type": "code",
   "execution_count": null,
   "metadata": {
    "metadata": {}
   },
   "outputs": [],
   "source": [
    "final_enriched_df = final_df.merge(opstack_metadata[meta_cols], on='chain_id', how = 'left')\n",
    "final_enriched_df['alignment'] = final_enriched_df['alignment'].fillna('Other EVMs')\n",
    "final_enriched_df['is_op_chain'] = final_enriched_df['is_op_chain'].fillna(False)\n",
    "final_enriched_df['display_name'] = final_enriched_df['display_name'].fillna(final_enriched_df['name'])\n",
    "\n",
    "final_enriched_df = final_enriched_df.drop(columns=['name'])"
   ]
  },
  {
   "cell_type": "code",
   "execution_count": null,
   "metadata": {
    "metadata": {}
   },
   "outputs": [],
   "source": [
    "final_enriched_df.sort_values(by=['dt','blockchain'], ascending =[False, False], inplace = True)\n",
    "\n",
    "final_enriched_df.to_csv('outputs/'+query_name+'.csv', index=False)"
   ]
  },
  {
   "cell_type": "code",
   "execution_count": null,
   "metadata": {},
   "outputs": [],
   "source": [
    "#BQ Upload\n",
    "bqu.append_and_upsert_df_to_bq_table(final_enriched_df, query_name, unique_keys = ['chain_id','dt'])"
   ]
  }
 ],
 "metadata": {
  "kernelspec": {
   "display_name": "new-env",
   "language": "python",
   "name": "python3"
  },
  "language_info": {
   "codemirror_mode": {
    "name": "ipython",
    "version": 3
   },
   "file_extension": ".py",
   "mimetype": "text/x-python",
   "name": "python",
   "nbconvert_exporter": "python",
   "pygments_lexer": "ipython3",
   "version": "3.12.3"
  }
 },
 "nbformat": 4,
 "nbformat_minor": 2
}
