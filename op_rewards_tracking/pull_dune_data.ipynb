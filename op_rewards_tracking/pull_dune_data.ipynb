{
 "cells": [
  {
   "cell_type": "code",
   "execution_count": 1,
   "metadata": {},
   "outputs": [],
   "source": [
    "import sys\n",
    "from IPython.display import display #So that display is recognized in .py files\n",
    "\n",
    "sys.path.append(\"../helper_functions\")\n",
    "import os\n",
    "import duneapi_utils as d"
   ]
  },
  {
   "cell_type": "code",
   "execution_count": 2,
   "metadata": {},
   "outputs": [],
   "source": [
    "# add any data to pull here\n",
    "data = {\n",
    "    1886707: \"dune_op_distribution_type\",\n",
    "    2199844: \"dune_usage_by_app\",\n",
    "    2195796: \"dune_op_program_performance_summary\",\n",
    "}"
   ]
  },
  {
   "cell_type": "code",
   "execution_count": 3,
   "metadata": {},
   "outputs": [
    {
     "name": "stderr",
     "output_type": "stream",
     "text": [
      "2023-04-04 16:38:56.518 | INFO     | duneapi_utils:get_dune_data:24 - Results available at https://dune.com/queries/1886707\n",
      "2023-04-04 16:38:57,539 INFO dune_client.base_client waiting for query execution 01GX6ZWZNRP7EN0RPNY2N78GWV to complete: ExecutionState.EXECUTING\n",
      "2023-04-04 16:39:03.442 | INFO     | duneapi_utils:get_dune_data:38 - ✨ Results saved as csv_outputs/dune_op_distribution_type.csv, with 409 rows and 12 columns.\n",
      "2023-04-04 16:39:03.443 | INFO     | duneapi_utils:get_dune_data:24 - Results available at https://dune.com/queries/2199844\n",
      "2023-04-04 16:39:04,410 INFO dune_client.base_client waiting for query execution 01GX6ZX6FGHV3J4PH040X3J633 to complete: ExecutionState.EXECUTING\n",
      "2023-04-04 16:39:09,783 INFO dune_client.base_client waiting for query execution 01GX6ZX6FGHV3J4PH040X3J633 to complete: ExecutionState.EXECUTING\n",
      "2023-04-04 16:39:15,600 INFO dune_client.base_client waiting for query execution 01GX6ZX6FGHV3J4PH040X3J633 to complete: ExecutionState.EXECUTING\n",
      "2023-04-04 16:39:21,324 INFO dune_client.base_client waiting for query execution 01GX6ZX6FGHV3J4PH040X3J633 to complete: ExecutionState.EXECUTING\n",
      "2023-04-04 16:39:26,841 INFO dune_client.base_client waiting for query execution 01GX6ZX6FGHV3J4PH040X3J633 to complete: ExecutionState.EXECUTING\n",
      "2023-04-04 16:39:32,329 INFO dune_client.base_client waiting for query execution 01GX6ZX6FGHV3J4PH040X3J633 to complete: ExecutionState.EXECUTING\n",
      "2023-04-04 16:39:37,829 INFO dune_client.base_client waiting for query execution 01GX6ZX6FGHV3J4PH040X3J633 to complete: ExecutionState.EXECUTING\n",
      "2023-04-04 16:39:43,329 INFO dune_client.base_client waiting for query execution 01GX6ZX6FGHV3J4PH040X3J633 to complete: ExecutionState.EXECUTING\n",
      "2023-04-04 16:39:48,883 INFO dune_client.base_client waiting for query execution 01GX6ZX6FGHV3J4PH040X3J633 to complete: ExecutionState.EXECUTING\n",
      "2023-04-04 16:39:54,548 INFO dune_client.base_client waiting for query execution 01GX6ZX6FGHV3J4PH040X3J633 to complete: ExecutionState.EXECUTING\n",
      "2023-04-04 16:40:00,091 INFO dune_client.base_client waiting for query execution 01GX6ZX6FGHV3J4PH040X3J633 to complete: ExecutionState.EXECUTING\n",
      "2023-04-04 16:40:05,545 INFO dune_client.base_client waiting for query execution 01GX6ZX6FGHV3J4PH040X3J633 to complete: ExecutionState.EXECUTING\n",
      "2023-04-04 16:40:11.852 | INFO     | duneapi_utils:get_dune_data:38 - ✨ Results saved as csv_outputs/dune_usage_by_app.csv, with 39 rows and 44 columns.\n",
      "2023-04-04 16:40:11.852 | INFO     | duneapi_utils:get_dune_data:24 - Results available at https://dune.com/queries/2195796\n",
      "2023-04-04 16:40:12,853 INFO dune_client.base_client waiting for query execution 01GX6ZZ97BB5ZP00K3MFPBC7BZ to complete: ExecutionState.EXECUTING\n",
      "2023-04-04 16:40:18,378 INFO dune_client.base_client waiting for query execution 01GX6ZZ97BB5ZP00K3MFPBC7BZ to complete: ExecutionState.EXECUTING\n",
      "2023-04-04 16:40:23,912 INFO dune_client.base_client waiting for query execution 01GX6ZZ97BB5ZP00K3MFPBC7BZ to complete: ExecutionState.EXECUTING\n",
      "2023-04-04 16:40:29,904 INFO dune_client.base_client waiting for query execution 01GX6ZZ97BB5ZP00K3MFPBC7BZ to complete: ExecutionState.EXECUTING\n",
      "2023-04-04 16:40:35,378 INFO dune_client.base_client waiting for query execution 01GX6ZZ97BB5ZP00K3MFPBC7BZ to complete: ExecutionState.EXECUTING\n",
      "2023-04-04 16:40:40,851 INFO dune_client.base_client waiting for query execution 01GX6ZZ97BB5ZP00K3MFPBC7BZ to complete: ExecutionState.EXECUTING\n",
      "2023-04-04 16:40:46,221 INFO dune_client.base_client waiting for query execution 01GX6ZZ97BB5ZP00K3MFPBC7BZ to complete: ExecutionState.EXECUTING\n",
      "2023-04-04 16:40:51,856 INFO dune_client.base_client waiting for query execution 01GX6ZZ97BB5ZP00K3MFPBC7BZ to complete: ExecutionState.EXECUTING\n",
      "2023-04-04 16:40:57,414 INFO dune_client.base_client waiting for query execution 01GX6ZZ97BB5ZP00K3MFPBC7BZ to complete: ExecutionState.EXECUTING\n",
      "2023-04-04 16:41:02,882 INFO dune_client.base_client waiting for query execution 01GX6ZZ97BB5ZP00K3MFPBC7BZ to complete: ExecutionState.EXECUTING\n",
      "2023-04-04 16:41:08,381 INFO dune_client.base_client waiting for query execution 01GX6ZZ97BB5ZP00K3MFPBC7BZ to complete: ExecutionState.EXECUTING\n",
      "2023-04-04 16:41:14.468 | INFO     | duneapi_utils:get_dune_data:38 - ✨ Results saved as csv_outputs/dune_op_program_performance_summary.csv, with 39 rows and 55 columns.\n"
     ]
    }
   ],
   "source": [
    "for query_id, csv_name in data.items():\n",
    "    d.get_dune_data(query_id, csv_name)"
   ]
  }
 ],
 "metadata": {
  "kernelspec": {
   "display_name": "Python 3",
   "language": "python",
   "name": "python3"
  },
  "language_info": {
   "codemirror_mode": {
    "name": "ipython",
    "version": 3
   },
   "file_extension": ".py",
   "mimetype": "text/x-python",
   "name": "python",
   "nbconvert_exporter": "python",
   "pygments_lexer": "ipython3",
   "version": "3.10.9"
  },
  "orig_nbformat": 4
 },
 "nbformat": 4,
 "nbformat_minor": 2
}
