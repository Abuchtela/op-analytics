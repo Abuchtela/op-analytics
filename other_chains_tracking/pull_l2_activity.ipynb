{
 "cells": [
  {
   "cell_type": "code",
   "execution_count": 1,
   "metadata": {},
   "outputs": [],
   "source": [
    "import sys\n",
    "sys.path.append(\"../helper_functions\")\n",
    "import duneapi_utils as d\n",
    "import growthepieapi_utils as gtp\n",
    "import l2beat_utils as ltwo\n",
    "sys.path.pop()\n",
    "\n",
    "import numpy as np\n",
    "import pandas as pd"
   ]
  },
  {
   "cell_type": "code",
   "execution_count": 2,
   "metadata": {},
   "outputs": [],
   "source": [
    "# # # Usage\n",
    "gtp_api = gtp.get_growthepie_api_data()\n",
    "# # print(merged_df.sample(5))\n",
    "gtp_meta_api = gtp.get_growthepie_api_meta()"
   ]
  },
  {
   "cell_type": "code",
   "execution_count": 3,
   "metadata": {},
   "outputs": [
    {
     "name": "stderr",
     "output_type": "stream",
     "text": [
      "/Users/michaelsilberling/Documents/GitHub/op-analytics/other_chains_tracking/../helper_functions/l2beat_utils.py:147: FutureWarning: In a future version, object-dtype columns with all-bool values will not be included in reductions with bool_only=True. Explicitly cast to bool dtype instead.\n",
      "  df = pd.concat([df, pd.DataFrame(data_list)], ignore_index=True)\n"
     ]
    },
    {
     "name": "stdout",
     "output_type": "stream",
     "text": [
      "     layer      name chainId explorerUrl           category      slug  \\\n",
      "85  layer2     Swell    None        None           Validium     swell   \n",
      "51  layer2  Loopring    None        None          ZK Rollup  loopring   \n",
      "70  layer2   Paradex    None        None          ZK Rollup   paradex   \n",
      "21  layer2      Coti    None        None  Optimistic Rollup      coti   \n",
      "88  layer2       Ten    None        None  Optimistic Rollup       ten   \n",
      "\n",
      "    provider is_upcoming     chain  \n",
      "85   Polygon        True     swell  \n",
      "51  Loopring       False  loopring  \n",
      "70  Starknet       False   paradex  \n",
      "21      None        True      coti  \n",
      "88      None        True       ten  \n"
     ]
    },
    {
     "name": "stderr",
     "output_type": "stream",
     "text": [
      "/Users/michaelsilberling/Documents/GitHub/op-analytics/other_chains_tracking/../helper_functions/l2beat_utils.py:147: FutureWarning: In a future version, object-dtype columns with all-bool values will not be included in reductions with bool_only=True. Explicitly cast to bool dtype instead.\n",
      "  df = pd.concat([df, pd.DataFrame(data_list)], ignore_index=True)\n"
     ]
    }
   ],
   "source": [
    "l2beat_df = ltwo.get_all_l2beat_data()\n",
    "l2beat_meta = ltwo.get_l2beat_metadata()\n",
    "l2beat_meta['chain'] = l2beat_meta['slug']\n",
    "print(l2beat_meta.sample(5))"
   ]
  },
  {
   "cell_type": "code",
   "execution_count": 4,
   "metadata": {},
   "outputs": [],
   "source": [
    "# display(l2beat_meta[l2beat_meta['layer']=='layer2'].sample(10))"
   ]
  },
  {
   "cell_type": "code",
   "execution_count": 5,
   "metadata": {},
   "outputs": [],
   "source": [
    "# display(l2beat_meta.sample(5))"
   ]
  },
  {
   "cell_type": "code",
   "execution_count": 6,
   "metadata": {},
   "outputs": [],
   "source": [
    "combined_l2b_df = l2beat_df.merge(l2beat_meta[['chain','layer','chainId','provider','category','is_upcoming']], on='chain',how='left')\n",
    "# combined_l2b_df.tail(5)"
   ]
  },
  {
   "cell_type": "code",
   "execution_count": 7,
   "metadata": {},
   "outputs": [],
   "source": [
    "combined_gtp_df = gtp_api.merge(gtp_meta_api[['origin_key','chain_name']], on='origin_key',how='left')\n",
    "# combined_gtp_df.sample(5)"
   ]
  },
  {
   "cell_type": "code",
   "execution_count": 8,
   "metadata": {},
   "outputs": [],
   "source": [
    "# Check Columns\n",
    "# Assuming combined_gtp_df is your DataFrame\n",
    "column_names = combined_gtp_df.columns\n",
    "\n",
    "for col in column_names:\n",
    "    if col.endswith('_usd'):\n",
    "        # Construct the new column name by replacing '_usd' with '_eth'\n",
    "        new_col_name = col.replace('_usd', '_eth')\n",
    "        \n",
    "        # Check if the new column name exists in the DataFrame\n",
    "        if new_col_name not in combined_gtp_df.columns:\n",
    "            # If it doesn't exist, create the column and fill it with nan values\n",
    "            combined_gtp_df[new_col_name] = np.nan"
   ]
  },
  {
   "cell_type": "code",
   "execution_count": 9,
   "metadata": {},
   "outputs": [],
   "source": [
    "# print(combined_gtp_df.dtypes)\n",
    "# print(l2beat_df.dtypes)\n",
    "# combined_gtp_df.sample(5)"
   ]
  },
  {
   "cell_type": "code",
   "execution_count": 10,
   "metadata": {},
   "outputs": [
    {
     "name": "stdout",
     "output_type": "stream",
     "text": [
      "table at: dune.oplabspbc.dataset_growthepie_l2_activity\n",
      "Response status code: 200\n",
      "Response content: b'{\"success\":true,\"table_name\":\"growthepie_l2_activity\"}'\n",
      "table at: dune.oplabspbc.dataset_growthepie_l2_metadata\n",
      "Response status code: 200\n",
      "Response content: b'{\"success\":true,\"table_name\":\"growthepie_l2_metadata\"}'\n",
      "table at: dune.oplabspbc.dataset_l2beat_l2_activity\n",
      "Response status code: 200\n",
      "Response content: b'{\"success\":true,\"table_name\":\"l2beat_l2_activity\"}'\n",
      "table at: dune.oplabspbc.dataset_l2beat_l2_metadata\n",
      "Response status code: 200\n",
      "Response content: b'{\"success\":true,\"table_name\":\"l2beat_l2_metadata\"}'\n"
     ]
    }
   ],
   "source": [
    "# export\n",
    "folder = 'outputs/'\n",
    "combined_gtp_df.to_csv(folder + 'growthepie_l2_activity.csv', index = False)\n",
    "gtp_meta_api.to_csv(folder + 'growthepie_l2_metadata.csv', index = False)\n",
    "combined_l2b_df.to_csv(folder + 'l2beat_l2_activity.csv', index = False)\n",
    "l2beat_meta.to_csv(folder + 'l2beat_l2_metadata.csv', index = False)\n",
    "# Post to Dune API\n",
    "d.write_dune_api_from_pandas(combined_gtp_df, 'growthepie_l2_activity',\\\n",
    "                             'L2 Usage Activity from GrowThePie')\n",
    "d.write_dune_api_from_pandas(gtp_meta_api, 'growthepie_l2_metadata',\\\n",
    "                             'L2 Metadata from GrowThePie')\n",
    "d.write_dune_api_from_pandas(combined_l2b_df, 'l2beat_l2_activity',\\\n",
    "                             'L2 Usage Activity from L2Beat')\n",
    "d.write_dune_api_from_pandas(l2beat_meta, 'l2beat_l2_metadata',\\\n",
    "                             'L2 Metadata from L2Beat')\n"
   ]
  }
 ],
 "metadata": {
  "kernelspec": {
   "display_name": "new-env",
   "language": "python",
   "name": "python3"
  },
  "language_info": {
   "codemirror_mode": {
    "name": "ipython",
    "version": 3
   },
   "file_extension": ".py",
   "mimetype": "text/x-python",
   "name": "python",
   "nbconvert_exporter": "python",
   "pygments_lexer": "ipython3",
   "version": "3.1.undefined"
  },
  "orig_nbformat": 4
 },
 "nbformat": 4,
 "nbformat_minor": 2
}
