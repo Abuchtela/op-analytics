{
 "cells": [
  {
   "cell_type": "markdown",
   "metadata": {},
   "source": [
    "## Prepare data reader for a given chain and date"
   ]
  },
  {
   "cell_type": "code",
   "execution_count": 1,
   "metadata": {},
   "outputs": [
    {
     "name": "stdout",
     "output_type": "stream",
     "text": [
      "\u001b[2m2024-11-22 20:53:56\u001b[0m [\u001b[32m\u001b[1mdebug    \u001b[0m] \u001b[1mconnecting to OPLABS Clickhouse client...\u001b[0m \u001b[36mfilename\u001b[0m=\u001b[35mclient.py\u001b[0m \u001b[36mlineno\u001b[0m=\u001b[35m26\u001b[0m\n",
      "\u001b[2m2024-11-22 20:53:56\u001b[0m [\u001b[32m\u001b[1mdebug    \u001b[0m] \u001b[1mloaded vault: 16 items        \u001b[0m \u001b[36mfilename\u001b[0m=\u001b[35mvault.py\u001b[0m \u001b[36mlineno\u001b[0m=\u001b[35m74\u001b[0m\n",
      "\u001b[2m2024-11-22 20:53:57\u001b[0m [\u001b[32m\u001b[1mdebug    \u001b[0m] \u001b[1minitialized OPLABS Clickhouse client.\u001b[0m \u001b[36mfilename\u001b[0m=\u001b[35mclient.py\u001b[0m \u001b[36mlineno\u001b[0m=\u001b[35m38\u001b[0m\n",
      "\u001b[2m2024-11-22 20:53:57\u001b[0m [\u001b[32m\u001b[1minfo     \u001b[0m] \u001b[1mprepared 1 input batches.     \u001b[0m \u001b[36mfilename\u001b[0m=\u001b[35mreader.py\u001b[0m \u001b[36mlineno\u001b[0m=\u001b[35m147\u001b[0m\n"
     ]
    }
   ],
   "source": [
    "from op_analytics.coreutils.duckdb_inmem import init_client\n",
    "from op_analytics.coreutils.partitioned import DataReader, DataLocation\n",
    "from op_analytics.datapipeline.etl.intermediate.construct import construct_data_readers\n",
    "\n",
    "from op_analytics.datapipeline.etl.intermediate.udfs import create_duckdb_macros\n",
    "\n",
    "\n",
    "# Define the input data range.\n",
    "read_batches: list[DataReader] = construct_data_readers(\n",
    "    chains=[\"op\"],\n",
    "    range_spec=\"@20241118:+1\",\n",
    "    read_from=DataLocation.GCS\n",
    ")\n",
    "\n",
    "\n",
    "# Select input for one date and build the intermediate model inputs.\n",
    "batch = read_batches[0]\n",
    "\n",
    "\n",
    "duckdb_client = init_client()\n",
    "create_duckdb_macros(duckdb_client)\n"
   ]
  },
  {
   "cell_type": "markdown",
   "metadata": {},
   "source": [
    "## Run the model\n",
    "\n",
    "This automatically registers the model outputs as duckdb tables."
   ]
  },
  {
   "cell_type": "code",
   "execution_count": 2,
   "metadata": {},
   "outputs": [
    {
     "name": "stdout",
     "output_type": "stream",
     "text": [
      "\u001b[2m2024-11-22 20:53:57\u001b[0m [\u001b[32m\u001b[1minfo     \u001b[0m] \u001b[1mRendering query               \u001b[0m \u001b[36mfilename\u001b[0m=\u001b[35mquerybuilder.py\u001b[0m \u001b[36mlineno\u001b[0m=\u001b[35m51\u001b[0m \u001b[36mmodel\u001b[0m=\u001b[35mdaily_address_summary\u001b[0m \u001b[36mtemplate\u001b[0m=\u001b[35mtransaction_fees\u001b[0m\n",
      "\u001b[2m2024-11-22 20:53:57\u001b[0m [\u001b[33m\u001b[1mwarning  \u001b[0m] \u001b[1mRendered SQL template does not match expectation. Please update: /Users/chuxinhuang/work/op-analytics/src/op_analytics/datapipeline/etl/intermediate/rendered/transaction_fees.rendered.sql\u001b[0m \u001b[36mfilename\u001b[0m=\u001b[35mquerybuilder.py\u001b[0m \u001b[36mlineno\u001b[0m=\u001b[35m65\u001b[0m \u001b[36mmodel\u001b[0m=\u001b[35mdaily_address_summary\u001b[0m\n",
      "\u001b[2m2024-11-22 20:53:57\u001b[0m [\u001b[32m\u001b[1minfo     \u001b[0m] \u001b[1mRendering query               \u001b[0m \u001b[36mfilename\u001b[0m=\u001b[35mquerybuilder.py\u001b[0m \u001b[36mlineno\u001b[0m=\u001b[35m51\u001b[0m \u001b[36mmodel\u001b[0m=\u001b[35mdaily_address_summary\u001b[0m \u001b[36mtemplate\u001b[0m=\u001b[35mdaily_address_summary\u001b[0m\n",
      "\u001b[2m2024-11-22 20:53:57\u001b[0m [\u001b[32m\u001b[1minfo     \u001b[0m] \u001b[1mRendering query               \u001b[0m \u001b[36mfilename\u001b[0m=\u001b[35mquerybuilder.py\u001b[0m \u001b[36mlineno\u001b[0m=\u001b[35m51\u001b[0m \u001b[36mmodel\u001b[0m=\u001b[35mcreation_traces\u001b[0m \u001b[36mtemplate\u001b[0m=\u001b[35mcreation_traces\u001b[0m\n",
      "\u001b[2m2024-11-22 20:53:57\u001b[0m [\u001b[33m\u001b[1mwarning  \u001b[0m] \u001b[1mRendered SQL template does not match expectation. Please update: /Users/chuxinhuang/work/op-analytics/src/op_analytics/datapipeline/etl/intermediate/rendered/creation_traces.rendered.sql\u001b[0m \u001b[36mfilename\u001b[0m=\u001b[35mquerybuilder.py\u001b[0m \u001b[36mlineno\u001b[0m=\u001b[35m65\u001b[0m \u001b[36mmodel\u001b[0m=\u001b[35mcreation_traces\u001b[0m\n",
      "\u001b[2m2024-11-22 20:53:57\u001b[0m [\u001b[32m\u001b[1minfo     \u001b[0m] \u001b[1mLoaded 2 python modules with intermediate model definitions.\u001b[0m \u001b[36mfilename\u001b[0m=\u001b[35mregistry.py\u001b[0m \u001b[36mlineno\u001b[0m=\u001b[35m138\u001b[0m\n",
      "\u001b[2m2024-11-22 20:53:57\u001b[0m [\u001b[32m\u001b[1minfo     \u001b[0m] \u001b[1mExecuting model...            \u001b[0m \u001b[36mfilename\u001b[0m=\u001b[35mtestutils.py\u001b[0m \u001b[36mlineno\u001b[0m=\u001b[35m205\u001b[0m\n",
      "\u001b[2m2024-11-22 20:53:57\u001b[0m [\u001b[32m\u001b[1minfo     \u001b[0m] \u001b[1mcreating duckdb relation 'traces' from 22 paths, first path is gs://oplabs-tools-data-sink/ingestion/traces_v1/chain=op/dt=2024-11-18/000128144000.parquet\u001b[0m \u001b[36mfilename\u001b[0m=\u001b[35mreader.py\u001b[0m \u001b[36mlineno\u001b[0m=\u001b[35m67\u001b[0m\n",
      "\u001b[2m2024-11-22 20:54:01\u001b[0m [\u001b[32m\u001b[1minfo     \u001b[0m] \u001b[1mcreating duckdb relation 'transactions' from 22 paths, first path is gs://oplabs-tools-data-sink/ingestion/transactions_v1/chain=op/dt=2024-11-18/000128144000.parquet\u001b[0m \u001b[36mfilename\u001b[0m=\u001b[35mreader.py\u001b[0m \u001b[36mlineno\u001b[0m=\u001b[35m67\u001b[0m\n",
      "dict_keys(['creation_traces_v1'])\n"
     ]
    },
    {
     "data": {
      "text/plain": [
       "┌────────────────────┐\n",
       "│        name        │\n",
       "│      varchar       │\n",
       "├────────────────────┤\n",
       "│ creation_traces    │\n",
       "│ creation_traces_v1 │\n",
       "│ traces             │\n",
       "│ transactions       │\n",
       "└────────────────────┘"
      ]
     },
     "execution_count": 2,
     "metadata": {},
     "output_type": "execute_result"
    }
   ],
   "source": [
    "from op_analytics.datapipeline.etl.intermediate.registry import REGISTERED_INTERMEDIATE_MODELS, load_model_definitions\n",
    "from op_analytics.datapipeline.etl.intermediate.testutils import execute_model_in_memory\n",
    "\n",
    "load_model_definitions()\n",
    "execute_model_in_memory(\n",
    "    duckdb_client=duckdb_client,\n",
    "    model=REGISTERED_INTERMEDIATE_MODELS[\"creation_traces\"],\n",
    "    data_reader=batch\n",
    ")\n",
    "\n",
    "# The duckdb database will have the following:\n",
    "#   - input tables\n",
    "#   - views used by the model\n",
    "#   - model outputs\n",
    "# \n",
    "# You can use duckdb to inspect any of the above results.\n",
    "duckdb_client.sql(\"SHOW TABLES\")"
   ]
  },
  {
   "cell_type": "markdown",
   "metadata": {},
   "source": [
    "## Verify model results"
   ]
  },
  {
   "cell_type": "code",
   "execution_count": 3,
   "metadata": {},
   "outputs": [
    {
     "data": {
      "text/plain": [
       "┌─────────┬──────────┬─────────┬────────────┬───────────────────┬──────────────────────┬────────────────────────────────────────────────────────────────────┬────────────────────────────────────────────────────────────────────┬──────────────────┬────────────────────────────────────────────┬────────────────────────────────────────────┬────────────────────────────────────────────┬────────────────────────────────────────────┬──────────┬────────────────┬──────────────────────────────────────────────────────────────────────────────────────────────────────────────────┬──────────────────────────────────────────────────────────────────────────────────────────────┬────────────┬───────────┬─────────────┬──────────┬──────────┬───────────┬───────────────┬─────────┬────────┬──────────────────────┬─────────────────┐\n",
       "│ network │ chain_id │  chain  │     dt     │ created_timestamp │ created_block_number │                         created_block_hash                         │                          created_tx_hash                           │ created_tx_index │           trace_creator_address            │              created_tx_from               │              contract_address              │               created_tx_to                │ value_64 │ value_lossless │                                                       code                                                       │                                            output                                            │ trace_type │ call_type │ reward_type │   gas    │ gas_used │ subtraces │ trace_address │  error  │ status │ created_tx_method_id │ code_bytelength │\n",
       "│ varchar │  int32   │ varchar │  varchar   │      uint32       │        int64         │                              varchar                               │                              varchar                               │      int64       │                  varchar                   │                  varchar                   │                  varchar                   │                  varchar                   │  int64   │    varchar     │                                                     varchar                                                      │                                           varchar                                            │  varchar   │  varchar  │   varchar   │  int64   │  int64   │   int64   │    varchar    │ varchar │ int64  │       varchar        │     double      │\n",
       "├─────────┼──────────┼─────────┼────────────┼───────────────────┼──────────────────────┼────────────────────────────────────────────────────────────────────┼────────────────────────────────────────────────────────────────────┼──────────────────┼────────────────────────────────────────────┼────────────────────────────────────────────┼────────────────────────────────────────────┼────────────────────────────────────────────┼──────────┼────────────────┼──────────────────────────────────────────────────────────────────────────────────────────────────────────────────┼──────────────────────────────────────────────────────────────────────────────────────────────┼────────────┼───────────┼─────────────┼──────────┼──────────┼───────────┼───────────────┼─────────┼────────┼──────────────────────┼─────────────────┤\n",
       "│ mainnet │       10 │ op      │ 2024-11-18 │        1731902979 │            128152101 │ 0x44d3a29d2a697b22c845d96573a78cc6299f7a18a080e8983e14e878fcc60091 │ 0xd857f4101f21eebb978da0d16a2cb4e084fdfd1367a611a86b71e639c3203463 │                1 │ 0x9ec1c3dcf667f2035fb4cd2eb42a1566fd54d2b7 │ 0xab8d807a29560ee2f2bf97c752017052a3b5ffd8 │ 0x07a242364b2a109ddcca429a9ccf590b5cdf61ec │ 0x9ec1c3dcf667f2035fb4cd2eb42a1566fd54d2b7 │        0 │ 0              │ 0x3d602d80600a3d3981f3363d3d373d3d3d363d739ec1c3dcf667f2035fb4cd2eb42a1566fd54d2b75af43d82803e903d91602b57fd5bf3 │ 0x363d3d373d3d3d363d739ec1c3dcf667f2035fb4cd2eb42a1566fd54d2b75af43d82803e903d91602b57fd5bf3 │ create2    │           │             │ 26041689 │     9031 │         0 │ 40            │         │      1 │ 0xb1ae2ed1           │            55.0 │\n",
       "│ mainnet │       10 │ op      │ 2024-11-18 │        1731902979 │            128152101 │ 0x44d3a29d2a697b22c845d96573a78cc6299f7a18a080e8983e14e878fcc60091 │ 0xd857f4101f21eebb978da0d16a2cb4e084fdfd1367a611a86b71e639c3203463 │                1 │ 0x9ec1c3dcf667f2035fb4cd2eb42a1566fd54d2b7 │ 0xab8d807a29560ee2f2bf97c752017052a3b5ffd8 │ 0x2186affb22fb08c0af667ef839ee48e041e4c143 │ 0x9ec1c3dcf667f2035fb4cd2eb42a1566fd54d2b7 │        0 │ 0              │ 0x3d602d80600a3d3981f3363d3d373d3d3d363d739ec1c3dcf667f2035fb4cd2eb42a1566fd54d2b75af43d82803e903d91602b57fd5bf3 │ 0x363d3d373d3d3d363d739ec1c3dcf667f2035fb4cd2eb42a1566fd54d2b75af43d82803e903d91602b57fd5bf3 │ create2    │           │             │ 25875756 │     9031 │         0 │ 42            │         │      1 │ 0xb1ae2ed1           │            55.0 │\n",
       "│ mainnet │       10 │ op      │ 2024-11-18 │        1731902979 │            128152101 │ 0x44d3a29d2a697b22c845d96573a78cc6299f7a18a080e8983e14e878fcc60091 │ 0xd857f4101f21eebb978da0d16a2cb4e084fdfd1367a611a86b71e639c3203463 │                1 │ 0x9ec1c3dcf667f2035fb4cd2eb42a1566fd54d2b7 │ 0xab8d807a29560ee2f2bf97c752017052a3b5ffd8 │ 0x0783dfcc9bd74923eec4641f3b8457ca009dd9a7 │ 0x9ec1c3dcf667f2035fb4cd2eb42a1566fd54d2b7 │        0 │ 0              │ 0x3d602d80600a3d3981f3363d3d373d3d3d363d739ec1c3dcf667f2035fb4cd2eb42a1566fd54d2b75af43d82803e903d91602b57fd5bf3 │ 0x363d3d373d3d3d363d739ec1c3dcf667f2035fb4cd2eb42a1566fd54d2b75af43d82803e903d91602b57fd5bf3 │ create2    │           │             │ 25709823 │     9031 │         0 │ 44            │         │      1 │ 0xb1ae2ed1           │            55.0 │\n",
       "│ mainnet │       10 │ op      │ 2024-11-18 │        1731902979 │            128152101 │ 0x44d3a29d2a697b22c845d96573a78cc6299f7a18a080e8983e14e878fcc60091 │ 0xd857f4101f21eebb978da0d16a2cb4e084fdfd1367a611a86b71e639c3203463 │                1 │ 0x9ec1c3dcf667f2035fb4cd2eb42a1566fd54d2b7 │ 0xab8d807a29560ee2f2bf97c752017052a3b5ffd8 │ 0x42651c4ca5ee9465dc124a64ae50a676bb522065 │ 0x9ec1c3dcf667f2035fb4cd2eb42a1566fd54d2b7 │        0 │ 0              │ 0x3d602d80600a3d3981f3363d3d373d3d3d363d739ec1c3dcf667f2035fb4cd2eb42a1566fd54d2b75af43d82803e903d91602b57fd5bf3 │ 0x363d3d373d3d3d363d739ec1c3dcf667f2035fb4cd2eb42a1566fd54d2b75af43d82803e903d91602b57fd5bf3 │ create2    │           │             │ 25543894 │     9031 │         0 │ 46            │         │      1 │ 0xb1ae2ed1           │            55.0 │\n",
       "│ mainnet │       10 │ op      │ 2024-11-18 │        1731902979 │            128152101 │ 0x44d3a29d2a697b22c845d96573a78cc6299f7a18a080e8983e14e878fcc60091 │ 0xd857f4101f21eebb978da0d16a2cb4e084fdfd1367a611a86b71e639c3203463 │                1 │ 0x9ec1c3dcf667f2035fb4cd2eb42a1566fd54d2b7 │ 0xab8d807a29560ee2f2bf97c752017052a3b5ffd8 │ 0x505f87963a6ae895e027313e3d778947c4fa90e8 │ 0x9ec1c3dcf667f2035fb4cd2eb42a1566fd54d2b7 │        0 │ 0              │ 0x3d602d80600a3d3981f3363d3d373d3d3d363d739ec1c3dcf667f2035fb4cd2eb42a1566fd54d2b75af43d82803e903d91602b57fd5bf3 │ 0x363d3d373d3d3d363d739ec1c3dcf667f2035fb4cd2eb42a1566fd54d2b75af43d82803e903d91602b57fd5bf3 │ create2    │           │             │ 25377961 │     9031 │         0 │ 48            │         │      1 │ 0xb1ae2ed1           │            55.0 │\n",
       "│ mainnet │       10 │ op      │ 2024-11-18 │        1731902979 │            128152101 │ 0x44d3a29d2a697b22c845d96573a78cc6299f7a18a080e8983e14e878fcc60091 │ 0xd857f4101f21eebb978da0d16a2cb4e084fdfd1367a611a86b71e639c3203463 │                1 │ 0x9ec1c3dcf667f2035fb4cd2eb42a1566fd54d2b7 │ 0xab8d807a29560ee2f2bf97c752017052a3b5ffd8 │ 0x6754fc1e60ea4ae3eeeba3fc0929693a97d6abbb │ 0x9ec1c3dcf667f2035fb4cd2eb42a1566fd54d2b7 │        0 │ 0              │ 0x3d602d80600a3d3981f3363d3d373d3d3d363d739ec1c3dcf667f2035fb4cd2eb42a1566fd54d2b75af43d82803e903d91602b57fd5bf3 │ 0x363d3d373d3d3d363d739ec1c3dcf667f2035fb4cd2eb42a1566fd54d2b75af43d82803e903d91602b57fd5bf3 │ create2    │           │             │ 25212028 │     9031 │         0 │ 50            │         │      1 │ 0xb1ae2ed1           │            55.0 │\n",
       "│ mainnet │       10 │ op      │ 2024-11-18 │        1731902979 │            128152101 │ 0x44d3a29d2a697b22c845d96573a78cc6299f7a18a080e8983e14e878fcc60091 │ 0xd857f4101f21eebb978da0d16a2cb4e084fdfd1367a611a86b71e639c3203463 │                1 │ 0x9ec1c3dcf667f2035fb4cd2eb42a1566fd54d2b7 │ 0xab8d807a29560ee2f2bf97c752017052a3b5ffd8 │ 0x4239ec887a70961aaa0cf5607e9021ca0972172e │ 0x9ec1c3dcf667f2035fb4cd2eb42a1566fd54d2b7 │        0 │ 0              │ 0x3d602d80600a3d3981f3363d3d373d3d3d363d739ec1c3dcf667f2035fb4cd2eb42a1566fd54d2b75af43d82803e903d91602b57fd5bf3 │ 0x363d3d373d3d3d363d739ec1c3dcf667f2035fb4cd2eb42a1566fd54d2b75af43d82803e903d91602b57fd5bf3 │ create2    │           │             │ 29028455 │     9031 │         0 │ 4             │         │      1 │ 0xb1ae2ed1           │            55.0 │\n",
       "│ mainnet │       10 │ op      │ 2024-11-18 │        1731902979 │            128152101 │ 0x44d3a29d2a697b22c845d96573a78cc6299f7a18a080e8983e14e878fcc60091 │ 0xd857f4101f21eebb978da0d16a2cb4e084fdfd1367a611a86b71e639c3203463 │                1 │ 0x9ec1c3dcf667f2035fb4cd2eb42a1566fd54d2b7 │ 0xab8d807a29560ee2f2bf97c752017052a3b5ffd8 │ 0x4e8cfe57e0dc67431a583860c21ffea941b7cf6e │ 0x9ec1c3dcf667f2035fb4cd2eb42a1566fd54d2b7 │        0 │ 0              │ 0x3d602d80600a3d3981f3363d3d373d3d3d363d739ec1c3dcf667f2035fb4cd2eb42a1566fd54d2b75af43d82803e903d91602b57fd5bf3 │ 0x363d3d373d3d3d363d739ec1c3dcf667f2035fb4cd2eb42a1566fd54d2b75af43d82803e903d91602b57fd5bf3 │ create2    │           │             │ 25046097 │     9031 │         0 │ 52            │         │      1 │ 0xb1ae2ed1           │            55.0 │\n",
       "│ mainnet │       10 │ op      │ 2024-11-18 │        1731902979 │            128152101 │ 0x44d3a29d2a697b22c845d96573a78cc6299f7a18a080e8983e14e878fcc60091 │ 0xd857f4101f21eebb978da0d16a2cb4e084fdfd1367a611a86b71e639c3203463 │                1 │ 0x9ec1c3dcf667f2035fb4cd2eb42a1566fd54d2b7 │ 0xab8d807a29560ee2f2bf97c752017052a3b5ffd8 │ 0x34d943722f79b67ab1c829ee88f610893643e898 │ 0x9ec1c3dcf667f2035fb4cd2eb42a1566fd54d2b7 │        0 │ 0              │ 0x3d602d80600a3d3981f3363d3d373d3d3d363d739ec1c3dcf667f2035fb4cd2eb42a1566fd54d2b75af43d82803e903d91602b57fd5bf3 │ 0x363d3d373d3d3d363d739ec1c3dcf667f2035fb4cd2eb42a1566fd54d2b75af43d82803e903d91602b57fd5bf3 │ create2    │           │             │ 24880164 │     9031 │         0 │ 54            │         │      1 │ 0xb1ae2ed1           │            55.0 │\n",
       "│ mainnet │       10 │ op      │ 2024-11-18 │        1731902979 │            128152101 │ 0x44d3a29d2a697b22c845d96573a78cc6299f7a18a080e8983e14e878fcc60091 │ 0xd857f4101f21eebb978da0d16a2cb4e084fdfd1367a611a86b71e639c3203463 │                1 │ 0x9ec1c3dcf667f2035fb4cd2eb42a1566fd54d2b7 │ 0xab8d807a29560ee2f2bf97c752017052a3b5ffd8 │ 0xe24ad4c29e2ffb1d23923365263c092d508ffb63 │ 0x9ec1c3dcf667f2035fb4cd2eb42a1566fd54d2b7 │        0 │ 0              │ 0x3d602d80600a3d3981f3363d3d373d3d3d363d739ec1c3dcf667f2035fb4cd2eb42a1566fd54d2b75af43d82803e903d91602b57fd5bf3 │ 0x363d3d373d3d3d363d739ec1c3dcf667f2035fb4cd2eb42a1566fd54d2b75af43d82803e903d91602b57fd5bf3 │ create2    │           │             │ 24714231 │     9031 │         0 │ 56            │         │      1 │ 0xb1ae2ed1           │            55.0 │\n",
       "├─────────┴──────────┴─────────┴────────────┴───────────────────┴──────────────────────┴────────────────────────────────────────────────────────────────────┴────────────────────────────────────────────────────────────────────┴──────────────────┴────────────────────────────────────────────┴────────────────────────────────────────────┴────────────────────────────────────────────┴────────────────────────────────────────────┴──────────┴────────────────┴──────────────────────────────────────────────────────────────────────────────────────────────────────────────────┴──────────────────────────────────────────────────────────────────────────────────────────────┴────────────┴───────────┴─────────────┴──────────┴──────────┴───────────┴───────────────┴─────────┴────────┴──────────────────────┴─────────────────┤\n",
       "│ 10 rows                                                                                                                                                                                                                                                                                                                                                                                                                                                                                                                                                                                                                                                                                                                                                                                                                       28 columns │\n",
       "└──────────────────────────────────────────────────────────────────────────────────────────────────────────────────────────────────────────────────────────────────────────────────────────────────────────────────────────────────────────────────────────────────────────────────────────────────────────────────────────────────────────────────────────────────────────────────────────────────────────────────────────────────────────────────────────────────────────────────────────────────────────────────────────────────────────────────────────────────────────────────────────────────────────────────────────────────────────────────────────────────────────────────────────────────────────────────────────────────────────────────────────────────────────────────────────────────────────────────────────────────────────┘"
      ]
     },
     "execution_count": 3,
     "metadata": {},
     "output_type": "execute_result"
    }
   ],
   "source": [
    "duckdb_client.sql(\"SELECT * FROM creation_traces_v1 LIMIT 10\")"
   ]
  },
  {
   "cell_type": "markdown",
   "metadata": {},
   "source": [
    "### Check the data output size"
   ]
  },
  {
   "cell_type": "code",
   "execution_count": 4,
   "metadata": {},
   "outputs": [
    {
     "data": {
      "text/plain": [
       "┌──────────────┐\n",
       "│ count_star() │\n",
       "│    int64     │\n",
       "├──────────────┤\n",
       "│         6484 │\n",
       "└──────────────┘"
      ]
     },
     "execution_count": 4,
     "metadata": {},
     "output_type": "execute_result"
    }
   ],
   "source": [
    "duckdb_client.sql(\"SELECT COUNT(*) FROM creation_traces_v1\")"
   ]
  },
  {
   "cell_type": "code",
   "execution_count": 5,
   "metadata": {},
   "outputs": [
    {
     "data": {
      "text/plain": [
       "┌────────────────────────────────────────────────────────────────────────────────────────────────────────────────────────────────────────────────────────────────────────────────────────────────────────────────────────────────────────────────────────────────────────────────────────────────────────────────────────────────────────────────────────────────────────────────────────────────────────────┐\n",
       "│                                                                                                                                                                                                   input                                                                                                                                                                                                    │\n",
       "│                                                                                                                                                                                                  varchar                                                                                                                                                                                                   │\n",
       "├────────────────────────────────────────────────────────────────────────────────────────────────────────────────────────────────────────────────────────────────────────────────────────────────────────────────────────────────────────────────────────────────────────────────────────────────────────────────────────────────────────────────────────────────────────────────────────────────────────────┤\n",
       "│ 0xb2460c480005000000000048f23d0500000000000000000003a251728ca667e370b94700                                                                                                                                                                                                                                                                                                                                 │\n",
       "│ 0x128acb0800000000000000000000000051c72848c68a965f66fa7a88855f9f7784502a7f00000000000000000000000000000000000000000000000000000000000000000000000000000000000000000000000000000000000000000000000048f23d0500000000000000000000000000000000000000000003a251728ca667e370b94700000000000000000000000000000000000000000000000000000000000000a00000000000000000000000000000000000000000000000000000000000000000 │\n",
       "│ 0xa00597a000000000000000000000000000000000000000000000000000000000207cbedb00000000000000000000000000000000000000000003a2396da103e49b1b17210000000000000000000000007f5c764cbc14f9669b88837ca1490cca17c31607000000000000000000000000000000000000000000000000000000000000000000000000000000000000000085149247691df622eaf1a8bd0cafd40bc45154a900000000000000000000000000000000000000000000000000000000673a84e3 │\n",
       "│ 0x5a76f25e                                                                                                                                                                                                                                                                                                                                                                                                 │\n",
       "│ 0x5a76f25e                                                                                                                                                                                                                                                                                                                                                                                                 │\n",
       "│ 0x3850c7bd                                                                                                                                                                                                                                                                                                                                                                                                 │\n",
       "│ 0x3850c7bd                                                                                                                                                                                                                                                                                                                                                                                                 │\n",
       "│ 0x3850c7bd                                                                                                                                                                                                                                                                                                                                                                                                 │\n",
       "│ 0x3850c7bd                                                                                                                                                                                                                                                                                                                                                                                                 │\n",
       "│ 0x3850c7bd                                                                                                                                                                                                                                                                                                                                                                                                 │\n",
       "├────────────────────────────────────────────────────────────────────────────────────────────────────────────────────────────────────────────────────────────────────────────────────────────────────────────────────────────────────────────────────────────────────────────────────────────────────────────────────────────────────────────────────────────────────────────────────────────────────────────┤\n",
       "│                                                                                                                                                                                                  10 rows                                                                                                                                                                                                   │\n",
       "└────────────────────────────────────────────────────────────────────────────────────────────────────────────────────────────────────────────────────────────────────────────────────────────────────────────────────────────────────────────────────────────────────────────────────────────────────────────────────────────────────────────────────────────────────────────────────────────────────────────┘"
      ]
     },
     "execution_count": 5,
     "metadata": {},
     "output_type": "execute_result"
    }
   ],
   "source": [
    "duckdb_client.sql(\"SELECT input FROM traces LIMIT 10\")\n"
   ]
  },
  {
   "cell_type": "markdown",
   "metadata": {},
   "source": [
    "### You can also convert the results to dataframes to inspect them in more familiar ways"
   ]
  },
  {
   "cell_type": "code",
   "execution_count": 6,
   "metadata": {},
   "outputs": [
    {
     "data": {
      "text/html": [
       "<div><style>\n",
       ".dataframe > thead > tr,\n",
       ".dataframe > tbody > tr {\n",
       "  text-align: right;\n",
       "  white-space: pre-wrap;\n",
       "}\n",
       "</style>\n",
       "<small>shape: (5, 28)</small><table border=\"1\" class=\"dataframe\"><thead><tr><th>network</th><th>chain_id</th><th>chain</th><th>dt</th><th>created_timestamp</th><th>created_block_number</th><th>created_block_hash</th><th>created_tx_hash</th><th>created_tx_index</th><th>trace_creator_address</th><th>created_tx_from</th><th>contract_address</th><th>created_tx_to</th><th>value_64</th><th>value_lossless</th><th>code</th><th>output</th><th>trace_type</th><th>call_type</th><th>reward_type</th><th>gas</th><th>gas_used</th><th>subtraces</th><th>trace_address</th><th>error</th><th>status</th><th>created_tx_method_id</th><th>code_bytelength</th></tr><tr><td>str</td><td>i32</td><td>str</td><td>str</td><td>u32</td><td>i64</td><td>str</td><td>str</td><td>i64</td><td>str</td><td>str</td><td>str</td><td>str</td><td>i64</td><td>str</td><td>str</td><td>str</td><td>str</td><td>str</td><td>str</td><td>i64</td><td>i64</td><td>i64</td><td>str</td><td>str</td><td>i64</td><td>str</td><td>f64</td></tr></thead><tbody><tr><td>&quot;mainnet&quot;</td><td>10</td><td>&quot;op&quot;</td><td>&quot;2024-11-18&quot;</td><td>1731902979</td><td>128152101</td><td>&quot;0x44d3a29d2a697b22c845d96573a7…</td><td>&quot;0xd857f4101f21eebb978da0d16a2c…</td><td>1</td><td>&quot;0x9ec1c3dcf667f2035fb4cd2eb42a…</td><td>&quot;0xab8d807a29560ee2f2bf97c75201…</td><td>&quot;0x07a242364b2a109ddcca429a9ccf…</td><td>&quot;0x9ec1c3dcf667f2035fb4cd2eb42a…</td><td>0</td><td>&quot;0&quot;</td><td>&quot;0x3d602d80600a3d3981f3363d3d37…</td><td>&quot;0x363d3d373d3d3d363d739ec1c3dc…</td><td>&quot;create2&quot;</td><td>&quot;&quot;</td><td>&quot;&quot;</td><td>26041689</td><td>9031</td><td>0</td><td>&quot;40&quot;</td><td>&quot;&quot;</td><td>1</td><td>&quot;0xb1ae2ed1&quot;</td><td>55.0</td></tr><tr><td>&quot;mainnet&quot;</td><td>10</td><td>&quot;op&quot;</td><td>&quot;2024-11-18&quot;</td><td>1731902979</td><td>128152101</td><td>&quot;0x44d3a29d2a697b22c845d96573a7…</td><td>&quot;0xd857f4101f21eebb978da0d16a2c…</td><td>1</td><td>&quot;0x9ec1c3dcf667f2035fb4cd2eb42a…</td><td>&quot;0xab8d807a29560ee2f2bf97c75201…</td><td>&quot;0x2186affb22fb08c0af667ef839ee…</td><td>&quot;0x9ec1c3dcf667f2035fb4cd2eb42a…</td><td>0</td><td>&quot;0&quot;</td><td>&quot;0x3d602d80600a3d3981f3363d3d37…</td><td>&quot;0x363d3d373d3d3d363d739ec1c3dc…</td><td>&quot;create2&quot;</td><td>&quot;&quot;</td><td>&quot;&quot;</td><td>25875756</td><td>9031</td><td>0</td><td>&quot;42&quot;</td><td>&quot;&quot;</td><td>1</td><td>&quot;0xb1ae2ed1&quot;</td><td>55.0</td></tr><tr><td>&quot;mainnet&quot;</td><td>10</td><td>&quot;op&quot;</td><td>&quot;2024-11-18&quot;</td><td>1731902979</td><td>128152101</td><td>&quot;0x44d3a29d2a697b22c845d96573a7…</td><td>&quot;0xd857f4101f21eebb978da0d16a2c…</td><td>1</td><td>&quot;0x9ec1c3dcf667f2035fb4cd2eb42a…</td><td>&quot;0xab8d807a29560ee2f2bf97c75201…</td><td>&quot;0x0783dfcc9bd74923eec4641f3b84…</td><td>&quot;0x9ec1c3dcf667f2035fb4cd2eb42a…</td><td>0</td><td>&quot;0&quot;</td><td>&quot;0x3d602d80600a3d3981f3363d3d37…</td><td>&quot;0x363d3d373d3d3d363d739ec1c3dc…</td><td>&quot;create2&quot;</td><td>&quot;&quot;</td><td>&quot;&quot;</td><td>25709823</td><td>9031</td><td>0</td><td>&quot;44&quot;</td><td>&quot;&quot;</td><td>1</td><td>&quot;0xb1ae2ed1&quot;</td><td>55.0</td></tr><tr><td>&quot;mainnet&quot;</td><td>10</td><td>&quot;op&quot;</td><td>&quot;2024-11-18&quot;</td><td>1731902979</td><td>128152101</td><td>&quot;0x44d3a29d2a697b22c845d96573a7…</td><td>&quot;0xd857f4101f21eebb978da0d16a2c…</td><td>1</td><td>&quot;0x9ec1c3dcf667f2035fb4cd2eb42a…</td><td>&quot;0xab8d807a29560ee2f2bf97c75201…</td><td>&quot;0x42651c4ca5ee9465dc124a64ae50…</td><td>&quot;0x9ec1c3dcf667f2035fb4cd2eb42a…</td><td>0</td><td>&quot;0&quot;</td><td>&quot;0x3d602d80600a3d3981f3363d3d37…</td><td>&quot;0x363d3d373d3d3d363d739ec1c3dc…</td><td>&quot;create2&quot;</td><td>&quot;&quot;</td><td>&quot;&quot;</td><td>25543894</td><td>9031</td><td>0</td><td>&quot;46&quot;</td><td>&quot;&quot;</td><td>1</td><td>&quot;0xb1ae2ed1&quot;</td><td>55.0</td></tr><tr><td>&quot;mainnet&quot;</td><td>10</td><td>&quot;op&quot;</td><td>&quot;2024-11-18&quot;</td><td>1731902979</td><td>128152101</td><td>&quot;0x44d3a29d2a697b22c845d96573a7…</td><td>&quot;0xd857f4101f21eebb978da0d16a2c…</td><td>1</td><td>&quot;0x9ec1c3dcf667f2035fb4cd2eb42a…</td><td>&quot;0xab8d807a29560ee2f2bf97c75201…</td><td>&quot;0x505f87963a6ae895e027313e3d77…</td><td>&quot;0x9ec1c3dcf667f2035fb4cd2eb42a…</td><td>0</td><td>&quot;0&quot;</td><td>&quot;0x3d602d80600a3d3981f3363d3d37…</td><td>&quot;0x363d3d373d3d3d363d739ec1c3dc…</td><td>&quot;create2&quot;</td><td>&quot;&quot;</td><td>&quot;&quot;</td><td>25377961</td><td>9031</td><td>0</td><td>&quot;48&quot;</td><td>&quot;&quot;</td><td>1</td><td>&quot;0xb1ae2ed1&quot;</td><td>55.0</td></tr></tbody></table></div>"
      ],
      "text/plain": [
       "shape: (5, 28)\n",
       "┌─────────┬──────────┬───────┬────────────┬───┬───────┬────────┬─────────────────┬─────────────────┐\n",
       "│ network ┆ chain_id ┆ chain ┆ dt         ┆ … ┆ error ┆ status ┆ created_tx_meth ┆ code_bytelength │\n",
       "│ ---     ┆ ---      ┆ ---   ┆ ---        ┆   ┆ ---   ┆ ---    ┆ od_id           ┆ ---             │\n",
       "│ str     ┆ i32      ┆ str   ┆ str        ┆   ┆ str   ┆ i64    ┆ ---             ┆ f64             │\n",
       "│         ┆          ┆       ┆            ┆   ┆       ┆        ┆ str             ┆                 │\n",
       "╞═════════╪══════════╪═══════╪════════════╪═══╪═══════╪════════╪═════════════════╪═════════════════╡\n",
       "│ mainnet ┆ 10       ┆ op    ┆ 2024-11-18 ┆ … ┆       ┆ 1      ┆ 0xb1ae2ed1      ┆ 55.0            │\n",
       "│ mainnet ┆ 10       ┆ op    ┆ 2024-11-18 ┆ … ┆       ┆ 1      ┆ 0xb1ae2ed1      ┆ 55.0            │\n",
       "│ mainnet ┆ 10       ┆ op    ┆ 2024-11-18 ┆ … ┆       ┆ 1      ┆ 0xb1ae2ed1      ┆ 55.0            │\n",
       "│ mainnet ┆ 10       ┆ op    ┆ 2024-11-18 ┆ … ┆       ┆ 1      ┆ 0xb1ae2ed1      ┆ 55.0            │\n",
       "│ mainnet ┆ 10       ┆ op    ┆ 2024-11-18 ┆ … ┆       ┆ 1      ┆ 0xb1ae2ed1      ┆ 55.0            │\n",
       "└─────────┴──────────┴───────┴────────────┴───┴───────┴────────┴─────────────────┴─────────────────┘"
      ]
     },
     "execution_count": 6,
     "metadata": {},
     "output_type": "execute_result"
    }
   ],
   "source": [
    "duckdb_client.sql(\"SELECT * FROM creation_traces_v1 LIMIT 10\").pl().head()"
   ]
  },
  {
   "cell_type": "markdown",
   "metadata": {},
   "source": [
    "### Get table schema"
   ]
  },
  {
   "cell_type": "code",
   "execution_count": 7,
   "metadata": {},
   "outputs": [
    {
     "data": {
      "text/plain": [
       "┌───────────────────────┬─────────────┬─────────┬─────────┬─────────┬─────────┐\n",
       "│      column_name      │ column_type │  null   │   key   │ default │  extra  │\n",
       "│        varchar        │   varchar   │ varchar │ varchar │ varchar │ varchar │\n",
       "├───────────────────────┼─────────────┼─────────┼─────────┼─────────┼─────────┤\n",
       "│ network               │ VARCHAR     │ YES     │ NULL    │ NULL    │ NULL    │\n",
       "│ chain_id              │ INTEGER     │ YES     │ NULL    │ NULL    │ NULL    │\n",
       "│ chain                 │ VARCHAR     │ YES     │ NULL    │ NULL    │ NULL    │\n",
       "│ dt                    │ VARCHAR     │ YES     │ NULL    │ NULL    │ NULL    │\n",
       "│ created_timestamp     │ UINTEGER    │ YES     │ NULL    │ NULL    │ NULL    │\n",
       "│ created_block_number  │ BIGINT      │ YES     │ NULL    │ NULL    │ NULL    │\n",
       "│ created_block_hash    │ VARCHAR     │ YES     │ NULL    │ NULL    │ NULL    │\n",
       "│ created_tx_hash       │ VARCHAR     │ YES     │ NULL    │ NULL    │ NULL    │\n",
       "│ created_tx_index      │ BIGINT      │ YES     │ NULL    │ NULL    │ NULL    │\n",
       "│ trace_creator_address │ VARCHAR     │ YES     │ NULL    │ NULL    │ NULL    │\n",
       "│     ·                 │    ·        │  ·      │  ·      │  ·      │  ·      │\n",
       "│     ·                 │    ·        │  ·      │  ·      │  ·      │  ·      │\n",
       "│     ·                 │    ·        │  ·      │  ·      │  ·      │  ·      │\n",
       "│ call_type             │ VARCHAR     │ YES     │ NULL    │ NULL    │ NULL    │\n",
       "│ reward_type           │ VARCHAR     │ YES     │ NULL    │ NULL    │ NULL    │\n",
       "│ gas                   │ BIGINT      │ YES     │ NULL    │ NULL    │ NULL    │\n",
       "│ gas_used              │ BIGINT      │ YES     │ NULL    │ NULL    │ NULL    │\n",
       "│ subtraces             │ BIGINT      │ YES     │ NULL    │ NULL    │ NULL    │\n",
       "│ trace_address         │ VARCHAR     │ YES     │ NULL    │ NULL    │ NULL    │\n",
       "│ error                 │ VARCHAR     │ YES     │ NULL    │ NULL    │ NULL    │\n",
       "│ status                │ BIGINT      │ YES     │ NULL    │ NULL    │ NULL    │\n",
       "│ created_tx_method_id  │ VARCHAR     │ YES     │ NULL    │ NULL    │ NULL    │\n",
       "│ code_bytelength       │ DOUBLE      │ YES     │ NULL    │ NULL    │ NULL    │\n",
       "├───────────────────────┴─────────────┴─────────┴─────────┴─────────┴─────────┤\n",
       "│ 28 rows (20 shown)                                                6 columns │\n",
       "└─────────────────────────────────────────────────────────────────────────────┘"
      ]
     },
     "execution_count": 7,
     "metadata": {},
     "output_type": "execute_result"
    }
   ],
   "source": [
    "duckdb_client.sql(\"DESCRIBE creation_traces_v1\")\n"
   ]
  }
 ],
 "metadata": {
  "kernelspec": {
   "display_name": ".venv",
   "language": "python",
   "name": "python3"
  },
  "language_info": {
   "codemirror_mode": {
    "name": "ipython",
    "version": 3
   },
   "file_extension": ".py",
   "mimetype": "text/x-python",
   "name": "python",
   "nbconvert_exporter": "python",
   "pygments_lexer": "ipython3",
   "version": "3.12.3"
  }
 },
 "nbformat": 4,
 "nbformat_minor": 2
}
