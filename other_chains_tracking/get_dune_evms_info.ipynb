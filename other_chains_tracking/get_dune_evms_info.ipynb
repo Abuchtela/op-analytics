{
 "cells": [
  {
   "cell_type": "code",
   "execution_count": 1,
   "metadata": {},
   "outputs": [],
   "source": [
    "# query: https://dune.com/queries/\n",
    "query_id = 3445473\n",
    "query_name = 'dune_evms_info'"
   ]
  },
  {
   "cell_type": "code",
   "execution_count": 2,
   "metadata": {},
   "outputs": [
    {
     "data": {
      "text/plain": [
       "'../helper_functions'"
      ]
     },
     "execution_count": 2,
     "metadata": {},
     "output_type": "execute_result"
    }
   ],
   "source": [
    "import sys\n",
    "import pandas as pd\n",
    "sys.path.append(\"../helper_functions\")\n",
    "import duneapi_utils as d\n",
    "import google_bq_utils as bqu\n",
    "sys.path.pop()"
   ]
  },
  {
   "cell_type": "code",
   "execution_count": 3,
   "metadata": {},
   "outputs": [
    {
     "name": "stderr",
     "output_type": "stream",
     "text": [
      "\u001b[32m2024-06-11 11:31:09.791\u001b[0m | \u001b[1mINFO    \u001b[0m | \u001b[36mduneapi_utils\u001b[0m:\u001b[36mget_dune_data\u001b[0m:\u001b[36m59\u001b[0m - \u001b[1mResults available at https://dune.com/queries/3445473\u001b[0m\n",
      "\u001b[32m2024-06-11 11:31:10.535\u001b[0m | \u001b[1mINFO    \u001b[0m | \u001b[36mduneapi_utils\u001b[0m:\u001b[36mget_dune_data\u001b[0m:\u001b[36m106\u001b[0m - \u001b[1m✨ Results saved as outputs/dune_evms_info.csv, with 13 rows and 13 columns.\u001b[0m\n"
     ]
    }
   ],
   "source": [
    "dune_df = d.get_dune_data(query_id = query_id,\n",
    "    name = query_name,\n",
    "    path = \"outputs\"\n",
    ")"
   ]
  },
  {
   "cell_type": "code",
   "execution_count": 4,
   "metadata": {},
   "outputs": [
    {
     "name": "stdout",
     "output_type": "stream",
     "text": [
      "Running locally\n",
      "Data loaded successfully to api_table_uploads.dune_evms_info\n"
     ]
    }
   ],
   "source": [
    "bqu.write_df_to_bq_table(dune_df, query_name)"
   ]
  }
 ],
 "metadata": {
  "kernelspec": {
   "display_name": "new-env",
   "language": "python",
   "name": "python3"
  },
  "language_info": {
   "codemirror_mode": {
    "name": "ipython",
    "version": 3
   },
   "file_extension": ".py",
   "mimetype": "text/x-python",
   "name": "python",
   "nbconvert_exporter": "python",
   "pygments_lexer": "ipython3",
   "version": "3.12.3"
  }
 },
 "nbformat": 4,
 "nbformat_minor": 2
}
