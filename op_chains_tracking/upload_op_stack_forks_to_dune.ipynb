{
 "cells": [
  {
   "cell_type": "code",
   "execution_count": 1,
   "metadata": {},
   "outputs": [
    {
     "data": {
      "text/plain": [
       "True"
      ]
     },
     "execution_count": 1,
     "metadata": {},
     "output_type": "execute_result"
    }
   ],
   "source": [
    "import pandas as pd\n",
    "\n",
    "import sys\n",
    "sys.path.append(\"../helper_functions\")\n",
    "import duneapi_utils as d\n",
    "import pandas_utils as p\n",
    "import opstack_metadata_utils as ops\n",
    "sys.path.pop()\n",
    "\n",
    "import dotenv\n",
    "import os\n",
    "dotenv.load_dotenv()"
   ]
  },
  {
   "cell_type": "code",
   "execution_count": 2,
   "metadata": {},
   "outputs": [
    {
     "name": "stdout",
     "output_type": "stream",
     "text": [
      "             chain_name mainnet_chain_id op_based_version has_mods  \\\n",
      "0            op mainnet               10          bedrock       no   \n",
      "1                  base             8453          bedrock       no   \n",
      "2                  zora          7777777          bedrock       no   \n",
      "3  public goods network              424          bedrock       no   \n",
      "4          aevo network                    legacy bedrock      yes   \n",
      "\n",
      "  is_law_of_chains is_op_chain raas_deployer  \\\n",
      "0              yes         yes                 \n",
      "1              yes         yes                 \n",
      "2                          yes       conduit   \n",
      "3                          yes       conduit   \n",
      "4                           no       conduit   \n",
      "\n",
      "                            rpc_url               product_website  \\\n",
      "0       https://mainnet.optimism.io           https://optimism.io   \n",
      "1         https://mainnet.base.org/              https://base.org   \n",
      "2          https://rpc.zora.energy/           https://zora.energy   \n",
      "3  https://rpc.publicgoods.network/  https://publicgoods.network/   \n",
      "4              https://api.aevo.xyz         https://www.aevo.xyz/   \n",
      "\n",
      "   defillama_slug         l2beat_slug      growthepie_alias gas_token  \\\n",
      "0        Optimism            optimism            OP Mainnet       ETH   \n",
      "1            Base                base                  Base       ETH   \n",
      "2            Zora                zora                  Zora       ETH   \n",
      "3                  publicgoodsnetwork  Public Goods Network       ETH   \n",
      "4  protocols/aevo                aevo                             ETH   \n",
      "\n",
      "   da_layer is_in_superchain_registry_repo      alignment  \n",
      "0  ethereum                            yes       OP Chain  \n",
      "1  ethereum                            yes       OP Chain  \n",
      "2  ethereum                            yes       OP Chain  \n",
      "3  ethereum                            yes       OP Chain  \n",
      "4  ethereum                             no  OP Stack Fork  \n"
     ]
    }
   ],
   "source": [
    "df = pd.read_csv('inputs/chain_metadata.csv')\n",
    "df = df.applymap(lambda x: x.strip() if isinstance(x, str) else x)\n",
    "df = ops.generate_alignment_column(df)\n",
    "print(df.head(5))"
   ]
  },
  {
   "cell_type": "code",
   "execution_count": 3,
   "metadata": {},
   "outputs": [
    {
     "name": "stdout",
     "output_type": "stream",
     "text": [
      "table at: dune.oplabspbc.dataset_op_stack_chain_metadata_info_tracking\n",
      "Response status code: 200\n",
      "Response content: b'{\"success\":true,\"table_name\":\"op_stack_chain_metadata_info_tracking\"}'\n"
     ]
    }
   ],
   "source": [
    "# Post to Dune API\n",
    "d.write_dune_api_from_pandas(df, 'op_stack_chain_metadata_info_tracking',\\\n",
    "                             'Basic Info & Metadata about OP Stack Chains, including forks')"
   ]
  }
 ],
 "metadata": {
  "kernelspec": {
   "display_name": "new-env",
   "language": "python",
   "name": "python3"
  },
  "language_info": {
   "codemirror_mode": {
    "name": "ipython",
    "version": 3
   },
   "file_extension": ".py",
   "mimetype": "text/x-python",
   "name": "python",
   "nbconvert_exporter": "python",
   "pygments_lexer": "ipython3",
   "version": "3.10.11"
  },
  "orig_nbformat": 4
 },
 "nbformat": 4,
 "nbformat_minor": 2
}
