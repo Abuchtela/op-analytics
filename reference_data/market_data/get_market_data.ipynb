{
 "cells": [
  {
   "cell_type": "code",
   "execution_count": null,
   "metadata": {},
   "outputs": [],
   "source": [
    "# Generate static txt files for data points that we can reference elsewhere (i.e. Google Sheets)\n",
    "\n",
    "# Data Points: L1 Base Fee, Blob Base Fee, ETH/USD Conversion\n",
    "import requests\n",
    "import time\n",
    "from dotenv import load_dotenv\n",
    "load_dotenv()\n",
    "import os\n",
    "\n",
    "etherscan_api_key = os.environ.get('L1_ETHERSCAN_API')\n",
    "max_attempts = 3\n"
   ]
  },
  {
   "cell_type": "code",
   "execution_count": null,
   "metadata": {},
   "outputs": [],
   "source": [
    "# Get ETH/USD\n",
    "api_url = f\"https://api.etherscan.io/api?module=stats&action=ethprice&apikey={etherscan_api_key}\"\n",
    "# Make the GET request\n",
    "for attempt in range(max_attempts):\n",
    "        try:\n",
    "                response = requests.get(api_url)\n",
    "                # Check if the request was successful\n",
    "                if response.status_code == 200:\n",
    "                        # Parse the JSON response\n",
    "                        data = response.json()\n",
    "                        # Assuming you want to print or use the ETH price in USD\n",
    "                        print(data)\n",
    "                        ethusd = data.get(\"result\", {}).get(\"ethusd\")\n",
    "                        if ethusd:\n",
    "                                print(f\"ETH Price in USD: {ethusd}\")\n",
    "                                break  # Exit the loop if the data is successfully fetched and valid\n",
    "                        else:\n",
    "                                raise ValueError(\"ETH price in USD not found in the response.\")\n",
    "\n",
    "                else:\n",
    "                        raise Exception(\"Request failed.\")\n",
    "        except Exception as e:\n",
    "                print(f\"Attempt {attempt + 1} failed with error: {e}\")\n",
    "                if attempt < max_attempts - 1:\n",
    "                        print(\"Retrying in 3 seconds...\")\n",
    "                        time.sleep(3)\n",
    "                else:\n",
    "                        print(\"Failed to fetch data after 3 attempts.\")"
   ]
  },
  {
   "cell_type": "code",
   "execution_count": null,
   "metadata": {},
   "outputs": [],
   "source": [
    "api_url_gas_oracle = f\"https://api.etherscan.io/api?module=gastracker&action=gasoracle&apikey={etherscan_api_key}\"\n",
    "for attempt in range(max_attempts):\n",
    "        try:\n",
    "                response_gas_oracle = requests.get(api_url_gas_oracle)\n",
    "                if response_gas_oracle.status_code == 200:\n",
    "                        # Parse the JSON response\n",
    "                        data_gas_oracle = response_gas_oracle.json()\n",
    "                        print(data_gas_oracle)\n",
    "                        # Extract the suggestBaseFee\n",
    "                        suggest_base_fee = data_gas_oracle.get(\"result\", {}).get(\"suggestBaseFee\")\n",
    "                        if suggest_base_fee:\n",
    "                                print(f\"Suggested Base Fee: {suggest_base_fee}\")\n",
    "                                break  # Exit the loop if the data is successfully fetched and valid\n",
    "                        else:\n",
    "                                raise ValueError(\"Suggested Base Fee not found in the response.\")\n",
    "                else:\n",
    "                        print(\"Failed to fetch data from Etherscan API for gas oracle.\")\n",
    "        except Exception as e:\n",
    "                print(f\"Attempt {attempt + 1} failed with error: {e}\")\n",
    "                if attempt < max_attempts - 1:\n",
    "                        print(\"Retrying in 3 seconds...\")\n",
    "                        time.sleep(3)\n",
    "                else:\n",
    "                        print(\"Failed to fetch data after 3 attempts.\")"
   ]
  },
  {
   "cell_type": "code",
   "execution_count": null,
   "metadata": {},
   "outputs": [],
   "source": [
    "#Write to Endpoints\n",
    "with open(f\"outputs/ethusd.txt\", 'w') as file:\n",
    "        file.write(ethusd)\n",
    "with open(f\"outputs/suggest_base_fee.txt\", 'w') as file:\n",
    "        file.write(suggest_base_fee)"
   ]
  }
 ],
 "metadata": {
  "kernelspec": {
   "display_name": "new-env",
   "language": "python",
   "name": "python3"
  },
  "language_info": {
   "codemirror_mode": {
    "name": "ipython",
    "version": 3
   },
   "file_extension": ".py",
   "mimetype": "text/x-python",
   "name": "python",
   "nbconvert_exporter": "python",
   "pygments_lexer": "ipython3",
   "version": "3.1.0"
  }
 },
 "nbformat": 4,
 "nbformat_minor": 2
}
