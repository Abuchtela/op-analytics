{
 "cells": [
  {
   "cell_type": "markdown",
   "metadata": {},
   "source": [
    "## Prepare data reader for a given chain and date"
   ]
  },
  {
   "cell_type": "code",
   "execution_count": 1,
   "metadata": {},
   "outputs": [
    {
     "name": "stdout",
     "output_type": "stream",
     "text": [
      "\u001b[2m2024-12-13 00:14:50\u001b[0m [\u001b[32m\u001b[1mdebug    \u001b[0m] \u001b[1mconnecting to OPLABS Clickhouse client...\u001b[0m \u001b[36mfilename\u001b[0m=\u001b[35mclient.py\u001b[0m \u001b[36mlineno\u001b[0m=\u001b[35m25\u001b[0m \u001b[36mprocess\u001b[0m=\u001b[35m8769\u001b[0m\n",
      "\u001b[2m2024-12-13 00:14:50\u001b[0m [\u001b[32m\u001b[1minfo     \u001b[0m] \u001b[1mloaded vault from .env file   \u001b[0m \u001b[36mfilename\u001b[0m=\u001b[35mvault.py\u001b[0m \u001b[36mlineno\u001b[0m=\u001b[35m32\u001b[0m \u001b[36mprocess\u001b[0m=\u001b[35m8769\u001b[0m\n",
      "\u001b[2m2024-12-13 00:14:50\u001b[0m [\u001b[32m\u001b[1mdebug    \u001b[0m] \u001b[1mloaded vault: 17 items        \u001b[0m \u001b[36mfilename\u001b[0m=\u001b[35mvault.py\u001b[0m \u001b[36mlineno\u001b[0m=\u001b[35m76\u001b[0m \u001b[36mprocess\u001b[0m=\u001b[35m8769\u001b[0m\n",
      "\u001b[2m2024-12-13 00:14:50\u001b[0m [\u001b[32m\u001b[1mdebug    \u001b[0m] \u001b[1minitialized OPLABS Clickhouse client.\u001b[0m \u001b[36mfilename\u001b[0m=\u001b[35mclient.py\u001b[0m \u001b[36mlineno\u001b[0m=\u001b[35m37\u001b[0m \u001b[36mprocess\u001b[0m=\u001b[35m8769\u001b[0m\n",
      "\u001b[2m2024-12-13 00:14:50\u001b[0m [\u001b[32m\u001b[1minfo     \u001b[0m] \u001b[1mprepared 1 input batches.     \u001b[0m \u001b[36mfilename\u001b[0m=\u001b[35mreader_bydate.py\u001b[0m \u001b[36mlineno\u001b[0m=\u001b[35m97\u001b[0m \u001b[36mprocess\u001b[0m=\u001b[35m8769\u001b[0m\n"
     ]
    }
   ],
   "source": [
    "from op_analytics.coreutils.duckdb_inmem import init_client\n",
    "from op_analytics.coreutils.partitioned.reader import DataReader\n",
    "from op_analytics.coreutils.partitioned.location import DataLocation\n",
    "from op_analytics.datapipeline.etl.intermediate.construct import construct_data_readers\n",
    "\n",
    "from op_analytics.datapipeline.models.compute.udfs import create_duckdb_macros\n",
    "\n",
    "\n",
    "# Define the input data range.\n",
    "read_batches: list[DataReader] = construct_data_readers(\n",
    "    chains=[\"op\"],\n",
    "    models=[\"event_emitting_transactions_list\"],\n",
    "    range_spec=\"@20241118:+1\",\n",
    "    read_from=DataLocation.GCS\n",
    ")\n",
    "\n",
    "\n",
    "# Select input for one date and build the intermediate model inputs.\n",
    "batch = read_batches[0]\n",
    "\n",
    "\n",
    "duckdb_client = init_client()\n",
    "create_duckdb_macros(duckdb_client)\n"
   ]
  },
  {
   "cell_type": "markdown",
   "metadata": {},
   "source": [
    "## Run the model\n",
    "\n",
    "This automatically registers the model outputs as duckdb tables."
   ]
  },
  {
   "cell_type": "code",
   "execution_count": 2,
   "metadata": {},
   "outputs": [
    {
     "name": "stdout",
     "output_type": "stream",
     "text": [
      "\u001b[2m2024-12-13 00:14:50\u001b[0m [\u001b[32m\u001b[1minfo     \u001b[0m] \u001b[1mExecuting model...            \u001b[0m \u001b[36mfilename\u001b[0m=\u001b[35mtestutils.py\u001b[0m \u001b[36mlineno\u001b[0m=\u001b[35m220\u001b[0m \u001b[36mprocess\u001b[0m=\u001b[35m8769\u001b[0m\n",
      "\u001b[2m2024-12-13 00:14:50\u001b[0m [\u001b[32m\u001b[1minfo     \u001b[0m] \u001b[1mduckdb dataset='ingestion/logs_v1' using 1/22 parquet paths, first path is gs://oplabs-tools-data-sink/ingestion/logs_v1/chain=op/dt=2024-11-18/000128144000.parquet\u001b[0m \u001b[36mfilename\u001b[0m=\u001b[35mreader.py\u001b[0m \u001b[36mlineno\u001b[0m=\u001b[35m68\u001b[0m \u001b[36mprocess\u001b[0m=\u001b[35m8769\u001b[0m\n",
      "\u001b[2m2024-12-13 00:14:53\u001b[0m [\u001b[32m\u001b[1minfo     \u001b[0m] \u001b[1mregistered view: 'ingestion_logs_v1' using 1 parquet paths\u001b[0m \u001b[36mfilename\u001b[0m=\u001b[35mclient.py\u001b[0m \u001b[36mlineno\u001b[0m=\u001b[35m53\u001b[0m \u001b[36mprocess\u001b[0m=\u001b[35m8769\u001b[0m\n",
      "\u001b[2m2024-12-13 00:14:53\u001b[0m [\u001b[32m\u001b[1minfo     \u001b[0m] \u001b[1mduckdb dataset='ingestion/transactions_v1' using 1/22 parquet paths, first path is gs://oplabs-tools-data-sink/ingestion/transactions_v1/chain=op/dt=2024-11-18/000128144000.parquet\u001b[0m \u001b[36mfilename\u001b[0m=\u001b[35mreader.py\u001b[0m \u001b[36mlineno\u001b[0m=\u001b[35m68\u001b[0m \u001b[36mprocess\u001b[0m=\u001b[35m8769\u001b[0m\n",
      "\u001b[2m2024-12-13 00:14:54\u001b[0m [\u001b[32m\u001b[1minfo     \u001b[0m] \u001b[1mregistered view: 'ingestion_transactions_v1' using 1 parquet paths\u001b[0m \u001b[36mfilename\u001b[0m=\u001b[35mclient.py\u001b[0m \u001b[36mlineno\u001b[0m=\u001b[35m53\u001b[0m \u001b[36mprocess\u001b[0m=\u001b[35m8769\u001b[0m\n",
      "\u001b[2m2024-12-13 00:14:54\u001b[0m [\u001b[32m\u001b[1minfo     \u001b[0m] \u001b[1mRendering query               \u001b[0m \u001b[36mfilename\u001b[0m=\u001b[35mquerybuilder.py\u001b[0m \u001b[36mlineno\u001b[0m=\u001b[35m40\u001b[0m \u001b[36mprocess\u001b[0m=\u001b[35m8769\u001b[0m \u001b[36mtemplate\u001b[0m=\u001b[35mevent_emitting_transactions_list\u001b[0m\n",
      "dict_keys(['event_emitting_transactions_list_v1'])\n"
     ]
    },
    {
     "data": {
      "text/plain": [
       "┌─────────────────────────────────────┐\n",
       "│                name                 │\n",
       "│               varchar               │\n",
       "├─────────────────────────────────────┤\n",
       "│ event_emitting_transactions_list    │\n",
       "│ event_emitting_transactions_list_v1 │\n",
       "│ ingestion_logs_v1                   │\n",
       "│ ingestion_transactions_v1           │\n",
       "└─────────────────────────────────────┘"
      ]
     },
     "execution_count": 2,
     "metadata": {},
     "output_type": "execute_result"
    }
   ],
   "source": [
    "from op_analytics.datapipeline.models.compute.testutils import execute_model_in_memory\n",
    "\n",
    "execute_model_in_memory(\n",
    "    duckdb_client=duckdb_client,\n",
    "    model=\"event_emitting_transactions_list\",\n",
    "    data_reader=batch,\n",
    "    limit_input_parquet_files=1\n",
    ")\n",
    "\n",
    "# The duckdb database will have the following:\n",
    "#   - input tables\n",
    "#   - views used by the model\n",
    "#   - model outputs\n",
    "# \n",
    "# You can use duckdb to inspect any of the above results.\n",
    "duckdb_client.sql(\"SHOW TABLES\")"
   ]
  },
  {
   "cell_type": "markdown",
   "metadata": {},
   "source": [
    "## Verify model results"
   ]
  },
  {
   "cell_type": "code",
   "execution_count": 3,
   "metadata": {},
   "outputs": [
    {
     "data": {
      "text/plain": [
       "┌────────────┬─────────────────────┬─────────────────┬─────────┬─────────┬──────────┬──────────────┬────────────────────────────────────────────────────────────────────┬────────────┬────────────────────┬───────────────────────┬───────────────────────┬───────────────────────┐\n",
       "│     dt     │     block_hour      │ block_timestamp │ network │  chain  │ chain_id │ block_number │                          transaction_hash                          │ gas_price  │ count_total_events │ count_approval_events │ count_wrapping_events │ count_transfer_events │\n",
       "│    date    │      timestamp      │     uint32      │ varchar │ varchar │  int32   │    int64     │                              varchar                               │   int64    │       int64        │     decimal(38,0)     │     decimal(38,0)     │     decimal(38,0)     │\n",
       "├────────────┼─────────────────────┼─────────────────┼─────────┼─────────┼──────────┼──────────────┼────────────────────────────────────────────────────────────────────┼────────────┼────────────────────┼───────────────────────┼───────────────────────┼───────────────────────┤\n",
       "│ 2024-11-18 │ 2024-11-18 00:00:00 │      1731890757 │ mainnet │ op      │       10 │    128145990 │ 0x6b6aa9ee2a63a6e07504e13163a1c5e38a7ad9ad610dc75d5faeb7c7b73fcb28 │    1012547 │                 10 │                     3 │                     0 │                     4 │\n",
       "│ 2024-11-18 │ 2024-11-18 00:00:00 │      1731890759 │ mainnet │ op      │       10 │    128145991 │ 0xb02d17c075ebe278fd28ee509eb3ac5b3085c20016116cc1179336f69c945a61 │ 1109509630 │                  3 │                     0 │                     0 │                     2 │\n",
       "│ 2024-11-18 │ 2024-11-18 00:00:00 │      1731890763 │ mainnet │ op      │       10 │    128145993 │ 0xfda315a9d09fa1cf40c7d7af0f578589d3bbdf151367ce11ac56408e6968bb37 │   10025300 │                  6 │                     0 │                     0 │                     4 │\n",
       "│ 2024-11-18 │ 2024-11-18 00:00:00 │      1731890763 │ mainnet │ op      │       10 │    128145993 │ 0x82ad92eb4a44a9a8edfef3bd1f3baa64b1e28ad9424cd365733d8f10f57aa18b │     247029 │                 10 │                     1 │                     0 │                     1 │\n",
       "│ 2024-11-18 │ 2024-11-18 00:00:00 │      1731890765 │ mainnet │ op      │       10 │    128145994 │ 0xbbff1e7974443e441c535c1acd59b66a79532921788598000810aa31272a9171 │   15037965 │                  6 │                     0 │                     0 │                     4 │\n",
       "│ 2024-11-18 │ 2024-11-18 00:00:00 │      1731890767 │ mainnet │ op      │       10 │    128145995 │ 0xb2ea35d784f78b1e51d971845f8dd5013c3acec101cecb2c4ba75903d189850f │     215459 │                 13 │                     2 │                     0 │                     3 │\n",
       "│ 2024-11-18 │ 2024-11-18 00:00:00 │      1731890767 │ mainnet │ op      │       10 │    128145995 │ 0x8bf3c27e006f06cbdd62385d37208b2f56d7f4bad00bacf470a0c3de81e4cf06 │   10000000 │                 10 │                     0 │                     1 │                     3 │\n",
       "│ 2024-11-18 │ 2024-11-18 00:00:00 │      1731890767 │ mainnet │ op      │       10 │    128145995 │ 0xa9f7711166e923fda0807100f37ded741b87d951522db1c18fcc3bc0b5557a04 │    1203052 │                 16 │                     0 │                     0 │                     7 │\n",
       "│ 2024-11-18 │ 2024-11-18 00:00:00 │      1731890769 │ mainnet │ op      │       10 │    128145996 │ 0x839c031e819358157b6d9f1b2a45d8f81b340b7f8c03865bd0cc054b909817fc │    1002543 │                  6 │                     0 │                     0 │                     2 │\n",
       "│ 2024-11-18 │ 2024-11-18 00:00:00 │      1731890771 │ mainnet │ op      │       10 │    128145997 │ 0x23b91de60536da3155b36dd60ea075888d5b29dc3d01f11085e30d9212d6d027 │ 4098824393 │                  3 │                     0 │                     0 │                     2 │\n",
       "├────────────┴─────────────────────┴─────────────────┴─────────┴─────────┴──────────┴──────────────┴────────────────────────────────────────────────────────────────────┴────────────┴────────────────────┴───────────────────────┴───────────────────────┴───────────────────────┤\n",
       "│ 10 rows                                                                                                                                                                                                                                                              13 columns │\n",
       "└─────────────────────────────────────────────────────────────────────────────────────────────────────────────────────────────────────────────────────────────────────────────────────────────────────────────────────────────────────────────────────────────────────────────────┘"
      ]
     },
     "execution_count": 3,
     "metadata": {},
     "output_type": "execute_result"
    }
   ],
   "source": [
    "duckdb_client.sql(\"SELECT * FROM event_emitting_transactions_list_v1 LIMIT 10\")"
   ]
  },
  {
   "cell_type": "markdown",
   "metadata": {},
   "source": [
    "### Check the data output size"
   ]
  },
  {
   "cell_type": "code",
   "execution_count": 4,
   "metadata": {},
   "outputs": [
    {
     "data": {
      "text/plain": [
       "┌──────────────┐\n",
       "│ count_star() │\n",
       "│    int64     │\n",
       "├──────────────┤\n",
       "│        16679 │\n",
       "└──────────────┘"
      ]
     },
     "execution_count": 4,
     "metadata": {},
     "output_type": "execute_result"
    }
   ],
   "source": [
    "duckdb_client.sql(\"SELECT COUNT(*) FROM event_emitting_transactions_list_v1\")"
   ]
  },
  {
   "cell_type": "code",
   "execution_count": 6,
   "metadata": {},
   "outputs": [
    {
     "ename": "BinderException",
     "evalue": "Binder Error: Referenced column \"input\" not found in FROM clause!\nCandidate bindings: \"event_emitting_transactions_list_v1.network\", \"event_emitting_transactions_list_v1.chain_id\", \"event_emitting_transactions_list_v1.block_number\"",
     "output_type": "error",
     "traceback": [
      "\u001b[0;31m---------------------------------------------------------------------------\u001b[0m",
      "\u001b[0;31mBinderException\u001b[0m                           Traceback (most recent call last)",
      "Cell \u001b[0;32mIn[6], line 1\u001b[0m\n\u001b[0;32m----> 1\u001b[0m \u001b[43mduckdb_client\u001b[49m\u001b[38;5;241;43m.\u001b[39;49m\u001b[43msql\u001b[49m\u001b[43m(\u001b[49m\u001b[38;5;124;43m\"\u001b[39;49m\u001b[38;5;124;43mSELECT input FROM event_emitting_transactions_list_v1 LIMIT 10\u001b[39;49m\u001b[38;5;124;43m\"\u001b[39;49m\u001b[43m)\u001b[49m\n",
      "\u001b[0;31mBinderException\u001b[0m: Binder Error: Referenced column \"input\" not found in FROM clause!\nCandidate bindings: \"event_emitting_transactions_list_v1.network\", \"event_emitting_transactions_list_v1.chain_id\", \"event_emitting_transactions_list_v1.block_number\""
     ]
    }
   ],
   "source": [
    "duckdb_client.sql(\"SELECT input FROM event_emitting_transactions_list_v1 LIMIT 10\")\n"
   ]
  },
  {
   "cell_type": "markdown",
   "metadata": {},
   "source": [
    "### You can also convert the results to dataframes to inspect them in more familiar ways"
   ]
  },
  {
   "cell_type": "code",
   "execution_count": null,
   "metadata": {},
   "outputs": [],
   "source": [
    "duckdb_client.sql(\"SELECT * FROM refined_transactions_fees_v1 LIMIT 10\").pl().head()"
   ]
  },
  {
   "cell_type": "markdown",
   "metadata": {},
   "source": [
    "### Get table schema"
   ]
  },
  {
   "cell_type": "code",
   "execution_count": null,
   "metadata": {},
   "outputs": [],
   "source": [
    "duckdb_client.sql(\"DESCRIBE event_emitting_transactions_v1\")\n"
   ]
  },
  {
   "cell_type": "code",
   "execution_count": null,
   "metadata": {},
   "outputs": [],
   "source": []
  }
 ],
 "metadata": {
  "kernelspec": {
   "display_name": ".venv",
   "language": "python",
   "name": "python3"
  },
  "language_info": {
   "codemirror_mode": {
    "name": "ipython",
    "version": 3
   },
   "file_extension": ".py",
   "mimetype": "text/x-python",
   "name": "python",
   "nbconvert_exporter": "python",
   "pygments_lexer": "ipython3",
   "version": "3.12.4"
  }
 },
 "nbformat": 4,
 "nbformat_minor": 2
}
