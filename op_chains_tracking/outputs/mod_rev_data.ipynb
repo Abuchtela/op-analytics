{
 "cells": [
  {
   "cell_type": "code",
   "execution_count": 1,
   "metadata": {},
   "outputs": [],
   "source": [
    "import pandas as pd\n",
    "\n",
    "# Load the CSV file into a DataFrame\n",
    "df = pd.read_csv('all_time_revenue_data.csv')\n",
    "\n",
    "# Replace 'zora network' with 'zora' in the 'chain' column\n",
    "df['chain_name'] = df['chain_name'].replace('zora network', 'zora')\n",
    "\n",
    "# Save the updated DataFrame back to the CSV file\n",
    "df.to_csv('all_time_revenue_data.csv', index=False)\n"
   ]
  }
 ],
 "metadata": {
  "kernelspec": {
   "display_name": "new-env",
   "language": "python",
   "name": "python3"
  },
  "language_info": {
   "codemirror_mode": {
    "name": "ipython",
    "version": 3
   },
   "file_extension": ".py",
   "mimetype": "text/x-python",
   "name": "python",
   "nbconvert_exporter": "python",
   "pygments_lexer": "ipython3",
   "version": "3.10.11"
  },
  "orig_nbformat": 4
 },
 "nbformat": 4,
 "nbformat_minor": 2
}
