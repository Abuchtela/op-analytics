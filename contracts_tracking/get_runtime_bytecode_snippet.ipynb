{
 "cells": [
  {
   "cell_type": "code",
   "execution_count": 9,
   "metadata": {},
   "outputs": [],
   "source": [
    "import sys\n",
    "sys.path.append(\"../helper_functions\")\n",
    "import web3py_utils as wpy\n",
    "import pandas_utils as pu\n",
    "import web3py_utils as w3py\n",
    "sys.path.pop()\n",
    "\n",
    "import pandas as pd\n",
    "from dotenv import load_dotenv\n",
    "load_dotenv()\n",
    "import os\n",
    "\n",
    "endpoint = os.environ[\"OP_NODE\"]\n",
    "\n",
    "l2_output_signatures = [\n",
    "        'getL2Output(uint256)'\n",
    "        ,'getL2OutputIndexAfter(uint256)'\n",
    "        ,'getL2OutputAfter(uint256)'\n",
    "        ,'latestOutputIndex()'\n",
    "        ,'nextOutputIndex()'\n",
    "]"
   ]
  },
  {
   "cell_type": "code",
   "execution_count": 10,
   "metadata": {},
   "outputs": [
    {
     "name": "stdout",
     "output_type": "stream",
     "text": [
      "('getL2Output(uint256)', 0x63a25ae557),\n",
      "('getL2OutputIndexAfter(uint256)', 0x637f006420),\n",
      "('getL2OutputAfter(uint256)', 0x63cf8e5cf0),\n",
      "('latestOutputIndex()', 0x6369f16eec),\n",
      "('nextOutputIndex()', 0x636abcf563)\n"
     ]
    }
   ],
   "source": [
    "opcode = 'PUSH4'\n",
    "test_arr = []\n",
    "\n",
    "for sig in l2_output_signatures:\n",
    "        bytecode = w3py.get_bytecode_pattern(endpoint, sig, opcode)\n",
    "        test_arr.append([sig,bytecode])\n",
    "\n",
    "formatted_arr = []\n",
    "\n",
    "for item in test_arr:\n",
    "    function_name = item[0]\n",
    "    opcode = item[1].replace(\"'0x\", \"0x\")  # Remove the '0x' prefix\n",
    "    formatted_arr.append(f\"('{function_name}', {opcode})\")\n",
    "\n",
    "# Join the formatted array using commas\n",
    "formatted_string = \",\\n\".join(formatted_arr)\n",
    "\n",
    "print(formatted_string)"
   ]
  }
 ],
 "metadata": {
  "kernelspec": {
   "display_name": "new-env",
   "language": "python",
   "name": "python3"
  },
  "language_info": {
   "codemirror_mode": {
    "name": "ipython",
    "version": 3
   },
   "file_extension": ".py",
   "mimetype": "text/x-python",
   "name": "python",
   "nbconvert_exporter": "python",
   "pygments_lexer": "ipython3",
   "version": "3.10.11"
  },
  "orig_nbformat": 4
 },
 "nbformat": 4,
 "nbformat_minor": 2
}
