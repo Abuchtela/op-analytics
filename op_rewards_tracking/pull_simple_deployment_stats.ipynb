{
 "cells": [
  {
   "cell_type": "code",
   "execution_count": null,
   "metadata": {},
   "outputs": [],
   "source": [
    "# Based off of Cow Protocol's Dune Client: https://github.com/cowprotocol/dune-client\n",
    "import pandas as pd\n",
    "import dotenv\n",
    "import os\n",
    "import sys\n",
    "sys.path.append('../helper_functions')\n",
    "import duneapi_utils as d\n",
    "\n",
    "from dune_client.types import QueryParameter\n",
    "from dune_client.client import DuneClient\n",
    "from dune_client.query import Query"
   ]
  },
  {
   "cell_type": "code",
   "execution_count": null,
   "metadata": {},
   "outputs": [],
   "source": [
    "# # https://dune.com/queries/2162007 # OP Distributed - OP Deployed Aggregate\n",
    "# query_aggregate = Query(\n",
    "#     name=\"Latest OP Deployments by Project\",\n",
    "#     query_id=2162007,\n",
    "# )\n",
    "# print(\"Results available at\", query_aggregate.url())\n",
    "\n",
    "# https://dune.com/queries/1886707 # OP Distributed - OP Deployed By Type\n",
    "df_type = d.df_run_duneapi_query(1886707, \"Latest OP Deployments by Project and Type\")\n",
    "print('type done')"
   ]
  },
  {
   "cell_type": "code",
   "execution_count": null,
   "metadata": {},
   "outputs": [],
   "source": [
    "if not os.path.exists('csv_outputs'):\n",
    "    os.makedirs('csv_outputs')\n",
    "\n",
    "# df_agg.to_csv('csv_outputs/dune_op_distribution_agg.csv')\n",
    "df_type.to_csv('csv_outputs/dune_op_distribution_type.csv')"
   ]
  },
  {
   "cell_type": "code",
   "execution_count": null,
   "metadata": {},
   "outputs": [],
   "source": [
    "display(df_type)"
   ]
  }
 ],
 "metadata": {
  "kernelspec": {
   "display_name": "py10",
   "language": "python",
   "name": "python3"
  },
  "language_info": {
   "codemirror_mode": {
    "name": "ipython",
    "version": 3
   },
   "file_extension": ".py",
   "mimetype": "text/x-python",
   "name": "python",
   "nbconvert_exporter": "python",
   "pygments_lexer": "ipython3",
   "version": "3.10.8"
  },
  "orig_nbformat": 4,
  "vscode": {
   "interpreter": {
    "hash": "568c45baba86190bf65a5d0b3302bdb9b067c88c2eaacc48373a8c9b6714aa9a"
   }
  }
 },
 "nbformat": 4,
 "nbformat_minor": 2
}
