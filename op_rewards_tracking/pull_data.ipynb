{
 "cells": [
  {
   "cell_type": "code",
   "execution_count": 3,
   "metadata": {},
   "outputs": [],
   "source": [
    "import sys\n",
    "sys.path.append('../helper_functions')\n",
    "import duneapi_utils as d"
   ]
  },
  {
   "cell_type": "code",
   "execution_count": 4,
   "metadata": {},
   "outputs": [],
   "source": [
    "# add any data to pull here\n",
    "data = {\n",
    "    # 1886707: \"dune_op_distribution_type\",\n",
    "    # 1900056: \"dune_op_distribution\",\n",
    "    2195796: \"dune_op_program_performance_summary\"\n",
    "}"
   ]
  },
  {
   "cell_type": "code",
   "execution_count": 5,
   "metadata": {},
   "outputs": [
    {
     "name": "stderr",
     "output_type": "stream",
     "text": [
      "2023-03-14 15:46:14.675 | INFO     | duneapi_utils:get_dune_data:20 - Results available at https://dune.com/queries/2195796\n",
      "2023-03-14 15:46:16,403 INFO dune_client.base_client waiting for query execution 01GVF71F5HJBRVTYVB8K31PHXC to complete: ExecutionState.EXECUTING\n",
      "2023-03-14 15:46:22,262 INFO dune_client.base_client waiting for query execution 01GVF71F5HJBRVTYVB8K31PHXC to complete: ExecutionState.EXECUTING\n",
      "2023-03-14 15:46:28,112 INFO dune_client.base_client waiting for query execution 01GVF71F5HJBRVTYVB8K31PHXC to complete: ExecutionState.EXECUTING\n",
      "2023-03-14 15:46:33,946 INFO dune_client.base_client waiting for query execution 01GVF71F5HJBRVTYVB8K31PHXC to complete: ExecutionState.EXECUTING\n",
      "2023-03-14 15:46:40,018 INFO dune_client.base_client waiting for query execution 01GVF71F5HJBRVTYVB8K31PHXC to complete: ExecutionState.EXECUTING\n",
      "2023-03-14 15:46:46,125 INFO dune_client.base_client waiting for query execution 01GVF71F5HJBRVTYVB8K31PHXC to complete: ExecutionState.EXECUTING\n",
      "2023-03-14 15:46:52,207 INFO dune_client.base_client waiting for query execution 01GVF71F5HJBRVTYVB8K31PHXC to complete: ExecutionState.EXECUTING\n",
      "2023-03-14 15:46:58,419 INFO dune_client.base_client waiting for query execution 01GVF71F5HJBRVTYVB8K31PHXC to complete: ExecutionState.EXECUTING\n",
      "2023-03-14 15:47:04,573 INFO dune_client.base_client waiting for query execution 01GVF71F5HJBRVTYVB8K31PHXC to complete: ExecutionState.EXECUTING\n",
      "2023-03-14 15:47:10,802 INFO dune_client.base_client waiting for query execution 01GVF71F5HJBRVTYVB8K31PHXC to complete: ExecutionState.EXECUTING\n",
      "2023-03-14 15:47:16,871 INFO dune_client.base_client waiting for query execution 01GVF71F5HJBRVTYVB8K31PHXC to complete: ExecutionState.EXECUTING\n",
      "2023-03-14 15:47:23,088 INFO dune_client.base_client waiting for query execution 01GVF71F5HJBRVTYVB8K31PHXC to complete: ExecutionState.EXECUTING\n",
      "2023-03-14 15:47:29,250 INFO dune_client.base_client waiting for query execution 01GVF71F5HJBRVTYVB8K31PHXC to complete: ExecutionState.EXECUTING\n",
      "2023-03-14 15:47:35,381 INFO dune_client.base_client waiting for query execution 01GVF71F5HJBRVTYVB8K31PHXC to complete: ExecutionState.EXECUTING\n",
      "2023-03-14 15:47:41,225 INFO dune_client.base_client waiting for query execution 01GVF71F5HJBRVTYVB8K31PHXC to complete: ExecutionState.EXECUTING\n",
      "2023-03-14 15:47:47,126 INFO dune_client.base_client waiting for query execution 01GVF71F5HJBRVTYVB8K31PHXC to complete: ExecutionState.EXECUTING\n",
      "2023-03-14 15:47:52,942 INFO dune_client.base_client waiting for query execution 01GVF71F5HJBRVTYVB8K31PHXC to complete: ExecutionState.EXECUTING\n",
      "2023-03-14 15:47:58,834 INFO dune_client.base_client waiting for query execution 01GVF71F5HJBRVTYVB8K31PHXC to complete: ExecutionState.EXECUTING\n",
      "2023-03-14 15:48:04,972 INFO dune_client.base_client waiting for query execution 01GVF71F5HJBRVTYVB8K31PHXC to complete: ExecutionState.EXECUTING\n",
      "2023-03-14 15:48:10,895 INFO dune_client.base_client waiting for query execution 01GVF71F5HJBRVTYVB8K31PHXC to complete: ExecutionState.EXECUTING\n",
      "2023-03-14 15:48:16,848 INFO dune_client.base_client waiting for query execution 01GVF71F5HJBRVTYVB8K31PHXC to complete: ExecutionState.EXECUTING\n",
      "2023-03-14 15:48:23,007 INFO dune_client.base_client waiting for query execution 01GVF71F5HJBRVTYVB8K31PHXC to complete: ExecutionState.EXECUTING\n",
      "2023-03-14 15:48:30.510 | INFO     | duneapi_utils:get_dune_data:34 - ✨ Results saved as csv_outputs/dune_op_program_performance_summary.csv, with 41 rows and 44 columns.\n"
     ]
    }
   ],
   "source": [
    "for query_id, csv_name in data.items():\n",
    "    d.get_dune_data(query_id, csv_name)"
   ]
  }
 ],
 "metadata": {
  "kernelspec": {
   "display_name": "Python 3",
   "language": "python",
   "name": "python3"
  },
  "language_info": {
   "codemirror_mode": {
    "name": "ipython",
    "version": 3
   },
   "file_extension": ".py",
   "mimetype": "text/x-python",
   "name": "python",
   "nbconvert_exporter": "python",
   "pygments_lexer": "ipython3",
   "version": "3.10.4"
  },
  "orig_nbformat": 4
 },
 "nbformat": 4,
 "nbformat_minor": 2
}
