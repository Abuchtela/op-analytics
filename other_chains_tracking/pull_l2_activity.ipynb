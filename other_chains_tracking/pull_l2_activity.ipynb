{
 "cells": [
  {
   "cell_type": "code",
   "execution_count": null,
   "metadata": {},
   "outputs": [],
   "source": [
    "print('start l2 activity')\n",
    "import sys\n",
    "sys.path.append(\"../helper_functions\")\n",
    "import duneapi_utils as d\n",
    "import growthepieapi_utils as gtp\n",
    "import l2beat_utils as ltwo\n",
    "sys.path.pop()\n",
    "\n",
    "import numpy as np\n",
    "import pandas as pd"
   ]
  },
  {
   "cell_type": "code",
   "execution_count": null,
   "metadata": {},
   "outputs": [],
   "source": [
    "# # # Usage\n",
    "gtp_api = gtp.get_growthepie_api_data()\n",
    "# # print(merged_df.sample(5))\n",
    "gtp_meta_api = gtp.get_growthepie_api_meta()"
   ]
  },
  {
   "cell_type": "code",
   "execution_count": null,
   "metadata": {},
   "outputs": [],
   "source": [
    "l2beat_df = ltwo.get_all_l2beat_data()\n",
    "l2beat_meta = ltwo.get_l2beat_metadata()\n",
    "l2beat_meta['chain'] = l2beat_meta['slug']"
   ]
  },
  {
   "cell_type": "code",
   "execution_count": null,
   "metadata": {},
   "outputs": [],
   "source": [
    "# print(l2beat_df[l2beat_df['chain']=='degen'].sample(5))\n",
    "# print(l2beat_meta[l2beat_meta['layer']=='layer2'].sample(5))\n",
    "# print(l2beat_meta[l2beat_meta['layer']=='layer3'].sample(5))"
   ]
  },
  {
   "cell_type": "code",
   "execution_count": null,
   "metadata": {},
   "outputs": [],
   "source": [
    "# display(l2beat_meta.sample(5))"
   ]
  },
  {
   "cell_type": "code",
   "execution_count": null,
   "metadata": {},
   "outputs": [],
   "source": [
    "combined_l2b_df = l2beat_df.merge(l2beat_meta[['chain','name','layer','chainId','provider','category','is_upcoming']], on='chain',how='left')\n",
    "# combined_l2b_df.tail(5)"
   ]
  },
  {
   "cell_type": "code",
   "execution_count": null,
   "metadata": {},
   "outputs": [],
   "source": [
    "combined_gtp_df = gtp_api.merge(gtp_meta_api[['origin_key','chain_name']], on='origin_key',how='left')\n",
    "# combined_gtp_df.sample(5)"
   ]
  },
  {
   "cell_type": "code",
   "execution_count": null,
   "metadata": {},
   "outputs": [],
   "source": [
    "# Check Columns\n",
    "# Assuming combined_gtp_df is your DataFrame\n",
    "column_names = combined_gtp_df.columns\n",
    "\n",
    "for col in column_names:\n",
    "    if col.endswith('_usd'):\n",
    "        # Construct the new column name by replacing '_usd' with '_eth'\n",
    "        new_col_name = col.replace('_usd', '_eth')\n",
    "        \n",
    "        # Check if the new column name exists in the DataFrame\n",
    "        if new_col_name not in combined_gtp_df.columns:\n",
    "            # If it doesn't exist, create the column and fill it with nan values\n",
    "            combined_gtp_df[new_col_name] = np.nan"
   ]
  },
  {
   "cell_type": "code",
   "execution_count": null,
   "metadata": {},
   "outputs": [],
   "source": [
    "# print(combined_gtp_df.dtypes)\n",
    "# print(l2beat_df.dtypes)\n",
    "# combined_gtp_df.sample(5)\n",
    "combined_l2b_df.sample(5)"
   ]
  },
  {
   "cell_type": "code",
   "execution_count": null,
   "metadata": {},
   "outputs": [],
   "source": [
    "# Add Metadata\n",
    "opstack_metadata = opstack_metadata = pd.read_csv('../op_chains_tracking/outputs/chain_metadata.csv')\n",
    "opstack_metadata['chain'] = opstack_metadata['l2beat_slug']\n",
    "meta_cols = ['chain', 'is_op_chain','mainnet_chain_id','op_based_version', 'alignment','chain_name']\n",
    "\n",
    "l2b_enriched_df = combined_l2b_df.merge(opstack_metadata[meta_cols], on='chain', how = 'left')\n",
    "\n",
    "l2b_enriched_df['alignment'] = l2b_enriched_df['alignment'].fillna('Other EVMs')\n",
    "l2b_enriched_df['is_op_chain'] = l2b_enriched_df['is_op_chain'].fillna(False)"
   ]
  },
  {
   "cell_type": "code",
   "execution_count": null,
   "metadata": {},
   "outputs": [],
   "source": [
    "#  Define aggregation functions for each column\n",
    "aggregations = {\n",
    "    'valueUsd': ['min', 'last', 'mean'],\n",
    "    'transactions': ['sum', 'mean'],\n",
    "    'cbvUsd': ['min', 'last', 'mean'],\n",
    "    'ebvUsd': ['min', 'last', 'mean'],\n",
    "    'nmvUsd': ['min', 'last', 'mean'],\n",
    "}\n",
    "\n",
    "# Group by month, chain, layer, and other specified columns and apply aggregations\n",
    "l2b_monthly_df = l2b_enriched_df.groupby([pd.Grouper(key='timestamp', freq='MS'), 'chain', 'layer', 'is_op_chain', 'mainnet_chain_id', 'op_based_version', 'alignment', 'chain_name'], dropna=False).agg(aggregations).reset_index()\n",
    "\n",
    "# Flatten the hierarchical column index and concatenate aggregation function names with column names\n",
    "l2b_monthly_df.columns = [f'{col}_{func}' if func != '' else col for col, func in l2b_monthly_df.columns]\n",
    "\n",
    "# Rename the 'date' column\n",
    "l2b_monthly_df.rename(columns={'timestamp': 'month'}, inplace=True)\n",
    "l2b_monthly_df.sample(5)"
   ]
  },
  {
   "cell_type": "code",
   "execution_count": null,
   "metadata": {},
   "outputs": [],
   "source": [
    "# export\n",
    "folder = 'outputs/'\n",
    "combined_gtp_df.to_csv(folder + 'growthepie_l2_activity.csv', index = False)\n",
    "gtp_meta_api.to_csv(folder + 'growthepie_l2_metadata.csv', index = False)\n",
    "l2b_enriched_df.to_csv(folder + 'l2beat_l2_activity.csv', index = False)\n",
    "l2beat_meta.to_csv(folder + 'l2beat_l2_metadata.csv', index = False)\n",
    "l2b_monthly_df.to_csv(folder + 'l2beat_l2_activity_monthly.csv', index = False)\n",
    "# Post to Dune API\n",
    "d.write_dune_api_from_pandas(combined_gtp_df, 'growthepie_l2_activity',\\\n",
    "                             'L2 Usage Activity from GrowThePie')\n",
    "d.write_dune_api_from_pandas(gtp_meta_api, 'growthepie_l2_metadata',\\\n",
    "                             'L2 Metadata from GrowThePie')\n",
    "d.write_dune_api_from_pandas(l2b_enriched_df, 'l2beat_l2_activity',\\\n",
    "                             'L2 Usage Activity from L2Beat')\n",
    "d.write_dune_api_from_pandas(l2b_monthly_df, 'l2beat_l2_activity_monthly',\\\n",
    "                             'Monthly L2 Usage Activity from L2Beat')\n",
    "d.write_dune_api_from_pandas(l2beat_meta, 'l2beat_l2_metadata',\\\n",
    "                             'L2 Metadata from L2Beat')\n"
   ]
  }
 ],
 "metadata": {
  "kernelspec": {
   "display_name": "new-env",
   "language": "python",
   "name": "python3"
  },
  "language_info": {
   "codemirror_mode": {
    "name": "ipython",
    "version": 3
   },
   "file_extension": ".py",
   "mimetype": "text/x-python",
   "name": "python",
   "nbconvert_exporter": "python",
   "pygments_lexer": "ipython3",
   "version": "3.10.11"
  },
  "orig_nbformat": 4
 },
 "nbformat": 4,
 "nbformat_minor": 2
}
