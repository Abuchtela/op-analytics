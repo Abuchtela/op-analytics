{
 "cells": [
  {
   "cell_type": "code",
   "execution_count": 19,
   "metadata": {},
   "outputs": [],
   "source": [
    "import requests as r\n",
    "import pandas as pd\n",
    "\n",
    "import sys\n",
    "sys.path.append(\"../helper_functions\")\n",
    "import duneapi_utils as d\n",
    "import metabaseapi_utils as mb\n",
    "sys.path.pop()\n",
    "\n",
    "import os\n",
    "import dotenv\n",
    "\n",
    "dotenv.load_dotenv()\n",
    "mb_name = os.environ[\"MS_METABASE_NAME\"]\n",
    "mb_pw = os.environ[\"MS_METABASE_PW\"]\n",
    "\n",
    "mb_url_base = \"https://dash.goldsky.com\"\n",
    "\n",
    "# https://goldsky.notion.site/SHARED-Lightweight-API-Documentation-for-Goldsky-Dashboarding-5cde15ba222844f485c31a4426f6ed53"
   ]
  },
  {
   "cell_type": "code",
   "execution_count": 20,
   "metadata": {},
   "outputs": [],
   "source": [
    "# Map Chain Names\n",
    "chain_mappings = {\n",
    "    'zora': 'Zora Network',\n",
    "    'pgn': 'Public Goods Network',\n",
    "    # Add more mappings as needed\n",
    "}"
   ]
  },
  {
   "cell_type": "code",
   "execution_count": 21,
   "metadata": {},
   "outputs": [],
   "source": [
    "try: #do you already have a session\n",
    "        session_id = os.environ[\"MS_METABASE_SESSION_ID\"]\n",
    "except: #if not, make one\n",
    "        print('creating new session')\n",
    "        session_id = mb.get_mb_session_key(mb_url_base,mb_name,mb_pw)\n",
    "# print(session_id)\n",
    "\n"
   ]
  },
  {
   "cell_type": "code",
   "execution_count": 22,
   "metadata": {},
   "outputs": [],
   "source": [
    "# Run Query\n",
    "\n",
    "#https://dash.goldsky.com/question/20-get-kr1-active-developers\n",
    "resp = mb.get_mb_query_response(mb_url_base, session_id, 20)\n",
    "# print(resp)"
   ]
  },
  {
   "cell_type": "code",
   "execution_count": 23,
   "metadata": {},
   "outputs": [
    {
     "name": "stdout",
     "output_type": "stream",
     "text": [
      "Index(['chain', 'chain_type', 'dt', 'creator_address', 'num_contracts',\n",
      "       'num_eoa_deployed_contracts', 'num_create2_deployed_contracts',\n",
      "       'num_aa_deployed_contracts'],\n",
      "      dtype='object')\n"
     ]
    },
    {
     "data": {
      "text/html": [
       "<div>\n",
       "<style scoped>\n",
       "    .dataframe tbody tr th:only-of-type {\n",
       "        vertical-align: middle;\n",
       "    }\n",
       "\n",
       "    .dataframe tbody tr th {\n",
       "        vertical-align: top;\n",
       "    }\n",
       "\n",
       "    .dataframe thead th {\n",
       "        text-align: right;\n",
       "    }\n",
       "</style>\n",
       "<table border=\"1\" class=\"dataframe\">\n",
       "  <thead>\n",
       "    <tr style=\"text-align: right;\">\n",
       "      <th></th>\n",
       "      <th>chain</th>\n",
       "      <th>chain_type</th>\n",
       "      <th>dt</th>\n",
       "      <th>creator_address</th>\n",
       "      <th>num_contracts</th>\n",
       "      <th>num_eoa_deployed_contracts</th>\n",
       "      <th>num_create2_deployed_contracts</th>\n",
       "      <th>num_aa_deployed_contracts</th>\n",
       "    </tr>\n",
       "  </thead>\n",
       "  <tbody>\n",
       "    <tr>\n",
       "      <th>102</th>\n",
       "      <td>Zora Network</td>\n",
       "      <td>mainnet</td>\n",
       "      <td>2023-08-04</td>\n",
       "      <td>0xc0ffee78121f208475abdd2cf0853a7afed64749</td>\n",
       "      <td>6</td>\n",
       "      <td>6</td>\n",
       "      <td>6</td>\n",
       "      <td>0</td>\n",
       "    </tr>\n",
       "    <tr>\n",
       "      <th>142</th>\n",
       "      <td>Zora Network</td>\n",
       "      <td>mainnet</td>\n",
       "      <td>2023-06-17</td>\n",
       "      <td>0x86dd2b0164996a646a4e12faca420bd1a24df6c4</td>\n",
       "      <td>1</td>\n",
       "      <td>1</td>\n",
       "      <td>0</td>\n",
       "      <td>0</td>\n",
       "    </tr>\n",
       "    <tr>\n",
       "      <th>88</th>\n",
       "      <td>Zora Network</td>\n",
       "      <td>mainnet</td>\n",
       "      <td>2023-07-06</td>\n",
       "      <td>0x86d26897267711ea4b173c8c124a0a73612001da</td>\n",
       "      <td>6</td>\n",
       "      <td>6</td>\n",
       "      <td>6</td>\n",
       "      <td>0</td>\n",
       "    </tr>\n",
       "    <tr>\n",
       "      <th>58</th>\n",
       "      <td>Zora Network</td>\n",
       "      <td>mainnet</td>\n",
       "      <td>2023-08-18</td>\n",
       "      <td>0x33c58f1c8a6d6c50cd2e0aac4aafd0a3d609fc6f</td>\n",
       "      <td>1</td>\n",
       "      <td>1</td>\n",
       "      <td>1</td>\n",
       "      <td>0</td>\n",
       "    </tr>\n",
       "    <tr>\n",
       "      <th>72</th>\n",
       "      <td>Zora Network</td>\n",
       "      <td>mainnet</td>\n",
       "      <td>2023-08-28</td>\n",
       "      <td>0x3d6a34d8ece4640adff2f38a5bd801e51b07e49c</td>\n",
       "      <td>1</td>\n",
       "      <td>1</td>\n",
       "      <td>0</td>\n",
       "      <td>0</td>\n",
       "    </tr>\n",
       "  </tbody>\n",
       "</table>\n",
       "</div>"
      ],
      "text/plain": [
       "            chain chain_type          dt  \\\n",
       "102  Zora Network    mainnet  2023-08-04   \n",
       "142  Zora Network    mainnet  2023-06-17   \n",
       "88   Zora Network    mainnet  2023-07-06   \n",
       "58   Zora Network    mainnet  2023-08-18   \n",
       "72   Zora Network    mainnet  2023-08-28   \n",
       "\n",
       "                                creator_address  num_contracts  \\\n",
       "102  0xc0ffee78121f208475abdd2cf0853a7afed64749              6   \n",
       "142  0x86dd2b0164996a646a4e12faca420bd1a24df6c4              1   \n",
       "88   0x86d26897267711ea4b173c8c124a0a73612001da              6   \n",
       "58   0x33c58f1c8a6d6c50cd2e0aac4aafd0a3d609fc6f              1   \n",
       "72   0x3d6a34d8ece4640adff2f38a5bd801e51b07e49c              1   \n",
       "\n",
       "     num_eoa_deployed_contracts  num_create2_deployed_contracts  \\\n",
       "102                           6                               6   \n",
       "142                           1                               0   \n",
       "88                            6                               6   \n",
       "58                            1                               1   \n",
       "72                            1                               0   \n",
       "\n",
       "     num_aa_deployed_contracts  \n",
       "102                          0  \n",
       "142                          0  \n",
       "88                           0  \n",
       "58                           0  \n",
       "72                           0  "
      ]
     },
     "metadata": {},
     "output_type": "display_data"
    }
   ],
   "source": [
    "data_df = pd.DataFrame(resp)\n",
    "\n",
    "data_df['chain'] = data_df['chain'].replace(chain_mappings)\n",
    "\n",
    "print(data_df.columns)\n",
    "\n",
    "display(data_df.sample(5))"
   ]
  },
  {
   "cell_type": "code",
   "execution_count": 24,
   "metadata": {},
   "outputs": [
    {
     "name": "stdout",
     "output_type": "stream",
     "text": [
      "table at: dune_upload.opchain_active_dev_creators_gs\n",
      "Response status code: 200\n",
      "Response content: b'{\"success\":true}'\n"
     ]
    }
   ],
   "source": [
    "# Post to Dune API\n",
    "d.write_dune_api_from_pandas(data_df, 'opchain_active_dev_creators_gs',\\\n",
    "                             'Basic Active Developer Methodology for Zora & PGN (from Goldsky)')"
   ]
  }
 ],
 "metadata": {
  "kernelspec": {
   "display_name": "new-env",
   "language": "python",
   "name": "python3"
  },
  "language_info": {
   "codemirror_mode": {
    "name": "ipython",
    "version": 3
   },
   "file_extension": ".py",
   "mimetype": "text/x-python",
   "name": "python",
   "nbconvert_exporter": "python",
   "pygments_lexer": "ipython3",
   "version": "3.10.11"
  },
  "orig_nbformat": 4
 },
 "nbformat": 4,
 "nbformat_minor": 2
}
