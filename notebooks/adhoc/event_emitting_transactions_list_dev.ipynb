{
 "cells": [
  {
   "cell_type": "markdown",
   "metadata": {},
   "source": [
    "## Prepare data reader for a given chain and date"
   ]
  },
  {
   "cell_type": "code",
   "execution_count": 1,
   "metadata": {},
   "outputs": [
    {
     "name": "stdout",
     "output_type": "stream",
     "text": [
      "\u001b[2m2024-12-13 13:59:06\u001b[0m [\u001b[32m\u001b[1mdebug    \u001b[0m] \u001b[1mconnecting to OPLABS Clickhouse client...\u001b[0m \u001b[36mfilename\u001b[0m=\u001b[35mclient.py\u001b[0m \u001b[36mlineno\u001b[0m=\u001b[35m25\u001b[0m \u001b[36mprocess\u001b[0m=\u001b[35m52305\u001b[0m\n",
      "\u001b[2m2024-12-13 13:59:06\u001b[0m [\u001b[32m\u001b[1minfo     \u001b[0m] \u001b[1mloaded vault from .env file   \u001b[0m \u001b[36mfilename\u001b[0m=\u001b[35mvault.py\u001b[0m \u001b[36mlineno\u001b[0m=\u001b[35m32\u001b[0m \u001b[36mprocess\u001b[0m=\u001b[35m52305\u001b[0m\n",
      "\u001b[2m2024-12-13 13:59:06\u001b[0m [\u001b[32m\u001b[1mdebug    \u001b[0m] \u001b[1mloaded vault: 17 items        \u001b[0m \u001b[36mfilename\u001b[0m=\u001b[35mvault.py\u001b[0m \u001b[36mlineno\u001b[0m=\u001b[35m76\u001b[0m \u001b[36mprocess\u001b[0m=\u001b[35m52305\u001b[0m\n",
      "\u001b[2m2024-12-13 13:59:06\u001b[0m [\u001b[32m\u001b[1mdebug    \u001b[0m] \u001b[1minitialized OPLABS Clickhouse client.\u001b[0m \u001b[36mfilename\u001b[0m=\u001b[35mclient.py\u001b[0m \u001b[36mlineno\u001b[0m=\u001b[35m37\u001b[0m \u001b[36mprocess\u001b[0m=\u001b[35m52305\u001b[0m\n",
      "\u001b[2m2024-12-13 13:59:06\u001b[0m [\u001b[32m\u001b[1minfo     \u001b[0m] \u001b[1mprepared 1 input batches.     \u001b[0m \u001b[36mfilename\u001b[0m=\u001b[35mbydate.py\u001b[0m \u001b[36mlineno\u001b[0m=\u001b[35m96\u001b[0m \u001b[36mprocess\u001b[0m=\u001b[35m52305\u001b[0m\n"
     ]
    }
   ],
   "source": [
    "from op_analytics.coreutils.duckdb_inmem import init_client\n",
    "from op_analytics.coreutils.partitioned.reader import DataReader\n",
    "from op_analytics.coreutils.partitioned.location import DataLocation\n",
    "from op_analytics.datapipeline.etl.intermediate.construct import construct_data_readers\n",
    "\n",
    "from op_analytics.datapipeline.models.compute.udfs import create_duckdb_macros\n",
    "\n",
    "\n",
    "# Define the input data range.\n",
    "read_batches: list[DataReader] = construct_data_readers(\n",
    "    chains=[\"op\"],\n",
    "    models=[\"event_emitting_transactions\"],\n",
    "    range_spec=\"@20241118:+1\",\n",
    "    read_from=DataLocation.GCS\n",
    ")\n",
    "\n",
    "\n",
    "# Select input for one date and build the intermediate model inputs.\n",
    "batch = read_batches[0]\n",
    "\n",
    "\n",
    "duckdb_client = init_client()\n",
    "create_duckdb_macros(duckdb_client)\n"
   ]
  },
  {
   "cell_type": "markdown",
   "metadata": {},
   "source": [
    "## Run the model\n",
    "\n",
    "This automatically registers the model outputs as duckdb tables."
   ]
  },
  {
   "cell_type": "code",
   "execution_count": 2,
   "metadata": {},
   "outputs": [
    {
     "name": "stdout",
     "output_type": "stream",
     "text": [
      "\u001b[2m2024-12-13 13:59:07\u001b[0m [\u001b[32m\u001b[1minfo     \u001b[0m] \u001b[1mExecuting model...            \u001b[0m \u001b[36mfilename\u001b[0m=\u001b[35mtestutils.py\u001b[0m \u001b[36mlineno\u001b[0m=\u001b[35m220\u001b[0m \u001b[36mprocess\u001b[0m=\u001b[35m52305\u001b[0m\n",
      "\u001b[2m2024-12-13 13:59:07\u001b[0m [\u001b[32m\u001b[1minfo     \u001b[0m] \u001b[1mduckdb dataset='ingestion/logs_v1' using 1/22 parquet paths, first path is gs://oplabs-tools-data-sink/ingestion/logs_v1/chain=op/dt=2024-11-18/000128144000.parquet\u001b[0m \u001b[36mfilename\u001b[0m=\u001b[35mreader.py\u001b[0m \u001b[36mlineno\u001b[0m=\u001b[35m68\u001b[0m \u001b[36mprocess\u001b[0m=\u001b[35m52305\u001b[0m\n",
      "\u001b[2m2024-12-13 13:59:08\u001b[0m [\u001b[32m\u001b[1minfo     \u001b[0m] \u001b[1mregistered view: 'ingestion_logs_v1' using 1 parquet paths\u001b[0m \u001b[36mfilename\u001b[0m=\u001b[35mclient.py\u001b[0m \u001b[36mlineno\u001b[0m=\u001b[35m53\u001b[0m \u001b[36mprocess\u001b[0m=\u001b[35m52305\u001b[0m\n",
      "\u001b[2m2024-12-13 13:59:08\u001b[0m [\u001b[32m\u001b[1minfo     \u001b[0m] \u001b[1mduckdb dataset='ingestion/transactions_v1' using 1/22 parquet paths, first path is gs://oplabs-tools-data-sink/ingestion/transactions_v1/chain=op/dt=2024-11-18/000128144000.parquet\u001b[0m \u001b[36mfilename\u001b[0m=\u001b[35mreader.py\u001b[0m \u001b[36mlineno\u001b[0m=\u001b[35m68\u001b[0m \u001b[36mprocess\u001b[0m=\u001b[35m52305\u001b[0m\n",
      "\u001b[2m2024-12-13 13:59:09\u001b[0m [\u001b[32m\u001b[1minfo     \u001b[0m] \u001b[1mregistered view: 'ingestion_transactions_v1' using 1 parquet paths\u001b[0m \u001b[36mfilename\u001b[0m=\u001b[35mclient.py\u001b[0m \u001b[36mlineno\u001b[0m=\u001b[35m53\u001b[0m \u001b[36mprocess\u001b[0m=\u001b[35m52305\u001b[0m\n",
      "\u001b[2m2024-12-13 13:59:09\u001b[0m [\u001b[32m\u001b[1minfo     \u001b[0m] \u001b[1mduckdb dataset='ingestion/blocks_v1' using 1/22 parquet paths, first path is gs://oplabs-tools-data-sink/ingestion/blocks_v1/chain=op/dt=2024-11-18/000128144000.parquet\u001b[0m \u001b[36mfilename\u001b[0m=\u001b[35mreader.py\u001b[0m \u001b[36mlineno\u001b[0m=\u001b[35m68\u001b[0m \u001b[36mprocess\u001b[0m=\u001b[35m52305\u001b[0m\n",
      "\u001b[2m2024-12-13 13:59:10\u001b[0m [\u001b[32m\u001b[1minfo     \u001b[0m] \u001b[1mregistered view: 'ingestion_blocks_v1' using 1 parquet paths\u001b[0m \u001b[36mfilename\u001b[0m=\u001b[35mclient.py\u001b[0m \u001b[36mlineno\u001b[0m=\u001b[35m53\u001b[0m \u001b[36mprocess\u001b[0m=\u001b[35m52305\u001b[0m\n",
      "\u001b[2m2024-12-13 13:59:10\u001b[0m [\u001b[32m\u001b[1minfo     \u001b[0m] \u001b[1mRendering query               \u001b[0m \u001b[36mfilename\u001b[0m=\u001b[35mquerybuilder.py\u001b[0m \u001b[36mlineno\u001b[0m=\u001b[35m40\u001b[0m \u001b[36mprocess\u001b[0m=\u001b[35m52305\u001b[0m \u001b[36mtemplate\u001b[0m=\u001b[35mrefined_transactions_fees\u001b[0m\n",
      "\u001b[2m2024-12-13 13:59:10\u001b[0m [\u001b[32m\u001b[1minfo     \u001b[0m] \u001b[1mRendering query               \u001b[0m \u001b[36mfilename\u001b[0m=\u001b[35mquerybuilder.py\u001b[0m \u001b[36mlineno\u001b[0m=\u001b[35m40\u001b[0m \u001b[36mprocess\u001b[0m=\u001b[35m52305\u001b[0m \u001b[36mtemplate\u001b[0m=\u001b[35mlogs_topic0_filters\u001b[0m\n",
      "\u001b[2m2024-12-13 13:59:10\u001b[0m [\u001b[32m\u001b[1minfo     \u001b[0m] \u001b[1mRendering query               \u001b[0m \u001b[36mfilename\u001b[0m=\u001b[35mquerybuilder.py\u001b[0m \u001b[36mlineno\u001b[0m=\u001b[35m40\u001b[0m \u001b[36mprocess\u001b[0m=\u001b[35m52305\u001b[0m \u001b[36mtemplate\u001b[0m=\u001b[35mevent_emitting_transactions\u001b[0m\n",
      "dict_keys(['event_emitting_transactions_v1'])\n"
     ]
    },
    {
     "data": {
      "text/plain": [
       "┌────────────────────────────────┐\n",
       "│              name              │\n",
       "│            varchar             │\n",
       "├────────────────────────────────┤\n",
       "│ event_emitting_transactions    │\n",
       "│ event_emitting_transactions_v1 │\n",
       "│ ingestion_blocks_v1            │\n",
       "│ ingestion_logs_v1              │\n",
       "│ ingestion_transactions_v1      │\n",
       "│ logs_topic0_filters            │\n",
       "│ refined_transactions_fees      │\n",
       "└────────────────────────────────┘"
      ]
     },
     "execution_count": 2,
     "metadata": {},
     "output_type": "execute_result"
    }
   ],
   "source": [
    "from op_analytics.datapipeline.models.compute.testutils import execute_model_in_memory\n",
    "\n",
    "execute_model_in_memory(\n",
    "    duckdb_client=duckdb_client,\n",
    "    model=\"event_emitting_transactions\",\n",
    "    data_reader=batch,\n",
    "    limit_input_parquet_files=1\n",
    ")\n",
    "\n",
    "# The duckdb database will have the following:\n",
    "#   - input tables\n",
    "#   - views used by the model\n",
    "#   - model outputs\n",
    "# \n",
    "# You can use duckdb to inspect any of the above results.\n",
    "duckdb_client.sql(\"SHOW TABLES\")"
   ]
  },
  {
   "cell_type": "markdown",
   "metadata": {},
   "source": [
    "## Verify model results"
   ]
  },
  {
   "cell_type": "code",
   "execution_count": 3,
   "metadata": {},
   "outputs": [
    {
     "data": {
      "text/plain": [
       "┌────────────┬─────────────────────┬─────────────────┬─────────┬─────────┬──────────┬──────────────┬────────────────────────────────────────────────────────────────────┬────────────────────┬───────────────────────┬───────────────────────┬───────────────────────┬────────────────────────────────────────────────┬───────────────────────────────────────┬───────────────────┬──────────────────┬───────────────────────┬───────────────────────┬───────────────────────┬───────────────────────┬───────────────────────┬───────────────────────┬────────────────────────┬───────────────────────────┬───────────────────┬────────────────────┬─────────────┬──────────────────┐\n",
       "│     dt     │     block_hour      │ block_timestamp │ network │  chain  │ chain_id │ block_number │                          transaction_hash                          │ count_total_events │ count_approval_events │ count_wrapping_events │ count_transfer_events │ is_qualified_tx_not_approval_wrapping_transfer │ is_qualified_tx_not_approval_wrapping │ transaction_index │ transaction_type │     tx_fee_native     │     l1_fee_native     │     l2_fee_native     │  l1_base_fee_native   │  l1_blob_fee_native   │  l2_base_fee_native   │ l2_priority_fee_native │ l2_base_legacy_fee_native │ input_byte_length │ input_calldata_gas │ l1_gas_used │ receipt_gas_used │\n",
       "│    date    │      timestamp      │     uint32      │ varchar │ varchar │  int32   │    int64     │                              varchar                               │       int64        │     decimal(38,0)     │     decimal(38,0)     │     decimal(38,0)     │                    boolean                     │                boolean                │       int64       │      int32       │    decimal(38,19)     │    decimal(38,19)     │    decimal(38,19)     │    decimal(38,19)     │    decimal(38,19)     │    decimal(38,19)     │     decimal(38,19)     │      decimal(38,19)       │      double       │       double       │    int64    │      int64       │\n",
       "├────────────┼─────────────────────┼─────────────────┼─────────┼─────────┼──────────┼──────────────┼────────────────────────────────────────────────────────────────────┼────────────────────┼───────────────────────┼───────────────────────┼───────────────────────┼────────────────────────────────────────────────┼───────────────────────────────────────┼───────────────────┼──────────────────┼───────────────────────┼───────────────────────┼───────────────────────┼───────────────────────┼───────────────────────┼───────────────────────┼────────────────────────┼───────────────────────────┼───────────────────┼────────────────────┼─────────────┼──────────────────┤\n",
       "│ 2024-11-18 │ 2024-11-18 00:00:00 │      1731890759 │ mainnet │ op      │       10 │    128145991 │ 0x1235a81f6e53a98fd084110155e10a2a9987364008a22337339329ad40242387 │                 12 │                     3 │                     0 │                     3 │ true                                           │ true                                  │                20 │                0 │ 0.0000020874702928900 │ 0.0000014879054668900 │ 0.0000005995648260000 │ 0.0000004307828968610 │ 0.0000010570047134670 │ 0.0000000015123672900 │  0.0000000000000000000 │     0.0000005980524587100 │            2340.0 │            15192.0 │        7857 │           598010 │\n",
       "│ 2024-11-18 │ 2024-11-18 00:00:00 │      1731890761 │ mainnet │ op      │       10 │    128145992 │ 0xedd5381353abf8e805af44d583c9ed59b1d6a611a194b6bac0a8cf3db26401c3 │                  7 │                     1 │                     0 │                     2 │ true                                           │ true                                  │                 9 │                2 │ 0.0000030584908877560 │ 0.0000006801850001760 │ 0.0000023783058875800 │ 0.0000002110564649070 │ 0.0000004690025804280 │ 0.0000000005537082100 │  0.0000023777521793700 │     0.0000000000000000000 │             708.0 │             4668.0 │        3922 │           218857 │\n",
       "│ 2024-11-18 │ 2024-11-18 00:00:00 │      1731890761 │ mainnet │ op      │       10 │    128145992 │ 0xa541416b4022b2de958bdc9e46401d23db0e3ac16cb5a0d8856b7bbcad8356b8 │                 21 │                     1 │                     0 │                    10 │ true                                           │ true                                  │                14 │                0 │ 0.0000017034381682460 │ 0.0000006616191454840 │ 0.0000010418190227620 │ 0.0000002052984226460 │ 0.0000004562072525070 │ 0.0000000021909622900 │  0.0000000000000000000 │     0.0000010396280604720 │             254.0 │             3668.0 │        3815 │           865993 │\n",
       "│ 2024-11-18 │ 2024-11-18 00:00:00 │      1731890765 │ mainnet │ op      │       10 │    128145994 │ 0x882dc42f47ecea249d7540fda95a31c71b3665c4b42651f08819c8a51eeaa52f │                 10 │                     0 │                     1 │                     3 │ true                                           │ true                                  │                12 │                2 │ 0.0000036917430291910 │ 0.0000003251130291910 │ 0.0000033666300000000 │ 0.0000001008464597740 │ 0.0000002240976123720 │ 0.0000000008564706720 │  0.0000033666300000000 │     0.0000000000000000000 │             260.0 │             1736.0 │        1874 │           336663 │\n",
       "│ 2024-11-18 │ 2024-11-18 00:00:00 │      1731890765 │ mainnet │ op      │       10 │    128145994 │ 0x68a86601a960770e35d97b6b809cdc405ddf0859a8899fc8ad3ed62746ef7b3b │                  6 │                     0 │                     0 │                     4 │ true                                           │ true                                  │                15 │                0 │ 0.0000006501825344740 │ 0.0000003784898614310 │ 0.0000002716926730430 │ 0.0000001174210113270 │ 0.0000002609290235830 │ 0.0000000005745344160 │  0.0000000000000000000 │     0.0000002711181386270 │             119.0 │             1568.0 │        2182 │           225839 │\n",
       "│ 2024-11-18 │ 2024-11-18 00:00:00 │      1731890765 │ mainnet │ op      │       10 │    128145994 │ 0xb44f4b1cba612ee8aa3fe75587c93a229311f352ff723f9270cb6a810cd9796f │                  3 │                     0 │                     0 │                     2 │ true                                           │ true                                  │                 4 │                2 │ 0.0000060802707468270 │ 0.0000003436788838830 │ 0.0000057365918629440 │ 0.0000001066583155140 │ 0.0000002370125227960 │ 0.0000000002918629440 │  0.0000057363000000000 │     0.0000000000000000000 │             196.0 │             1360.0 │        1982 │           114726 │\n",
       "│ 2024-11-18 │ 2024-11-18 00:00:00 │      1731890769 │ mainnet │ op      │       10 │    128145996 │ 0x839c031e819358157b6d9f1b2a45d8f81b340b7f8c03865bd0cc054b909817fc │                  6 │                     0 │                     0 │                     2 │ true                                           │ true                                  │                 4 │                2 │ 0.0000010497055963680 │ 0.0000005409410899860 │ 0.0000005087645063820 │ 0.0000001678442412150 │ 0.0000003729778297690 │ 0.0000000012905063820 │  0.0000005074740000000 │     0.0000000000000000000 │            1284.0 │             6276.0 │        3119 │           507474 │\n",
       "│ 2024-11-18 │ 2024-11-18 00:00:00 │      1731890769 │ mainnet │ op      │       10 │    128145996 │ 0xd18e16ed59bac5a1539139b621b2f920468f5ce96e5e4286c45eadb05d032502 │                 16 │                     0 │                     0 │                    16 │ false                                          │ true                                  │                 5 │                0 │ 0.0000015609741782860 │ 0.0000011512935629860 │ 0.0000004096806153000 │ 0.0000003572676875360 │ 0.0000007939082436150 │ 0.0000000010391969500 │  0.0000000000000000000 │     0.0000004086414183500 │             644.0 │             6728.0 │        6639 │           408650 │\n",
       "│ 2024-11-18 │ 2024-11-18 00:00:00 │      1731890771 │ mainnet │ op      │       10 │    128145997 │ 0x67b91deb4dacda098419875604d3e6629c803ab4965f8ccf29c4732d04be7ce6 │                  2 │                     0 │                     0 │                     1 │ true                                           │ true                                  │                19 │                2 │ 0.0000004114548578430 │ 0.0000002774335728030 │ 0.0000001340212850400 │ 0.0000000861015665100 │ 0.0000001913320062940 │ 0.0000000003412850400 │  0.0000001336800000000 │     0.0000000000000000000 │              36.0 │              228.0 │        1600 │           133680 │\n",
       "│ 2024-11-18 │ 2024-11-18 00:00:00 │      1731890773 │ mainnet │ op      │       10 │    128145998 │ 0xe7add7889df390b6b32eecd72e25fa7146a458afa248b38c1ec4882e7c35237e │                  3 │                     0 │                     0 │                     2 │ true                                           │ true                                  │                 1 │                2 │ 0.0001283789798928150 │ 0.0000002878469029230 │ 0.0001280911329898920 │ 0.0000000888535964360 │ 0.0000001989933064880 │ 0.0000000004393237560 │  0.0001280911329898920 │     0.0000000000000000000 │              36.0 │              444.0 │        1600 │           172014 │\n",
       "├────────────┴─────────────────────┴─────────────────┴─────────┴─────────┴──────────┴──────────────┴────────────────────────────────────────────────────────────────────┴────────────────────┴───────────────────────┴───────────────────────┴───────────────────────┴────────────────────────────────────────────────┴───────────────────────────────────────┴───────────────────┴──────────────────┴───────────────────────┴───────────────────────┴───────────────────────┴───────────────────────┴───────────────────────┴───────────────────────┴────────────────────────┴───────────────────────────┴───────────────────┴────────────────────┴─────────────┴──────────────────┤\n",
       "│ 10 rows                                                                                                                                                                                                                                                                                                                                                                                                                                                                                                                                                                                                                                                                28 columns │\n",
       "└───────────────────────────────────────────────────────────────────────────────────────────────────────────────────────────────────────────────────────────────────────────────────────────────────────────────────────────────────────────────────────────────────────────────────────────────────────────────────────────────────────────────────────────────────────────────────────────────────────────────────────────────────────────────────────────────────────────────────────────────────────────────────────────────────────────────────────────────────────────────────────────────────────────────────────────────────────────────────────────────────────────────────┘"
      ]
     },
     "execution_count": 3,
     "metadata": {},
     "output_type": "execute_result"
    }
   ],
   "source": [
    "duckdb_client.sql(\"SELECT * FROM event_emitting_transactions_v1 LIMIT 10\")"
   ]
  },
  {
   "cell_type": "markdown",
   "metadata": {},
   "source": [
    "### Check the data output size"
   ]
  },
  {
   "cell_type": "code",
   "execution_count": 4,
   "metadata": {},
   "outputs": [
    {
     "data": {
      "text/plain": [
       "┌────────────────┐\n",
       "│ interm_num_txs │\n",
       "│     int64      │\n",
       "├────────────────┤\n",
       "│          16679 │\n",
       "└────────────────┘"
      ]
     },
     "execution_count": 4,
     "metadata": {},
     "output_type": "execute_result"
    }
   ],
   "source": [
    "duckdb_client.sql(\"SELECT COUNT(*) AS interm_num_txs FROM event_emitting_transactions_v1\")"
   ]
  },
  {
   "cell_type": "code",
   "execution_count": 5,
   "metadata": {},
   "outputs": [
    {
     "data": {
      "text/plain": [
       "┌───────────────────┐\n",
       "│ ingestion_num_txs │\n",
       "│       int64       │\n",
       "├───────────────────┤\n",
       "│             16679 │\n",
       "└───────────────────┘"
      ]
     },
     "execution_count": 5,
     "metadata": {},
     "output_type": "execute_result"
    }
   ],
   "source": [
    "duckdb_client.sql(\"SELECT COUNT(DISTINCT transaction_hash) as ingestion_num_txs FROM ingestion_logs_v1\")"
   ]
  },
  {
   "cell_type": "code",
   "execution_count": 6,
   "metadata": {},
   "outputs": [
    {
     "data": {
      "text/plain": [
       "┌────────────────────────────────────────────────────────────────────┐\n",
       "│                               topic0                               │\n",
       "│                              varchar                               │\n",
       "├────────────────────────────────────────────────────────────────────┤\n",
       "│ 0xddf252ad1be2c89b69c2b068fc378daa952ba7f163c4a11628f55a4df523b3ef │\n",
       "│ 0xddf252ad1be2c89b69c2b068fc378daa952ba7f163c4a11628f55a4df523b3ef │\n",
       "│ 0xddf252ad1be2c89b69c2b068fc378daa952ba7f163c4a11628f55a4df523b3ef │\n",
       "│ 0x112c256902bf554b6ed882d2936687aaeb4225e8cd5b51303c90ca6cf43a8602 │\n",
       "│ 0xcf2aa50876cdfbb541206f89af0ee78d44a2abf8d328e37fa4917f982149848a │\n",
       "│ 0xb3e2773606abfd36b5bd91394b3a54d1398336c65005baf7bf7a05efeffaf75b │\n",
       "│ 0xddf252ad1be2c89b69c2b068fc378daa952ba7f163c4a11628f55a4df523b3ef │\n",
       "│ 0x1c411e9a96e071241c2f21f7726b17ae89e3cab4c78be50e062b03a9fffbbad1 │\n",
       "│ 0xd78ad95fa46c994b6551d0da85fc275fe613ce37657fb8d5e3d130840159d822 │\n",
       "│ 0xc42079f94a6350d7e6235f29174924f928cc2ac818eb64fed8004e115fbcca67 │\n",
       "├────────────────────────────────────────────────────────────────────┤\n",
       "│                              10 rows                               │\n",
       "└────────────────────────────────────────────────────────────────────┘"
      ]
     },
     "execution_count": 6,
     "metadata": {},
     "output_type": "execute_result"
    }
   ],
   "source": [
    "duckdb_client.sql(\"SELECT topic0 FROM ingestion_logs_v1 LIMIT 10\")\n"
   ]
  },
  {
   "cell_type": "markdown",
   "metadata": {},
   "source": [
    "### You can also convert the results to dataframes to inspect them in more familiar ways"
   ]
  },
  {
   "cell_type": "code",
   "execution_count": 7,
   "metadata": {},
   "outputs": [
    {
     "data": {
      "text/html": [
       "<div><style>\n",
       ".dataframe > thead > tr,\n",
       ".dataframe > tbody > tr {\n",
       "  text-align: right;\n",
       "  white-space: pre-wrap;\n",
       "}\n",
       "</style>\n",
       "<small>shape: (5, 28)</small><table border=\"1\" class=\"dataframe\"><thead><tr><th>dt</th><th>block_hour</th><th>block_timestamp</th><th>network</th><th>chain</th><th>chain_id</th><th>block_number</th><th>transaction_hash</th><th>count_total_events</th><th>count_approval_events</th><th>count_wrapping_events</th><th>count_transfer_events</th><th>is_qualified_tx_not_approval_wrapping_transfer</th><th>is_qualified_tx_not_approval_wrapping</th><th>transaction_index</th><th>transaction_type</th><th>tx_fee_native</th><th>l1_fee_native</th><th>l2_fee_native</th><th>l1_base_fee_native</th><th>l1_blob_fee_native</th><th>l2_base_fee_native</th><th>l2_priority_fee_native</th><th>l2_base_legacy_fee_native</th><th>input_byte_length</th><th>input_calldata_gas</th><th>l1_gas_used</th><th>receipt_gas_used</th></tr><tr><td>date</td><td>datetime[μs]</td><td>u32</td><td>str</td><td>str</td><td>i32</td><td>i64</td><td>str</td><td>i64</td><td>decimal[38,0]</td><td>decimal[38,0]</td><td>decimal[38,0]</td><td>bool</td><td>bool</td><td>i64</td><td>i32</td><td>decimal[38,19]</td><td>decimal[38,19]</td><td>decimal[38,19]</td><td>decimal[38,19]</td><td>decimal[38,19]</td><td>decimal[38,19]</td><td>decimal[38,19]</td><td>decimal[38,19]</td><td>f64</td><td>f64</td><td>i64</td><td>i64</td></tr></thead><tbody><tr><td>2024-11-18</td><td>2024-11-18&nbsp;00:00:00</td><td>1731890759</td><td>&quot;mainnet&quot;</td><td>&quot;op&quot;</td><td>10</td><td>128145991</td><td>&quot;0x1235a81f6e53a98fd084110155e1…</td><td>12</td><td>3</td><td>0</td><td>3</td><td>true</td><td>true</td><td>20</td><td>0</td><td>0.0000020874702928900</td><td>0.0000014879054668900</td><td>0.0000005995648260000</td><td>0.0000004307828968610</td><td>0.0000010570047134670</td><td>0.0000000015123672900</td><td>0.0000000000000000000</td><td>0.0000005980524587100</td><td>2340.0</td><td>15192.0</td><td>7857</td><td>598010</td></tr><tr><td>2024-11-18</td><td>2024-11-18&nbsp;00:00:00</td><td>1731890761</td><td>&quot;mainnet&quot;</td><td>&quot;op&quot;</td><td>10</td><td>128145992</td><td>&quot;0xedd5381353abf8e805af44d583c9…</td><td>7</td><td>1</td><td>0</td><td>2</td><td>true</td><td>true</td><td>9</td><td>2</td><td>0.0000030584908877560</td><td>0.0000006801850001760</td><td>0.0000023783058875800</td><td>0.0000002110564649070</td><td>0.0000004690025804280</td><td>0.0000000005537082100</td><td>0.0000023777521793700</td><td>0.0000000000000000000</td><td>708.0</td><td>4668.0</td><td>3922</td><td>218857</td></tr><tr><td>2024-11-18</td><td>2024-11-18&nbsp;00:00:00</td><td>1731890761</td><td>&quot;mainnet&quot;</td><td>&quot;op&quot;</td><td>10</td><td>128145992</td><td>&quot;0xa541416b4022b2de958bdc9e4640…</td><td>21</td><td>1</td><td>0</td><td>10</td><td>true</td><td>true</td><td>14</td><td>0</td><td>0.0000017034381682460</td><td>0.0000006616191454840</td><td>0.0000010418190227620</td><td>0.0000002052984226460</td><td>0.0000004562072525070</td><td>0.0000000021909622900</td><td>0.0000000000000000000</td><td>0.0000010396280604720</td><td>254.0</td><td>3668.0</td><td>3815</td><td>865993</td></tr><tr><td>2024-11-18</td><td>2024-11-18&nbsp;00:00:00</td><td>1731890765</td><td>&quot;mainnet&quot;</td><td>&quot;op&quot;</td><td>10</td><td>128145994</td><td>&quot;0x882dc42f47ecea249d7540fda95a…</td><td>10</td><td>0</td><td>1</td><td>3</td><td>true</td><td>true</td><td>12</td><td>2</td><td>0.0000036917430291910</td><td>0.0000003251130291910</td><td>0.0000033666300000000</td><td>0.0000001008464597740</td><td>0.0000002240976123720</td><td>0.0000000008564706720</td><td>0.0000033666300000000</td><td>0.0000000000000000000</td><td>260.0</td><td>1736.0</td><td>1874</td><td>336663</td></tr><tr><td>2024-11-18</td><td>2024-11-18&nbsp;00:00:00</td><td>1731890765</td><td>&quot;mainnet&quot;</td><td>&quot;op&quot;</td><td>10</td><td>128145994</td><td>&quot;0x68a86601a960770e35d97b6b809c…</td><td>6</td><td>0</td><td>0</td><td>4</td><td>true</td><td>true</td><td>15</td><td>0</td><td>0.0000006501825344740</td><td>0.0000003784898614310</td><td>0.0000002716926730430</td><td>0.0000001174210113270</td><td>0.0000002609290235830</td><td>0.0000000005745344160</td><td>0.0000000000000000000</td><td>0.0000002711181386270</td><td>119.0</td><td>1568.0</td><td>2182</td><td>225839</td></tr></tbody></table></div>"
      ],
      "text/plain": [
       "shape: (5, 28)\n",
       "┌────────────┬───────────┬───────────┬─────────┬───┬───────────┬───────────┬───────────┬───────────┐\n",
       "│ dt         ┆ block_hou ┆ block_tim ┆ network ┆ … ┆ input_byt ┆ input_cal ┆ l1_gas_us ┆ receipt_g │\n",
       "│ ---        ┆ r         ┆ estamp    ┆ ---     ┆   ┆ e_length  ┆ ldata_gas ┆ ed        ┆ as_used   │\n",
       "│ date       ┆ ---       ┆ ---       ┆ str     ┆   ┆ ---       ┆ ---       ┆ ---       ┆ ---       │\n",
       "│            ┆ datetime[ ┆ u32       ┆         ┆   ┆ f64       ┆ f64       ┆ i64       ┆ i64       │\n",
       "│            ┆ μs]       ┆           ┆         ┆   ┆           ┆           ┆           ┆           │\n",
       "╞════════════╪═══════════╪═══════════╪═════════╪═══╪═══════════╪═══════════╪═══════════╪═══════════╡\n",
       "│ 2024-11-18 ┆ 2024-11-1 ┆ 173189075 ┆ mainnet ┆ … ┆ 2340.0    ┆ 15192.0   ┆ 7857      ┆ 598010    │\n",
       "│            ┆ 8         ┆ 9         ┆         ┆   ┆           ┆           ┆           ┆           │\n",
       "│            ┆ 00:00:00  ┆           ┆         ┆   ┆           ┆           ┆           ┆           │\n",
       "│ 2024-11-18 ┆ 2024-11-1 ┆ 173189076 ┆ mainnet ┆ … ┆ 708.0     ┆ 4668.0    ┆ 3922      ┆ 218857    │\n",
       "│            ┆ 8         ┆ 1         ┆         ┆   ┆           ┆           ┆           ┆           │\n",
       "│            ┆ 00:00:00  ┆           ┆         ┆   ┆           ┆           ┆           ┆           │\n",
       "│ 2024-11-18 ┆ 2024-11-1 ┆ 173189076 ┆ mainnet ┆ … ┆ 254.0     ┆ 3668.0    ┆ 3815      ┆ 865993    │\n",
       "│            ┆ 8         ┆ 1         ┆         ┆   ┆           ┆           ┆           ┆           │\n",
       "│            ┆ 00:00:00  ┆           ┆         ┆   ┆           ┆           ┆           ┆           │\n",
       "│ 2024-11-18 ┆ 2024-11-1 ┆ 173189076 ┆ mainnet ┆ … ┆ 260.0     ┆ 1736.0    ┆ 1874      ┆ 336663    │\n",
       "│            ┆ 8         ┆ 5         ┆         ┆   ┆           ┆           ┆           ┆           │\n",
       "│            ┆ 00:00:00  ┆           ┆         ┆   ┆           ┆           ┆           ┆           │\n",
       "│ 2024-11-18 ┆ 2024-11-1 ┆ 173189076 ┆ mainnet ┆ … ┆ 119.0     ┆ 1568.0    ┆ 2182      ┆ 225839    │\n",
       "│            ┆ 8         ┆ 5         ┆         ┆   ┆           ┆           ┆           ┆           │\n",
       "│            ┆ 00:00:00  ┆           ┆         ┆   ┆           ┆           ┆           ┆           │\n",
       "└────────────┴───────────┴───────────┴─────────┴───┴───────────┴───────────┴───────────┴───────────┘"
      ]
     },
     "execution_count": 7,
     "metadata": {},
     "output_type": "execute_result"
    }
   ],
   "source": [
    "duckdb_client.sql(\"SELECT * FROM event_emitting_transactions_v1 LIMIT 5\").pl()"
   ]
  },
  {
   "cell_type": "markdown",
   "metadata": {},
   "source": [
    "### Get table schema"
   ]
  },
  {
   "cell_type": "code",
   "execution_count": 8,
   "metadata": {},
   "outputs": [
    {
     "data": {
      "text/plain": [
       "┌───────────────────────────┬────────────────┬─────────┬─────────┬─────────┬─────────┐\n",
       "│        column_name        │  column_type   │  null   │   key   │ default │  extra  │\n",
       "│          varchar          │    varchar     │ varchar │ varchar │ varchar │ varchar │\n",
       "├───────────────────────────┼────────────────┼─────────┼─────────┼─────────┼─────────┤\n",
       "│ dt                        │ DATE           │ YES     │ NULL    │ NULL    │ NULL    │\n",
       "│ block_hour                │ TIMESTAMP      │ YES     │ NULL    │ NULL    │ NULL    │\n",
       "│ block_timestamp           │ UINTEGER       │ YES     │ NULL    │ NULL    │ NULL    │\n",
       "│ network                   │ VARCHAR        │ YES     │ NULL    │ NULL    │ NULL    │\n",
       "│ chain                     │ VARCHAR        │ YES     │ NULL    │ NULL    │ NULL    │\n",
       "│ chain_id                  │ INTEGER        │ YES     │ NULL    │ NULL    │ NULL    │\n",
       "│ block_number              │ BIGINT         │ YES     │ NULL    │ NULL    │ NULL    │\n",
       "│ transaction_hash          │ VARCHAR        │ YES     │ NULL    │ NULL    │ NULL    │\n",
       "│ count_total_events        │ BIGINT         │ YES     │ NULL    │ NULL    │ NULL    │\n",
       "│ count_approval_events     │ DECIMAL(38,0)  │ YES     │ NULL    │ NULL    │ NULL    │\n",
       "│       ·                   │       ·        │  ·      │  ·      │  ·      │  ·      │\n",
       "│       ·                   │       ·        │  ·      │  ·      │  ·      │  ·      │\n",
       "│       ·                   │       ·        │  ·      │  ·      │  ·      │  ·      │\n",
       "│ l2_fee_native             │ DECIMAL(38,19) │ YES     │ NULL    │ NULL    │ NULL    │\n",
       "│ l1_base_fee_native        │ DECIMAL(38,19) │ YES     │ NULL    │ NULL    │ NULL    │\n",
       "│ l1_blob_fee_native        │ DECIMAL(38,19) │ YES     │ NULL    │ NULL    │ NULL    │\n",
       "│ l2_base_fee_native        │ DECIMAL(38,19) │ YES     │ NULL    │ NULL    │ NULL    │\n",
       "│ l2_priority_fee_native    │ DECIMAL(38,19) │ YES     │ NULL    │ NULL    │ NULL    │\n",
       "│ l2_base_legacy_fee_native │ DECIMAL(38,19) │ YES     │ NULL    │ NULL    │ NULL    │\n",
       "│ input_byte_length         │ DOUBLE         │ YES     │ NULL    │ NULL    │ NULL    │\n",
       "│ input_calldata_gas        │ DOUBLE         │ YES     │ NULL    │ NULL    │ NULL    │\n",
       "│ l1_gas_used               │ BIGINT         │ YES     │ NULL    │ NULL    │ NULL    │\n",
       "│ receipt_gas_used          │ BIGINT         │ YES     │ NULL    │ NULL    │ NULL    │\n",
       "├───────────────────────────┴────────────────┴─────────┴─────────┴─────────┴─────────┤\n",
       "│ 28 rows (20 shown)                                                       6 columns │\n",
       "└────────────────────────────────────────────────────────────────────────────────────┘"
      ]
     },
     "execution_count": 8,
     "metadata": {},
     "output_type": "execute_result"
    }
   ],
   "source": [
    "duckdb_client.sql(\"DESCRIBE event_emitting_transactions_v1\")\n"
   ]
  }
 ],
 "metadata": {
  "kernelspec": {
   "display_name": ".venv",
   "language": "python",
   "name": "python3"
  },
  "language_info": {
   "codemirror_mode": {
    "name": "ipython",
    "version": 3
   },
   "file_extension": ".py",
   "mimetype": "text/x-python",
   "name": "python",
   "nbconvert_exporter": "python",
   "pygments_lexer": "ipython3",
   "version": "3.12.4"
  }
 },
 "nbformat": 4,
 "nbformat_minor": 2
}
