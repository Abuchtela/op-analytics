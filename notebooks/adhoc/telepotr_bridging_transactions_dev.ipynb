{
 "cells": [
  {
   "cell_type": "code",
   "execution_count": 11,
   "metadata": {},
   "outputs": [
    {
     "name": "stdout",
     "output_type": "stream",
     "text": [
      "\u001b[2m2025-01-08 22:34:32\u001b[0m [\u001b[33m\u001b[1mwarning  \u001b[0m] \u001b[1mMISSING DATA                  \u001b[0m \u001b[36mchain\u001b[0m=\u001b[35mop\u001b[0m \u001b[36mdate\u001b[0m=\u001b[35m2024-10-30\u001b[0m \u001b[36mfilename\u001b[0m=\u001b[35mbydate.py\u001b[0m \u001b[36mlineno\u001b[0m=\u001b[35m93\u001b[0m \u001b[36mprocess\u001b[0m=\u001b[35m39190\u001b[0m\n",
      "\u001b[2m2025-01-08 22:34:32\u001b[0m [\u001b[32m\u001b[1minfo     \u001b[0m] \u001b[1mprepared 1 input batches.     \u001b[0m \u001b[36mfilename\u001b[0m=\u001b[35mbydate.py\u001b[0m \u001b[36mlineno\u001b[0m=\u001b[35m96\u001b[0m \u001b[36mprocess\u001b[0m=\u001b[35m39190\u001b[0m\n",
      "\u001b[2m2025-01-08 22:34:32\u001b[0m [\u001b[32m\u001b[1minfo     \u001b[0m] \u001b[1minput not ready for 1 batches.\u001b[0m \u001b[36mfilename\u001b[0m=\u001b[35mbydate.py\u001b[0m \u001b[36mlineno\u001b[0m=\u001b[35m98\u001b[0m \u001b[36mprocess\u001b[0m=\u001b[35m39190\u001b[0m\n"
     ]
    }
   ],
   "source": [
    "from op_analytics.coreutils.duckdb_inmem import init_client\n",
    "from op_analytics.coreutils.partitioned.reader import DataReader\n",
    "from op_analytics.coreutils.partitioned.location import DataLocation\n",
    "from op_analytics.datapipeline.etl.intermediate.construct import construct_data_readers\n",
    "\n",
    "from op_analytics.datapipeline.models.compute.udfs import create_duckdb_macros\n",
    "\n",
    "\n",
    "# Define the input data range.\n",
    "read_batches: list[DataReader] = construct_data_readers(\n",
    "    chains=[\"op\"],\n",
    "    models=[\"telepotr_bridging_transactions\"],\n",
    "    range_spec=\"@20241030:+1\",\n",
    "    read_from=DataLocation.GCS\n",
    ")\n",
    "\n",
    "\n",
    "# Select input for one date and build the intermediate model inputs.\n",
    "batch = read_batches[0]\n",
    "\n",
    "\n",
    "duckdb_client = init_client()\n",
    "create_duckdb_macros(duckdb_client)\n"
   ]
  },
  {
   "cell_type": "code",
   "execution_count": 12,
   "metadata": {},
   "outputs": [
    {
     "name": "stdout",
     "output_type": "stream",
     "text": [
      "\u001b[2m2025-01-08 22:34:34\u001b[0m [\u001b[32m\u001b[1minfo     \u001b[0m] \u001b[1mExecuting model function...   \u001b[0m \u001b[36mfilename\u001b[0m=\u001b[35mtestutils.py\u001b[0m \u001b[36mlineno\u001b[0m=\u001b[35m265\u001b[0m \u001b[36mprocess\u001b[0m=\u001b[35m39190\u001b[0m\n"
     ]
    },
    {
     "ename": "KeyError",
     "evalue": "'ingestion/logs_v1'",
     "output_type": "error",
     "traceback": [
      "\u001b[0;31m---------------------------------------------------------------------------\u001b[0m",
      "\u001b[0;31mKeyError\u001b[0m                                  Traceback (most recent call last)",
      "Cell \u001b[0;32mIn[12], line 3\u001b[0m\n\u001b[1;32m      1\u001b[0m \u001b[38;5;28;01mfrom\u001b[39;00m \u001b[38;5;21;01mop_analytics\u001b[39;00m\u001b[38;5;21;01m.\u001b[39;00m\u001b[38;5;21;01mdatapipeline\u001b[39;00m\u001b[38;5;21;01m.\u001b[39;00m\u001b[38;5;21;01mmodels\u001b[39;00m\u001b[38;5;21;01m.\u001b[39;00m\u001b[38;5;21;01mcompute\u001b[39;00m\u001b[38;5;21;01m.\u001b[39;00m\u001b[38;5;21;01mtestutils\u001b[39;00m \u001b[38;5;28;01mimport\u001b[39;00m execute_model_in_memory\n\u001b[0;32m----> 3\u001b[0m \u001b[43mexecute_model_in_memory\u001b[49m\u001b[43m(\u001b[49m\n\u001b[1;32m      4\u001b[0m \u001b[43m    \u001b[49m\u001b[43mduckdb_context\u001b[49m\u001b[38;5;241;43m=\u001b[39;49m\u001b[43mduckdb_client\u001b[49m\u001b[43m,\u001b[49m\n\u001b[1;32m      5\u001b[0m \u001b[43m    \u001b[49m\u001b[43mmodel\u001b[49m\u001b[38;5;241;43m=\u001b[39;49m\u001b[38;5;124;43m\"\u001b[39;49m\u001b[38;5;124;43mtelepotr_bridging_transactions\u001b[39;49m\u001b[38;5;124;43m\"\u001b[39;49m\u001b[43m,\u001b[49m\n\u001b[1;32m      6\u001b[0m \u001b[43m    \u001b[49m\u001b[43mdata_reader\u001b[49m\u001b[38;5;241;43m=\u001b[39;49m\u001b[43mbatch\u001b[49m\u001b[43m,\u001b[49m\n\u001b[1;32m      7\u001b[0m \u001b[43m    \u001b[49m\u001b[43mlimit_input_parquet_files\u001b[49m\u001b[38;5;241;43m=\u001b[39;49m\u001b[38;5;241;43m1\u001b[39;49m\n\u001b[1;32m      8\u001b[0m \u001b[43m)\u001b[49m\n\u001b[1;32m     10\u001b[0m \u001b[38;5;66;03m# The duckdb database will have the following:\u001b[39;00m\n\u001b[1;32m     11\u001b[0m \u001b[38;5;66;03m#   - input tables\u001b[39;00m\n\u001b[1;32m     12\u001b[0m \u001b[38;5;66;03m#   - views used by the model\u001b[39;00m\n\u001b[1;32m     13\u001b[0m \u001b[38;5;66;03m#   - model outputs\u001b[39;00m\n\u001b[1;32m     14\u001b[0m \u001b[38;5;66;03m# \u001b[39;00m\n\u001b[1;32m     15\u001b[0m \u001b[38;5;66;03m# You can use duckdb to inspect any of the above results.\u001b[39;00m\n\u001b[1;32m     16\u001b[0m duckdb_client\u001b[38;5;241m.\u001b[39msql(\u001b[38;5;124m\"\u001b[39m\u001b[38;5;124mSHOW TABLES\u001b[39m\u001b[38;5;124m\"\u001b[39m)\n",
      "File \u001b[0;32m~/work/op-analytics/src/op_analytics/datapipeline/models/compute/testutils.py:278\u001b[0m, in \u001b[0;36mexecute_model_in_memory\u001b[0;34m(duckdb_context, model, data_reader, limit_input_parquet_files)\u001b[0m\n\u001b[1;32m    269\u001b[0m create_duckdb_macros(duckdb_context)\n\u001b[1;32m    271\u001b[0m model_executor \u001b[38;5;241m=\u001b[39m PythonModelExecutor(\n\u001b[1;32m    272\u001b[0m     model\u001b[38;5;241m=\u001b[39mmodel_obj,\n\u001b[1;32m    273\u001b[0m     duckdb_context\u001b[38;5;241m=\u001b[39mduckdb_context,\n\u001b[1;32m    274\u001b[0m     data_reader\u001b[38;5;241m=\u001b[39mdata_reader,\n\u001b[1;32m    275\u001b[0m     limit_input_parquet_files\u001b[38;5;241m=\u001b[39mlimit_input_parquet_files,\n\u001b[1;32m    276\u001b[0m )\n\u001b[0;32m--> 278\u001b[0m \u001b[43mmodel_executor\u001b[49m\u001b[38;5;241;43m.\u001b[39;49m\u001b[38;5;21;43m__enter__\u001b[39;49m\u001b[43m(\u001b[49m\u001b[43m)\u001b[49m\n\u001b[1;32m    279\u001b[0m model_results \u001b[38;5;241m=\u001b[39m model_executor\u001b[38;5;241m.\u001b[39mexecute()\n\u001b[1;32m    281\u001b[0m \u001b[38;5;28mprint\u001b[39m(model_results\u001b[38;5;241m.\u001b[39mkeys())\n",
      "File \u001b[0;32m~/work/op-analytics/src/op_analytics/datapipeline/models/compute/execute.py:37\u001b[0m, in \u001b[0;36mPythonModelExecutor.__enter__\u001b[0;34m(self)\u001b[0m\n\u001b[1;32m     34\u001b[0m \u001b[38;5;28;01mdef\u001b[39;00m \u001b[38;5;21m__enter__\u001b[39m(\u001b[38;5;28mself\u001b[39m):\n\u001b[1;32m     35\u001b[0m     \u001b[38;5;66;03m# Initialize remote parquet data.\u001b[39;00m\n\u001b[1;32m     36\u001b[0m     \u001b[38;5;28;01mfor\u001b[39;00m dataset \u001b[38;5;129;01min\u001b[39;00m \u001b[38;5;28mself\u001b[39m\u001b[38;5;241m.\u001b[39mmodel\u001b[38;5;241m.\u001b[39minput_datasets:\n\u001b[0;32m---> 37\u001b[0m         \u001b[38;5;28mself\u001b[39m\u001b[38;5;241m.\u001b[39minput_datasets[dataset] \u001b[38;5;241m=\u001b[39m \u001b[38;5;28;43mself\u001b[39;49m\u001b[38;5;241;43m.\u001b[39;49m\u001b[43mdata_reader\u001b[49m\u001b[38;5;241;43m.\u001b[39;49m\u001b[43mremote_parquet\u001b[49m\u001b[43m(\u001b[49m\n\u001b[1;32m     38\u001b[0m \u001b[43m            \u001b[49m\u001b[43mdataset\u001b[49m\u001b[38;5;241;43m=\u001b[39;49m\u001b[43mdataset\u001b[49m\u001b[43m,\u001b[49m\n\u001b[1;32m     39\u001b[0m \u001b[43m            \u001b[49m\u001b[43mfirst_n_parquet_files\u001b[49m\u001b[38;5;241;43m=\u001b[39;49m\u001b[38;5;28;43mself\u001b[39;49m\u001b[38;5;241;43m.\u001b[39;49m\u001b[43mlimit_input_parquet_files\u001b[49m\u001b[43m,\u001b[49m\n\u001b[1;32m     40\u001b[0m \u001b[43m        \u001b[49m\u001b[43m)\u001b[49m\n\u001b[1;32m     42\u001b[0m     \u001b[38;5;66;03m# Initialize the auxiliary views:\u001b[39;00m\n\u001b[1;32m     43\u001b[0m     \u001b[38;5;28;01mfor\u001b[39;00m template_name \u001b[38;5;129;01min\u001b[39;00m \u001b[38;5;28mself\u001b[39m\u001b[38;5;241m.\u001b[39mmodel\u001b[38;5;241m.\u001b[39mauxiliary_views:\n",
      "File \u001b[0;32m~/work/op-analytics/src/op_analytics/coreutils/partitioned/reader.py:81\u001b[0m, in \u001b[0;36mDataReader.remote_parquet\u001b[0;34m(self, dataset, first_n_parquet_files)\u001b[0m\n\u001b[1;32m     74\u001b[0m \u001b[38;5;28;01mdef\u001b[39;00m \u001b[38;5;21mremote_parquet\u001b[39m(\n\u001b[1;32m     75\u001b[0m     \u001b[38;5;28mself\u001b[39m,\n\u001b[1;32m     76\u001b[0m     dataset: \u001b[38;5;28mstr\u001b[39m,\n\u001b[1;32m     77\u001b[0m     first_n_parquet_files: \u001b[38;5;28mint\u001b[39m \u001b[38;5;241m|\u001b[39m \u001b[38;5;28;01mNone\u001b[39;00m \u001b[38;5;241m=\u001b[39m \u001b[38;5;28;01mNone\u001b[39;00m,\n\u001b[1;32m     78\u001b[0m ) \u001b[38;5;241m-\u001b[39m\u001b[38;5;241m>\u001b[39m RemoteParquetData:\n\u001b[1;32m     79\u001b[0m     \u001b[38;5;28;01mreturn\u001b[39;00m RemoteParquetData\u001b[38;5;241m.\u001b[39mfor_dataset(\n\u001b[1;32m     80\u001b[0m         dataset\u001b[38;5;241m=\u001b[39mdataset,\n\u001b[0;32m---> 81\u001b[0m         parquet_paths\u001b[38;5;241m=\u001b[39m\u001b[38;5;28;43mself\u001b[39;49m\u001b[38;5;241;43m.\u001b[39;49m\u001b[43mget_parquet_paths\u001b[49m\u001b[43m(\u001b[49m\u001b[43mdataset\u001b[49m\u001b[43m,\u001b[49m\u001b[43m \u001b[49m\u001b[43mfirst_n_parquet_files\u001b[49m\u001b[43m)\u001b[49m,\n\u001b[1;32m     82\u001b[0m     )\n",
      "File \u001b[0;32m~/work/op-analytics/src/op_analytics/coreutils/partitioned/reader.py:60\u001b[0m, in \u001b[0;36mDataReader.get_parquet_paths\u001b[0;34m(self, dataset, first_n_parquet_files)\u001b[0m\n\u001b[1;32m     57\u001b[0m \u001b[38;5;28;01mdef\u001b[39;00m \u001b[38;5;21mget_parquet_paths\u001b[39m(\n\u001b[1;32m     58\u001b[0m     \u001b[38;5;28mself\u001b[39m, dataset: \u001b[38;5;28mstr\u001b[39m, first_n_parquet_files: \u001b[38;5;28mint\u001b[39m \u001b[38;5;241m|\u001b[39m \u001b[38;5;28;01mNone\u001b[39;00m \u001b[38;5;241m=\u001b[39m \u001b[38;5;28;01mNone\u001b[39;00m\n\u001b[1;32m     59\u001b[0m ) \u001b[38;5;241m-\u001b[39m\u001b[38;5;241m>\u001b[39m \u001b[38;5;28mlist\u001b[39m[\u001b[38;5;28mstr\u001b[39m]:\n\u001b[0;32m---> 60\u001b[0m     paths \u001b[38;5;241m=\u001b[39m \u001b[38;5;28msorted\u001b[39m(\u001b[38;5;28;43mself\u001b[39;49m\u001b[38;5;241;43m.\u001b[39;49m\u001b[43mdataset_paths\u001b[49m\u001b[43m[\u001b[49m\u001b[43mdataset\u001b[49m\u001b[43m]\u001b[49m)\n\u001b[1;32m     61\u001b[0m     num_paths \u001b[38;5;241m=\u001b[39m \u001b[38;5;28mlen\u001b[39m(paths)\n\u001b[1;32m     63\u001b[0m     \u001b[38;5;28;01mif\u001b[39;00m first_n_parquet_files \u001b[38;5;129;01mis\u001b[39;00m \u001b[38;5;129;01mnot\u001b[39;00m \u001b[38;5;28;01mNone\u001b[39;00m:\n",
      "\u001b[0;31mKeyError\u001b[0m: 'ingestion/logs_v1'"
     ]
    }
   ],
   "source": [
    "from op_analytics.datapipeline.models.compute.testutils import execute_model_in_memory\n",
    "\n",
    "execute_model_in_memory(\n",
    "    duckdb_context=duckdb_client,\n",
    "    model=\"telepotr_bridging_transactions\",\n",
    "    data_reader=batch,\n",
    "    limit_input_parquet_files=1\n",
    ")\n",
    "\n",
    "# The duckdb database will have the following:\n",
    "#   - input tables\n",
    "#   - views used by the model\n",
    "#   - model outputs\n",
    "# \n",
    "# You can use duckdb to inspect any of the above results.\n",
    "duckdb_client.sql(\"SHOW TABLES\")"
   ]
  }
 ],
 "metadata": {
  "kernelspec": {
   "display_name": ".venv",
   "language": "python",
   "name": "python3"
  },
  "language_info": {
   "codemirror_mode": {
    "name": "ipython",
    "version": 3
   },
   "file_extension": ".py",
   "mimetype": "text/x-python",
   "name": "python",
   "nbconvert_exporter": "python",
   "pygments_lexer": "ipython3",
   "version": "3.12.3"
  }
 },
 "nbformat": 4,
 "nbformat_minor": 2
}
