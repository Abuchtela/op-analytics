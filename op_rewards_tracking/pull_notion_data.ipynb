{
 "cells": [
  {
   "cell_type": "code",
   "execution_count": null,
   "metadata": {},
   "outputs": [],
   "source": [
    "import notion_client\n",
    "import sys\n",
    "sys.path.append(\"../helper_functions\")\n",
    "import notionapi_utils as n"
   ]
  },
  {
   "cell_type": "code",
   "execution_count": null,
   "metadata": {},
   "outputs": [],
   "source": [
    "op_summer_page = 'https://www.notion.so/oplabs/26d856d5ad7c4fda919c62e839cf6051?v=96c651b94d564c37b96c7eca2bd91157&pvs=4'\n",
    "\n",
    "# df = n.read_notion_database(op_summerdb_id)\n",
    "df = n.read_notion_database_to_pandas_df(op_summer_page)\n",
    "df.to_csv('csv_outputs/notion_automation_test.csv')\n",
    "display(df)"
   ]
  }
 ],
 "metadata": {
  "kernelspec": {
   "display_name": "new-env",
   "language": "python",
   "name": "python3"
  },
  "language_info": {
   "codemirror_mode": {
    "name": "ipython",
    "version": 3
   },
   "file_extension": ".py",
   "mimetype": "text/x-python",
   "name": "python",
   "nbconvert_exporter": "python",
   "pygments_lexer": "ipython3",
   "version": "3.10.11"
  },
  "orig_nbformat": 4
 },
 "nbformat": 4,
 "nbformat_minor": 2
}
