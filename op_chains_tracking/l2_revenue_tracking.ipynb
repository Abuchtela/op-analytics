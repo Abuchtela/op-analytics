{
 "cells": [
  {
   "cell_type": "code",
   "execution_count": null,
   "metadata": {},
   "outputs": [],
   "source": [
    "# Get L2 Revenue and post it to a database (csv in github for now)\n",
    "import pandas as pd\n",
    "import sys\n",
    "import time\n",
    "import json\n",
    "sys.path.append(\"../helper_functions\")\n",
    "import web3py_utils as w3py\n",
    "import duneapi_utils as du\n",
    "from web3 import Web3\n",
    "from datetime import datetime\n",
    "sys.path.pop()\n",
    "\n",
    "import os"
   ]
  },
  {
   "cell_type": "code",
   "execution_count": null,
   "metadata": {},
   "outputs": [],
   "source": [
    "# https://github.com/ethereum-optimism/optimism/blob/b86522036ad11a91de1d1dadb6805167add83326/specs/predeploys.md?plain=1#L50\n",
    "\n",
    "# Name, contract\n",
    "fee_vaults = [\n",
    "    ['SequencerFeeVault','0x4200000000000000000000000000000000000011'],\n",
    "    ['BaseFeeVault','0x4200000000000000000000000000000000000019'],\n",
    "    ['L1FeeVault','0x420000000000000000000000000000000000001A'],\n",
    "]\n",
    "\n",
    "# Aiming to eventually read from superchain-resitry + some non-superchain static adds\n",
    "chains_rpcs = pd.read_csv('inputs/chain_metadata.csv').values.tolist()\n",
    "print(chains_rpcs)"
   ]
  },
  {
   "cell_type": "code",
   "execution_count": null,
   "metadata": {},
   "outputs": [],
   "source": [
    "# Calculate the method signature hash (this step is optional if you already know the hash)\n",
    "method_signature = \"totalProcessed()\"\n",
    "method_id = Web3.keccak(text=method_signature)[:4].hex()\n",
    "# Verify the method ID (this step is also optional, but useful for debugging)\n",
    "print(f\"Method ID: {method_id}\")\n",
    "\n",
    "block_number = 1 # replace with your desired block number"
   ]
  },
  {
   "cell_type": "code",
   "execution_count": null,
   "metadata": {},
   "outputs": [],
   "source": [
    "data_arr = []\n",
    "\n",
    "for chain in chains_rpcs:\n",
    "    chain_name = chain[0]\n",
    "    rpc = chain[1]\n",
    "    gas_token = chain[2]\n",
    "    da_layer = chain[3]\n",
    "    is_superchain_registry = chain[4]\n",
    "\n",
    "    try:\n",
    "        w3_conn = Web3(Web3.HTTPProvider(rpc))\n",
    "        # Get the timestamp of the latest block\n",
    "        block_timestamp = w3_conn.eth.get_block('latest').timestamp\n",
    "        block_number = w3_conn.eth.get_block('latest').number\n",
    "        # Convert the UNIX timestamp to a human-readable format\n",
    "        block_time = datetime.utcfromtimestamp(block_timestamp).strftime('%Y-%m-%d %H:%M:%S')\n",
    "\n",
    "        for vault in fee_vaults:\n",
    "            vault_name = vault[0]\n",
    "            vault_address = vault[1]\n",
    "            # Call the function directly using eth_call\n",
    "            response = w3_conn.eth.call({\n",
    "                'to': vault_address,\n",
    "                'data': method_id\n",
    "            })\n",
    "            wei_balance = w3_conn.eth.get_balance(vault_address)\n",
    "            # Decode the result (assuming the function returns a uint256)\n",
    "            proxy_processed_wei = Web3.to_int(hexstr=response.hex())\n",
    "            \n",
    "            alltime_revenue_wei = proxy_processed_wei+wei_balance\n",
    "            alltime_revenue_native = alltime_revenue_wei/1e18\n",
    "\n",
    "            print(chain_name + ' | ' + vault_name + ': ' \\\n",
    "                + str(proxy_processed_wei) + ' | bal: ' + str(wei_balance)\\\n",
    "                + ' | total eth: ' + str( (alltime_revenue_native) )\n",
    "                )\n",
    "            \n",
    "            tmp = pd.DataFrame(\n",
    "                    [[block_time, block_number, chain_name, vault_name, vault_address, alltime_revenue_native, gas_token, da_layer, is_superchain_registry]]\n",
    "                    ,columns =['block_time','block_number','chain_name','vault_name','vault_address','alltime_revenue_native','gas_token','da_layer','is_superchain_registry']\n",
    "                    )\n",
    "            data_arr.append(tmp)\n",
    "            time.sleep(1)\n",
    "    except:\n",
    "        continue\n",
    "\n",
    "data_df = pd.concat(data_arr)"
   ]
  },
  {
   "cell_type": "code",
   "execution_count": null,
   "metadata": {},
   "outputs": [],
   "source": [
    "\n",
    "file_path = 'outputs/all_time_revenue_data.csv'\n",
    "\n",
    "# Check if the file exists\n",
    "if os.path.exists(file_path):\n",
    "    # If file exists, append without writing the header\n",
    "    data_df.to_csv(file_path, mode='a', header=False, index=False)\n",
    "else:\n",
    "    # If file doesn't exist, create it and write the header\n",
    "    data_df.to_csv(file_path, mode='w', header=True, index=False)"
   ]
  },
  {
   "cell_type": "code",
   "execution_count": null,
   "metadata": {},
   "outputs": [],
   "source": [
    "# Write to Dune Table\n",
    "\n",
    "dune_df = pd.read_csv(file_path)\n",
    "\n",
    "print(dune_df.sample(5))\n",
    "\n",
    "du.write_dune_api_from_pandas(dune_df, 'op_stack_chains_daily_cumulative_revenue',\\\n",
    "                             'All-Time (cumulative) revenue for fee vaults on OP Stack Chains. Pulled from RPCs')"
   ]
  }
 ],
 "metadata": {
  "kernelspec": {
   "display_name": "new-env",
   "language": "python",
   "name": "python3"
  },
  "language_info": {
   "codemirror_mode": {
    "name": "ipython",
    "version": 3
   },
   "file_extension": ".py",
   "mimetype": "text/x-python",
   "name": "python",
   "nbconvert_exporter": "python",
   "pygments_lexer": "ipython3",
   "version": "3.10.11"
  },
  "orig_nbformat": 4
 },
 "nbformat": 4,
 "nbformat_minor": 2
}
