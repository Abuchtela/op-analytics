{
 "cells": [
  {
   "cell_type": "code",
   "execution_count": 1,
   "metadata": {},
   "outputs": [
    {
     "name": "stdout",
     "output_type": "stream",
     "text": [
      "Failed to retrieve data for stables. HTTP Status code: 403\n"
     ]
    },
    {
     "data": {
      "text/html": [
       "<div>\n",
       "<style scoped>\n",
       "    .dataframe tbody tr th:only-of-type {\n",
       "        vertical-align: middle;\n",
       "    }\n",
       "\n",
       "    .dataframe tbody tr th {\n",
       "        vertical-align: top;\n",
       "    }\n",
       "\n",
       "    .dataframe thead th {\n",
       "        text-align: right;\n",
       "    }\n",
       "</style>\n",
       "<table border=\"1\" class=\"dataframe\">\n",
       "  <thead>\n",
       "    <tr style=\"text-align: right;\">\n",
       "      <th></th>\n",
       "      <th>index</th>\n",
       "      <th>date</th>\n",
       "      <th>chain_name</th>\n",
       "      <th>daa</th>\n",
       "      <th>txcount</th>\n",
       "      <th>txcosts_usd</th>\n",
       "      <th>txcosts_eth</th>\n",
       "      <th>tvl_usd</th>\n",
       "      <th>tvl_eth</th>\n",
       "      <th>fees_usd</th>\n",
       "      <th>fees_eth</th>\n",
       "    </tr>\n",
       "  </thead>\n",
       "  <tbody>\n",
       "    <tr>\n",
       "      <th>3460</th>\n",
       "      <td>3460</td>\n",
       "      <td>2023-06-12</td>\n",
       "      <td>Immutable X</td>\n",
       "      <td>5862.0</td>\n",
       "      <td>143573.0</td>\n",
       "      <td>NaN</td>\n",
       "      <td>NaN</td>\n",
       "      <td>8.217897e+07</td>\n",
       "      <td>4.691318e+04</td>\n",
       "      <td>28784.013572</td>\n",
       "      <td>16.431814</td>\n",
       "    </tr>\n",
       "    <tr>\n",
       "      <th>1809</th>\n",
       "      <td>1809</td>\n",
       "      <td>2023-08-27</td>\n",
       "      <td>Optimism</td>\n",
       "      <td>88905.0</td>\n",
       "      <td>311962.0</td>\n",
       "      <td>0.058279</td>\n",
       "      <td>0.000035</td>\n",
       "      <td>2.547262e+09</td>\n",
       "      <td>1.547636e+06</td>\n",
       "      <td>33637.141059</td>\n",
       "      <td>20.436867</td>\n",
       "    </tr>\n",
       "    <tr>\n",
       "      <th>3855</th>\n",
       "      <td>3855</td>\n",
       "      <td>2021-02-27</td>\n",
       "      <td>Optimism</td>\n",
       "      <td>NaN</td>\n",
       "      <td>NaN</td>\n",
       "      <td>NaN</td>\n",
       "      <td>NaN</td>\n",
       "      <td>7.450329e+07</td>\n",
       "      <td>5.134657e+04</td>\n",
       "      <td>NaN</td>\n",
       "      <td>NaN</td>\n",
       "    </tr>\n",
       "    <tr>\n",
       "      <th>990</th>\n",
       "      <td>990</td>\n",
       "      <td>2023-03-30</td>\n",
       "      <td>Polygon zkEVM</td>\n",
       "      <td>1467.0</td>\n",
       "      <td>7089.0</td>\n",
       "      <td>0.242699</td>\n",
       "      <td>0.000135</td>\n",
       "      <td>1.100102e+06</td>\n",
       "      <td>6.126871e+02</td>\n",
       "      <td>4864.729789</td>\n",
       "      <td>2.709345</td>\n",
       "    </tr>\n",
       "    <tr>\n",
       "      <th>2432</th>\n",
       "      <td>2432</td>\n",
       "      <td>2023-01-26</td>\n",
       "      <td>Arbitrum One</td>\n",
       "      <td>43170.0</td>\n",
       "      <td>361429.0</td>\n",
       "      <td>0.109161</td>\n",
       "      <td>0.000068</td>\n",
       "      <td>2.684735e+09</td>\n",
       "      <td>1.662707e+06</td>\n",
       "      <td>50280.647029</td>\n",
       "      <td>31.139752</td>\n",
       "    </tr>\n",
       "  </tbody>\n",
       "</table>\n",
       "</div>"
      ],
      "text/plain": [
       "      index       date     chain_name      daa   txcount  txcosts_usd  \\\n",
       "3460   3460 2023-06-12    Immutable X   5862.0  143573.0          NaN   \n",
       "1809   1809 2023-08-27       Optimism  88905.0  311962.0     0.058279   \n",
       "3855   3855 2021-02-27       Optimism      NaN       NaN          NaN   \n",
       "990     990 2023-03-30  Polygon zkEVM   1467.0    7089.0     0.242699   \n",
       "2432   2432 2023-01-26   Arbitrum One  43170.0  361429.0     0.109161   \n",
       "\n",
       "      txcosts_eth       tvl_usd       tvl_eth      fees_usd   fees_eth  \n",
       "3460          NaN  8.217897e+07  4.691318e+04  28784.013572  16.431814  \n",
       "1809     0.000035  2.547262e+09  1.547636e+06  33637.141059  20.436867  \n",
       "3855          NaN  7.450329e+07  5.134657e+04           NaN        NaN  \n",
       "990      0.000135  1.100102e+06  6.126871e+02   4864.729789   2.709345  \n",
       "2432     0.000068  2.684735e+09  1.662707e+06  50280.647029  31.139752  "
      ]
     },
     "metadata": {},
     "output_type": "display_data"
    }
   ],
   "source": [
    "import sys\n",
    "sys.path.append(\"../helper_functions\")\n",
    "import duneapi_utils as d\n",
    "import growthepieapi_utils as gtp\n",
    "sys.path.pop()\n",
    "\n",
    "# Usage\n",
    "merged_df = gtp.get_growthepie_api_data()\n",
    "merged_df = merged_df.reset_index()\n",
    "print(merged_df.sample(5))\n"
   ]
  },
  {
   "cell_type": "code",
   "execution_count": 2,
   "metadata": {},
   "outputs": [
    {
     "name": "stdout",
     "output_type": "stream",
     "text": [
      "table at: dune_upload.growthepie_l2_activity\n",
      "Response status code: 200\n",
      "Response content: b'{\"success\":true}'\n"
     ]
    }
   ],
   "source": [
    "# Post to Dune API\n",
    "d.write_dune_api_from_pandas(merged_df, 'growthepie_l2_activity',\\\n",
    "                             'L2 Usage Activity from GrowThePie')"
   ]
  }
 ],
 "metadata": {
  "kernelspec": {
   "display_name": "new-env",
   "language": "python",
   "name": "python3"
  },
  "language_info": {
   "codemirror_mode": {
    "name": "ipython",
    "version": 3
   },
   "file_extension": ".py",
   "mimetype": "text/x-python",
   "name": "python",
   "nbconvert_exporter": "python",
   "pygments_lexer": "ipython3",
   "version": "3.10.11"
  },
  "orig_nbformat": 4
 },
 "nbformat": 4,
 "nbformat_minor": 2
}
